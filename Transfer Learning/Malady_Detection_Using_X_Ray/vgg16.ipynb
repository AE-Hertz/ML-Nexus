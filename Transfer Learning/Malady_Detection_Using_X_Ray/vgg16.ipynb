{
 "cells": [
  {
   "cell_type": "code",
   "execution_count": 1,
   "metadata": {
    "_cell_guid": "b1076dfc-b9ad-4769-8c92-a6c4dae69d19",
    "_uuid": "8f2839f25d086af736a60e9eeb907d3b93b6e0e5",
    "execution": {
     "iopub.execute_input": "2020-12-20T08:28:37.702774Z",
     "iopub.status.busy": "2020-12-20T08:28:37.702085Z",
     "iopub.status.idle": "2020-12-20T08:28:39.808348Z",
     "shell.execute_reply": "2020-12-20T08:28:39.807090Z"
    },
    "papermill": {
     "duration": 2.130683,
     "end_time": "2020-12-20T08:28:39.808471",
     "exception": false,
     "start_time": "2020-12-20T08:28:37.677788",
     "status": "completed"
    },
    "tags": []
   },
   "outputs": [],
   "source": [
    "# This Python 3 environment comes with many helpful analytics libraries installed\n",
    "# It is defined by the kaggle/python Docker image: https://github.com/kaggle/docker-python\n",
    "# For example, here's several helpful packages to load\n",
    "\n",
    "import numpy as np # linear algebra\n",
    "import pandas as pd # data processing, CSV file I/O (e.g. pd.read_csv)\n",
    "import torch\n",
    "import torch.nn as nn\n",
    "import os\n",
    "from torch import optim, cuda\n",
    "from torch.optim import lr_scheduler\n",
    "from torchvision import models\n",
    "from torchvision import transforms,datasets\n",
    "import matplotlib.pyplot as plt\n",
    "import matplotlib.image as read\n",
    "import pickle\n",
    "from PIL import Image\n",
    "from torch.utils.data import DataLoader, sampler,Dataset\n",
    "from sklearn.model_selection import train_test_split\n",
    "from sklearn import preprocessing\n",
    "import copy\n"
   ]
  },
  {
   "cell_type": "code",
   "execution_count": 2,
   "metadata": {
    "execution": {
     "iopub.execute_input": "2020-12-20T08:28:40.173401Z",
     "iopub.status.busy": "2020-12-20T08:28:40.172704Z",
     "iopub.status.idle": "2020-12-20T08:28:40.178388Z",
     "shell.execute_reply": "2020-12-20T08:28:40.177841Z"
    },
    "papermill": {
     "duration": 0.356012,
     "end_time": "2020-12-20T08:28:40.178485",
     "exception": false,
     "start_time": "2020-12-20T08:28:39.822473",
     "status": "completed"
    },
    "tags": []
   },
   "outputs": [
    {
     "name": "stdout",
     "output_type": "stream",
     "text": [
      "True\n"
     ]
    }
   ],
   "source": [
    "use_gpu = torch.cuda.is_available()\n",
    "print(use_gpu)\n",
    "    "
   ]
  },
  {
   "cell_type": "code",
   "execution_count": 3,
   "metadata": {
    "execution": {
     "iopub.execute_input": "2020-12-20T08:28:40.213295Z",
     "iopub.status.busy": "2020-12-20T08:28:40.212672Z",
     "iopub.status.idle": "2020-12-20T08:29:29.233081Z",
     "shell.execute_reply": "2020-12-20T08:29:29.233854Z"
    },
    "papermill": {
     "duration": 49.039454,
     "end_time": "2020-12-20T08:29:29.234055",
     "exception": false,
     "start_time": "2020-12-20T08:28:40.194601",
     "status": "completed"
    },
    "tags": []
   },
   "outputs": [
    {
     "name": "stderr",
     "output_type": "stream",
     "text": [
      "Downloading: \"https://download.pytorch.org/models/vgg16-397923af.pth\" to /root/.cache/torch/hub/checkpoints/vgg16-397923af.pth\n"
     ]
    },
    {
     "data": {
      "application/vnd.jupyter.widget-view+json": {
       "model_id": "082fa20f19694b748e35ba3af16af66e",
       "version_major": 2,
       "version_minor": 0
      },
      "text/plain": [
       "HBox(children=(FloatProgress(value=0.0, max=553433881.0), HTML(value='')))"
      ]
     },
     "metadata": {},
     "output_type": "display_data"
    },
    {
     "name": "stdout",
     "output_type": "stream",
     "text": [
      "\n",
      "VGG(\n",
      "  (features): Sequential(\n",
      "    (0): Conv2d(3, 64, kernel_size=(3, 3), stride=(1, 1), padding=(1, 1))\n",
      "    (1): ReLU(inplace=True)\n",
      "    (2): Conv2d(64, 64, kernel_size=(3, 3), stride=(1, 1), padding=(1, 1))\n",
      "    (3): ReLU(inplace=True)\n",
      "    (4): MaxPool2d(kernel_size=2, stride=2, padding=0, dilation=1, ceil_mode=False)\n",
      "    (5): Conv2d(64, 128, kernel_size=(3, 3), stride=(1, 1), padding=(1, 1))\n",
      "    (6): ReLU(inplace=True)\n",
      "    (7): Conv2d(128, 128, kernel_size=(3, 3), stride=(1, 1), padding=(1, 1))\n",
      "    (8): ReLU(inplace=True)\n",
      "    (9): MaxPool2d(kernel_size=2, stride=2, padding=0, dilation=1, ceil_mode=False)\n",
      "    (10): Conv2d(128, 256, kernel_size=(3, 3), stride=(1, 1), padding=(1, 1))\n",
      "    (11): ReLU(inplace=True)\n",
      "    (12): Conv2d(256, 256, kernel_size=(3, 3), stride=(1, 1), padding=(1, 1))\n",
      "    (13): ReLU(inplace=True)\n",
      "    (14): Conv2d(256, 256, kernel_size=(3, 3), stride=(1, 1), padding=(1, 1))\n",
      "    (15): ReLU(inplace=True)\n",
      "    (16): MaxPool2d(kernel_size=2, stride=2, padding=0, dilation=1, ceil_mode=False)\n",
      "    (17): Conv2d(256, 512, kernel_size=(3, 3), stride=(1, 1), padding=(1, 1))\n",
      "    (18): ReLU(inplace=True)\n",
      "    (19): Conv2d(512, 512, kernel_size=(3, 3), stride=(1, 1), padding=(1, 1))\n",
      "    (20): ReLU(inplace=True)\n",
      "    (21): Conv2d(512, 512, kernel_size=(3, 3), stride=(1, 1), padding=(1, 1))\n",
      "    (22): ReLU(inplace=True)\n",
      "    (23): MaxPool2d(kernel_size=2, stride=2, padding=0, dilation=1, ceil_mode=False)\n",
      "    (24): Conv2d(512, 512, kernel_size=(3, 3), stride=(1, 1), padding=(1, 1))\n",
      "    (25): ReLU(inplace=True)\n",
      "    (26): Conv2d(512, 512, kernel_size=(3, 3), stride=(1, 1), padding=(1, 1))\n",
      "    (27): ReLU(inplace=True)\n",
      "    (28): Conv2d(512, 512, kernel_size=(3, 3), stride=(1, 1), padding=(1, 1))\n",
      "    (29): ReLU(inplace=True)\n",
      "    (30): MaxPool2d(kernel_size=2, stride=2, padding=0, dilation=1, ceil_mode=False)\n",
      "  )\n",
      "  (avgpool): AdaptiveAvgPool2d(output_size=(7, 7))\n",
      "  (classifier): Sequential(\n",
      "    (0): Linear(in_features=25088, out_features=4096, bias=True)\n",
      "    (1): ReLU(inplace=True)\n",
      "    (2): Dropout(p=0.5, inplace=False)\n",
      "    (3): Linear(in_features=4096, out_features=4096, bias=True)\n",
      "    (4): ReLU(inplace=True)\n",
      "    (5): Dropout(p=0.5, inplace=False)\n",
      "    (6): Linear(in_features=4096, out_features=1000, bias=True)\n",
      "  )\n",
      ")\n"
     ]
    }
   ],
   "source": [
    "vgg = models.vgg16(pretrained=True)\n",
    "print(vgg)\n",
    "\n"
   ]
  },
  {
   "cell_type": "code",
   "execution_count": 5,
   "metadata": {
    "execution": {
     "iopub.execute_input": "2020-12-20T08:29:29.320274Z",
     "iopub.status.busy": "2020-12-20T08:29:29.319488Z",
     "iopub.status.idle": "2020-12-20T08:29:29.331837Z",
     "shell.execute_reply": "2020-12-20T08:29:29.331372Z"
    },
    "papermill": {
     "duration": 0.032708,
     "end_time": "2020-12-20T08:29:29.331954",
     "exception": false,
     "start_time": "2020-12-20T08:29:29.299246",
     "status": "completed"
    },
    "tags": []
   },
   "outputs": [
    {
     "name": "stdout",
     "output_type": "stream",
     "text": [
      "VGG(\n",
      "  (features): Sequential(\n",
      "    (0): Conv2d(3, 64, kernel_size=(3, 3), stride=(1, 1), padding=(1, 1))\n",
      "    (1): ReLU(inplace=True)\n",
      "    (2): Conv2d(64, 64, kernel_size=(3, 3), stride=(1, 1), padding=(1, 1))\n",
      "    (3): ReLU(inplace=True)\n",
      "    (4): MaxPool2d(kernel_size=2, stride=2, padding=0, dilation=1, ceil_mode=False)\n",
      "    (5): Conv2d(64, 128, kernel_size=(3, 3), stride=(1, 1), padding=(1, 1))\n",
      "    (6): ReLU(inplace=True)\n",
      "    (7): Conv2d(128, 128, kernel_size=(3, 3), stride=(1, 1), padding=(1, 1))\n",
      "    (8): ReLU(inplace=True)\n",
      "    (9): MaxPool2d(kernel_size=2, stride=2, padding=0, dilation=1, ceil_mode=False)\n",
      "    (10): Conv2d(128, 256, kernel_size=(3, 3), stride=(1, 1), padding=(1, 1))\n",
      "    (11): ReLU(inplace=True)\n",
      "    (12): Conv2d(256, 256, kernel_size=(3, 3), stride=(1, 1), padding=(1, 1))\n",
      "    (13): ReLU(inplace=True)\n",
      "    (14): Conv2d(256, 256, kernel_size=(3, 3), stride=(1, 1), padding=(1, 1))\n",
      "    (15): ReLU(inplace=True)\n",
      "    (16): MaxPool2d(kernel_size=2, stride=2, padding=0, dilation=1, ceil_mode=False)\n",
      "    (17): Conv2d(256, 512, kernel_size=(3, 3), stride=(1, 1), padding=(1, 1))\n",
      "    (18): ReLU(inplace=True)\n",
      "    (19): Conv2d(512, 512, kernel_size=(3, 3), stride=(1, 1), padding=(1, 1))\n",
      "    (20): ReLU(inplace=True)\n",
      "    (21): Conv2d(512, 512, kernel_size=(3, 3), stride=(1, 1), padding=(1, 1))\n",
      "    (22): ReLU(inplace=True)\n",
      "    (23): MaxPool2d(kernel_size=2, stride=2, padding=0, dilation=1, ceil_mode=False)\n",
      "    (24): Conv2d(512, 512, kernel_size=(3, 3), stride=(1, 1), padding=(1, 1))\n",
      "    (25): ReLU(inplace=True)\n",
      "    (26): Conv2d(512, 512, kernel_size=(3, 3), stride=(1, 1), padding=(1, 1))\n",
      "    (27): ReLU(inplace=True)\n",
      "    (28): Conv2d(512, 512, kernel_size=(3, 3), stride=(1, 1), padding=(1, 1))\n",
      "    (29): ReLU(inplace=True)\n",
      "    (30): MaxPool2d(kernel_size=2, stride=2, padding=0, dilation=1, ceil_mode=False)\n",
      "  )\n",
      "  (avgpool): AdaptiveAvgPool2d(output_size=(7, 7))\n",
      "  (classifier): Sequential(\n",
      "    (0): Linear(in_features=25088, out_features=4096, bias=True)\n",
      "    (1): ReLU(inplace=True)\n",
      "    (2): Dropout(p=0.5, inplace=False)\n",
      "    (3): Linear(in_features=4096, out_features=4096, bias=True)\n",
      "    (4): ReLU(inplace=True)\n",
      "    (5): Dropout(p=0.5, inplace=False)\n",
      "    (6): Sequential(\n",
      "      (0): Linear(in_features=4096, out_features=10, bias=True)\n",
      "    )\n",
      "  )\n",
      ")\n"
     ]
    }
   ],
   "source": [
    "# freezing model\n",
    "for parameters in vgg.features.parameters():\n",
    "    parameters.requires_grad=False\n",
    "\n",
    "# modifying layers adding classification layers    \n",
    "vgg.classifier[6]=nn.Sequential(\n",
    "                                            nn.Linear(4096,10,True),  \n",
    "                                            )\n",
    " \n",
    "print(vgg)"
   ]
  },
  {
   "cell_type": "code",
   "execution_count": 6,
   "metadata": {
    "execution": {
     "iopub.execute_input": "2020-12-20T08:29:29.405090Z",
     "iopub.status.busy": "2020-12-20T08:29:29.404460Z",
     "iopub.status.idle": "2020-12-20T08:29:33.457886Z",
     "shell.execute_reply": "2020-12-20T08:29:33.456977Z"
    },
    "papermill": {
     "duration": 4.078933,
     "end_time": "2020-12-20T08:29:33.458001",
     "exception": false,
     "start_time": "2020-12-20T08:29:29.379068",
     "status": "completed"
    },
    "tags": []
   },
   "outputs": [],
   "source": [
    "if use_gpu:\n",
    "    vgg = vgg.to('cuda')"
   ]
  },
  {
   "cell_type": "code",
   "execution_count": 7,
   "metadata": {
    "_cell_guid": "79c7e3d0-c299-4dcb-8224-4455121ee9b0",
    "_uuid": "d629ff2d2480ee46fbb7e2d37f6b5fab8052498a",
    "execution": {
     "iopub.execute_input": "2020-12-20T08:29:33.494176Z",
     "iopub.status.busy": "2020-12-20T08:29:33.493358Z",
     "iopub.status.idle": "2020-12-20T08:29:33.495396Z",
     "shell.execute_reply": "2020-12-20T08:29:33.495804Z"
    },
    "papermill": {
     "duration": 0.021626,
     "end_time": "2020-12-20T08:29:33.495903",
     "exception": false,
     "start_time": "2020-12-20T08:29:33.474277",
     "status": "completed"
    },
    "tags": []
   },
   "outputs": [],
   "source": [
    "#for dirname, _, filenames in os.walk('/kaggle/input'):\n",
    "#    for filename in filenames:\n",
    "#        print(os.path.join(dirname, filename))"
   ]
  },
  {
   "cell_type": "code",
   "execution_count": 8,
   "metadata": {
    "execution": {
     "iopub.execute_input": "2020-12-20T08:29:33.536596Z",
     "iopub.status.busy": "2020-12-20T08:29:33.536034Z",
     "iopub.status.idle": "2020-12-20T08:29:33.540635Z",
     "shell.execute_reply": "2020-12-20T08:29:33.541267Z"
    },
    "papermill": {
     "duration": 0.029826,
     "end_time": "2020-12-20T08:29:33.541398",
     "exception": false,
     "start_time": "2020-12-20T08:29:33.511572",
     "status": "completed"
    },
    "tags": []
   },
   "outputs": [
    {
     "name": "stdout",
     "output_type": "stream",
     "text": [
      "Compose(\n",
      "    CenterCrop(size=(224, 224))\n",
      "    ToTensor()\n",
      "    Normalize(mean=[0.485, 0.456, 0.406], std=[0.229, 0.224, 0.225])\n",
      ")\n"
     ]
    }
   ],
   "source": [
    "# Image transformations\n",
    "image_transforms = {\n",
    "    # Train uses data augmentation\n",
    "    'train':\n",
    "    transforms.Compose([\n",
    "        #transforms.RandomResizedCrop(size=256, scale=(0.8, 1.0)),\n",
    "        #transforms.RandomRotation(degrees=5),\n",
    "        #transforms.ColorJitter(),\n",
    "        #transforms.RandomHorizontalFlip(),\n",
    "        transforms.CenterCrop(size=224),  # Image net standards\n",
    "        transforms.ToTensor(),\n",
    "        transforms.Normalize([0.485, 0.456, 0.406],\n",
    "                             [0.229, 0.224, 0.225])  # Imagenet standards\n",
    "    ]),\n",
    "    # Validation does not use augmentation\n",
    "    'val':\n",
    "    transforms.Compose([\n",
    "        transforms.Resize(size=256),\n",
    "        transforms.CenterCrop(size=224),\n",
    "        transforms.ToTensor(),\n",
    "        transforms.Normalize([0.485, 0.456, 0.406], [0.229, 0.224, 0.225])\n",
    "    ]),\n",
    "    # Test does not use augmentation\n",
    "    'test':\n",
    "    transforms.Compose([\n",
    "        transforms.Resize(size=256),\n",
    "        transforms.CenterCrop(size=224),\n",
    "        transforms.ToTensor(),\n",
    "        transforms.Normalize([0.485, 0.456, 0.406], [0.229, 0.224, 0.225])\n",
    "    ])\n",
    "}\n",
    "print(image_transforms['train'])"
   ]
  },
  {
   "cell_type": "code",
   "execution_count": 9,
   "metadata": {
    "execution": {
     "iopub.execute_input": "2020-12-20T08:29:33.583727Z",
     "iopub.status.busy": "2020-12-20T08:29:33.583179Z",
     "iopub.status.idle": "2020-12-20T08:29:33.615324Z",
     "shell.execute_reply": "2020-12-20T08:29:33.614575Z"
    },
    "papermill": {
     "duration": 0.057331,
     "end_time": "2020-12-20T08:29:33.615440",
     "exception": false,
     "start_time": "2020-12-20T08:29:33.558109",
     "status": "completed"
    },
    "tags": []
   },
   "outputs": [
    {
     "name": "stdout",
     "output_type": "stream",
     "text": [
      "5606\n"
     ]
    }
   ],
   "source": [
    "#reading file\n",
    "path = os.path.join('..','input','sample')\n",
    "csvFile = pd.read_csv('../input/sample/sample_labels.csv')\n",
    "print(len(csvFile))\n"
   ]
  },
  {
   "cell_type": "code",
   "execution_count": 10,
   "metadata": {
    "execution": {
     "iopub.execute_input": "2020-12-20T08:29:33.660664Z",
     "iopub.status.busy": "2020-12-20T08:29:33.660026Z",
     "iopub.status.idle": "2020-12-20T08:29:33.999666Z",
     "shell.execute_reply": "2020-12-20T08:29:33.999211Z"
    },
    "papermill": {
     "duration": 0.367259,
     "end_time": "2020-12-20T08:29:33.999766",
     "exception": false,
     "start_time": "2020-12-20T08:29:33.632507",
     "status": "completed"
    },
    "tags": []
   },
   "outputs": [],
   "source": [
    "#Storing images\n",
    "imageArray=[]\n",
    "labelArray=[]\n",
    "\n",
    "# add image paths to array\n",
    "def addImages(i,name):\n",
    "    imagePaths='../input/sample/sample/sample/images/'\n",
    "    imagePaths+=csvFile['Image Index'][i]\n",
    "    imageArray.append(imagePaths)\n",
    "    labelArray.append(name)\n",
    "    #arr.append(imagePaths)\n",
    "\n",
    "\n",
    "\n",
    "# Adding covid images path to array  \n",
    "path = \"../input/covid19-radiography-database/COVID-19 Radiography Database/COVID-19/\"\n",
    "for filename in os.listdir(path):\n",
    "    filePath = '../input/covid19-radiography-database/COVID-19 Radiography Database/COVID-19/'\n",
    "    filePath += filename\n",
    "    imageArray.append(filePath)\n",
    "    labelArray.append('COVID-19')\n",
    "    #Covid.append(filePath)\n",
    "    \n",
    "\n",
    "#Reading csv and seperating the labels\n",
    "for i in range(len(csvFile)):\n",
    "    label = csvFile['Finding Labels'][i]\n",
    "    if 'Cardiomegaly' in label:\n",
    "        addImages(i,'Cardiomegaly')\n",
    "    if 'Atelectasis' in label:\n",
    "        addImages(i,'Atelectasis')\n",
    "    if 'Effusion' in label:\n",
    "        addImages(i,'Effusion')\n",
    "    if 'Infiltration' in label:\n",
    "        addImages(i,'Infiltration')\n",
    "    if 'Mass' in label:\n",
    "        addImages(i,'Mass')\n",
    "    if 'Nodule' in label:\n",
    "        addImages(i,'Nodule')\n",
    "    if 'Pneumothorax' in label:\n",
    "        addImages(i,'Pneumothorax')\n",
    "    if 'Pneumonia' in label:\n",
    "        addImages(i,'Pneumonia')\n",
    "    if 'No Finding' in label:\n",
    "        addImages(i,'Normal')\n",
    "\n"
   ]
  },
  {
   "cell_type": "code",
   "execution_count": 11,
   "metadata": {
    "execution": {
     "iopub.execute_input": "2020-12-20T08:29:34.042423Z",
     "iopub.status.busy": "2020-12-20T08:29:34.041612Z",
     "iopub.status.idle": "2020-12-20T08:29:34.057673Z",
     "shell.execute_reply": "2020-12-20T08:29:34.057033Z"
    },
    "papermill": {
     "duration": 0.040894,
     "end_time": "2020-12-20T08:29:34.057798",
     "exception": false,
     "start_time": "2020-12-20T08:29:34.016904",
     "status": "completed"
    },
    "tags": []
   },
   "outputs": [
    {
     "name": "stdout",
     "output_type": "stream",
     "text": [
      "7377\n"
     ]
    }
   ],
   "source": [
    "#encoding labels to integer values [0,1,2...]\n",
    "le = preprocessing.LabelEncoder()\n",
    "targets = le.fit_transform(labelArray)\n",
    "\n",
    "#decode=le.inverse_transform(targets) to be used later\n",
    "print(len(targets))\n",
    "\n",
    "# Making dictonory to convert to dataframe\n",
    "dataFrame={'Images':imageArray,\n",
    "           'Labels':targets}\n",
    "\n",
    "\n",
    "\n",
    "df = pd.DataFrame (dataFrame, columns = ['Images','Labels'])\n",
    "dataArray=np.array(df)\n",
    "x_train,x_test,y_train,y_test = train_test_split(df['Images'],df['Labels'],random_state=42,test_size=0.2,shuffle=True)\n",
    "x_test,x_valid,y_test,y_valid = train_test_split(x_test,y_test,random_state=42,test_size=0.2,shuffle=True)"
   ]
  },
  {
   "cell_type": "code",
   "execution_count": 12,
   "metadata": {
    "execution": {
     "iopub.execute_input": "2020-12-20T08:29:34.101381Z",
     "iopub.status.busy": "2020-12-20T08:29:34.100727Z",
     "iopub.status.idle": "2020-12-20T08:29:34.103140Z",
     "shell.execute_reply": "2020-12-20T08:29:34.103639Z"
    },
    "papermill": {
     "duration": 0.028343,
     "end_time": "2020-12-20T08:29:34.103735",
     "exception": false,
     "start_time": "2020-12-20T08:29:34.075392",
     "status": "completed"
    },
    "tags": []
   },
   "outputs": [],
   "source": [
    "def imshow(image):\n",
    "    \"\"\"Display image\"\"\"\n",
    "    plt.figure(figsize=(6, 6))\n",
    "    plt.imshow(image)\n",
    "    plt.axis('off')\n",
    "    plt.show()\n",
    "    \n",
    "def imshow_tensor(image, ax=None, title=None):\n",
    "    \"\"\"Imshow for Tensor.\"\"\"\n",
    "\n",
    "    if ax is None:\n",
    "        fig, ax = plt.subplots()\n",
    "\n",
    "    # Set the color channel as the third dimension\n",
    "    image = image.numpy().transpose((1, 2, 0))\n",
    "\n",
    "    # Reverse the preprocessing steps\n",
    "    mean = np.array([0.485, 0.456, 0.406])\n",
    "    std = np.array([0.229, 0.224, 0.225])\n",
    "    image = std * image + mean\n",
    "\n",
    "    # Clip the image pixel values\n",
    "    image = np.clip(image, 0, 1)\n",
    "\n",
    "    ax.imshow(image)\n",
    "    plt.axis('off')\n",
    "\n",
    "    return ax, image"
   ]
  },
  {
   "cell_type": "code",
   "execution_count": 13,
   "metadata": {
    "execution": {
     "iopub.execute_input": "2020-12-20T08:29:34.144269Z",
     "iopub.status.busy": "2020-12-20T08:29:34.143689Z",
     "iopub.status.idle": "2020-12-20T08:29:34.383357Z",
     "shell.execute_reply": "2020-12-20T08:29:34.382810Z"
    },
    "papermill": {
     "duration": 0.262091,
     "end_time": "2020-12-20T08:29:34.383481",
     "exception": false,
     "start_time": "2020-12-20T08:29:34.121390",
     "status": "completed"
    },
    "tags": []
   },
   "outputs": [
    {
     "data": {
      "image/png": "[encoded data removed]",
      "text/plain": [
       "<Figure size 432x288 with 1 Axes>"
      ]
     },
     "metadata": {
      "needs_background": "light"
     },
     "output_type": "display_data"
    }
   ],
   "source": [
    "#load image in rgb\n",
    "def pil_loader(path):\n",
    "    # open path as file to avoid ResourceWarning (https://github.com/python-pillow/Pillow/issues/835)\n",
    "    with open(path, 'rb') as f:\n",
    "        img = Image.open(f)\n",
    "        return img.convert('RGB')\n",
    "\n",
    "    \n",
    "imageCheck=pil_loader(dataArray[250][0])\n",
    "# To show normal image\n",
    "imgplot = plt.imshow(imageCheck)\n",
    "plt.show()\n",
    "imageCheck=image_transforms['train'](imageCheck)\n",
    "#To show the tensor\n",
    "#ax = plt.subplot(1, 1,1)\n",
    "#imshow_tensor(imageCheck,ax)\n",
    "\n",
    "\n"
   ]
  },
  {
   "cell_type": "code",
   "execution_count": 14,
   "metadata": {
    "execution": {
     "iopub.execute_input": "2020-12-20T08:29:34.476162Z",
     "iopub.status.busy": "2020-12-20T08:29:34.475216Z",
     "iopub.status.idle": "2020-12-20T08:29:34.479585Z",
     "shell.execute_reply": "2020-12-20T08:29:34.479174Z"
    },
    "papermill": {
     "duration": 0.031714,
     "end_time": "2020-12-20T08:29:34.479671",
     "exception": false,
     "start_time": "2020-12-20T08:29:34.447957",
     "status": "completed"
    },
    "tags": []
   },
   "outputs": [
    {
     "data": {
      "text/plain": [
       "'\\nfor testing purposes\\ntrainiter=iter(dataloader)\\nfeatures, labels = next(trainiter)\\nprint(labels.shape)\\n'"
      ]
     },
     "execution_count": 14,
     "metadata": {},
     "output_type": "execute_result"
    }
   ],
   "source": [
    "\n",
    "class CustomDataLoader(Dataset):\n",
    "    def __init__(self,x,y):\n",
    "        self.x = x\n",
    "        self.y=y\n",
    "\n",
    "    def __len__(self):\n",
    "        return len(self.x)\n",
    "\n",
    "    def __getitem__(self, index):\n",
    "        image = pil_loader(self.x[index])\n",
    "        label = self.y[index]\n",
    "        return image_transforms['train'](image),torch.tensor(label)\n",
    "    \n",
    "dataloader = DataLoader(CustomDataLoader(np.array(x_train),np.array(y_train)),batch_size=5, shuffle=True)\n",
    "\n",
    "'''\n",
    "for testing purposes\n",
    "trainiter=iter(dataloader)\n",
    "features, labels = next(trainiter)\n",
    "print(labels.shape)\n",
    "'''\n",
    "\n",
    "    \n"
   ]
  },
  {
   "cell_type": "code",
   "execution_count": 15,
   "metadata": {
    "execution": {
     "iopub.execute_input": "2020-12-20T08:29:34.523190Z",
     "iopub.status.busy": "2020-12-20T08:29:34.522539Z",
     "iopub.status.idle": "2020-12-20T08:29:34.525500Z",
     "shell.execute_reply": "2020-12-20T08:29:34.525047Z"
    },
    "papermill": {
     "duration": 0.026378,
     "end_time": "2020-12-20T08:29:34.525594",
     "exception": false,
     "start_time": "2020-12-20T08:29:34.499216",
     "status": "completed"
    },
    "tags": []
   },
   "outputs": [],
   "source": [
    "# setting loss function and optimizer\n",
    "# not a good result\n",
    "#criterion = nn.NLLLoss()\n",
    "#optimizer = optim.Adam(vgg.parameters())\n",
    "#----------------changing functions-----------------------#\n",
    "criterion = nn.CrossEntropyLoss()\n",
    "#optimizer = optim.Adam(vgg.parameters(),lr=0.01)\n",
    "optimizer = optim.SGD(vgg.parameters(), lr=0.001, momentum=0.9)\n",
    "#exp_lr_scheduler = lr_scheduler.StepLR(optimizer, step_size=7, gamma=0.1)"
   ]
  },
  {
   "cell_type": "code",
   "execution_count": 16,
   "metadata": {
    "execution": {
     "iopub.execute_input": "2020-12-20T08:29:34.575943Z",
     "iopub.status.busy": "2020-12-20T08:29:34.575154Z",
     "iopub.status.idle": "2020-12-20T12:35:51.717267Z",
     "shell.execute_reply": "2020-12-20T12:35:51.717732Z"
    },
    "papermill": {
     "duration": 14777.172902,
     "end_time": "2020-12-20T12:35:51.717872",
     "exception": false,
     "start_time": "2020-12-20T08:29:34.544970",
     "status": "completed"
    },
    "tags": []
   },
   "outputs": [
    {
     "name": "stdout",
     "output_type": "stream",
     "text": [
      "5901\n",
      " Epoch: 1 Avg loss (train): 0.2915 Avg acc (train): 0.5477\n",
      " Epoch: 2 Avg loss (train): 0.2743 Avg acc (train): 0.5641\n",
      " Epoch: 3 Avg loss (train): 0.2657 Avg acc (train): 0.5662\n",
      " Epoch: 4 Avg loss (train): 0.2572 Avg acc (train): 0.5726\n",
      " Epoch: 5 Avg loss (train): 0.2489 Avg acc (train): 0.5831\n",
      " Epoch: 6 Avg loss (train): 0.2432 Avg acc (train): 0.5948\n",
      " Epoch: 7 Avg loss (train): 0.2311 Avg acc (train): 0.6006\n",
      " Epoch: 8 Avg loss (train): 0.2253 Avg acc (train): 0.6085\n",
      " Epoch: 9 Avg loss (train): 0.2136 Avg acc (train): 0.6311\n",
      " Epoch: 10 Avg loss (train): 0.2025 Avg acc (train): 0.6477\n",
      " Epoch: 11 Avg loss (train): 0.1946 Avg acc (train): 0.6528\n",
      " Epoch: 12 Avg loss (train): 0.1842 Avg acc (train): 0.6706\n",
      " Epoch: 13 Avg loss (train): 0.1750 Avg acc (train): 0.6870\n",
      " Epoch: 14 Avg loss (train): 0.1659 Avg acc (train): 0.7077\n",
      " Epoch: 15 Avg loss (train): 0.1542 Avg acc (train): 0.7180\n",
      " Epoch: 16 Avg loss (train): 0.1491 Avg acc (train): 0.7350\n",
      " Epoch: 17 Avg loss (train): 0.1395 Avg acc (train): 0.7485\n",
      " Epoch: 18 Avg loss (train): 0.1337 Avg acc (train): 0.7492\n",
      " Epoch: 19 Avg loss (train): 0.1261 Avg acc (train): 0.7702\n",
      " Epoch: 20 Avg loss (train): 0.1200 Avg acc (train): 0.7792\n",
      " Epoch: 21 Avg loss (train): 0.1149 Avg acc (train): 0.7902\n",
      " Epoch: 22 Avg loss (train): 0.1093 Avg acc (train): 0.8021\n",
      " Epoch: 23 Avg loss (train): 0.1091 Avg acc (train): 0.7988\n",
      " Epoch: 24 Avg loss (train): 0.0992 Avg acc (train): 0.8166\n",
      " Epoch: 25 Avg loss (train): 0.0966 Avg acc (train): 0.8231\n",
      " Epoch: 26 Avg loss (train): 0.0942 Avg acc (train): 0.8265\n",
      " Epoch: 27 Avg loss (train): 0.0886 Avg acc (train): 0.8343\n",
      " Epoch: 28 Avg loss (train): 0.0899 Avg acc (train): 0.8263\n",
      " Epoch: 29 Avg loss (train): 0.0889 Avg acc (train): 0.8334\n",
      " Epoch: 30 Avg loss (train): 0.0821 Avg acc (train): 0.8397\n",
      " Epoch: 31 Avg loss (train): 0.0803 Avg acc (train): 0.8414\n",
      " Epoch: 32 Avg loss (train): 0.0771 Avg acc (train): 0.8502\n",
      " Epoch: 33 Avg loss (train): 0.0753 Avg acc (train): 0.8470\n",
      " Epoch: 34 Avg loss (train): 0.0737 Avg acc (train): 0.8532\n",
      " Epoch: 35 Avg loss (train): 0.0717 Avg acc (train): 0.8554\n",
      " Epoch: 36 Avg loss (train): 0.0725 Avg acc (train): 0.8549\n",
      " Epoch: 37 Avg loss (train): 0.0737 Avg acc (train): 0.8543\n",
      " Epoch: 38 Avg loss (train): 0.0683 Avg acc (train): 0.8626\n",
      " Epoch: 39 Avg loss (train): 0.0676 Avg acc (train): 0.8593\n",
      " Epoch: 40 Avg loss (train): 0.0653 Avg acc (train): 0.8619\n",
      " Epoch: 41 Avg loss (train): 0.0662 Avg acc (train): 0.8575\n",
      " Epoch: 42 Avg loss (train): 0.0621 Avg acc (train): 0.8663\n",
      " Epoch: 43 Avg loss (train): 0.0652 Avg acc (train): 0.8571\n",
      " Epoch: 44 Avg loss (train): 0.0615 Avg acc (train): 0.8634\n",
      " Epoch: 45 Avg loss (train): 0.0607 Avg acc (train): 0.8682\n",
      " Epoch: 46 Avg loss (train): 0.0574 Avg acc (train): 0.8705\n",
      " Epoch: 47 Avg loss (train): 0.0572 Avg acc (train): 0.8693\n",
      " Epoch: 48 Avg loss (train): 0.0585 Avg acc (train): 0.8660\n",
      " Epoch: 49 Avg loss (train): 0.0558 Avg acc (train): 0.8717\n",
      " Epoch: 50 Avg loss (train): 0.0584 Avg acc (train): 0.8692\n",
      " Epoch: 51 Avg loss (train): 0.0564 Avg acc (train): 0.8682\n",
      " Epoch: 52 Avg loss (train): 0.0544 Avg acc (train): 0.8717\n",
      " Epoch: 53 Avg loss (train): 0.0539 Avg acc (train): 0.8702\n",
      " Epoch: 54 Avg loss (train): 0.0527 Avg acc (train): 0.8721\n",
      " Epoch: 55 Avg loss (train): 0.0530 Avg acc (train): 0.8746\n",
      " Epoch: 56 Avg loss (train): 0.0539 Avg acc (train): 0.8727\n",
      " Epoch: 57 Avg loss (train): 0.0527 Avg acc (train): 0.8756\n",
      " Epoch: 58 Avg loss (train): 0.0522 Avg acc (train): 0.8727\n",
      " Epoch: 59 Avg loss (train): 0.0526 Avg acc (train): 0.8699\n",
      " Epoch: 60 Avg loss (train): 0.0496 Avg acc (train): 0.8751\n",
      " Epoch: 61 Avg loss (train): 0.0521 Avg acc (train): 0.8738\n",
      " Epoch: 62 Avg loss (train): 0.0495 Avg acc (train): 0.8739\n",
      " Epoch: 63 Avg loss (train): 0.0513 Avg acc (train): 0.8704\n",
      " Epoch: 64 Avg loss (train): 0.0483 Avg acc (train): 0.8726\n",
      " Epoch: 65 Avg loss (train): 0.0477 Avg acc (train): 0.8753\n",
      " Epoch: 66 Avg loss (train): 0.0486 Avg acc (train): 0.8758\n",
      " Epoch: 67 Avg loss (train): 0.0479 Avg acc (train): 0.8717\n",
      " Epoch: 68 Avg loss (train): 0.0470 Avg acc (train): 0.8749\n",
      " Epoch: 69 Avg loss (train): 0.0461 Avg acc (train): 0.8761\n",
      " Epoch: 70 Avg loss (train): 0.0472 Avg acc (train): 0.8754\n",
      " Epoch: 71 Avg loss (train): 0.0463 Avg acc (train): 0.8763\n",
      " Epoch: 72 Avg loss (train): 0.0458 Avg acc (train): 0.8804\n",
      " Epoch: 73 Avg loss (train): 0.0459 Avg acc (train): 0.8724\n",
      " Epoch: 74 Avg loss (train): 0.0461 Avg acc (train): 0.8741\n",
      " Epoch: 75 Avg loss (train): 0.0472 Avg acc (train): 0.8721\n",
      " Epoch: 76 Avg loss (train): 0.0464 Avg acc (train): 0.8751\n",
      " Epoch: 77 Avg loss (train): 0.0457 Avg acc (train): 0.8688\n",
      " Epoch: 78 Avg loss (train): 0.0447 Avg acc (train): 0.8792\n",
      " Epoch: 79 Avg loss (train): 0.0463 Avg acc (train): 0.8732\n",
      " Epoch: 80 Avg loss (train): 0.0489 Avg acc (train): 0.8756\n",
      " Epoch: 81 Avg loss (train): 0.0466 Avg acc (train): 0.8715\n",
      " Epoch: 82 Avg loss (train): 0.0451 Avg acc (train): 0.8790\n",
      " Epoch: 83 Avg loss (train): 0.0470 Avg acc (train): 0.8705\n",
      " Epoch: 84 Avg loss (train): 0.0451 Avg acc (train): 0.8775\n",
      " Epoch: 85 Avg loss (train): 0.0483 Avg acc (train): 0.8719\n",
      " Epoch: 86 Avg loss (train): 0.0451 Avg acc (train): 0.8756\n",
      " Epoch: 87 Avg loss (train): 0.0443 Avg acc (train): 0.8773\n",
      " Epoch: 88 Avg loss (train): 0.0455 Avg acc (train): 0.8775\n",
      " Epoch: 89 Avg loss (train): 0.0439 Avg acc (train): 0.8785\n",
      " Epoch: 90 Avg loss (train): 0.0448 Avg acc (train): 0.8734\n",
      " Epoch: 91 Avg loss (train): 0.0427 Avg acc (train): 0.8800\n",
      " Epoch: 92 Avg loss (train): 0.0446 Avg acc (train): 0.8770\n",
      " Epoch: 93 Avg loss (train): 0.0439 Avg acc (train): 0.8765\n",
      " Epoch: 94 Avg loss (train): 0.0429 Avg acc (train): 0.8743\n",
      " Epoch: 95 Avg loss (train): 0.0431 Avg acc (train): 0.8734\n",
      " Epoch: 96 Avg loss (train): 0.0418 Avg acc (train): 0.8754\n",
      " Epoch: 97 Avg loss (train): 0.0421 Avg acc (train): 0.8766\n",
      " Epoch: 98 Avg loss (train): 0.0419 Avg acc (train): 0.8799\n",
      " Epoch: 99 Avg loss (train): 0.0420 Avg acc (train): 0.8775\n",
      " Epoch: 100 Avg loss (train): 0.0417 Avg acc (train): 0.8783\n",
      " Epoch: 101 Avg loss (train): 0.0413 Avg acc (train): 0.8776\n",
      " Epoch: 102 Avg loss (train): 0.0415 Avg acc (train): 0.8804\n",
      " Epoch: 103 Avg loss (train): 0.0419 Avg acc (train): 0.8761\n",
      " Epoch: 104 Avg loss (train): 0.0409 Avg acc (train): 0.8797\n",
      " Epoch: 105 Avg loss (train): 0.0429 Avg acc (train): 0.8780\n",
      " Epoch: 106 Avg loss (train): 0.0411 Avg acc (train): 0.8821\n",
      " Epoch: 107 Avg loss (train): 0.0412 Avg acc (train): 0.8790\n",
      " Epoch: 108 Avg loss (train): 0.0407 Avg acc (train): 0.8782\n",
      " Epoch: 109 Avg loss (train): 0.0412 Avg acc (train): 0.8800\n",
      " Epoch: 110 Avg loss (train): 0.0434 Avg acc (train): 0.8751\n",
      " Epoch: 111 Avg loss (train): 0.0444 Avg acc (train): 0.8765\n",
      " Epoch: 112 Avg loss (train): 0.0422 Avg acc (train): 0.8749\n",
      " Epoch: 113 Avg loss (train): 0.0429 Avg acc (train): 0.8776\n",
      " Epoch: 114 Avg loss (train): 0.0442 Avg acc (train): 0.8722\n",
      " Epoch: 115 Avg loss (train): 0.0414 Avg acc (train): 0.8788\n",
      " Epoch: 116 Avg loss (train): 0.0403 Avg acc (train): 0.8841\n",
      " Epoch: 117 Avg loss (train): 0.0419 Avg acc (train): 0.8778\n",
      " Epoch: 118 Avg loss (train): 0.0419 Avg acc (train): 0.8765\n",
      " Epoch: 119 Avg loss (train): 0.0409 Avg acc (train): 0.8799\n",
      " Epoch: 120 Avg loss (train): 0.0405 Avg acc (train): 0.8795\n"
     ]
    }
   ],
   "source": [
    "# training\n",
    "# Main loop\n",
    "#vgg=torch.load('trainedmodel3.pth')\n",
    "epochs=120\n",
    "size = len(x_train)\n",
    "print(size)\n",
    "best_acc=0.000\n",
    "vgg.train(True)\n",
    "best =copy.deepcopy(vgg)\n",
    "\n",
    "for i in range(epochs):\n",
    "  # Initialize validation loss for epoch\n",
    "    train_loss = 0.000\n",
    "    train_acc =  0.000\n",
    "   \n",
    "    \n",
    "    \n",
    "    for data, targets in dataloader:\n",
    "        # Generate predictions\n",
    "        if use_gpu:\n",
    "            data, targets = data.cuda(), targets.cuda()\n",
    "        optimizer.zero_grad()\n",
    "        out = vgg(data)\n",
    "        # Calculate loss\n",
    "        loss = criterion(out, targets)\n",
    "\n",
    "        # Backpropagation\n",
    "        loss.backward()\n",
    "        # Update model parameters\n",
    "        optimizer.step()\n",
    "\n",
    "         # Track train loss by multiplying average loss by number of examples in batch\n",
    "        #train_loss += loss.item() * data.size(0)\n",
    "\n",
    "       \n",
    "        _, pred = torch.max(out, dim=1)\n",
    "       \n",
    "        \n",
    "        train_loss += loss.item()\n",
    "        train_acc += torch.sum(pred == targets.data)\n",
    "        \n",
    "    \n",
    "    train_loss /= len(x_train)\n",
    "    train_acc  /= len(x_train)\n",
    "    if(train_acc>best_acc):\n",
    "        best_acc = float(train_acc)\n",
    "        best_model= copy.deepcopy(vgg.state_dict())\n",
    "        best =copy.deepcopy(vgg)\n",
    "    \n",
    "    print(f\" Epoch: {i+1}\",\"Avg loss (train): {:.4f}\".format(train_loss),\"Avg acc (train): {:.4f}\".format(train_acc))\n",
    "    \n",
    "\n",
    "\n",
    "\n",
    "    \n",
    "    \n",
    "    "
   ]
  },
  {
   "cell_type": "code",
   "execution_count": 17,
   "metadata": {
    "execution": {
     "iopub.execute_input": "2020-12-20T12:35:51.836331Z",
     "iopub.status.busy": "2020-12-20T12:35:51.835066Z",
     "iopub.status.idle": "2020-12-20T12:35:56.075026Z",
     "shell.execute_reply": "2020-12-20T12:35:56.073901Z"
    },
    "papermill": {
     "duration": 4.303946,
     "end_time": "2020-12-20T12:35:56.075187",
     "exception": false,
     "start_time": "2020-12-20T12:35:51.771241",
     "status": "completed"
    },
    "tags": []
   },
   "outputs": [],
   "source": [
    "#for saving purposes\n",
    "torch.save(best, 'trainedmodel.pth')\n",
    "torch.save(vgg, 'latestmodel.pth')\n",
    "#torch.save(best, 'trainedmodel3.pth')"
   ]
  },
  {
   "cell_type": "code",
   "execution_count": 18,
   "metadata": {
    "execution": {
     "iopub.execute_input": "2020-12-20T12:35:56.187847Z",
     "iopub.status.busy": "2020-12-20T12:35:56.186075Z",
     "iopub.status.idle": "2020-12-20T12:35:56.188435Z",
     "shell.execute_reply": "2020-12-20T12:35:56.188833Z"
    },
    "papermill": {
     "duration": 0.060068,
     "end_time": "2020-12-20T12:35:56.188939",
     "exception": false,
     "start_time": "2020-12-20T12:35:56.128871",
     "status": "completed"
    },
    "tags": []
   },
   "outputs": [],
   "source": [
    "#print(best_acc)\n",
    "#torch.save(best_model, 'full_trained_model.pth')"
   ]
  },
  {
   "cell_type": "code",
   "execution_count": 20,
   "metadata": {
    "execution": {
     "iopub.execute_input": "2020-12-20T12:35:56.528718Z",
     "iopub.status.busy": "2020-12-20T12:35:56.528186Z",
     "iopub.status.idle": "2020-12-20T12:36:30.628109Z",
     "shell.execute_reply": "2020-12-20T12:36:30.628682Z"
    },
    "papermill": {
     "duration": 34.163396,
     "end_time": "2020-12-20T12:36:30.628833",
     "exception": false,
     "start_time": "2020-12-20T12:35:56.465437",
     "status": "completed"
    },
    "tags": []
   },
   "outputs": [
    {
     "name": "stdout",
     "output_type": "stream",
     "text": [
      "test loss (train): 0.6805\n",
      "test acc (train): 0.5271\n"
     ]
    }
   ],
   "source": [
    "train_loss=0.0\n",
    "train_acc=0.0\n",
    "vgg=torch.load('trainedmodel.pth')\n",
    "vgg.eval()\n",
    "\n",
    "testloader= DataLoader(CustomDataLoader(np.array(x_test),np.array(y_test)),batch_size=5, shuffle=True)\n",
    "vgg.train(False)\n",
    "for data, targets in testloader:\n",
    "        # Generate predictions\n",
    "    if use_gpu:\n",
    "        data, targets = data.cuda(), targets.cuda()\n",
    "    out = vgg(data)\n",
    "        # Calculate loss\n",
    "    loss = criterion(out, targets)\n",
    "    _, pred = torch.max(out, dim=1)\n",
    "    train_loss += loss.item()\n",
    "    train_acc += torch.sum(pred == targets.data)\n",
    "        \n",
    "train_loss /= len(x_test)\n",
    "train_acc  /= len(x_test)\n",
    "   \n",
    "print(\"test loss (train): {:.4f}\".format(train_loss))\n",
    "print(\"test acc (train): {:.4f}\".format(train_acc))\n",
    "   "
   ]
  },
  {
   "cell_type": "code",
   "execution_count": 21,
   "metadata": {
    "execution": {
     "iopub.execute_input": "2020-12-20T12:36:30.747845Z",
     "iopub.status.busy": "2020-12-20T12:36:30.746956Z",
     "iopub.status.idle": "2020-12-20T12:36:38.874014Z",
     "shell.execute_reply": "2020-12-20T12:36:38.873583Z"
    },
    "papermill": {
     "duration": 8.190136,
     "end_time": "2020-12-20T12:36:38.874112",
     "exception": false,
     "start_time": "2020-12-20T12:36:30.683976",
     "status": "completed"
    },
    "tags": []
   },
   "outputs": [
    {
     "name": "stdout",
     "output_type": "stream",
     "text": [
      "validation loss (train): 0.6348\n",
      "validation acc (train): 0.5000\n"
     ]
    }
   ],
   "source": [
    "train_loss=0.0\n",
    "train_acc=0.0\n",
    "vgg=torch.load('trainedmodel.pth')\n",
    "vgg.eval()\n",
    "validloader= DataLoader(CustomDataLoader(np.array(x_valid),np.array(y_valid)),batch_size=5, shuffle=True)\n",
    "vgg.train(False)\n",
    "for data, targets in validloader:\n",
    "            # Generate predictions\n",
    "    if use_gpu:\n",
    "        data, targets = data.cuda(), targets.cuda()\n",
    "    out = vgg(data)\n",
    "            # Calculate loss\n",
    "    loss = criterion(out, targets)\n",
    "    _, pred = torch.max(out, dim=1)\n",
    "    train_loss += loss.item()\n",
    "    train_acc += torch.sum(pred == targets.data)\n",
    "\n",
    "train_loss /= len(x_valid)\n",
    "train_acc  /= len(x_valid)\n",
    "    \n",
    "print(\"validation loss (train): {:.4f}\".format(train_loss))\n",
    "print(\"validation acc (train): {:.4f}\".format(train_acc))\n"
   ]
  }
 ],
 "metadata": {
  "kernelspec": {
   "display_name": "Python 3",
   "language": "python",
   "name": "python3"
  },
  "language_info": {
   "codemirror_mode": {
    "name": "ipython",
    "version": 3
   },
   "file_extension": ".py",
   "mimetype": "text/x-python",
   "name": "python",
   "nbconvert_exporter": "python",
   "pygments_lexer": "ipython3",
   "version": "3.7.6"
  },
  "papermill": {
   "duration": 14886.690888,
   "end_time": "2020-12-20T12:36:40.310779",
   "environment_variables": {},
   "exception": null,
   "input_path": "__notebook__.ipynb",
   "output_path": "__notebook__.ipynb",
   "parameters": {},
   "start_time": "2020-12-20T08:28:33.619891",
   "version": "2.1.0"
  },
  "widgets": {
   "application/vnd.jupyter.widget-state+json": {
    "state": {
     "082fa20f19694b748e35ba3af16af66e": {
      "model_module": "@jupyter-widgets/controls",
      "model_module_version": "1.5.0",
      "model_name": "HBoxModel",
      "state": {
       "_dom_classes": [],
       "_model_module": "@jupyter-widgets/controls",
       "_model_module_version": "1.5.0",
       "_model_name": "HBoxModel",
       "_view_count": null,
       "_view_module": "@jupyter-widgets/controls",
       "_view_module_version": "1.5.0",
       "_view_name": "HBoxView",
       "box_style": "",
       "children": [
        "IPY_MODEL_80e3cafece574fd5bd7a76cc99cbf225",
        "IPY_MODEL_55d283ec39c64ca9a3ac1e764647484b"
       ],
       "layout": "IPY_MODEL_96016d05e393478a8d88a5062c5aeeb4"
      }
     },
     "3a18ce8b918a49c6ab2818032548eca8": {
      "model_module": "@jupyter-widgets/controls",
      "model_module_version": "1.5.0",
      "model_name": "DescriptionStyleModel",
      "state": {
       "_model_module": "@jupyter-widgets/controls",
       "_model_module_version": "1.5.0",
       "_model_name": "DescriptionStyleModel",
       "_view_count": null,
       "_view_module": "@jupyter-widgets/base",
       "_view_module_version": "1.2.0",
       "_view_name": "StyleView",
       "description_width": ""
      }
     },
     "55d283ec39c64ca9a3ac1e764647484b": {
      "model_module": "@jupyter-widgets/controls",
      "model_module_version": "1.5.0",
      "model_name": "HTMLModel",
      "state": {
       "_dom_classes": [],
       "_model_module": "@jupyter-widgets/controls",
       "_model_module_version": "1.5.0",
       "_model_name": "HTMLModel",
       "_view_count": null,
       "_view_module": "@jupyter-widgets/controls",
       "_view_module_version": "1.5.0",
       "_view_name": "HTMLView",
       "description": "",
       "description_tooltip": null,
       "layout": "IPY_MODEL_a0fdbaa8ccf84470932ec7a13682e91c",
       "placeholder": "​",
       "style": "IPY_MODEL_3a18ce8b918a49c6ab2818032548eca8",
       "value": " 528M/528M [00:51&lt;00:00, 10.7MB/s]"
      }
     },
     "80e3cafece574fd5bd7a76cc99cbf225": {
      "model_module": "@jupyter-widgets/controls",
      "model_module_version": "1.5.0",
      "model_name": "FloatProgressModel",
      "state": {
       "_dom_classes": [],
       "_model_module": "@jupyter-widgets/controls",
       "_model_module_version": "1.5.0",
       "_model_name": "FloatProgressModel",
       "_view_count": null,
       "_view_module": "@jupyter-widgets/controls",
       "_view_module_version": "1.5.0",
       "_view_name": "ProgressView",
       "bar_style": "success",
       "description": "100%",
       "description_tooltip": null,
       "layout": "IPY_MODEL_d8b8b25b1b784c5db138f2ca89734d9d",
       "max": 553433881,
       "min": 0,
       "orientation": "horizontal",
       "style": "IPY_MODEL_e2cf557aa76b48b09f74c43504384e79",
       "value": 553433881
      }
     },
     "96016d05e393478a8d88a5062c5aeeb4": {
      "model_module": "@jupyter-widgets/base",
      "model_module_version": "1.2.0",
      "model_name": "LayoutModel",
      "state": {
       "_model_module": "@jupyter-widgets/base",
       "_model_module_version": "1.2.0",
       "_model_name": "LayoutModel",
       "_view_count": null,
       "_view_module": "@jupyter-widgets/base",
       "_view_module_version": "1.2.0",
       "_view_name": "LayoutView",
       "align_content": null,
       "align_items": null,
       "align_self": null,
       "border": null,
       "bottom": null,
       "display": null,
       "flex": null,
       "flex_flow": null,
       "grid_area": null,
       "grid_auto_columns": null,
       "grid_auto_flow": null,
       "grid_auto_rows": null,
       "grid_column": null,
       "grid_gap": null,
       "grid_row": null,
       "grid_template_areas": null,
       "grid_template_columns": null,
       "grid_template_rows": null,
       "height": null,
       "justify_content": null,
       "justify_items": null,
       "left": null,
       "margin": null,
       "max_height": null,
       "max_width": null,
       "min_height": null,
       "min_width": null,
       "object_fit": null,
       "object_position": null,
       "order": null,
       "overflow": null,
       "overflow_x": null,
       "overflow_y": null,
       "padding": null,
       "right": null,
       "top": null,
       "visibility": null,
       "width": null
      }
     },
     "a0fdbaa8ccf84470932ec7a13682e91c": {
      "model_module": "@jupyter-widgets/base",
      "model_module_version": "1.2.0",
      "model_name": "LayoutModel",
      "state": {
       "_model_module": "@jupyter-widgets/base",
       "_model_module_version": "1.2.0",
       "_model_name": "LayoutModel",
       "_view_count": null,
       "_view_module": "@jupyter-widgets/base",
       "_view_module_version": "1.2.0",
       "_view_name": "LayoutView",
       "align_content": null,
       "align_items": null,
       "align_self": null,
       "border": null,
       "bottom": null,
       "display": null,
       "flex": null,
       "flex_flow": null,
       "grid_area": null,
       "grid_auto_columns": null,
       "grid_auto_flow": null,
       "grid_auto_rows": null,
       "grid_column": null,
       "grid_gap": null,
       "grid_row": null,
       "grid_template_areas": null,
       "grid_template_columns": null,
       "grid_template_rows": null,
       "height": null,
       "justify_content": null,
       "justify_items": null,
       "left": null,
       "margin": null,
       "max_height": null,
       "max_width": null,
       "min_height": null,
       "min_width": null,
       "object_fit": null,
       "object_position": null,
       "order": null,
       "overflow": null,
       "overflow_x": null,
       "overflow_y": null,
       "padding": null,
       "right": null,
       "top": null,
       "visibility": null,
       "width": null
      }
     },
     "d8b8b25b1b784c5db138f2ca89734d9d": {
      "model_module": "@jupyter-widgets/base",
      "model_module_version": "1.2.0",
      "model_name": "LayoutModel",
      "state": {
       "_model_module": "@jupyter-widgets/base",
       "_model_module_version": "1.2.0",
       "_model_name": "LayoutModel",
       "_view_count": null,
       "_view_module": "@jupyter-widgets/base",
       "_view_module_version": "1.2.0",
       "_view_name": "LayoutView",
       "align_content": null,
       "align_items": null,
       "align_self": null,
       "border": null,
       "bottom": null,
       "display": null,
       "flex": null,
       "flex_flow": null,
       "grid_area": null,
       "grid_auto_columns": null,
       "grid_auto_flow": null,
       "grid_auto_rows": null,
       "grid_column": null,
       "grid_gap": null,
       "grid_row": null,
       "grid_template_areas": null,
       "grid_template_columns": null,
       "grid_template_rows": null,
       "height": null,
       "justify_content": null,
       "justify_items": null,
       "left": null,
       "margin": null,
       "max_height": null,
       "max_width": null,
       "min_height": null,
       "min_width": null,
       "object_fit": null,
       "object_position": null,
       "order": null,
       "overflow": null,
       "overflow_x": null,
       "overflow_y": null,
       "padding": null,
       "right": null,
       "top": null,
       "visibility": null,
       "width": null
      }
     },
     "e2cf557aa76b48b09f74c43504384e79": {
      "model_module": "@jupyter-widgets/controls",
      "model_module_version": "1.5.0",
      "model_name": "ProgressStyleModel",
      "state": {
       "_model_module": "@jupyter-widgets/controls",
       "_model_module_version": "1.5.0",
       "_model_name": "ProgressStyleModel",
       "_view_count": null,
       "_view_module": "@jupyter-widgets/base",
       "_view_module_version": "1.2.0",
       "_view_name": "StyleView",
       "bar_color": null,
       "description_width": "initial"
      }
     }
    },
    "version_major": 2,
    "version_minor": 0
   }
  }
 },
 "nbformat": 4,
 "nbformat_minor": 4
}
