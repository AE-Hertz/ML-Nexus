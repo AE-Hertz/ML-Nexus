{
 "cells": [
  {
   "cell_type": "code",
   "execution_count": 1,
   "metadata": {
    "_cell_guid": "80342862-1519-49d3-9496-190c65a49e60",
    "_uuid": "04faa91a-fcdb-44e6-8b1f-fad538c550fb",
    "collapsed": false,
    "execution": {
     "iopub.execute_input": "2024-08-30T10:59:13.002069Z",
     "iopub.status.busy": "2024-08-30T10:59:13.001225Z",
     "iopub.status.idle": "2024-08-30T10:59:15.377913Z",
     "shell.execute_reply": "2024-08-30T10:59:15.377235Z",
     "shell.execute_reply.started": "2024-08-30T09:23:54.485405Z"
    },
    "jupyter": {
     "outputs_hidden": false
    },
    "papermill": {
     "duration": 2.424923,
     "end_time": "2024-08-30T10:59:15.378038",
     "exception": false,
     "start_time": "2024-08-30T10:59:12.953115",
     "status": "completed"
    },
    "tags": []
   },
   "outputs": [],
   "source": [
    "# Import liberaries\n",
    "import os\n",
    "import numpy as np\n",
    "import pandas as pd\n",
    "from tqdm import tqdm\n",
    "from operator import itemgetter\n",
    "from collections import OrderedDict\n",
    "\n",
    "from PIL import Image\n",
    "import seaborn as sns\n",
    "import matplotlib.pyplot as plt\n",
    "\n",
    "import torch\n",
    "from torch import optim,nn\n",
    "import torch.nn.functional as F\n",
    "from torchvision import transforms as T,models\n",
    "from torch.utils.data import Dataset, DataLoader, random_split\n",
    "from torchvision.utils import make_grid\n",
    "\n",
    "pd.options.plotting.backend = \"plotly\"\n",
    "device = torch.device('cuda' if torch.cuda.is_available() else 'cpu')"
   ]
  },
  {
   "cell_type": "markdown",
   "metadata": {
    "_cell_guid": "628d8913-8bf8-4bff-8857-c3939437c5a2",
    "_uuid": "92310a62-3dbe-402e-b157-f345ed3f2050",
    "papermill": {
     "duration": 0.038768,
     "end_time": "2024-08-30T10:59:15.455977",
     "exception": false,
     "start_time": "2024-08-30T10:59:15.417209",
     "status": "completed"
    },
    "tags": []
   },
   "source": [
    "# EDA"
   ]
  },
  {
   "cell_type": "code",
   "execution_count": 2,
   "metadata": {
    "_cell_guid": "731ea29a-3155-484b-8dfe-f2dbd3015c79",
    "_uuid": "433fe500-0c57-4e84-aadc-a6f80748bd38",
    "collapsed": false,
    "execution": {
     "iopub.execute_input": "2024-08-30T10:59:15.586001Z",
     "iopub.status.busy": "2024-08-30T10:59:15.585329Z",
     "iopub.status.idle": "2024-08-30T10:59:15.641831Z",
     "shell.execute_reply": "2024-08-30T10:59:15.642326Z",
     "shell.execute_reply.started": "2024-08-30T09:27:11.145839Z"
    },
    "jupyter": {
     "outputs_hidden": false
    },
    "papermill": {
     "duration": 0.147354,
     "end_time": "2024-08-30T10:59:15.642508",
     "exception": false,
     "start_time": "2024-08-30T10:59:15.495154",
     "status": "completed"
    },
    "tags": []
   },
   "outputs": [
    {
     "data": {
      "text/html": [
       "<div>\n",
       "<style scoped>\n",
       "    .dataframe tbody tr th:only-of-type {\n",
       "        vertical-align: middle;\n",
       "    }\n",
       "\n",
       "    .dataframe tbody tr th {\n",
       "        vertical-align: top;\n",
       "    }\n",
       "\n",
       "    .dataframe thead th {\n",
       "        text-align: right;\n",
       "    }\n",
       "</style>\n",
       "<table border=\"1\" class=\"dataframe\">\n",
       "  <thead>\n",
       "    <tr style=\"text-align: right;\">\n",
       "      <th></th>\n",
       "      <th>Image Index</th>\n",
       "      <th>Finding Labels</th>\n",
       "      <th>Follow-up #</th>\n",
       "      <th>Patient ID</th>\n",
       "      <th>Patient Age</th>\n",
       "      <th>Patient Gender</th>\n",
       "      <th>View Position</th>\n",
       "      <th>OriginalImageWidth</th>\n",
       "      <th>OriginalImageHeight</th>\n",
       "      <th>OriginalImagePixelSpacing_x</th>\n",
       "      <th>OriginalImagePixelSpacing_y</th>\n",
       "    </tr>\n",
       "  </thead>\n",
       "  <tbody>\n",
       "    <tr>\n",
       "      <th>0</th>\n",
       "      <td>00000013_005.png</td>\n",
       "      <td>Emphysema|Infiltration|Pleural_Thickening|Pneu...</td>\n",
       "      <td>5</td>\n",
       "      <td>13</td>\n",
       "      <td>060Y</td>\n",
       "      <td>M</td>\n",
       "      <td>AP</td>\n",
       "      <td>3056</td>\n",
       "      <td>2544</td>\n",
       "      <td>0.139000</td>\n",
       "      <td>0.139000</td>\n",
       "    </tr>\n",
       "    <tr>\n",
       "      <th>1</th>\n",
       "      <td>00000013_026.png</td>\n",
       "      <td>Cardiomegaly|Emphysema</td>\n",
       "      <td>26</td>\n",
       "      <td>13</td>\n",
       "      <td>057Y</td>\n",
       "      <td>M</td>\n",
       "      <td>AP</td>\n",
       "      <td>2500</td>\n",
       "      <td>2048</td>\n",
       "      <td>0.168000</td>\n",
       "      <td>0.168000</td>\n",
       "    </tr>\n",
       "    <tr>\n",
       "      <th>2</th>\n",
       "      <td>00000017_001.png</td>\n",
       "      <td>No Finding</td>\n",
       "      <td>1</td>\n",
       "      <td>17</td>\n",
       "      <td>077Y</td>\n",
       "      <td>M</td>\n",
       "      <td>AP</td>\n",
       "      <td>2500</td>\n",
       "      <td>2048</td>\n",
       "      <td>0.168000</td>\n",
       "      <td>0.168000</td>\n",
       "    </tr>\n",
       "    <tr>\n",
       "      <th>3</th>\n",
       "      <td>00000030_001.png</td>\n",
       "      <td>Atelectasis</td>\n",
       "      <td>1</td>\n",
       "      <td>30</td>\n",
       "      <td>079Y</td>\n",
       "      <td>M</td>\n",
       "      <td>PA</td>\n",
       "      <td>2992</td>\n",
       "      <td>2991</td>\n",
       "      <td>0.143000</td>\n",
       "      <td>0.143000</td>\n",
       "    </tr>\n",
       "    <tr>\n",
       "      <th>4</th>\n",
       "      <td>00000032_001.png</td>\n",
       "      <td>Cardiomegaly|Edema|Effusion</td>\n",
       "      <td>1</td>\n",
       "      <td>32</td>\n",
       "      <td>055Y</td>\n",
       "      <td>F</td>\n",
       "      <td>AP</td>\n",
       "      <td>2500</td>\n",
       "      <td>2048</td>\n",
       "      <td>0.168000</td>\n",
       "      <td>0.168000</td>\n",
       "    </tr>\n",
       "    <tr>\n",
       "      <th>...</th>\n",
       "      <td>...</td>\n",
       "      <td>...</td>\n",
       "      <td>...</td>\n",
       "      <td>...</td>\n",
       "      <td>...</td>\n",
       "      <td>...</td>\n",
       "      <td>...</td>\n",
       "      <td>...</td>\n",
       "      <td>...</td>\n",
       "      <td>...</td>\n",
       "      <td>...</td>\n",
       "    </tr>\n",
       "    <tr>\n",
       "      <th>5601</th>\n",
       "      <td>00030712_000.png</td>\n",
       "      <td>No Finding</td>\n",
       "      <td>0</td>\n",
       "      <td>30712</td>\n",
       "      <td>058Y</td>\n",
       "      <td>M</td>\n",
       "      <td>PA</td>\n",
       "      <td>2021</td>\n",
       "      <td>2021</td>\n",
       "      <td>0.194311</td>\n",
       "      <td>0.194311</td>\n",
       "    </tr>\n",
       "    <tr>\n",
       "      <th>5602</th>\n",
       "      <td>00030786_005.png</td>\n",
       "      <td>Cardiomegaly|Effusion|Emphysema</td>\n",
       "      <td>5</td>\n",
       "      <td>30786</td>\n",
       "      <td>061Y</td>\n",
       "      <td>F</td>\n",
       "      <td>AP</td>\n",
       "      <td>3056</td>\n",
       "      <td>2544</td>\n",
       "      <td>0.139000</td>\n",
       "      <td>0.139000</td>\n",
       "    </tr>\n",
       "    <tr>\n",
       "      <th>5603</th>\n",
       "      <td>00030789_000.png</td>\n",
       "      <td>Infiltration</td>\n",
       "      <td>0</td>\n",
       "      <td>30789</td>\n",
       "      <td>052Y</td>\n",
       "      <td>F</td>\n",
       "      <td>PA</td>\n",
       "      <td>2021</td>\n",
       "      <td>2021</td>\n",
       "      <td>0.194311</td>\n",
       "      <td>0.194311</td>\n",
       "    </tr>\n",
       "    <tr>\n",
       "      <th>5604</th>\n",
       "      <td>00030792_000.png</td>\n",
       "      <td>No Finding</td>\n",
       "      <td>0</td>\n",
       "      <td>30792</td>\n",
       "      <td>010Y</td>\n",
       "      <td>F</td>\n",
       "      <td>PA</td>\n",
       "      <td>1775</td>\n",
       "      <td>1712</td>\n",
       "      <td>0.194311</td>\n",
       "      <td>0.194311</td>\n",
       "    </tr>\n",
       "    <tr>\n",
       "      <th>5605</th>\n",
       "      <td>00030797_000.png</td>\n",
       "      <td>No Finding</td>\n",
       "      <td>0</td>\n",
       "      <td>30797</td>\n",
       "      <td>024Y</td>\n",
       "      <td>M</td>\n",
       "      <td>PA</td>\n",
       "      <td>2021</td>\n",
       "      <td>2021</td>\n",
       "      <td>0.194311</td>\n",
       "      <td>0.194311</td>\n",
       "    </tr>\n",
       "  </tbody>\n",
       "</table>\n",
       "<p>5606 rows × 11 columns</p>\n",
       "</div>"
      ],
      "text/plain": [
       "           Image Index                                     Finding Labels  \\\n",
       "0     00000013_005.png  Emphysema|Infiltration|Pleural_Thickening|Pneu...   \n",
       "1     00000013_026.png                             Cardiomegaly|Emphysema   \n",
       "2     00000017_001.png                                         No Finding   \n",
       "3     00000030_001.png                                        Atelectasis   \n",
       "4     00000032_001.png                        Cardiomegaly|Edema|Effusion   \n",
       "...                ...                                                ...   \n",
       "5601  00030712_000.png                                         No Finding   \n",
       "5602  00030786_005.png                    Cardiomegaly|Effusion|Emphysema   \n",
       "5603  00030789_000.png                                       Infiltration   \n",
       "5604  00030792_000.png                                         No Finding   \n",
       "5605  00030797_000.png                                         No Finding   \n",
       "\n",
       "      Follow-up #  Patient ID Patient Age Patient Gender View Position  \\\n",
       "0               5          13        060Y              M            AP   \n",
       "1              26          13        057Y              M            AP   \n",
       "2               1          17        077Y              M            AP   \n",
       "3               1          30        079Y              M            PA   \n",
       "4               1          32        055Y              F            AP   \n",
       "...           ...         ...         ...            ...           ...   \n",
       "5601            0       30712        058Y              M            PA   \n",
       "5602            5       30786        061Y              F            AP   \n",
       "5603            0       30789        052Y              F            PA   \n",
       "5604            0       30792        010Y              F            PA   \n",
       "5605            0       30797        024Y              M            PA   \n",
       "\n",
       "      OriginalImageWidth  OriginalImageHeight  OriginalImagePixelSpacing_x  \\\n",
       "0                   3056                 2544                     0.139000   \n",
       "1                   2500                 2048                     0.168000   \n",
       "2                   2500                 2048                     0.168000   \n",
       "3                   2992                 2991                     0.143000   \n",
       "4                   2500                 2048                     0.168000   \n",
       "...                  ...                  ...                          ...   \n",
       "5601                2021                 2021                     0.194311   \n",
       "5602                3056                 2544                     0.139000   \n",
       "5603                2021                 2021                     0.194311   \n",
       "5604                1775                 1712                     0.194311   \n",
       "5605                2021                 2021                     0.194311   \n",
       "\n",
       "      OriginalImagePixelSpacing_y  \n",
       "0                        0.139000  \n",
       "1                        0.168000  \n",
       "2                        0.168000  \n",
       "3                        0.143000  \n",
       "4                        0.168000  \n",
       "...                           ...  \n",
       "5601                     0.194311  \n",
       "5602                     0.139000  \n",
       "5603                     0.194311  \n",
       "5604                     0.194311  \n",
       "5605                     0.194311  \n",
       "\n",
       "[5606 rows x 11 columns]"
      ]
     },
     "execution_count": 2,
     "metadata": {},
     "output_type": "execute_result"
    }
   ],
   "source": [
    "data = pd.read_csv('../input/sample/sample_labels.csv')\n",
    "dataframe = pd.DataFrame(data)\n",
    "dataframe"
   ]
  },
  {
   "cell_type": "code",
   "execution_count": 3,
   "metadata": {
    "_cell_guid": "ef022477-fc49-4e68-b13c-ea30c3e66985",
    "_uuid": "36d12f5c-7276-4154-8270-d8f7aef42194",
    "collapsed": false,
    "execution": {
     "iopub.execute_input": "2024-08-30T10:59:15.727743Z",
     "iopub.status.busy": "2024-08-30T10:59:15.727102Z",
     "iopub.status.idle": "2024-08-30T10:59:15.757453Z",
     "shell.execute_reply": "2024-08-30T10:59:15.756929Z",
     "shell.execute_reply.started": "2024-08-30T09:28:15.052549Z"
    },
    "jupyter": {
     "outputs_hidden": false
    },
    "papermill": {
     "duration": 0.075017,
     "end_time": "2024-08-30T10:59:15.757589",
     "exception": false,
     "start_time": "2024-08-30T10:59:15.682572",
     "status": "completed"
    },
    "tags": []
   },
   "outputs": [
    {
     "data": {
      "text/html": [
       "<div>\n",
       "<style scoped>\n",
       "    .dataframe tbody tr th:only-of-type {\n",
       "        vertical-align: middle;\n",
       "    }\n",
       "\n",
       "    .dataframe tbody tr th {\n",
       "        vertical-align: top;\n",
       "    }\n",
       "\n",
       "    .dataframe thead th {\n",
       "        text-align: right;\n",
       "    }\n",
       "</style>\n",
       "<table border=\"1\" class=\"dataframe\">\n",
       "  <thead>\n",
       "    <tr style=\"text-align: right;\">\n",
       "      <th></th>\n",
       "      <th>Image Index</th>\n",
       "      <th>Finding Labels</th>\n",
       "      <th>Follow-up #</th>\n",
       "      <th>Patient ID</th>\n",
       "      <th>Patient Age</th>\n",
       "      <th>Patient Gender</th>\n",
       "      <th>View Position</th>\n",
       "      <th>OriginalImageWidth</th>\n",
       "      <th>OriginalImageHeight</th>\n",
       "      <th>OriginalImagePixelSpacing_x</th>\n",
       "      <th>OriginalImagePixelSpacing_y</th>\n",
       "    </tr>\n",
       "  </thead>\n",
       "  <tbody>\n",
       "    <tr>\n",
       "      <th>0</th>\n",
       "      <td>00000013_005.png</td>\n",
       "      <td>Emphysema|Infiltration|Pleural_Thickening|Pneu...</td>\n",
       "      <td>5</td>\n",
       "      <td>13</td>\n",
       "      <td>060Y</td>\n",
       "      <td>M</td>\n",
       "      <td>AP</td>\n",
       "      <td>3056</td>\n",
       "      <td>2544</td>\n",
       "      <td>0.139</td>\n",
       "      <td>0.139</td>\n",
       "    </tr>\n",
       "    <tr>\n",
       "      <th>1</th>\n",
       "      <td>00000013_026.png</td>\n",
       "      <td>Cardiomegaly|Emphysema</td>\n",
       "      <td>26</td>\n",
       "      <td>13</td>\n",
       "      <td>057Y</td>\n",
       "      <td>M</td>\n",
       "      <td>AP</td>\n",
       "      <td>2500</td>\n",
       "      <td>2048</td>\n",
       "      <td>0.168</td>\n",
       "      <td>0.168</td>\n",
       "    </tr>\n",
       "    <tr>\n",
       "      <th>2</th>\n",
       "      <td>00000017_001.png</td>\n",
       "      <td>No Finding</td>\n",
       "      <td>1</td>\n",
       "      <td>17</td>\n",
       "      <td>077Y</td>\n",
       "      <td>M</td>\n",
       "      <td>AP</td>\n",
       "      <td>2500</td>\n",
       "      <td>2048</td>\n",
       "      <td>0.168</td>\n",
       "      <td>0.168</td>\n",
       "    </tr>\n",
       "    <tr>\n",
       "      <th>3</th>\n",
       "      <td>00000030_001.png</td>\n",
       "      <td>Atelectasis</td>\n",
       "      <td>1</td>\n",
       "      <td>30</td>\n",
       "      <td>079Y</td>\n",
       "      <td>M</td>\n",
       "      <td>PA</td>\n",
       "      <td>2992</td>\n",
       "      <td>2991</td>\n",
       "      <td>0.143</td>\n",
       "      <td>0.143</td>\n",
       "    </tr>\n",
       "    <tr>\n",
       "      <th>4</th>\n",
       "      <td>00000032_001.png</td>\n",
       "      <td>Cardiomegaly|Edema|Effusion</td>\n",
       "      <td>1</td>\n",
       "      <td>32</td>\n",
       "      <td>055Y</td>\n",
       "      <td>F</td>\n",
       "      <td>AP</td>\n",
       "      <td>2500</td>\n",
       "      <td>2048</td>\n",
       "      <td>0.168</td>\n",
       "      <td>0.168</td>\n",
       "    </tr>\n",
       "  </tbody>\n",
       "</table>\n",
       "</div>"
      ],
      "text/plain": [
       "        Image Index                                     Finding Labels  \\\n",
       "0  00000013_005.png  Emphysema|Infiltration|Pleural_Thickening|Pneu...   \n",
       "1  00000013_026.png                             Cardiomegaly|Emphysema   \n",
       "2  00000017_001.png                                         No Finding   \n",
       "3  00000030_001.png                                        Atelectasis   \n",
       "4  00000032_001.png                        Cardiomegaly|Edema|Effusion   \n",
       "\n",
       "   Follow-up #  Patient ID Patient Age Patient Gender View Position  \\\n",
       "0            5          13        060Y              M            AP   \n",
       "1           26          13        057Y              M            AP   \n",
       "2            1          17        077Y              M            AP   \n",
       "3            1          30        079Y              M            PA   \n",
       "4            1          32        055Y              F            AP   \n",
       "\n",
       "   OriginalImageWidth  OriginalImageHeight  OriginalImagePixelSpacing_x  \\\n",
       "0                3056                 2544                        0.139   \n",
       "1                2500                 2048                        0.168   \n",
       "2                2500                 2048                        0.168   \n",
       "3                2992                 2991                        0.143   \n",
       "4                2500                 2048                        0.168   \n",
       "\n",
       "   OriginalImagePixelSpacing_y  \n",
       "0                        0.139  \n",
       "1                        0.168  \n",
       "2                        0.168  \n",
       "3                        0.143  \n",
       "4                        0.168  "
      ]
     },
     "execution_count": 3,
     "metadata": {},
     "output_type": "execute_result"
    }
   ],
   "source": [
    "data = pd.read_csv('../input/sample/sample_labels.csv')\n",
    "data.head()"
   ]
  },
  {
   "cell_type": "code",
   "execution_count": 4,
   "metadata": {
    "_cell_guid": "93338e1e-4a35-4f26-97c3-27e2ad6120eb",
    "_uuid": "b83f75a1-2afd-40f0-829f-d5094b202c3a",
    "collapsed": false,
    "execution": {
     "iopub.execute_input": "2024-08-30T10:59:15.845176Z",
     "iopub.status.busy": "2024-08-30T10:59:15.844564Z",
     "iopub.status.idle": "2024-08-30T10:59:18.693735Z",
     "shell.execute_reply": "2024-08-30T10:59:18.693131Z",
     "shell.execute_reply.started": "2024-08-30T09:28:22.067358Z"
    },
    "jupyter": {
     "outputs_hidden": false
    },
    "papermill": {
     "duration": 2.89599,
     "end_time": "2024-08-30T10:59:18.693853",
     "exception": false,
     "start_time": "2024-08-30T10:59:15.797863",
     "status": "completed"
    },
    "tags": []
   },
   "outputs": [
    {
     "data": {
      "text/html": [
       "        <script type=\"text/javascript\">\n",
       "        window.PlotlyConfig = {MathJaxConfig: 'local'};\n",
       "        if (window.MathJax) {MathJax.Hub.Config({SVG: {font: \"STIX-Web\"}});}\n",
       "        if (typeof require !== 'undefined') {\n",
       "        require.undef(\"plotly\");\n",
       "        requirejs.config({\n",
       "            paths: {\n",
       "                'plotly': ['https://cdn.plot.ly/plotly-latest.min']\n",
       "            }\n",
       "        });\n",
       "        require(['plotly'], function(Plotly) {\n",
       "            window._Plotly = Plotly;\n",
       "        });\n",
       "        }\n",
       "        </script>\n",
       "        "
      ]
     },
     "metadata": {},
     "output_type": "display_data"
    },
    {
     "data": {
      "text/html": [
       "<div>                            <div id=\"45570fb3-2ebb-44a6-b6b3-1b09fbcdf741\" class=\"plotly-graph-div\" style=\"height:525px; width:100%;\"></div>            <script type=\"text/javascript\">                require([\"plotly\"], function(Plotly) {                    window.PLOTLYENV=window.PLOTLYENV || {};                                    if (document.getElementById(\"45570fb3-2ebb-44a6-b6b3-1b09fbcdf741\")) {                    Plotly.newPlot(                        \"45570fb3-2ebb-44a6-b6b3-1b09fbcdf741\",                        [{\"alignmentgroup\": \"True\", \"hovertemplate\": \"variable=Patient Gender<br>index=%{x}<br>value=%{y}<extra></extra>\", \"legendgroup\": \"Patient Gender\", \"marker\": {\"color\": \"#636efa\"}, \"name\": \"Patient Gender\", \"offsetgroup\": \"Patient Gender\", \"orientation\": \"v\", \"showlegend\": true, \"textposition\": \"auto\", \"type\": \"bar\", \"x\": [\"M\", \"F\"], \"xaxis\": \"x\", \"y\": [3134, 2472], \"yaxis\": \"y\"}],                        {\"barmode\": \"relative\", \"legend\": {\"title\": {\"text\": \"variable\"}, \"tracegroupgap\": 0}, \"margin\": {\"t\": 60}, \"template\": {\"data\": {\"bar\": [{\"error_x\": {\"color\": \"#2a3f5f\"}, \"error_y\": {\"color\": \"#2a3f5f\"}, \"marker\": {\"line\": {\"color\": \"#E5ECF6\", \"width\": 0.5}}, \"type\": \"bar\"}], \"barpolar\": [{\"marker\": {\"line\": {\"color\": \"#E5ECF6\", \"width\": 0.5}}, \"type\": \"barpolar\"}], \"carpet\": [{\"aaxis\": {\"endlinecolor\": \"#2a3f5f\", \"gridcolor\": \"white\", \"linecolor\": \"white\", \"minorgridcolor\": \"white\", \"startlinecolor\": \"#2a3f5f\"}, \"baxis\": {\"endlinecolor\": \"#2a3f5f\", \"gridcolor\": \"white\", \"linecolor\": \"white\", \"minorgridcolor\": \"white\", \"startlinecolor\": \"#2a3f5f\"}, \"type\": \"carpet\"}], \"choropleth\": [{\"colorbar\": {\"outlinewidth\": 0, \"ticks\": \"\"}, \"type\": \"choropleth\"}], \"contour\": [{\"colorbar\": {\"outlinewidth\": 0, \"ticks\": \"\"}, \"colorscale\": [[0.0, \"#0d0887\"], [0.1111111111111111, \"#46039f\"], [0.2222222222222222, \"#7201a8\"], [0.3333333333333333, \"#9c179e\"], [0.4444444444444444, \"#bd3786\"], [0.5555555555555556, \"#d8576b\"], [0.6666666666666666, \"#ed7953\"], [0.7777777777777778, \"#fb9f3a\"], [0.8888888888888888, \"#fdca26\"], [1.0, \"#f0f921\"]], \"type\": \"contour\"}], \"contourcarpet\": [{\"colorbar\": {\"outlinewidth\": 0, \"ticks\": \"\"}, \"type\": \"contourcarpet\"}], \"heatmap\": [{\"colorbar\": {\"outlinewidth\": 0, \"ticks\": \"\"}, \"colorscale\": [[0.0, \"#0d0887\"], [0.1111111111111111, \"#46039f\"], [0.2222222222222222, \"#7201a8\"], [0.3333333333333333, \"#9c179e\"], [0.4444444444444444, \"#bd3786\"], [0.5555555555555556, \"#d8576b\"], [0.6666666666666666, \"#ed7953\"], [0.7777777777777778, \"#fb9f3a\"], [0.8888888888888888, \"#fdca26\"], [1.0, \"#f0f921\"]], \"type\": \"heatmap\"}], \"heatmapgl\": [{\"colorbar\": {\"outlinewidth\": 0, \"ticks\": \"\"}, \"colorscale\": [[0.0, \"#0d0887\"], [0.1111111111111111, \"#46039f\"], [0.2222222222222222, \"#7201a8\"], [0.3333333333333333, \"#9c179e\"], [0.4444444444444444, \"#bd3786\"], [0.5555555555555556, \"#d8576b\"], [0.6666666666666666, \"#ed7953\"], [0.7777777777777778, \"#fb9f3a\"], [0.8888888888888888, \"#fdca26\"], [1.0, \"#f0f921\"]], \"type\": \"heatmapgl\"}], \"histogram\": [{\"marker\": {\"colorbar\": {\"outlinewidth\": 0, \"ticks\": \"\"}}, \"type\": \"histogram\"}], \"histogram2d\": [{\"colorbar\": {\"outlinewidth\": 0, \"ticks\": \"\"}, \"colorscale\": [[0.0, \"#0d0887\"], [0.1111111111111111, \"#46039f\"], [0.2222222222222222, \"#7201a8\"], [0.3333333333333333, \"#9c179e\"], [0.4444444444444444, \"#bd3786\"], [0.5555555555555556, \"#d8576b\"], [0.6666666666666666, \"#ed7953\"], [0.7777777777777778, \"#fb9f3a\"], [0.8888888888888888, \"#fdca26\"], [1.0, \"#f0f921\"]], \"type\": \"histogram2d\"}], \"histogram2dcontour\": [{\"colorbar\": {\"outlinewidth\": 0, \"ticks\": \"\"}, \"colorscale\": [[0.0, \"#0d0887\"], [0.1111111111111111, \"#46039f\"], [0.2222222222222222, \"#7201a8\"], [0.3333333333333333, \"#9c179e\"], [0.4444444444444444, \"#bd3786\"], [0.5555555555555556, \"#d8576b\"], [0.6666666666666666, \"#ed7953\"], [0.7777777777777778, \"#fb9f3a\"], [0.8888888888888888, \"#fdca26\"], [1.0, \"#f0f921\"]], \"type\": \"histogram2dcontour\"}], \"mesh3d\": [{\"colorbar\": {\"outlinewidth\": 0, \"ticks\": \"\"}, \"type\": \"mesh3d\"}], \"parcoords\": [{\"line\": {\"colorbar\": {\"outlinewidth\": 0, \"ticks\": \"\"}}, \"type\": \"parcoords\"}], \"pie\": [{\"automargin\": true, \"type\": \"pie\"}], \"scatter\": [{\"marker\": {\"colorbar\": {\"outlinewidth\": 0, \"ticks\": \"\"}}, \"type\": \"scatter\"}], \"scatter3d\": [{\"line\": {\"colorbar\": {\"outlinewidth\": 0, \"ticks\": \"\"}}, \"marker\": {\"colorbar\": {\"outlinewidth\": 0, \"ticks\": \"\"}}, \"type\": \"scatter3d\"}], \"scattercarpet\": [{\"marker\": {\"colorbar\": {\"outlinewidth\": 0, \"ticks\": \"\"}}, \"type\": \"scattercarpet\"}], \"scattergeo\": [{\"marker\": {\"colorbar\": {\"outlinewidth\": 0, \"ticks\": \"\"}}, \"type\": \"scattergeo\"}], \"scattergl\": [{\"marker\": {\"colorbar\": {\"outlinewidth\": 0, \"ticks\": \"\"}}, \"type\": \"scattergl\"}], \"scattermapbox\": [{\"marker\": {\"colorbar\": {\"outlinewidth\": 0, \"ticks\": \"\"}}, \"type\": \"scattermapbox\"}], \"scatterpolar\": [{\"marker\": {\"colorbar\": {\"outlinewidth\": 0, \"ticks\": \"\"}}, \"type\": \"scatterpolar\"}], \"scatterpolargl\": [{\"marker\": {\"colorbar\": {\"outlinewidth\": 0, \"ticks\": \"\"}}, \"type\": \"scatterpolargl\"}], \"scatterternary\": [{\"marker\": {\"colorbar\": {\"outlinewidth\": 0, \"ticks\": \"\"}}, \"type\": \"scatterternary\"}], \"surface\": [{\"colorbar\": {\"outlinewidth\": 0, \"ticks\": \"\"}, \"colorscale\": [[0.0, \"#0d0887\"], [0.1111111111111111, \"#46039f\"], [0.2222222222222222, \"#7201a8\"], [0.3333333333333333, \"#9c179e\"], [0.4444444444444444, \"#bd3786\"], [0.5555555555555556, \"#d8576b\"], [0.6666666666666666, \"#ed7953\"], [0.7777777777777778, \"#fb9f3a\"], [0.8888888888888888, \"#fdca26\"], [1.0, \"#f0f921\"]], \"type\": \"surface\"}], \"table\": [{\"cells\": {\"fill\": {\"color\": \"#EBF0F8\"}, \"line\": {\"color\": \"white\"}}, \"header\": {\"fill\": {\"color\": \"#C8D4E3\"}, \"line\": {\"color\": \"white\"}}, \"type\": \"table\"}]}, \"layout\": {\"annotationdefaults\": {\"arrowcolor\": \"#2a3f5f\", \"arrowhead\": 0, \"arrowwidth\": 1}, \"autotypenumbers\": \"strict\", \"coloraxis\": {\"colorbar\": {\"outlinewidth\": 0, \"ticks\": \"\"}}, \"colorscale\": {\"diverging\": [[0, \"#8e0152\"], [0.1, \"#c51b7d\"], [0.2, \"#de77ae\"], [0.3, \"#f1b6da\"], [0.4, \"#fde0ef\"], [0.5, \"#f7f7f7\"], [0.6, \"#e6f5d0\"], [0.7, \"#b8e186\"], [0.8, \"#7fbc41\"], [0.9, \"#4d9221\"], [1, \"#276419\"]], \"sequential\": [[0.0, \"#0d0887\"], [0.1111111111111111, \"#46039f\"], [0.2222222222222222, \"#7201a8\"], [0.3333333333333333, \"#9c179e\"], [0.4444444444444444, \"#bd3786\"], [0.5555555555555556, \"#d8576b\"], [0.6666666666666666, \"#ed7953\"], [0.7777777777777778, \"#fb9f3a\"], [0.8888888888888888, \"#fdca26\"], [1.0, \"#f0f921\"]], \"sequentialminus\": [[0.0, \"#0d0887\"], [0.1111111111111111, \"#46039f\"], [0.2222222222222222, \"#7201a8\"], [0.3333333333333333, \"#9c179e\"], [0.4444444444444444, \"#bd3786\"], [0.5555555555555556, \"#d8576b\"], [0.6666666666666666, \"#ed7953\"], [0.7777777777777778, \"#fb9f3a\"], [0.8888888888888888, \"#fdca26\"], [1.0, \"#f0f921\"]]}, \"colorway\": [\"#636efa\", \"#EF553B\", \"#00cc96\", \"#ab63fa\", \"#FFA15A\", \"#19d3f3\", \"#FF6692\", \"#B6E880\", \"#FF97FF\", \"#FECB52\"], \"font\": {\"color\": \"#2a3f5f\"}, \"geo\": {\"bgcolor\": \"white\", \"lakecolor\": \"white\", \"landcolor\": \"#E5ECF6\", \"showlakes\": true, \"showland\": true, \"subunitcolor\": \"white\"}, \"hoverlabel\": {\"align\": \"left\"}, \"hovermode\": \"closest\", \"mapbox\": {\"style\": \"light\"}, \"paper_bgcolor\": \"white\", \"plot_bgcolor\": \"#E5ECF6\", \"polar\": {\"angularaxis\": {\"gridcolor\": \"white\", \"linecolor\": \"white\", \"ticks\": \"\"}, \"bgcolor\": \"#E5ECF6\", \"radialaxis\": {\"gridcolor\": \"white\", \"linecolor\": \"white\", \"ticks\": \"\"}}, \"scene\": {\"xaxis\": {\"backgroundcolor\": \"#E5ECF6\", \"gridcolor\": \"white\", \"gridwidth\": 2, \"linecolor\": \"white\", \"showbackground\": true, \"ticks\": \"\", \"zerolinecolor\": \"white\"}, \"yaxis\": {\"backgroundcolor\": \"#E5ECF6\", \"gridcolor\": \"white\", \"gridwidth\": 2, \"linecolor\": \"white\", \"showbackground\": true, \"ticks\": \"\", \"zerolinecolor\": \"white\"}, \"zaxis\": {\"backgroundcolor\": \"#E5ECF6\", \"gridcolor\": \"white\", \"gridwidth\": 2, \"linecolor\": \"white\", \"showbackground\": true, \"ticks\": \"\", \"zerolinecolor\": \"white\"}}, \"shapedefaults\": {\"line\": {\"color\": \"#2a3f5f\"}}, \"ternary\": {\"aaxis\": {\"gridcolor\": \"white\", \"linecolor\": \"white\", \"ticks\": \"\"}, \"baxis\": {\"gridcolor\": \"white\", \"linecolor\": \"white\", \"ticks\": \"\"}, \"bgcolor\": \"#E5ECF6\", \"caxis\": {\"gridcolor\": \"white\", \"linecolor\": \"white\", \"ticks\": \"\"}}, \"title\": {\"x\": 0.05}, \"xaxis\": {\"automargin\": true, \"gridcolor\": \"white\", \"linecolor\": \"white\", \"ticks\": \"\", \"title\": {\"standoff\": 15}, \"zerolinecolor\": \"white\", \"zerolinewidth\": 2}, \"yaxis\": {\"automargin\": true, \"gridcolor\": \"white\", \"linecolor\": \"white\", \"ticks\": \"\", \"title\": {\"standoff\": 15}, \"zerolinecolor\": \"white\", \"zerolinewidth\": 2}}}, \"xaxis\": {\"anchor\": \"y\", \"domain\": [0.0, 1.0], \"title\": {\"text\": \"index\"}}, \"yaxis\": {\"anchor\": \"x\", \"domain\": [0.0, 1.0], \"title\": {\"text\": \"value\"}}},                        {\"responsive\": true}                    ).then(function(){\n",
       "                            \n",
       "var gd = document.getElementById('45570fb3-2ebb-44a6-b6b3-1b09fbcdf741');\n",
       "var x = new MutationObserver(function (mutations, observer) {{\n",
       "        var display = window.getComputedStyle(gd).display;\n",
       "        if (!display || display === 'none') {{\n",
       "            console.log([gd, 'removed!']);\n",
       "            Plotly.purge(gd);\n",
       "            observer.disconnect();\n",
       "        }}\n",
       "}});\n",
       "\n",
       "// Listen for the removal of the full notebook cells\n",
       "var notebookContainer = gd.closest('#notebook-container');\n",
       "if (notebookContainer) {{\n",
       "    x.observe(notebookContainer, {childList: true});\n",
       "}}\n",
       "\n",
       "// Listen for the clearing of the current output cell\n",
       "var outputEl = gd.closest('.output');\n",
       "if (outputEl) {{\n",
       "    x.observe(outputEl, {childList: true});\n",
       "}}\n",
       "\n",
       "                        })                };                });            </script>        </div>"
      ]
     },
     "metadata": {},
     "output_type": "display_data"
    }
   ],
   "source": [
    "data['Patient Gender'].value_counts().plot.bar()"
   ]
  },
  {
   "cell_type": "code",
   "execution_count": 5,
   "metadata": {
    "_cell_guid": "7e8786bd-dda5-418b-b297-d3c3a648a35f",
    "_uuid": "e27fceda-e8a6-4417-a845-91e7a59e9457",
    "collapsed": false,
    "execution": {
     "iopub.execute_input": "2024-08-30T10:59:18.798383Z",
     "iopub.status.busy": "2024-08-30T10:59:18.795540Z",
     "iopub.status.idle": "2024-08-30T10:59:19.016849Z",
     "shell.execute_reply": "2024-08-30T10:59:19.016292Z",
     "shell.execute_reply.started": "2024-08-30T09:28:37.569955Z"
    },
    "jupyter": {
     "outputs_hidden": false
    },
    "papermill": {
     "duration": 0.281974,
     "end_time": "2024-08-30T10:59:19.016959",
     "exception": false,
     "start_time": "2024-08-30T10:59:18.734985",
     "status": "completed"
    },
    "tags": []
   },
   "outputs": [
    {
     "data": {
      "text/html": [
       "<div>                            <div id=\"0c7ce771-9cf9-4aad-bcd5-d93e406ea7d1\" class=\"plotly-graph-div\" style=\"height:525px; width:100%;\"></div>            <script type=\"text/javascript\">                require([\"plotly\"], function(Plotly) {                    window.PLOTLYENV=window.PLOTLYENV || {};                                    if (document.getElementById(\"0c7ce771-9cf9-4aad-bcd5-d93e406ea7d1\")) {                    Plotly.newPlot(                        \"0c7ce771-9cf9-4aad-bcd5-d93e406ea7d1\",                        [{\"alignmentgroup\": \"True\", \"bingroup\": \"x\", \"hovertemplate\": \"variable=Patient Age<br>value=%{x}<br>count=%{y}<extra></extra>\", \"legendgroup\": \"Patient Age\", \"marker\": {\"color\": \"#636efa\"}, \"name\": \"Patient Age\", \"offsetgroup\": \"Patient Age\", \"orientation\": \"v\", \"showlegend\": true, \"type\": \"histogram\", \"x\": [60, 57, 77, 79, 55, 68, 71, 71, 77, 77, 77, 63, 67, 56, 57, 67, 56, 58, 60, 75, 75, 75, 75, 73, 54, 56, 60, 56, 78, 60, 60, 47, 50, 50, 45, 84, 30, 56, 45, 49, 61, 69, 51, 51, 51, 51, 44, 87, 50, 44, 59, 49, 45, 31, 64, 57, 53, 77, 54, 31, 69, 82, 72, 46, 63, 55, 80, 48, 21, 68, 38, 75, 77, 72, 49, 46, 45, 62, 56, 54, 52, 31, 31, 31, 23, 57, 64, 58, 37, 22, 32, 51, 51, 48, 49, 46, 38, 64, 64, 55, 63, 70, 65, 61, 40, 78, 60, 50, 53, 70, 57, 58, 58, 59, 59, 48, 49, 70, 49, 40, 58, 50, 59, 65, 64, 69, 54, 55, 72, 50, 67, 70, 72, 57, 42, 41, 28, 35, 65, 34, 46, 51, 61, 40, 66, 62, 42, 19, 67, 62, 41, 68, 41, 39, 39, 52, 68, 74, 22, 56, 22, 58, 45, 56, 63, 63, 40, 58, 58, 63, 40, 41, 31, 40, 26, 19, 22, 24, 58, 73, 42, 53, 52, 78, 78, 59, 59, 59, 58, 85, 69, 50, 45, 46, 55, 67, 62, 59, 45, 44, 45, 57, 57, 68, 55, 51, 53, 52, 16, 56, 73, 64, 68, 26, 32, 67, 67, 42, 48, 53, 29, 67, 33, 38, 38, 40, 41, 46, 13, 13, 13, 59, 48, 38, 29, 54, 54, 35, 37, 77, 62, 57, 57, 57, 57, 57, 58, 58, 21, 17, 61, 46, 48, 20, 54, 58, 58, 59, 60, 60, 59, 59, 78, 52, 48, 57, 58, 60, 30, 31, 30, 14, 51, 54, 55, 55, 55, 13, 66, 17, 62, 56, 70, 20, 26, 56, 20, 54, 57, 65, 55, 55, 55, 55, 51, 57, 30, 16, 51, 54, 56, 19, 39, 29, 50, 30, 43, 22, 12, 22, 63, 50, 34, 16, 47, 53, 58, 13, 42, 46, 67, 47, 28, 59, 59, 9, 79, 49, 32, 59, 48, 57, 47, 47, 44, 57, 56, 65, 56, 56, 62, 48, 49, 49, 50, 50, 50, 50, 70, 12, 13, 13, 41, 52, 43, 43, 55, 59, 22, 23, 51, 40, 33, 12, 19, 57, 22, 62, 59, 43, 19, 66, 51, 67, 73, 67, 64, 56, 59, 51, 72, 17, 11, 48, 58, 42, 42, 42, 61, 60, 57, 58, 65, 42, 41, 43, 44, 27, 62, 57, 80, 50, 30, 64, 46, 35, 53, 48, 49, 67, 68, 40, 59, 64, 60, 55, 52, 48, 55, 45, 37, 67, 51, 41, 63, 61, 37, 36, 50, 81, 81, 81, 72, 70, 66, 58, 21, 56, 46, 21, 68, 61, 70, 70, 39, 37, 69, 11, 47, 62, 62, 62, 62, 62, 22, 51, 57, 44, 60, 36, 62, 27, 25, 27, 54, 59, 14, 58, 62, 18, 57, 45, 46, 55, 57, 48, 51, 58, 28, 28, 48, 51, 56, 58, 18, 18, 21, 38, 58, 64, 51, 34, 38, 73, 74, 75, 75, 47, 35, 54, 27, 48, 59, 55, 44, 51, 75, 42, 40, 76, 76, 55, 27, 24, 26, 62, 51, 35, 51, 51, 39, 39, 50, 60, 66, 14, 80, 70, 62, 49, 62, 31, 32, 13, 24, 24, 25, 32, 44, 47, 47, 58, 57, 69, 50, 35, 47, 65, 56, 70, 19, 56, 39, 63, 53, 54, 46, 46, 46, 64, 50, 49, 49, 41, 40, 45, 47, 17, 52, 54, 56, 31, 47, 64, 64, 55, 51, 34, 49, 41, 45, 51, 58, 58, 58, 54, 66, 43, 41, 63, 83, 83, 63, 36, 37, 37, 38, 33, 33, 55, 84, 53, 35, 50, 45, 45, 57, 57, 75, 61, 61, 61, 61, 62, 50, 30, 40, 39, 35, 47, 47, 40, 58, 43, 44, 44, 62, 45, 70, 54, 53, 65, 16, 42, 61, 61, 49, 34, 61, 64, 39, 50, 69, 70, 75, 44, 52, 51, 11, 53, 64, 62, 62, 58, 58, 58, 58, 58, 41, 38, 41, 58, 58, 60, 60, 8, 49, 52, 52, 61, 6, 42, 22, 75, 48, 55, 66, 39, 42, 48, 52, 85, 23, 23, 48, 57, 48, 22, 22, 22, 19, 15, 59, 60, 55, 33, 53, 51, 18, 19, 46, 50, 52, 54, 58, 70, 47, 56, 60, 71, 43, 51, 53, 55, 69, 70, 43, 29, 63, 63, 29, 40, 60, 41, 41, 63, 47, 35, 61, 49, 52, 52, 52, 49, 62, 34, 34, 54, 55, 18, 21, 72, 81, 25, 74, 12, 59, 63, 60, 62, 28, 42, 43, 74, 56, 60, 58, 59, 40, 39, 45, 66, 34, 36, 29, 65, 41, 22, 63, 41, 41, 31, 31, 49, 44, 47, 32, 55, 64, 50, 59, 61, 61, 63, 62, 27, 53, 37, 50, 39, 20, 55, 66, 72, 26, 38, 74, 46, 49, 50, 11, 9, 69, 69, 49, 72, 69, 50, 54, 48, 49, 31, 32, 42, 28, 58, 59, 50, 55, 55, 65, 26, 43, 43, 44, 43, 46, 47, 48, 48, 48, 48, 76, 76, 76, 41, 44, 29, 29, 26, 27, 27, 32, 52, 73, 70, 70, 69, 55, 73, 65, 28, 28, 60, 39, 39, 29, 55, 56, 43, 41, 45, 58, 45, 35, 13, 45, 31, 68, 39, 51, 58, 49, 39, 55, 17, 67, 31, 38, 41, 38, 45, 35, 67, 53, 41, 14, 51, 17, 41, 43, 43, 75, 41, 42, 77, 77, 62, 33, 57, 32, 45, 35, 35, 36, 37, 37, 43, 15, 34, 26, 27, 29, 31, 55, 55, 51, 37, 37, 67, 24, 42, 54, 54, 44, 44, 45, 45, 39, 43, 43, 43, 32, 48, 65, 28, 29, 30, 32, 32, 34, 51, 54, 53, 49, 48, 57, 55, 51, 26, 71, 18, 78, 78, 27, 69, 33, 58, 79, 44, 45, 51, 12, 54, 37, 39, 38, 51, 60, 59, 48, 49, 49, 50, 54, 54, 55, 50, 26, 36, 38, 56, 44, 21, 56, 53, 61, 33, 33, 81, 56, 11, 12, 56, 6, 40, 38, 38, 38, 38, 78, 78, 41, 64, 36, 48, 52, 52, 11, 50, 21, 58, 36, 37, 48, 69, 64, 65, 40, 47, 47, 51, 40, 13, 47, 47, 67, 67, 52, 72, 72, 28, 35, 35, 51, 34, 35, 63, 23, 43, 57, 59, 60, 60, 69, 63, 33, 33, 58, 54, 47, 70, 26, 82, 23, 52, 57, 57, 56, 50, 19, 41, 36, 55, 60, 53, 16, 16, 53, 19, 57, 59, 31, 54, 72, 61, 38, 49, 46, 46, 74, 74, 74, 26, 45, 45, 18, 29, 33, 33, 33, 66, 32, 32, 38, 20, 63, 64, 60, 60, 47, 9, 21, 24, 62, 63, 63, 63, 50, 35, 44, 35, 66, 71, 35, 26, 35, 43, 23, 45, 37, 31, 45, 53, 35, 54, 56, 54, 51, 44, 36, 27, 60, 33, 22, 52, 64, 43, 35, 33, 33, 69, 72, 41, 2, 61, 61, 61, 20, 38, 58, 18, 21, 40, 39, 20, 54, 56, 57, 47, 49, 38, 66, 6, 41, 37, 37, 53, 55, 34, 38, 59, 59, 57, 57, 53, 44, 59, 20, 42, 40, 40, 40, 40, 40, 40, 40, 46, 6, 15, 15, 15, 50, 51, 64, 67, 18, 67, 49, 72, 47, 53, 53, 65, 52, 24, 85, 45, 45, 40, 9, 58, 34, 66, 34, 34, 46, 31, 49, 39, 52, 67, 75, 37, 60, 21, 49, 51, 52, 52, 51, 34, 55, 45, 45, 46, 45, 57, 59, 59, 59, 53, 53, 22, 49, 38, 61, 53, 23, 46, 41, 53, 24, 46, 56, 29, 29, 44, 29, 59, 61, 43, 44, 53, 51, 51, 31, 55, 50, 48, 84, 35, 62, 62, 18, 72, 22, 32, 32, 32, 26, 21, 37, 54, 52, 35, 56, 53, 48, 48, 34, 52, 13, 48, 53, 55, 78, 34, 67, 35, 38, 46, 66, 48, 49, 5, 49, 20, 35, 64, 55, 35, 35, 69, 69, 44, 44, 70, 45, 45, 65, 51, 66, 50, 52, 30, 30, 31, 46, 34, 43, 68, 50, 62, 62, 62, 55, 61, 61, 50, 73, 45, 15, 45, 45, 29, 21, 28, 28, 55, 31, 31, 30, 30, 30, 54, 56, 46, 51, 61, 16, 35, 42, 70, 77, 48, 36, 38, 38, 38, 55, 54, 62, 46, 46, 57, 50, 53, 54, 48, 64, 36, 36, 48, 59, 58, 67, 48, 48, 60, 49, 49, 38, 49, 8, 53, 55, 55, 34, 72, 52, 52, 25, 23, 40, 69, 68, 68, 68, 68, 68, 68, 41, 55, 41, 29, 64, 64, 56, 43, 40, 36, 40, 52, 12, 54, 66, 64, 14, 53, 59, 26, 5, 48, 35, 35, 39, 45, 59, 52, 65, 24, 62, 6, 53, 53, 53, 40, 16, 27, 65, 66, 66, 42, 54, 42, 53, 23, 43, 43, 47, 32, 59, 24, 24, 27, 15, 25, 25, 57, 57, 11, 49, 46, 45, 45, 47, 61, 61, 80, 34, 22, 27, 34, 59, 59, 70, 44, 31, 32, 29, 21, 38, 48, 54, 66, 52, 39, 40, 65, 65, 65, 36, 10, 10, 52, 64, 47, 49, 50, 58, 59, 45, 50, 39, 57, 63, 33, 57, 52, 35, 41, 46, 47, 47, 62, 53, 37, 19, 30, 53, 62, 34, 21, 24, 24, 24, 23, 23, 24, 26, 26, 15, 19, 64, 50, 62, 13, 56, 57, 43, 31, 49, 49, 49, 49, 54, 56, 39, 31, 44, 44, 44, 57, 58, 31, 63, 32, 70, 32, 24, 23, 16, 53, 76, 37, 49, 34, 23, 55, 28, 44, 58, 60, 60, 41, 81, 50, 46, 64, 57, 27, 34, 66, 66, 55, 18, 53, 33, 41, 46, 59, 59, 49, 56, 36, 42, 79, 32, 47, 54, 53, 42, 59, 53, 41, 56, 62, 27, 49, 56, 60, 67, 37, 58, 58, 58, 14, 67, 11, 11, 30, 16, 48, 25, 52, 49, 29, 30, 60, 61, 61, 62, 31, 73, 18, 36, 34, 34, 24, 63, 59, 61, 37, 37, 37, 58, 21, 53, 40, 60, 46, 54, 48, 46, 46, 46, 47, 26, 35, 35, 30, 33, 22, 77, 55, 40, 18, 35, 46, 50, 68, 33, 61, 62, 50, 26, 67, 55, 46, 51, 34, 44, 54, 49, 48, 49, 51, 51, 56, 38, 82, 20, 20, 54, 71, 54, 57, 57, 41, 64, 63, 63, 64, 41, 21, 62, 56, 21, 54, 56, 17, 53, 41, 48, 40, 40, 72, 72, 52, 71, 46, 68, 68, 68, 63, 52, 85, 48, 68, 3, 38, 40, 40, 58, 37, 24, 25, 25, 26, 46, 78, 40, 34, 55, 23, 23, 23, 66, 50, 46, 46, 46, 47, 30, 18, 24, 39, 54, 70, 62, 44, 57, 57, 37, 83, 60, 57, 31, 45, 80, 57, 57, 40, 36, 54, 46, 40, 40, 42, 48, 14, 14, 57, 53, 28, 36, 58, 18, 60, 60, 74, 81, 73, 62, 62, 29, 89, 19, 57, 61, 50, 54, 56, 55, 56, 57, 30, 45, 17, 65, 65, 47, 30, 30, 30, 55, 55, 65, 40, 25, 64, 66, 55, 71, 50, 60, 60, 53, 54, 49, 49, 51, 13, 14, 14, 14, 14, 14, 66, 65, 10, 54, 50, 55, 26, 51, 34, 26, 27, 32, 5, 73, 51, 52, 66, 24, 56, 58, 33, 61, 40, 70, 40, 66, 58, 24, 25, 55, 62, 62, 62, 62, 41, 49, 36, 36, 53, 49, 56, 56, 56, 56, 69, 21, 76, 54, 56, 57, 57, 57, 54, 54, 51, 37, 44, 44, 63, 71, 45, 58, 58, 58, 58, 58, 58, 58, 59, 59, 59, 59, 53, 53, 53, 53, 64, 66, 66, 32, 61, 58, 58, 71, 46, 49, 49, 50, 51, 51, 66, 71, 64, 37, 44, 49, 52, 25, 47, 49, 37, 55, 58, 73, 47, 61, 45, 48, 28, 27, 17, 41, 32, 44, 50, 50, 50, 50, 50, 53, 32, 62, 67, 45, 67, 51, 79, 49, 53, 31, 31, 32, 13, 48, 26, 14, 36, 36, 17, 16, 57, 58, 54, 47, 58, 60, 50, 20, 50, 69, 47, 62, 23, 44, 43, 51, 42, 5, 64, 53, 55, 28, 28, 45, 44, 46, 56, 58, 59, 48, 45, 41, 38, 37, 39, 28, 28, 22, 26, 48, 33, 67, 70, 63, 66, 56, 39, 66, 32, 34, 26, 55, 57, 57, 66, 66, 59, 59, 56, 57, 6, 51, 58, 36, 45, 45, 36, 40, 45, 20, 21, 37, 8, 25, 28, 60, 74, 74, 74, 48, 41, 52, 52, 34, 10, 51, 81, 54, 61, 62, 56, 58, 58, 27, 70, 54, 36, 36, 32, 70, 56, 56, 56, 59, 7, 7, 7, 8, 8, 65, 51, 65, 65, 66, 67, 68, 68, 45, 45, 56, 27, 63, 45, 3, 46, 59, 59, 35, 71, 67, 61, 51, 50, 50, 46, 39, 57, 56, 57, 39, 71, 76, 33, 58, 16, 51, 31, 32, 72, 72, 55, 86, 56, 69, 33, 43, 43, 66, 82, 60, 61, 46, 61, 44, 47, 47, 51, 50, 9, 28, 40, 40, 40, 67, 59, 54, 51, 24, 14, 53, 54, 48, 60, 56, 55, 34, 73, 35, 45, 44, 44, 56, 56, 66, 76, 24, 31, 42, 34, 54, 55, 39, 39, 35, 34, 35, 57, 37, 9, 9, 10, 9, 10, 9, 10, 68, 60, 32, 39, 39, 39, 25, 32, 40, 62, 10, 24, 60, 73, 63, 53, 54, 27, 37, 54, 67, 39, 39, 17, 16, 16, 16, 28, 45, 31, 44, 51, 27, 54, 57, 45, 49, 42, 18, 52, 45, 9, 9, 9, 42, 42, 43, 3, 49, 14, 57, 47, 56, 58, 54, 75, 75, 75, 76, 34, 34, 30, 30, 49, 49, 57, 57, 57, 48, 44, 42, 52, 55, 44, 60, 60, 60, 60, 62, 51, 61, 25, 26, 26, 26, 26, 21, 73, 62, 65, 65, 66, 66, 38, 38, 22, 48, 44, 23, 35, 58, 56, 64, 14, 14, 16, 16, 44, 65, 55, 37, 55, 57, 49, 49, 49, 54, 53, 66, 17, 56, 56, 56, 64, 44, 44, 60, 19, 65, 65, 47, 79, 41, 62, 24, 53, 43, 43, 51, 44, 67, 54, 54, 54, 54, 54, 54, 54, 54, 50, 55, 48, 85, 54, 21, 21, 79, 22, 34, 18, 61, 54, 6, 82, 54, 3, 58, 71, 71, 24, 25, 25, 25, 25, 25, 25, 59, 33, 33, 43, 43, 43, 46, 48, 48, 51, 34, 60, 43, 10, 17, 18, 68, 40, 41, 44, 63, 63, 63, 47, 41, 12, 46, 51, 57, 50, 50, 51, 25, 30, 43, 31, 21, 21, 23, 20, 20, 20, 47, 11, 59, 62, 52, 62, 83, 42, 35, 29, 56, 56, 60, 48, 56, 21, 63, 45, 29, 61, 9, 10, 68, 53, 19, 49, 56, 56, 37, 61, 15, 18, 19, 68, 69, 42, 56, 38, 34, 52, 52, 51, 53, 44, 39, 63, 46, 43, 45, 62, 71, 51, 52, 44, 44, 15, 15, 15, 33, 32, 54, 54, 33, 51, 30, 64, 26, 29, 65, 39, 17, 18, 19, 59, 59, 7, 68, 2, 53, 49, 64, 64, 59, 32, 22, 23, 30, 51, 51, 51, 51, 65, 66, 66, 70, 58, 37, 58, 58, 60, 7, 69, 58, 60, 60, 63, 59, 36, 60, 52, 63, 67, 73, 42, 46, 39, 28, 30, 57, 25, 39, 21, 50, 35, 54, 33, 33, 33, 33, 33, 33, 34, 39, 40, 40, 40, 40, 32, 63, 61, 61, 62, 63, 64, 65, 70, 67, 22, 50, 52, 42, 50, 61, 44, 66, 47, 47, 51, 55, 55, 35, 58, 32, 27, 41, 42, 33, 34, 65, 37, 37, 54, 54, 54, 74, 27, 30, 69, 60, 44, 10, 68, 40, 69, 70, 24, 19, 20, 21, 50, 61, 65, 22, 18, 18, 50, 39, 38, 27, 55, 61, 60, 59, 64, 41, 74, 74, 39, 25, 37, 58, 13, 14, 15, 15, 15, 15, 57, 53, 67, 41, 62, 56, 17, 49, 34, 54, 61, 47, 29, 28, 62, 41, 42, 62, 76, 52, 44, 57, 45, 57, 58, 51, 17, 19, 46, 63, 64, 50, 53, 76, 47, 16, 43, 52, 17, 40, 66, 61, 61, 61, 61, 60, 27, 60, 46, 47, 47, 61, 61, 75, 16, 16, 48, 48, 48, 48, 10, 10, 10, 10, 11, 60, 63, 63, 44, 46, 63, 62, 66, 66, 66, 66, 60, 39, 10, 39, 11, 62, 58, 33, 53, 64, 55, 55, 56, 56, 56, 56, 56, 56, 56, 47, 49, 49, 49, 49, 53, 57, 35, 48, 67, 65, 57, 47, 46, 31, 76, 77, 77, 28, 21, 21, 63, 63, 58, 15, 36, 44, 74, 41, 37, 37, 60, 60, 38, 40, 53, 47, 58, 39, 43, 36, 21, 42, 53, 55, 55, 55, 55, 56, 52, 53, 59, 31, 55, 60, 63, 64, 59, 59, 58, 72, 37, 71, 32, 32, 60, 60, 41, 43, 44, 59, 54, 55, 54, 58, 58, 58, 45, 19, 30, 46, 46, 66, 66, 66, 66, 67, 47, 25, 60, 60, 61, 46, 47, 49, 49, 45, 71, 42, 14, 64, 49, 37, 22, 26, 60, 29, 39, 39, 54, 54, 16, 26, 28, 28, 15, 63, 62, 64, 53, 46, 46, 55, 51, 55, 59, 59, 59, 59, 59, 39, 39, 53, 31, 63, 55, 59, 57, 27, 29, 29, 31, 30, 31, 31, 31, 31, 57, 27, 28, 62, 32, 68, 60, 60, 61, 69, 33, 58, 57, 24, 24, 24, 61, 18, 64, 65, 67, 28, 68, 42, 51, 56, 24, 44, 19, 19, 6, 52, 65, 61, 64, 43, 41, 37, 62, 26, 62, 51, 35, 35, 50, 51, 52, 52, 28, 47, 56, 57, 57, 35, 52, 53, 56, 62, 54, 54, 65, 67, 70, 38, 62, 62, 64, 36, 36, 46, 70, 32, 56, 79, 43, 22, 36, 58, 73, 43, 78, 78, 77, 74, 53, 32, 27, 44, 45, 36, 60, 58, 63, 56, 57, 57, 67, 67, 43, 62, 62, 59, 59, 60, 55, 53, 63, 45, 59, 57, 39, 68, 54, 38, 52, 60, 51, 55, 24, 36, 11, 34, 34, 52, 66, 20, 66, 67, 67, 57, 57, 22, 57, 62, 16, 61, 30, 30, 66, 67, 58, 81, 56, 71, 17, 61, 61, 61, 26, 62, 62, 66, 39, 45, 45, 50, 25, 56, 42, 55, 55, 19, 27, 3, 40, 40, 40, 41, 26, 65, 32, 42, 29, 29, 29, 71, 25, 26, 27, 27, 53, 53, 53, 53, 66, 30, 68, 53, 54, 54, 23, 69, 64, 75, 38, 39, 58, 57, 76, 52, 64, 65, 67, 32, 47, 55, 36, 66, 37, 82, 62, 89, 61, 24, 58, 17, 55, 46, 27, 53, 76, 51, 31, 35, 44, 44, 44, 39, 59, 72, 68, 51, 41, 41, 44, 75, 75, 61, 58, 58, 58, 17, 58, 37, 38, 39, 39, 40, 32, 51, 51, 61, 63, 62, 52, 53, 61, 39, 14, 63, 53, 80, 59, 20, 20, 21, 21, 21, 21, 15, 52, 36, 45, 45, 53, 53, 4, 43, 56, 56, 59, 59, 61, 39, 61, 32, 32, 32, 17, 17, 18, 18, 18, 18, 22, 65, 66, 66, 66, 42, 45, 14, 52, 38, 38, 64, 54, 35, 44, 52, 47, 44, 43, 61, 44, 44, 54, 48, 48, 48, 48, 48, 32, 57, 50, 65, 66, 66, 28, 67, 68, 37, 30, 63, 49, 57, 60, 57, 27, 75, 32, 32, 32, 32, 66, 41, 65, 38, 54, 46, 46, 47, 53, 65, 41, 69, 69, 45, 42, 71, 35, 20, 61, 54, 55, 65, 52, 27, 58, 30, 30, 57, 58, 65, 56, 57, 74, 74, 57, 60, 24, 25, 25, 66, 66, 49, 49, 49, 46, 43, 43, 20, 16, 18, 59, 53, 54, 54, 42, 67, 54, 54, 81, 33, 46, 49, 43, 66, 57, 57, 61, 59, 59, 24, 27, 51, 32, 53, 53, 53, 54, 54, 43, 59, 38, 37, 59, 46, 48, 43, 33, 51, 44, 56, 58, 42, 42, 39, 60, 40, 36, 36, 28, 32, 47, 47, 48, 66, 55, 66, 54, 6, 7, 36, 44, 47, 7, 58, 64, 65, 51, 51, 51, 51, 51, 51, 52, 73, 73, 28, 29, 61, 18, 19, 19, 64, 22, 65, 48, 48, 48, 46, 28, 57, 31, 6, 64, 64, 12, 63, 24, 57, 30, 31, 32, 54, 37, 46, 55, 57, 75, 46, 40, 55, 38, 25, 61, 61, 61, 79, 80, 47, 57, 40, 31, 33, 51, 25, 26, 27, 30, 44, 23, 23, 23, 51, 51, 43, 69, 66, 50, 58, 70, 55, 26, 77, 52, 47, 58, 58, 52, 51, 41, 36, 53, 54, 28, 61, 43, 64, 64, 63, 24, 58, 58, 58, 78, 65, 43, 43, 43, 28, 65, 69, 45, 62, 31, 14, 66, 10, 43, 29, 21, 21, 63, 39, 69, 68, 47, 42, 66, 68, 55, 50, 38, 64, 65, 44, 41, 42, 53, 53, 53, 48, 48, 23, 23, 23, 24, 24, 24, 24, 24, 24, 31, 31, 28, 61, 59, 46, 58, 60, 10, 57, 57, 70, 49, 55, 61, 60, 46, 46, 46, 46, 38, 11, 14, 50, 22, 81, 18, 53, 45, 24, 35, 66, 19, 39, 29, 52, 39, 64, 65, 65, 45, 53, 49, 57, 14, 27, 47, 47, 28, 25, 55, 11, 12, 12, 12, 12, 12, 41, 42, 65, 53, 53, 55, 73, 66, 22, 43, 45, 67, 63, 36, 22, 56, 67, 30, 63, 46, 35, 35, 40, 47, 31, 41, 41, 22, 67, 67, 58, 89, 48, 48, 38, 73, 60, 49, 62, 41, 31, 36, 63, 60, 61, 58, 26, 27, 44, 44, 20, 20, 20, 20, 19, 62, 59, 19, 29, 31, 52, 47, 39, 39, 36, 33, 33, 33, 34, 63, 61, 53, 32, 51, 24, 48, 28, 26, 12, 52, 47, 47, 47, 48, 48, 48, 40, 31, 32, 44, 31, 22, 40, 49, 45, 45, 46, 46, 70, 71, 22, 33, 77, 45, 27, 58, 15, 15, 15, 20, 43, 44, 44, 59, 60, 39, 32, 45, 45, 61, 38, 45, 49, 49, 49, 43, 40, 67, 60, 67, 68, 46, 34, 53, 53, 59, 64, 64, 64, 64, 64, 69, 41, 41, 57, 34, 34, 23, 34, 34, 67, 65, 30, 31, 43, 28, 33, 57, 54, 56, 56, 55, 42, 32, 32, 5, 43, 21, 59, 54, 47, 34, 31, 44, 59, 36, 6, 6, 6, 46, 71, 72, 29, 17, 55, 50, 52, 26, 42, 37, 58, 41, 68, 67, 75, 63, 8, 43, 28, 27, 64, 69, 49, 94, 47, 64, 57, 57, 62, 57, 59, 20, 54, 38, 64, 64, 38, 50, 41, 42, 52, 52, 71, 58, 47, 47, 70, 56, 69, 70, 65, 62, 33, 34, 55, 52, 19, 15, 38, 38, 48, 54, 51, 47, 64, 50, 55, 3, 28, 56, 55, 56, 78, 57, 57, 53, 31, 74, 69, 31, 63, 51, 55, 32, 61, 44, 44, 44, 44, 58, 19, 17, 17, 63, 63, 57, 57, 63, 24, 49, 52, 58, 18, 17, 55, 55, 24, 21, 21, 21, 50, 54, 36, 69, 71, 71, 33, 33, 53, 62, 59, 43, 43, 43, 43, 44, 63, 7, 55, 50, 44, 37, 37, 57, 78, 28, 44, 44, 42, 16, 16, 34, 35, 13, 34, 78, 34, 33, 23, 27, 27, 45, 12, 66, 25, 49, 52, 53, 53, 51, 51, 40, 44, 40, 35, 69, 60, 57, 67, 68, 66, 66, 66, 65, 57, 62, 63, 72, 43, 36, 69, 70, 64, 31, 26, 30, 41, 54, 54, 55, 61, 12, 37, 61, 20, 21, 35, 30, 36, 55, 55, 55, 59, 21, 40, 38, 41, 55, 49, 33, 33, 58, 55, 41, 28, 50, 47, 62, 50, 59, 31, 58, 40, 43, 79, 71, 49, 47, 66, 46, 43, 55, 30, 14, 44, 60, 60, 11, 34, 40, 41, 49, 49, 49, 49, 53, 56, 56, 57, 57, 63, 54, 47, 42, 42, 31, 67, 25, 76, 75, 49, 55, 11, 34, 58, 58, 33, 65, 66, 32, 32, 18, 51, 61, 61, 57, 40, 40, 71, 30, 54, 72, 71, 37, 37, 37, 39, 30, 48, 73, 72, 59, 59, 58, 46, 43, 50, 36, 29, 62, 36, 36, 71, 22, 62, 30, 49, 54, 34, 35, 22, 22, 47, 76, 44, 65, 58, 61, 5, 64, 74, 52, 52, 62, 39, 7, 8, 50, 50, 63, 82, 6, 6, 40, 55, 58, 63, 5, 51, 62, 45, 82, 51, 61, 53, 64, 65, 66, 64, 18, 18, 63, 39, 44, 82, 38, 38, 31, 44, 44, 22, 61, 25, 50, 50, 52, 67, 49, 51, 66, 59, 57, 57, 51, 51, 62, 21, 35, 67, 72, 72, 72, 72, 72, 55, 63, 26, 42, 48, 26, 26, 52, 38, 66, 56, 64, 57, 57, 61, 61, 26, 39, 38, 60, 60, 60, 26, 26, 27, 27, 27, 27, 27, 66, 26, 18, 18, 47, 36, 28, 76, 50, 19, 42, 21, 21, 21, 48, 48, 49, 49, 45, 45, 45, 46, 46, 45, 59, 71, 60, 56, 29, 25, 45, 59, 59, 59, 55, 54, 54, 54, 25, 29, 29, 29, 29, 29, 24, 46, 52, 24, 25, 24, 38, 37, 47, 78, 56, 51, 52, 59, 53, 53, 72, 70, 56, 30, 47, 76, 54, 59, 22, 47, 41, 39, 39, 32, 32, 69, 51, 51, 52, 75, 60, 61, 55, 50, 50, 50, 18, 54, 40, 20, 24, 83, 29, 71, 22, 28, 71, 23, 53, 52, 56, 27, 32, 54, 37, 58, 75, 11, 48, 48, 70, 45, 34, 34, 34, 52, 56, 52, 62, 62, 83, 53, 45, 43, 30, 71, 62, 18, 17, 24, 34, 34, 34, 33, 38, 52, 27, 68, 62, 59, 40, 26, 29, 66, 64, 32, 65, 65, 43, 43, 31, 21, 35, 23, 53, 48, 48, 57, 66, 66, 53, 43, 65, 65, 65, 65, 66, 66, 25, 69, 56, 45, 50, 50, 51, 50, 30, 64, 35, 54, 19, 19, 19, 19, 19, 19, 19, 40, 67, 48, 56, 43, 43, 43, 43, 48, 68, 63, 48, 42, 58, 81, 54, 65, 65, 65, 30, 29, 43, 51, 34, 34, 47, 63, 61, 61, 31, 37, 38, 22, 22, 69, 67, 14, 64, 44, 26, 54, 38, 39, 54, 54, 60, 72, 72, 44, 26, 25, 60, 79, 46, 45, 45, 46, 45, 47, 53, 53, 35, 51, 54, 65, 62, 21, 60, 42, 45, 45, 21, 24, 31, 69, 17, 71, 44, 26, 20, 41, 10, 8, 7, 35, 31, 54, 54, 37, 37, 52, 34, 38, 39, 37, 59, 59, 52, 55, 43, 46, 18, 58, 62, 48, 61, 7, 52, 37, 63, 63, 56, 49, 70, 18, 7, 51, 68, 55, 22, 59, 59, 46, 24, 51, 57, 47, 32, 31, 27, 28, 19, 67, 22, 39, 73, 73, 73, 54, 50, 50, 39, 68, 67, 66, 47, 72, 65, 66, 60, 58, 58, 58, 47, 37, 75, 75, 24, 20, 22, 64, 59, 24, 54, 54, 54, 38, 28, 68, 51, 52, 14, 43, 51, 52, 52, 48, 61, 35, 66, 61, 69, 19, 19, 62, 71, 71, 38, 38, 18, 50, 28, 72, 75, 53, 55, 49, 49, 49, 49, 49, 46, 58, 7, 27, 53, 52, 73, 67, 26, 30, 74, 50, 29, 62, 55, 66, 45, 62, 45, 26, 57, 17, 45, 44, 54, 43, 76, 51, 48, 39, 40, 61, 70, 33, 58, 60, 72, 30, 71, 9, 9, 9, 46, 48, 36, 60, 61, 39, 39, 52, 51, 66, 54, 28, 52, 53, 34, 38, 63, 63, 56, 56, 27, 63, 63, 63, 67, 67, 29, 30, 37, 39, 25, 25, 34, 21, 50, 43, 43, 55, 68, 20, 20, 63, 63, 55, 54, 49, 50, 56, 49, 47, 31, 64, 69, 59, 37, 31, 27, 28, 40, 21, 47, 29, 35, 66, 35, 43, 13, 55, 79, 27, 27, 50, 65, 50, 23, 33, 30, 30, 52, 48, 47, 47, 21, 40, 66, 60, 39, 40, 35, 67, 67, 67, 67, 67, 67, 34, 50, 27, 50, 34, 82, 81, 83, 61, 36, 54, 53, 56, 57, 33, 56, 54, 58, 43, 29, 17, 22, 61, 38, 27, 63, 37, 61, 30, 32, 55, 55, 39, 28, 29, 31, 55, 26, 23, 37, 21, 29, 32, 30, 23, 51, 22, 37, 57, 39, 48, 30, 29, 28, 31, 29, 50, 28, 42, 33, 51, 34, 35, 41, 31, 31, 47, 49, 38, 44, 37, 23, 51, 53, 54, 27, 57, 40, 31, 20, 25, 44, 38, 25, 40, 26, 36, 51, 32, 1, 23, 25, 38, 41, 40, 53, 27, 34, 27, 33, 62, 21, 56, 30, 56, 62, 34, 29, 38, 36, 28, 34, 37, 65, 46, 29, 33, 50, 39, 63, 47, 64, 33, 45, 66, 27, 72, 60, 60, 54, 54, 54, 51, 47, 65, 34, 21, 28, 29, 29, 30, 30, 30, 30, 30, 30, 54, 37, 45, 45, 43, 63, 67, 67, 71, 52, 37, 59, 58, 51, 54, 58, 58, 42, 42, 39, 32, 43, 36, 56, 59, 53, 44, 55, 57, 67, 41, 20, 21, 62, 32, 53, 62, 66, 15, 58, 56, 24, 71, 46, 55, 44, 44, 59, 16, 67, 35, 35, 51, 27, 42, 42, 23, 44, 14, 51, 46, 45, 60, 65, 65, 52, 22, 76, 68, 42, 42, 64, 63, 57, 16, 57, 60, 60, 53, 50, 20, 59, 59, 63, 57, 27, 27, 28, 42, 67, 49, 61, 36, 37, 51, 20, 28, 29, 25, 49, 28, 58, 58, 58, 58, 26, 41, 44, 58, 33, 60, 51, 45, 24, 70, 63, 57, 57, 5, 41, 42, 41, 26, 52, 20, 26, 71, 63, 53, 46, 60, 44, 33, 49, 30, 51, 45, 67, 35, 55, 18, 56, 23, 24, 20, 59, 50, 67, 72, 6, 29, 29, 29, 29, 29, 64, 46, 72, 47, 18, 26, 26, 11, 46, 24, 38, 38, 59, 40, 52, 27, 27, 62, 34, 37, 46, 46, 59, 27, 71, 51, 51, 41, 40, 51, 58, 70, 63, 58, 46, 49, 28, 87, 56, 77, 53, 25, 54, 71, 51, 51, 39, 23, 55, 58, 55, 41, 64, 32, 46, 46, 47, 55, 37, 37, 45, 39, 32, 53, 68, 37, 60, 50, 50, 44, 62, 62, 56, 45, 73, 53, 67, 43, 36, 37, 63, 38, 55, 55, 55, 55, 55, 37, 37, 31, 50, 34, 37, 52, 32, 58, 22, 22, 44, 43, 20, 22, 48, 79, 64, 10, 38, 38, 69, 26, 62, 42, 42, 20, 27, 44, 26, 56, 40, 54, 57, 64, 55, 55, 57, 58, 38, 64, 60, 60, 29, 65, 65, 7, 37, 52, 65, 65, 30, 51, 59, 59, 29, 38, 22, 25, 60, 60, 21, 82, 82, 73, 73, 73, 73, 73, 73, 73, 73, 37, 66, 48, 69, 55, 55, 49, 57, 46, 59, 61, 40, 48, 36, 52, 52, 52, 39, 62, 15, 15, 20, 36, 65, 72, 19, 9, 23, 23, 23, 23, 23, 55, 56, 56, 55, 53, 35, 51, 66, 49, 71, 78, 38, 52, 46, 75, 75, 14, 50, 34, 15, 57, 26, 64, 50, 50, 49, 49, 49, 75, 29, 57, 38, 58, 35, 71, 21, 21, 21, 58, 58, 58, 58, 58, 58, 58, 63, 66, 27, 21, 21, 47, 2, 55, 39, 40, 50, 50, 48, 40, 46, 47, 64, 67, 67, 28, 63, 54, 61, 36, 28, 57, 61, 48, 48, 25, 58, 45, 46, 45, 29, 23, 58, 53, 62, 62, 29, 48, 36, 45, 24, 35, 51, 51, 67, 63, 20, 17, 27, 55, 68, 57, 39, 64, 64, 44, 65, 55, 35, 59, 31, 21, 25, 56, 70, 27, 51, 53, 54, 62, 62, 23, 44, 20, 52, 52, 47, 30, 65, 59, 33, 54, 42, 36, 58, 70, 5, 60, 32, 64, 64, 65, 64, 48, 48, 49, 65, 53, 59, 38, 59, 15, 15, 15, 54, 53, 54, 68, 28, 50, 52, 29, 63, 20, 20, 19, 20, 48, 54, 54, 31, 55, 22, 30, 17, 45, 66, 32, 31, 39, 58, 56, 33, 68, 43, 32, 49, 68, 68, 68, 68, 68, 44, 8, 8, 40, 62, 55, 67, 50, 15, 15, 14, 40, 4, 30, 50, 50, 53, 35, 72, 54, 56, 85, 72, 72, 62, 61, 32, 76, 76, 76, 74, 72, 67, 32, 30, 18, 25, 61, 29, 73, 40, 42, 47, 35, 56, 56, 57, 6, 30, 27, 73, 35, 52, 46, 52, 52, 33, 5, 5, 18, 88, 48, 57, 23, 26, 70, 56, 42, 49, 35, 46, 22, 59, 41, 43, 43, 52, 29, 24, 57, 64, 15, 59, 65, 48, 52, 60, 49, 54, 14, 51, 43, 34, 67, 42, 65, 34, 57, 35, 24, 28, 34, 71, 70, 70, 58, 58, 77, 67, 33, 20, 67, 42, 12, 67, 66, 60, 56, 35, 38, 52, 46, 51, 8, 83, 67, 48, 63, 32, 32, 32, 63, 66, 66, 67, 20, 39, 36, 41, 31, 58, 50, 45, 67, 67, 25, 48, 22, 34, 20, 65, 60, 65, 36, 74, 61, 51, 60, 60, 31, 31, 35, 58, 53, 48, 65, 69, 24, 63, 59, 65, 16, 16, 16, 16, 16, 16, 16, 47, 61, 29, 73, 28, 41, 54, 30, 40, 59, 16, 38, 38, 56, 56, 54, 31, 49, 21, 82, 10, 49, 48, 40, 54, 54, 70, 21, 62, 72, 49, 41, 53, 53, 6, 31, 31, 36, 64, 49, 81, 34, 27, 30, 55, 67, 65, 65, 22, 22, 12, 71, 21, 53, 26, 56, 58, 54, 5, 45, 49, 50, 62, 22, 26, 30, 59, 6, 60, 51, 50, 46, 46, 46, 46, 46, 61, 67, 52, 52, 58, 61, 52, 10, 24], \"xaxis\": \"x\", \"yaxis\": \"y\"}],                        {\"barmode\": \"relative\", \"legend\": {\"title\": {\"text\": \"variable\"}, \"tracegroupgap\": 0}, \"margin\": {\"t\": 60}, \"template\": {\"data\": {\"bar\": [{\"error_x\": {\"color\": \"#2a3f5f\"}, \"error_y\": {\"color\": \"#2a3f5f\"}, \"marker\": {\"line\": {\"color\": \"#E5ECF6\", \"width\": 0.5}}, \"type\": \"bar\"}], \"barpolar\": [{\"marker\": {\"line\": {\"color\": \"#E5ECF6\", \"width\": 0.5}}, \"type\": \"barpolar\"}], \"carpet\": [{\"aaxis\": {\"endlinecolor\": \"#2a3f5f\", \"gridcolor\": \"white\", \"linecolor\": \"white\", \"minorgridcolor\": \"white\", \"startlinecolor\": \"#2a3f5f\"}, \"baxis\": {\"endlinecolor\": \"#2a3f5f\", \"gridcolor\": \"white\", \"linecolor\": \"white\", \"minorgridcolor\": \"white\", \"startlinecolor\": \"#2a3f5f\"}, \"type\": \"carpet\"}], \"choropleth\": [{\"colorbar\": {\"outlinewidth\": 0, \"ticks\": \"\"}, \"type\": \"choropleth\"}], \"contour\": [{\"colorbar\": {\"outlinewidth\": 0, \"ticks\": \"\"}, \"colorscale\": [[0.0, \"#0d0887\"], [0.1111111111111111, \"#46039f\"], [0.2222222222222222, \"#7201a8\"], [0.3333333333333333, \"#9c179e\"], [0.4444444444444444, \"#bd3786\"], [0.5555555555555556, \"#d8576b\"], [0.6666666666666666, \"#ed7953\"], [0.7777777777777778, \"#fb9f3a\"], [0.8888888888888888, \"#fdca26\"], [1.0, \"#f0f921\"]], \"type\": \"contour\"}], \"contourcarpet\": [{\"colorbar\": {\"outlinewidth\": 0, \"ticks\": \"\"}, \"type\": \"contourcarpet\"}], \"heatmap\": [{\"colorbar\": {\"outlinewidth\": 0, \"ticks\": \"\"}, \"colorscale\": [[0.0, \"#0d0887\"], [0.1111111111111111, \"#46039f\"], [0.2222222222222222, \"#7201a8\"], [0.3333333333333333, \"#9c179e\"], [0.4444444444444444, \"#bd3786\"], [0.5555555555555556, \"#d8576b\"], [0.6666666666666666, \"#ed7953\"], [0.7777777777777778, \"#fb9f3a\"], [0.8888888888888888, \"#fdca26\"], [1.0, \"#f0f921\"]], \"type\": \"heatmap\"}], \"heatmapgl\": [{\"colorbar\": {\"outlinewidth\": 0, \"ticks\": \"\"}, \"colorscale\": [[0.0, \"#0d0887\"], [0.1111111111111111, \"#46039f\"], [0.2222222222222222, \"#7201a8\"], [0.3333333333333333, \"#9c179e\"], [0.4444444444444444, \"#bd3786\"], [0.5555555555555556, \"#d8576b\"], [0.6666666666666666, \"#ed7953\"], [0.7777777777777778, \"#fb9f3a\"], [0.8888888888888888, \"#fdca26\"], [1.0, \"#f0f921\"]], \"type\": \"heatmapgl\"}], \"histogram\": [{\"marker\": {\"colorbar\": {\"outlinewidth\": 0, \"ticks\": \"\"}}, \"type\": \"histogram\"}], \"histogram2d\": [{\"colorbar\": {\"outlinewidth\": 0, \"ticks\": \"\"}, \"colorscale\": [[0.0, \"#0d0887\"], [0.1111111111111111, \"#46039f\"], [0.2222222222222222, \"#7201a8\"], [0.3333333333333333, \"#9c179e\"], [0.4444444444444444, \"#bd3786\"], [0.5555555555555556, \"#d8576b\"], [0.6666666666666666, \"#ed7953\"], [0.7777777777777778, \"#fb9f3a\"], [0.8888888888888888, \"#fdca26\"], [1.0, \"#f0f921\"]], \"type\": \"histogram2d\"}], \"histogram2dcontour\": [{\"colorbar\": {\"outlinewidth\": 0, \"ticks\": \"\"}, \"colorscale\": [[0.0, \"#0d0887\"], [0.1111111111111111, \"#46039f\"], [0.2222222222222222, \"#7201a8\"], [0.3333333333333333, \"#9c179e\"], [0.4444444444444444, \"#bd3786\"], [0.5555555555555556, \"#d8576b\"], [0.6666666666666666, \"#ed7953\"], [0.7777777777777778, \"#fb9f3a\"], [0.8888888888888888, \"#fdca26\"], [1.0, \"#f0f921\"]], \"type\": \"histogram2dcontour\"}], \"mesh3d\": [{\"colorbar\": {\"outlinewidth\": 0, \"ticks\": \"\"}, \"type\": \"mesh3d\"}], \"parcoords\": [{\"line\": {\"colorbar\": {\"outlinewidth\": 0, \"ticks\": \"\"}}, \"type\": \"parcoords\"}], \"pie\": [{\"automargin\": true, \"type\": \"pie\"}], \"scatter\": [{\"marker\": {\"colorbar\": {\"outlinewidth\": 0, \"ticks\": \"\"}}, \"type\": \"scatter\"}], \"scatter3d\": [{\"line\": {\"colorbar\": {\"outlinewidth\": 0, \"ticks\": \"\"}}, \"marker\": {\"colorbar\": {\"outlinewidth\": 0, \"ticks\": \"\"}}, \"type\": \"scatter3d\"}], \"scattercarpet\": [{\"marker\": {\"colorbar\": {\"outlinewidth\": 0, \"ticks\": \"\"}}, \"type\": \"scattercarpet\"}], \"scattergeo\": [{\"marker\": {\"colorbar\": {\"outlinewidth\": 0, \"ticks\": \"\"}}, \"type\": \"scattergeo\"}], \"scattergl\": [{\"marker\": {\"colorbar\": {\"outlinewidth\": 0, \"ticks\": \"\"}}, \"type\": \"scattergl\"}], \"scattermapbox\": [{\"marker\": {\"colorbar\": {\"outlinewidth\": 0, \"ticks\": \"\"}}, \"type\": \"scattermapbox\"}], \"scatterpolar\": [{\"marker\": {\"colorbar\": {\"outlinewidth\": 0, \"ticks\": \"\"}}, \"type\": \"scatterpolar\"}], \"scatterpolargl\": [{\"marker\": {\"colorbar\": {\"outlinewidth\": 0, \"ticks\": \"\"}}, \"type\": \"scatterpolargl\"}], \"scatterternary\": [{\"marker\": {\"colorbar\": {\"outlinewidth\": 0, \"ticks\": \"\"}}, \"type\": \"scatterternary\"}], \"surface\": [{\"colorbar\": {\"outlinewidth\": 0, \"ticks\": \"\"}, \"colorscale\": [[0.0, \"#0d0887\"], [0.1111111111111111, \"#46039f\"], [0.2222222222222222, \"#7201a8\"], [0.3333333333333333, \"#9c179e\"], [0.4444444444444444, \"#bd3786\"], [0.5555555555555556, \"#d8576b\"], [0.6666666666666666, \"#ed7953\"], [0.7777777777777778, \"#fb9f3a\"], [0.8888888888888888, \"#fdca26\"], [1.0, \"#f0f921\"]], \"type\": \"surface\"}], \"table\": [{\"cells\": {\"fill\": {\"color\": \"#EBF0F8\"}, \"line\": {\"color\": \"white\"}}, \"header\": {\"fill\": {\"color\": \"#C8D4E3\"}, \"line\": {\"color\": \"white\"}}, \"type\": \"table\"}]}, \"layout\": {\"annotationdefaults\": {\"arrowcolor\": \"#2a3f5f\", \"arrowhead\": 0, \"arrowwidth\": 1}, \"autotypenumbers\": \"strict\", \"coloraxis\": {\"colorbar\": {\"outlinewidth\": 0, \"ticks\": \"\"}}, \"colorscale\": {\"diverging\": [[0, \"#8e0152\"], [0.1, \"#c51b7d\"], [0.2, \"#de77ae\"], [0.3, \"#f1b6da\"], [0.4, \"#fde0ef\"], [0.5, \"#f7f7f7\"], [0.6, \"#e6f5d0\"], [0.7, \"#b8e186\"], [0.8, \"#7fbc41\"], [0.9, \"#4d9221\"], [1, \"#276419\"]], \"sequential\": [[0.0, \"#0d0887\"], [0.1111111111111111, \"#46039f\"], [0.2222222222222222, \"#7201a8\"], [0.3333333333333333, \"#9c179e\"], [0.4444444444444444, \"#bd3786\"], [0.5555555555555556, \"#d8576b\"], [0.6666666666666666, \"#ed7953\"], [0.7777777777777778, \"#fb9f3a\"], [0.8888888888888888, \"#fdca26\"], [1.0, \"#f0f921\"]], \"sequentialminus\": [[0.0, \"#0d0887\"], [0.1111111111111111, \"#46039f\"], [0.2222222222222222, \"#7201a8\"], [0.3333333333333333, \"#9c179e\"], [0.4444444444444444, \"#bd3786\"], [0.5555555555555556, \"#d8576b\"], [0.6666666666666666, \"#ed7953\"], [0.7777777777777778, \"#fb9f3a\"], [0.8888888888888888, \"#fdca26\"], [1.0, \"#f0f921\"]]}, \"colorway\": [\"#636efa\", \"#EF553B\", \"#00cc96\", \"#ab63fa\", \"#FFA15A\", \"#19d3f3\", \"#FF6692\", \"#B6E880\", \"#FF97FF\", \"#FECB52\"], \"font\": {\"color\": \"#2a3f5f\"}, \"geo\": {\"bgcolor\": \"white\", \"lakecolor\": \"white\", \"landcolor\": \"#E5ECF6\", \"showlakes\": true, \"showland\": true, \"subunitcolor\": \"white\"}, \"hoverlabel\": {\"align\": \"left\"}, \"hovermode\": \"closest\", \"mapbox\": {\"style\": \"light\"}, \"paper_bgcolor\": \"white\", \"plot_bgcolor\": \"#E5ECF6\", \"polar\": {\"angularaxis\": {\"gridcolor\": \"white\", \"linecolor\": \"white\", \"ticks\": \"\"}, \"bgcolor\": \"#E5ECF6\", \"radialaxis\": {\"gridcolor\": \"white\", \"linecolor\": \"white\", \"ticks\": \"\"}}, \"scene\": {\"xaxis\": {\"backgroundcolor\": \"#E5ECF6\", \"gridcolor\": \"white\", \"gridwidth\": 2, \"linecolor\": \"white\", \"showbackground\": true, \"ticks\": \"\", \"zerolinecolor\": \"white\"}, \"yaxis\": {\"backgroundcolor\": \"#E5ECF6\", \"gridcolor\": \"white\", \"gridwidth\": 2, \"linecolor\": \"white\", \"showbackground\": true, \"ticks\": \"\", \"zerolinecolor\": \"white\"}, \"zaxis\": {\"backgroundcolor\": \"#E5ECF6\", \"gridcolor\": \"white\", \"gridwidth\": 2, \"linecolor\": \"white\", \"showbackground\": true, \"ticks\": \"\", \"zerolinecolor\": \"white\"}}, \"shapedefaults\": {\"line\": {\"color\": \"#2a3f5f\"}}, \"ternary\": {\"aaxis\": {\"gridcolor\": \"white\", \"linecolor\": \"white\", \"ticks\": \"\"}, \"baxis\": {\"gridcolor\": \"white\", \"linecolor\": \"white\", \"ticks\": \"\"}, \"bgcolor\": \"#E5ECF6\", \"caxis\": {\"gridcolor\": \"white\", \"linecolor\": \"white\", \"ticks\": \"\"}}, \"title\": {\"x\": 0.05}, \"xaxis\": {\"automargin\": true, \"gridcolor\": \"white\", \"linecolor\": \"white\", \"ticks\": \"\", \"title\": {\"standoff\": 15}, \"zerolinecolor\": \"white\", \"zerolinewidth\": 2}, \"yaxis\": {\"automargin\": true, \"gridcolor\": \"white\", \"linecolor\": \"white\", \"ticks\": \"\", \"title\": {\"standoff\": 15}, \"zerolinecolor\": \"white\", \"zerolinewidth\": 2}}}, \"xaxis\": {\"anchor\": \"y\", \"domain\": [0.0, 1.0], \"title\": {\"text\": \"value\"}}, \"yaxis\": {\"anchor\": \"x\", \"domain\": [0.0, 1.0], \"title\": {\"text\": \"count\"}}},                        {\"responsive\": true}                    ).then(function(){\n",
       "                            \n",
       "var gd = document.getElementById('0c7ce771-9cf9-4aad-bcd5-d93e406ea7d1');\n",
       "var x = new MutationObserver(function (mutations, observer) {{\n",
       "        var display = window.getComputedStyle(gd).display;\n",
       "        if (!display || display === 'none') {{\n",
       "            console.log([gd, 'removed!']);\n",
       "            Plotly.purge(gd);\n",
       "            observer.disconnect();\n",
       "        }}\n",
       "}});\n",
       "\n",
       "// Listen for the removal of the full notebook cells\n",
       "var notebookContainer = gd.closest('#notebook-container');\n",
       "if (notebookContainer) {{\n",
       "    x.observe(notebookContainer, {childList: true});\n",
       "}}\n",
       "\n",
       "// Listen for the clearing of the current output cell\n",
       "var outputEl = gd.closest('.output');\n",
       "if (outputEl) {{\n",
       "    x.observe(outputEl, {childList: true});\n",
       "}}\n",
       "\n",
       "                        })                };                });            </script>        </div>"
      ]
     },
     "metadata": {},
     "output_type": "display_data"
    }
   ],
   "source": [
    "data['Patient Age'].apply(lambda x : int(x[1:3])).plot.hist()"
   ]
  },
  {
   "cell_type": "code",
   "execution_count": 6,
   "metadata": {
    "_cell_guid": "c26f6871-2861-43e3-a136-47bb848263ce",
    "_uuid": "92079bba-4e8c-4f68-9ed3-26447b9312ae",
    "collapsed": false,
    "execution": {
     "iopub.execute_input": "2024-08-30T10:59:19.139231Z",
     "iopub.status.busy": "2024-08-30T10:59:19.136969Z",
     "iopub.status.idle": "2024-08-30T10:59:19.261083Z",
     "shell.execute_reply": "2024-08-30T10:59:19.261624Z",
     "shell.execute_reply.started": "2024-08-30T09:28:44.631110Z"
    },
    "jupyter": {
     "outputs_hidden": false
    },
    "papermill": {
     "duration": 0.202031,
     "end_time": "2024-08-30T10:59:19.261766",
     "exception": false,
     "start_time": "2024-08-30T10:59:19.059735",
     "status": "completed"
    },
    "tags": []
   },
   "outputs": [
    {
     "data": {
      "text/html": [
       "<div>                            <div id=\"7cc7fa7c-9d53-4ab5-9165-62d2404c8f1c\" class=\"plotly-graph-div\" style=\"height:525px; width:100%;\"></div>            <script type=\"text/javascript\">                require([\"plotly\"], function(Plotly) {                    window.PLOTLYENV=window.PLOTLYENV || {};                                    if (document.getElementById(\"7cc7fa7c-9d53-4ab5-9165-62d2404c8f1c\")) {                    Plotly.newPlot(                        \"7cc7fa7c-9d53-4ab5-9165-62d2404c8f1c\",                        [{\"alignmentgroup\": \"True\", \"hovertemplate\": \"variable=%{x}<br>value=%{y}<extra></extra>\", \"legendgroup\": \"\", \"marker\": {\"color\": \"#636efa\"}, \"name\": \"\", \"notched\": false, \"offsetgroup\": \"\", \"orientation\": \"v\", \"showlegend\": false, \"type\": \"box\", \"x\": [\"Patient Age\", \"Patient Age\", \"Patient Age\", \"Patient Age\", \"Patient Age\", \"Patient Age\", \"Patient Age\", \"Patient Age\", \"Patient Age\", \"Patient Age\", \"Patient Age\", \"Patient Age\", \"Patient Age\", \"Patient Age\", \"Patient Age\", \"Patient Age\", \"Patient Age\", \"Patient Age\", \"Patient Age\", \"Patient Age\", \"Patient Age\", \"Patient Age\", \"Patient Age\", \"Patient Age\", \"Patient Age\", \"Patient Age\", \"Patient Age\", \"Patient Age\", \"Patient Age\", \"Patient Age\", \"Patient Age\", \"Patient Age\", \"Patient Age\", \"Patient Age\", \"Patient Age\", \"Patient Age\", \"Patient Age\", \"Patient Age\", \"Patient Age\", \"Patient Age\", \"Patient Age\", \"Patient Age\", \"Patient Age\", \"Patient Age\", \"Patient Age\", \"Patient Age\", \"Patient Age\", \"Patient Age\", \"Patient Age\", \"Patient Age\", \"Patient Age\", \"Patient Age\", \"Patient Age\", \"Patient Age\", \"Patient Age\", \"Patient Age\", \"Patient Age\", \"Patient Age\", \"Patient Age\", \"Patient Age\", \"Patient Age\", \"Patient Age\", \"Patient Age\", \"Patient Age\", \"Patient Age\", \"Patient Age\", \"Patient Age\", \"Patient Age\", \"Patient Age\", \"Patient Age\", \"Patient Age\", \"Patient Age\", \"Patient Age\", \"Patient Age\", \"Patient Age\", \"Patient Age\", \"Patient Age\", \"Patient Age\", \"Patient Age\", \"Patient Age\", \"Patient Age\", \"Patient Age\", \"Patient Age\", \"Patient Age\", \"Patient Age\", \"Patient Age\", \"Patient Age\", \"Patient Age\", \"Patient Age\", \"Patient Age\", \"Patient Age\", \"Patient Age\", \"Patient Age\", \"Patient Age\", \"Patient Age\", \"Patient Age\", \"Patient Age\", \"Patient Age\", \"Patient Age\", \"Patient Age\", \"Patient Age\", \"Patient Age\", \"Patient Age\", \"Patient Age\", \"Patient Age\", \"Patient Age\", \"Patient Age\", \"Patient Age\", \"Patient Age\", \"Patient Age\", \"Patient Age\", \"Patient Age\", \"Patient Age\", \"Patient Age\", \"Patient Age\", \"Patient Age\", \"Patient Age\", \"Patient Age\", \"Patient Age\", \"Patient Age\", \"Patient Age\", \"Patient Age\", \"Patient Age\", \"Patient Age\", \"Patient Age\", \"Patient Age\", \"Patient Age\", \"Patient Age\", \"Patient Age\", \"Patient Age\", \"Patient Age\", \"Patient Age\", \"Patient Age\", \"Patient Age\", \"Patient Age\", \"Patient Age\", \"Patient Age\", \"Patient Age\", \"Patient Age\", \"Patient Age\", \"Patient Age\", \"Patient Age\", \"Patient Age\", \"Patient Age\", \"Patient Age\", \"Patient Age\", \"Patient Age\", \"Patient Age\", \"Patient Age\", \"Patient Age\", \"Patient Age\", \"Patient Age\", \"Patient Age\", \"Patient Age\", \"Patient Age\", \"Patient Age\", \"Patient Age\", \"Patient Age\", \"Patient Age\", \"Patient Age\", \"Patient Age\", \"Patient Age\", \"Patient Age\", \"Patient Age\", \"Patient Age\", \"Patient Age\", \"Patient Age\", \"Patient Age\", \"Patient Age\", \"Patient Age\", \"Patient Age\", \"Patient Age\", \"Patient Age\", \"Patient Age\", \"Patient Age\", \"Patient Age\", \"Patient Age\", \"Patient Age\", \"Patient Age\", \"Patient Age\", \"Patient Age\", \"Patient Age\", \"Patient Age\", \"Patient Age\", \"Patient Age\", \"Patient Age\", \"Patient Age\", \"Patient Age\", \"Patient Age\", \"Patient Age\", \"Patient Age\", \"Patient Age\", \"Patient Age\", \"Patient Age\", \"Patient Age\", \"Patient Age\", \"Patient Age\", \"Patient Age\", \"Patient Age\", \"Patient Age\", \"Patient Age\", \"Patient Age\", \"Patient Age\", \"Patient Age\", \"Patient Age\", \"Patient Age\", \"Patient Age\", \"Patient Age\", \"Patient Age\", \"Patient Age\", \"Patient Age\", \"Patient Age\", \"Patient Age\", \"Patient Age\", \"Patient Age\", \"Patient Age\", \"Patient Age\", \"Patient Age\", \"Patient Age\", \"Patient Age\", \"Patient Age\", \"Patient Age\", \"Patient Age\", \"Patient Age\", \"Patient Age\", \"Patient Age\", \"Patient Age\", \"Patient Age\", \"Patient Age\", \"Patient Age\", \"Patient Age\", \"Patient Age\", \"Patient Age\", \"Patient Age\", \"Patient Age\", \"Patient Age\", \"Patient Age\", \"Patient Age\", \"Patient Age\", \"Patient Age\", \"Patient Age\", \"Patient Age\", \"Patient Age\", \"Patient Age\", \"Patient Age\", \"Patient Age\", \"Patient Age\", \"Patient Age\", \"Patient Age\", \"Patient Age\", \"Patient Age\", \"Patient Age\", \"Patient Age\", \"Patient Age\", \"Patient Age\", \"Patient Age\", \"Patient Age\", \"Patient Age\", \"Patient Age\", \"Patient Age\", \"Patient Age\", \"Patient Age\", \"Patient Age\", \"Patient Age\", \"Patient Age\", \"Patient Age\", \"Patient Age\", \"Patient Age\", \"Patient Age\", \"Patient Age\", \"Patient Age\", \"Patient Age\", \"Patient Age\", \"Patient Age\", \"Patient Age\", \"Patient Age\", \"Patient Age\", \"Patient Age\", \"Patient Age\", \"Patient Age\", \"Patient Age\", \"Patient Age\", \"Patient Age\", \"Patient Age\", \"Patient Age\", \"Patient Age\", \"Patient Age\", \"Patient Age\", \"Patient Age\", \"Patient Age\", \"Patient Age\", \"Patient Age\", \"Patient Age\", \"Patient Age\", \"Patient Age\", \"Patient Age\", \"Patient Age\", \"Patient Age\", \"Patient Age\", \"Patient Age\", \"Patient Age\", \"Patient Age\", \"Patient Age\", \"Patient Age\", \"Patient Age\", \"Patient Age\", \"Patient Age\", \"Patient Age\", \"Patient Age\", \"Patient Age\", \"Patient Age\", \"Patient Age\", \"Patient Age\", \"Patient Age\", \"Patient Age\", \"Patient Age\", \"Patient Age\", \"Patient Age\", \"Patient Age\", \"Patient Age\", \"Patient Age\", \"Patient Age\", \"Patient Age\", \"Patient Age\", \"Patient Age\", \"Patient Age\", \"Patient Age\", \"Patient Age\", \"Patient Age\", \"Patient Age\", \"Patient Age\", \"Patient Age\", \"Patient Age\", \"Patient Age\", \"Patient Age\", \"Patient Age\", \"Patient Age\", \"Patient Age\", \"Patient Age\", \"Patient Age\", \"Patient Age\", \"Patient Age\", \"Patient Age\", \"Patient Age\", \"Patient Age\", \"Patient Age\", \"Patient Age\", \"Patient Age\", \"Patient Age\", \"Patient Age\", \"Patient Age\", \"Patient Age\", \"Patient Age\", \"Patient Age\", \"Patient Age\", \"Patient Age\", \"Patient Age\", \"Patient Age\", \"Patient Age\", \"Patient Age\", \"Patient Age\", \"Patient Age\", \"Patient Age\", \"Patient Age\", \"Patient Age\", \"Patient Age\", \"Patient Age\", \"Patient Age\", \"Patient Age\", \"Patient Age\", \"Patient Age\", \"Patient Age\", \"Patient Age\", \"Patient Age\", \"Patient Age\", \"Patient Age\", \"Patient Age\", \"Patient Age\", \"Patient Age\", \"Patient Age\", \"Patient Age\", \"Patient Age\", \"Patient Age\", \"Patient Age\", \"Patient Age\", \"Patient Age\", \"Patient Age\", \"Patient Age\", \"Patient Age\", \"Patient Age\", \"Patient Age\", \"Patient Age\", \"Patient Age\", \"Patient Age\", \"Patient Age\", \"Patient Age\", \"Patient Age\", \"Patient Age\", \"Patient Age\", \"Patient Age\", \"Patient Age\", \"Patient Age\", \"Patient Age\", \"Patient Age\", \"Patient Age\", \"Patient Age\", \"Patient Age\", \"Patient Age\", \"Patient Age\", \"Patient Age\", \"Patient Age\", \"Patient Age\", \"Patient Age\", \"Patient Age\", \"Patient Age\", \"Patient Age\", \"Patient Age\", \"Patient Age\", \"Patient Age\", \"Patient Age\", \"Patient Age\", \"Patient Age\", \"Patient Age\", \"Patient Age\", \"Patient Age\", \"Patient Age\", \"Patient Age\", \"Patient Age\", \"Patient Age\", \"Patient Age\", \"Patient Age\", \"Patient Age\", \"Patient Age\", \"Patient Age\", \"Patient Age\", \"Patient Age\", \"Patient Age\", \"Patient Age\", \"Patient Age\", \"Patient Age\", \"Patient Age\", \"Patient Age\", \"Patient Age\", \"Patient Age\", \"Patient Age\", \"Patient Age\", \"Patient Age\", \"Patient Age\", \"Patient Age\", \"Patient Age\", \"Patient Age\", \"Patient Age\", \"Patient Age\", \"Patient Age\", \"Patient Age\", \"Patient Age\", \"Patient Age\", \"Patient Age\", \"Patient Age\", \"Patient Age\", \"Patient Age\", \"Patient Age\", \"Patient Age\", \"Patient Age\", \"Patient Age\", \"Patient Age\", \"Patient Age\", \"Patient Age\", \"Patient Age\", \"Patient Age\", \"Patient Age\", \"Patient Age\", \"Patient Age\", \"Patient Age\", \"Patient Age\", \"Patient Age\", \"Patient Age\", \"Patient Age\", \"Patient Age\", \"Patient Age\", \"Patient Age\", \"Patient Age\", \"Patient Age\", \"Patient Age\", \"Patient Age\", \"Patient Age\", \"Patient Age\", \"Patient Age\", \"Patient Age\", \"Patient Age\", \"Patient Age\", \"Patient Age\", \"Patient Age\", \"Patient Age\", \"Patient Age\", \"Patient Age\", \"Patient Age\", \"Patient Age\", \"Patient Age\", \"Patient Age\", \"Patient Age\", \"Patient Age\", \"Patient Age\", \"Patient Age\", \"Patient Age\", \"Patient Age\", \"Patient Age\", \"Patient Age\", \"Patient Age\", \"Patient Age\", \"Patient Age\", \"Patient Age\", \"Patient Age\", \"Patient Age\", \"Patient Age\", \"Patient Age\", \"Patient Age\", \"Patient Age\", \"Patient Age\", \"Patient Age\", \"Patient Age\", \"Patient Age\", \"Patient Age\", \"Patient Age\", \"Patient Age\", \"Patient Age\", \"Patient Age\", \"Patient Age\", \"Patient Age\", \"Patient Age\", \"Patient Age\", \"Patient Age\", \"Patient Age\", \"Patient Age\", \"Patient Age\", \"Patient Age\", \"Patient Age\", \"Patient Age\", \"Patient Age\", \"Patient Age\", \"Patient Age\", \"Patient Age\", \"Patient Age\", \"Patient Age\", \"Patient Age\", \"Patient Age\", \"Patient Age\", \"Patient Age\", \"Patient Age\", \"Patient Age\", \"Patient Age\", \"Patient Age\", \"Patient Age\", \"Patient Age\", \"Patient Age\", \"Patient Age\", \"Patient Age\", \"Patient Age\", \"Patient Age\", \"Patient Age\", \"Patient Age\", \"Patient Age\", \"Patient Age\", \"Patient Age\", \"Patient Age\", \"Patient Age\", \"Patient Age\", \"Patient Age\", \"Patient Age\", \"Patient Age\", \"Patient Age\", \"Patient Age\", \"Patient Age\", \"Patient Age\", \"Patient Age\", \"Patient Age\", \"Patient Age\", \"Patient Age\", \"Patient Age\", \"Patient Age\", \"Patient Age\", \"Patient Age\", \"Patient Age\", \"Patient Age\", \"Patient Age\", \"Patient Age\", \"Patient Age\", \"Patient Age\", \"Patient Age\", \"Patient Age\", \"Patient Age\", \"Patient Age\", \"Patient Age\", \"Patient Age\", \"Patient Age\", \"Patient Age\", \"Patient Age\", \"Patient Age\", \"Patient Age\", \"Patient Age\", \"Patient Age\", \"Patient Age\", \"Patient Age\", \"Patient Age\", \"Patient Age\", \"Patient Age\", \"Patient Age\", \"Patient Age\", \"Patient Age\", \"Patient Age\", \"Patient Age\", \"Patient Age\", \"Patient Age\", \"Patient Age\", \"Patient Age\", \"Patient Age\", \"Patient Age\", \"Patient Age\", \"Patient Age\", \"Patient Age\", \"Patient Age\", \"Patient Age\", \"Patient Age\", \"Patient Age\", \"Patient Age\", \"Patient Age\", \"Patient Age\", \"Patient Age\", \"Patient Age\", \"Patient Age\", \"Patient Age\", \"Patient Age\", \"Patient Age\", \"Patient Age\", \"Patient Age\", \"Patient Age\", \"Patient Age\", \"Patient Age\", \"Patient Age\", \"Patient Age\", \"Patient Age\", \"Patient Age\", \"Patient Age\", \"Patient Age\", \"Patient Age\", \"Patient Age\", \"Patient Age\", \"Patient Age\", \"Patient Age\", \"Patient Age\", \"Patient Age\", \"Patient Age\", \"Patient Age\", \"Patient Age\", \"Patient Age\", \"Patient Age\", \"Patient Age\", \"Patient Age\", \"Patient Age\", \"Patient Age\", \"Patient Age\", \"Patient Age\", \"Patient Age\", \"Patient Age\", \"Patient Age\", \"Patient Age\", \"Patient Age\", \"Patient Age\", \"Patient Age\", \"Patient Age\", \"Patient Age\", \"Patient Age\", \"Patient Age\", \"Patient Age\", \"Patient Age\", \"Patient Age\", \"Patient Age\", \"Patient Age\", \"Patient Age\", \"Patient Age\", \"Patient Age\", \"Patient Age\", \"Patient Age\", \"Patient Age\", \"Patient Age\", \"Patient Age\", \"Patient Age\", \"Patient Age\", \"Patient Age\", \"Patient Age\", \"Patient Age\", \"Patient Age\", \"Patient Age\", \"Patient Age\", \"Patient Age\", \"Patient Age\", \"Patient Age\", \"Patient Age\", \"Patient Age\", \"Patient Age\", \"Patient Age\", \"Patient Age\", \"Patient Age\", \"Patient Age\", \"Patient Age\", \"Patient Age\", \"Patient Age\", \"Patient Age\", \"Patient Age\", \"Patient Age\", \"Patient Age\", \"Patient Age\", \"Patient Age\", \"Patient Age\", \"Patient Age\", \"Patient Age\", \"Patient Age\", \"Patient Age\", \"Patient Age\", \"Patient Age\", \"Patient Age\", \"Patient Age\", \"Patient Age\", \"Patient Age\", \"Patient Age\", \"Patient Age\", \"Patient Age\", \"Patient Age\", \"Patient Age\", \"Patient Age\", \"Patient Age\", \"Patient Age\", \"Patient Age\", \"Patient Age\", \"Patient Age\", \"Patient Age\", \"Patient Age\", \"Patient Age\", \"Patient Age\", \"Patient Age\", \"Patient Age\", \"Patient Age\", \"Patient Age\", \"Patient Age\", \"Patient Age\", \"Patient Age\", \"Patient Age\", \"Patient Age\", \"Patient Age\", \"Patient Age\", \"Patient Age\", \"Patient Age\", \"Patient Age\", \"Patient Age\", \"Patient Age\", \"Patient Age\", \"Patient Age\", \"Patient Age\", \"Patient Age\", \"Patient Age\", \"Patient Age\", \"Patient Age\", \"Patient Age\", \"Patient Age\", \"Patient Age\", \"Patient Age\", \"Patient Age\", \"Patient Age\", \"Patient Age\", \"Patient Age\", \"Patient Age\", \"Patient Age\", \"Patient Age\", \"Patient Age\", \"Patient Age\", \"Patient Age\", \"Patient Age\", \"Patient Age\", \"Patient Age\", \"Patient Age\", \"Patient Age\", \"Patient Age\", \"Patient Age\", \"Patient Age\", \"Patient Age\", \"Patient Age\", \"Patient Age\", \"Patient Age\", \"Patient Age\", \"Patient Age\", \"Patient Age\", \"Patient Age\", \"Patient Age\", \"Patient Age\", \"Patient Age\", \"Patient Age\", \"Patient Age\", \"Patient Age\", \"Patient Age\", \"Patient Age\", \"Patient Age\", \"Patient Age\", \"Patient Age\", \"Patient Age\", \"Patient Age\", \"Patient Age\", \"Patient Age\", \"Patient Age\", \"Patient Age\", \"Patient Age\", \"Patient Age\", \"Patient Age\", \"Patient Age\", \"Patient Age\", \"Patient Age\", \"Patient Age\", \"Patient Age\", \"Patient Age\", \"Patient Age\", \"Patient Age\", \"Patient Age\", \"Patient Age\", \"Patient Age\", \"Patient Age\", \"Patient Age\", \"Patient Age\", \"Patient Age\", \"Patient Age\", \"Patient Age\", \"Patient Age\", \"Patient Age\", \"Patient Age\", \"Patient Age\", \"Patient Age\", \"Patient Age\", \"Patient Age\", \"Patient Age\", \"Patient Age\", \"Patient Age\", \"Patient Age\", \"Patient Age\", \"Patient Age\", \"Patient Age\", \"Patient Age\", \"Patient Age\", \"Patient Age\", \"Patient Age\", \"Patient Age\", \"Patient Age\", \"Patient Age\", \"Patient Age\", \"Patient Age\", \"Patient Age\", \"Patient Age\", \"Patient Age\", \"Patient Age\", \"Patient Age\", \"Patient Age\", \"Patient Age\", \"Patient Age\", \"Patient Age\", \"Patient Age\", \"Patient Age\", \"Patient Age\", \"Patient Age\", \"Patient Age\", \"Patient Age\", \"Patient Age\", \"Patient Age\", \"Patient Age\", \"Patient Age\", \"Patient Age\", \"Patient Age\", \"Patient Age\", \"Patient Age\", \"Patient Age\", \"Patient Age\", \"Patient Age\", \"Patient Age\", \"Patient Age\", \"Patient Age\", \"Patient Age\", \"Patient Age\", \"Patient Age\", \"Patient Age\", \"Patient Age\", \"Patient Age\", \"Patient Age\", \"Patient Age\", \"Patient Age\", \"Patient Age\", \"Patient Age\", \"Patient Age\", \"Patient Age\", \"Patient Age\", \"Patient Age\", \"Patient Age\", \"Patient Age\", \"Patient Age\", \"Patient Age\", \"Patient Age\", \"Patient Age\", \"Patient Age\", \"Patient Age\", \"Patient Age\", \"Patient Age\", \"Patient Age\", \"Patient Age\", \"Patient Age\", \"Patient Age\", \"Patient Age\", \"Patient Age\", \"Patient Age\", \"Patient Age\", \"Patient Age\", \"Patient Age\", \"Patient Age\", \"Patient Age\", \"Patient Age\", \"Patient Age\", \"Patient Age\", \"Patient Age\", \"Patient Age\", \"Patient Age\", \"Patient Age\", \"Patient Age\", \"Patient Age\", \"Patient Age\", \"Patient Age\", \"Patient Age\", \"Patient Age\", \"Patient Age\", \"Patient Age\", \"Patient Age\", \"Patient Age\", \"Patient Age\", \"Patient Age\", \"Patient Age\", \"Patient Age\", \"Patient Age\", \"Patient Age\", \"Patient Age\", \"Patient Age\", \"Patient Age\", \"Patient Age\", \"Patient Age\", \"Patient Age\", \"Patient Age\", \"Patient Age\", \"Patient Age\", \"Patient Age\", \"Patient Age\", \"Patient Age\", \"Patient Age\", \"Patient Age\", \"Patient Age\", \"Patient Age\", \"Patient Age\", \"Patient Age\", \"Patient Age\", \"Patient Age\", \"Patient Age\", \"Patient Age\", \"Patient Age\", \"Patient Age\", \"Patient Age\", \"Patient Age\", \"Patient Age\", \"Patient Age\", \"Patient Age\", \"Patient Age\", \"Patient Age\", \"Patient Age\", \"Patient Age\", \"Patient Age\", \"Patient Age\", \"Patient Age\", \"Patient Age\", \"Patient Age\", \"Patient Age\", \"Patient Age\", \"Patient Age\", \"Patient Age\", \"Patient Age\", \"Patient Age\", \"Patient Age\", \"Patient Age\", \"Patient Age\", \"Patient Age\", \"Patient Age\", \"Patient Age\", \"Patient Age\", \"Patient Age\", \"Patient Age\", \"Patient Age\", \"Patient Age\", \"Patient Age\", \"Patient Age\", \"Patient Age\", \"Patient Age\", \"Patient Age\", \"Patient Age\", \"Patient Age\", \"Patient Age\", \"Patient Age\", \"Patient Age\", \"Patient Age\", \"Patient Age\", \"Patient Age\", \"Patient Age\", \"Patient Age\", \"Patient Age\", \"Patient Age\", \"Patient Age\", \"Patient Age\", \"Patient Age\", \"Patient Age\", \"Patient Age\", \"Patient Age\", \"Patient Age\", \"Patient Age\", \"Patient Age\", \"Patient Age\", \"Patient Age\", \"Patient Age\", \"Patient Age\", \"Patient Age\", \"Patient Age\", \"Patient Age\", \"Patient Age\", \"Patient Age\", \"Patient Age\", \"Patient Age\", \"Patient Age\", \"Patient Age\", \"Patient Age\", \"Patient Age\", \"Patient Age\", \"Patient Age\", \"Patient Age\", \"Patient Age\", \"Patient Age\", \"Patient Age\", \"Patient Age\", \"Patient Age\", \"Patient Age\", \"Patient Age\", \"Patient Age\", \"Patient Age\", \"Patient Age\", \"Patient Age\", \"Patient Age\", \"Patient Age\", \"Patient Age\", \"Patient Age\", \"Patient Age\", \"Patient Age\", \"Patient Age\", \"Patient Age\", \"Patient Age\", \"Patient Age\", \"Patient Age\", \"Patient Age\", \"Patient Age\", \"Patient Age\", \"Patient Age\", \"Patient Age\", \"Patient Age\", \"Patient Age\", \"Patient Age\", \"Patient Age\", \"Patient Age\", \"Patient Age\", \"Patient Age\", \"Patient Age\", \"Patient Age\", \"Patient Age\", \"Patient Age\", \"Patient Age\", \"Patient Age\", \"Patient Age\", \"Patient Age\", \"Patient Age\", \"Patient Age\", \"Patient Age\", \"Patient Age\", \"Patient Age\", \"Patient Age\", \"Patient Age\", \"Patient Age\", \"Patient Age\", \"Patient Age\", \"Patient Age\", \"Patient Age\", \"Patient Age\", \"Patient Age\", \"Patient Age\", \"Patient Age\", \"Patient Age\", \"Patient Age\", \"Patient Age\", \"Patient Age\", \"Patient Age\", \"Patient Age\", \"Patient Age\", \"Patient Age\", \"Patient Age\", \"Patient Age\", \"Patient Age\", \"Patient Age\", \"Patient Age\", \"Patient Age\", \"Patient Age\", \"Patient Age\", \"Patient Age\", \"Patient Age\", \"Patient Age\", \"Patient Age\", \"Patient Age\", \"Patient Age\", \"Patient Age\", \"Patient Age\", \"Patient Age\", \"Patient Age\", \"Patient Age\", \"Patient Age\", \"Patient Age\", \"Patient Age\", \"Patient Age\", \"Patient Age\", \"Patient Age\", \"Patient Age\", \"Patient Age\", \"Patient Age\", \"Patient Age\", \"Patient Age\", \"Patient Age\", \"Patient Age\", \"Patient Age\", \"Patient Age\", \"Patient Age\", \"Patient Age\", \"Patient Age\", \"Patient Age\", \"Patient Age\", \"Patient Age\", \"Patient Age\", \"Patient Age\", \"Patient Age\", \"Patient Age\", \"Patient Age\", \"Patient Age\", \"Patient Age\", \"Patient Age\", \"Patient Age\", \"Patient Age\", \"Patient Age\", \"Patient Age\", \"Patient Age\", \"Patient Age\", \"Patient Age\", \"Patient Age\", \"Patient Age\", \"Patient Age\", \"Patient Age\", \"Patient Age\", \"Patient Age\", \"Patient Age\", \"Patient Age\", \"Patient Age\", \"Patient Age\", \"Patient Age\", \"Patient Age\", \"Patient Age\", \"Patient Age\", \"Patient Age\", \"Patient Age\", \"Patient Age\", \"Patient Age\", \"Patient Age\", \"Patient Age\", \"Patient Age\", \"Patient Age\", \"Patient Age\", \"Patient Age\", \"Patient Age\", \"Patient Age\", \"Patient Age\", \"Patient Age\", \"Patient Age\", \"Patient Age\", \"Patient Age\", \"Patient Age\", \"Patient Age\", \"Patient Age\", \"Patient Age\", \"Patient Age\", \"Patient Age\", \"Patient Age\", \"Patient Age\", \"Patient Age\", \"Patient Age\", \"Patient Age\", \"Patient Age\", \"Patient Age\", \"Patient Age\", \"Patient Age\", \"Patient Age\", \"Patient Age\", \"Patient Age\", \"Patient Age\", \"Patient Age\", \"Patient Age\", \"Patient Age\", \"Patient Age\", \"Patient Age\", \"Patient Age\", \"Patient Age\", \"Patient Age\", \"Patient Age\", \"Patient Age\", \"Patient Age\", \"Patient Age\", \"Patient Age\", \"Patient Age\", \"Patient Age\", \"Patient Age\", \"Patient Age\", \"Patient Age\", \"Patient Age\", \"Patient Age\", \"Patient Age\", \"Patient Age\", \"Patient Age\", \"Patient Age\", \"Patient Age\", \"Patient Age\", \"Patient Age\", \"Patient Age\", \"Patient Age\", \"Patient Age\", \"Patient Age\", \"Patient Age\", \"Patient Age\", \"Patient Age\", \"Patient Age\", \"Patient Age\", \"Patient Age\", \"Patient Age\", \"Patient Age\", \"Patient Age\", \"Patient Age\", \"Patient Age\", \"Patient Age\", \"Patient Age\", \"Patient Age\", \"Patient Age\", \"Patient Age\", \"Patient Age\", \"Patient Age\", \"Patient Age\", \"Patient Age\", \"Patient Age\", \"Patient Age\", \"Patient Age\", \"Patient Age\", \"Patient Age\", \"Patient Age\", \"Patient Age\", \"Patient Age\", \"Patient Age\", \"Patient Age\", \"Patient Age\", \"Patient Age\", \"Patient Age\", \"Patient Age\", \"Patient Age\", \"Patient Age\", \"Patient Age\", \"Patient Age\", \"Patient Age\", \"Patient Age\", \"Patient Age\", \"Patient Age\", \"Patient Age\", \"Patient Age\", \"Patient Age\", \"Patient Age\", \"Patient Age\", \"Patient Age\", \"Patient Age\", \"Patient Age\", \"Patient Age\", \"Patient Age\", \"Patient Age\", \"Patient Age\", \"Patient Age\", \"Patient Age\", \"Patient Age\", \"Patient Age\", \"Patient Age\", \"Patient Age\", \"Patient Age\", \"Patient Age\", \"Patient Age\", \"Patient Age\", \"Patient Age\", \"Patient Age\", \"Patient Age\", \"Patient Age\", \"Patient Age\", \"Patient Age\", \"Patient Age\", \"Patient Age\", \"Patient Age\", \"Patient Age\", \"Patient Age\", \"Patient Age\", \"Patient Age\", \"Patient Age\", \"Patient Age\", \"Patient Age\", \"Patient Age\", \"Patient Age\", \"Patient Age\", \"Patient Age\", \"Patient Age\", \"Patient Age\", \"Patient Age\", \"Patient Age\", \"Patient Age\", \"Patient Age\", \"Patient Age\", \"Patient Age\", \"Patient Age\", \"Patient Age\", \"Patient Age\", \"Patient Age\", \"Patient Age\", \"Patient Age\", \"Patient Age\", \"Patient Age\", \"Patient Age\", \"Patient Age\", \"Patient Age\", \"Patient Age\", \"Patient Age\", \"Patient Age\", \"Patient Age\", \"Patient Age\", \"Patient Age\", \"Patient Age\", \"Patient Age\", \"Patient Age\", \"Patient Age\", \"Patient Age\", \"Patient Age\", \"Patient Age\", \"Patient Age\", \"Patient Age\", \"Patient Age\", \"Patient Age\", \"Patient Age\", \"Patient Age\", \"Patient Age\", \"Patient Age\", \"Patient Age\", \"Patient Age\", \"Patient Age\", \"Patient Age\", \"Patient Age\", \"Patient Age\", \"Patient Age\", \"Patient Age\", \"Patient Age\", \"Patient Age\", \"Patient Age\", \"Patient Age\", \"Patient Age\", \"Patient Age\", \"Patient Age\", \"Patient Age\", \"Patient Age\", \"Patient Age\", \"Patient Age\", \"Patient Age\", \"Patient Age\", \"Patient Age\", \"Patient Age\", \"Patient Age\", \"Patient Age\", \"Patient Age\", \"Patient Age\", \"Patient Age\", \"Patient Age\", \"Patient Age\", \"Patient Age\", \"Patient Age\", \"Patient Age\", \"Patient Age\", \"Patient Age\", \"Patient Age\", \"Patient Age\", \"Patient Age\", \"Patient Age\", \"Patient Age\", \"Patient Age\", \"Patient Age\", \"Patient Age\", \"Patient Age\", \"Patient Age\", \"Patient Age\", \"Patient Age\", \"Patient Age\", \"Patient Age\", \"Patient Age\", \"Patient Age\", \"Patient Age\", \"Patient Age\", \"Patient Age\", \"Patient Age\", \"Patient Age\", \"Patient Age\", \"Patient Age\", \"Patient Age\", \"Patient Age\", \"Patient Age\", \"Patient Age\", \"Patient Age\", \"Patient Age\", \"Patient Age\", \"Patient Age\", \"Patient Age\", \"Patient Age\", \"Patient Age\", \"Patient Age\", \"Patient Age\", \"Patient Age\", \"Patient Age\", \"Patient Age\", \"Patient Age\", \"Patient Age\", \"Patient Age\", \"Patient Age\", \"Patient Age\", \"Patient Age\", \"Patient Age\", \"Patient Age\", \"Patient Age\", \"Patient Age\", \"Patient Age\", \"Patient Age\", \"Patient Age\", \"Patient Age\", \"Patient Age\", \"Patient Age\", \"Patient Age\", \"Patient Age\", \"Patient Age\", \"Patient Age\", \"Patient Age\", \"Patient Age\", \"Patient Age\", \"Patient Age\", \"Patient Age\", \"Patient Age\", \"Patient Age\", \"Patient Age\", \"Patient Age\", \"Patient Age\", \"Patient Age\", \"Patient Age\", \"Patient Age\", \"Patient Age\", \"Patient Age\", \"Patient Age\", \"Patient Age\", \"Patient Age\", \"Patient Age\", \"Patient Age\", \"Patient Age\", \"Patient Age\", \"Patient Age\", \"Patient Age\", \"Patient Age\", \"Patient Age\", \"Patient Age\", \"Patient Age\", \"Patient Age\", \"Patient Age\", \"Patient Age\", \"Patient Age\", \"Patient Age\", \"Patient Age\", \"Patient Age\", \"Patient Age\", \"Patient Age\", \"Patient Age\", \"Patient Age\", \"Patient Age\", \"Patient Age\", \"Patient Age\", \"Patient Age\", \"Patient Age\", \"Patient Age\", \"Patient Age\", \"Patient Age\", \"Patient Age\", \"Patient Age\", \"Patient Age\", \"Patient Age\", \"Patient Age\", \"Patient Age\", \"Patient Age\", \"Patient Age\", \"Patient Age\", \"Patient Age\", \"Patient Age\", \"Patient Age\", \"Patient Age\", \"Patient Age\", \"Patient Age\", \"Patient Age\", \"Patient Age\", \"Patient Age\", \"Patient Age\", \"Patient Age\", \"Patient Age\", \"Patient Age\", \"Patient Age\", \"Patient Age\", \"Patient Age\", \"Patient Age\", \"Patient Age\", \"Patient Age\", \"Patient Age\", \"Patient Age\", \"Patient Age\", \"Patient Age\", \"Patient Age\", \"Patient Age\", \"Patient Age\", \"Patient Age\", \"Patient Age\", \"Patient Age\", \"Patient Age\", \"Patient Age\", \"Patient Age\", \"Patient Age\", \"Patient Age\", \"Patient Age\", \"Patient Age\", \"Patient Age\", \"Patient Age\", \"Patient Age\", \"Patient Age\", \"Patient Age\", \"Patient Age\", \"Patient Age\", \"Patient Age\", \"Patient Age\", \"Patient Age\", \"Patient Age\", \"Patient Age\", \"Patient Age\", \"Patient Age\", \"Patient Age\", \"Patient Age\", \"Patient Age\", \"Patient Age\", \"Patient Age\", \"Patient Age\", \"Patient Age\", \"Patient Age\", \"Patient Age\", \"Patient Age\", \"Patient Age\", \"Patient Age\", \"Patient Age\", \"Patient Age\", \"Patient Age\", \"Patient Age\", \"Patient Age\", \"Patient Age\", \"Patient Age\", \"Patient Age\", \"Patient Age\", \"Patient Age\", \"Patient Age\", \"Patient Age\", \"Patient Age\", \"Patient Age\", \"Patient Age\", \"Patient Age\", \"Patient Age\", \"Patient Age\", \"Patient Age\", \"Patient Age\", \"Patient Age\", \"Patient Age\", \"Patient Age\", \"Patient Age\", \"Patient Age\", \"Patient Age\", \"Patient Age\", \"Patient Age\", \"Patient Age\", \"Patient Age\", \"Patient Age\", \"Patient Age\", \"Patient Age\", \"Patient Age\", \"Patient Age\", \"Patient Age\", \"Patient Age\", \"Patient Age\", \"Patient Age\", \"Patient Age\", \"Patient Age\", \"Patient Age\", \"Patient Age\", \"Patient Age\", \"Patient Age\", \"Patient Age\", \"Patient Age\", \"Patient Age\", \"Patient Age\", \"Patient Age\", \"Patient Age\", \"Patient Age\", \"Patient Age\", \"Patient Age\", \"Patient Age\", \"Patient Age\", \"Patient Age\", \"Patient Age\", \"Patient Age\", \"Patient Age\", \"Patient Age\", \"Patient Age\", \"Patient Age\", \"Patient Age\", \"Patient Age\", \"Patient Age\", \"Patient Age\", \"Patient Age\", \"Patient Age\", \"Patient Age\", \"Patient Age\", \"Patient Age\", \"Patient Age\", \"Patient Age\", \"Patient Age\", \"Patient Age\", \"Patient Age\", \"Patient Age\", \"Patient Age\", \"Patient Age\", \"Patient Age\", \"Patient Age\", \"Patient Age\", \"Patient Age\", \"Patient Age\", \"Patient Age\", \"Patient Age\", \"Patient Age\", \"Patient Age\", \"Patient Age\", \"Patient Age\", \"Patient Age\", \"Patient Age\", \"Patient Age\", \"Patient Age\", \"Patient Age\", \"Patient Age\", \"Patient Age\", \"Patient Age\", \"Patient Age\", \"Patient Age\", \"Patient Age\", \"Patient Age\", \"Patient Age\", \"Patient Age\", \"Patient Age\", \"Patient Age\", \"Patient Age\", \"Patient Age\", \"Patient Age\", \"Patient Age\", \"Patient Age\", \"Patient Age\", \"Patient Age\", \"Patient Age\", \"Patient Age\", \"Patient Age\", \"Patient Age\", \"Patient Age\", \"Patient Age\", \"Patient Age\", \"Patient Age\", \"Patient Age\", \"Patient Age\", \"Patient Age\", \"Patient Age\", \"Patient Age\", \"Patient Age\", \"Patient Age\", \"Patient Age\", \"Patient Age\", \"Patient Age\", \"Patient Age\", \"Patient Age\", \"Patient Age\", \"Patient Age\", \"Patient Age\", \"Patient Age\", \"Patient Age\", \"Patient Age\", \"Patient Age\", \"Patient Age\", \"Patient Age\", \"Patient Age\", \"Patient Age\", \"Patient Age\", \"Patient Age\", \"Patient Age\", \"Patient Age\", \"Patient Age\", \"Patient Age\", \"Patient Age\", \"Patient Age\", \"Patient Age\", \"Patient Age\", \"Patient Age\", \"Patient Age\", \"Patient Age\", \"Patient Age\", \"Patient Age\", \"Patient Age\", \"Patient Age\", \"Patient Age\", \"Patient Age\", \"Patient Age\", \"Patient Age\", \"Patient Age\", \"Patient Age\", \"Patient Age\", \"Patient Age\", \"Patient Age\", \"Patient Age\", \"Patient Age\", \"Patient Age\", \"Patient Age\", \"Patient Age\", \"Patient Age\", \"Patient Age\", \"Patient Age\", \"Patient Age\", \"Patient Age\", \"Patient Age\", \"Patient Age\", \"Patient Age\", \"Patient Age\", \"Patient Age\", \"Patient Age\", \"Patient Age\", \"Patient Age\", \"Patient Age\", \"Patient Age\", \"Patient Age\", \"Patient Age\", \"Patient Age\", \"Patient Age\", \"Patient Age\", \"Patient Age\", \"Patient Age\", \"Patient Age\", \"Patient Age\", \"Patient Age\", \"Patient Age\", \"Patient Age\", \"Patient Age\", \"Patient Age\", \"Patient Age\", \"Patient Age\", \"Patient Age\", \"Patient Age\", \"Patient Age\", \"Patient Age\", \"Patient Age\", \"Patient Age\", \"Patient Age\", \"Patient Age\", \"Patient Age\", \"Patient Age\", \"Patient Age\", \"Patient Age\", \"Patient Age\", \"Patient Age\", \"Patient Age\", \"Patient Age\", \"Patient Age\", \"Patient Age\", \"Patient Age\", \"Patient Age\", \"Patient Age\", \"Patient Age\", \"Patient Age\", \"Patient Age\", \"Patient Age\", \"Patient Age\", \"Patient Age\", \"Patient Age\", \"Patient Age\", \"Patient Age\", \"Patient Age\", \"Patient Age\", \"Patient Age\", \"Patient Age\", \"Patient Age\", \"Patient Age\", \"Patient Age\", \"Patient Age\", \"Patient Age\", \"Patient Age\", \"Patient Age\", \"Patient Age\", \"Patient Age\", \"Patient Age\", \"Patient Age\", \"Patient Age\", \"Patient Age\", \"Patient Age\", \"Patient Age\", \"Patient Age\", \"Patient Age\", \"Patient Age\", \"Patient Age\", \"Patient Age\", \"Patient Age\", \"Patient Age\", \"Patient Age\", \"Patient Age\", \"Patient Age\", \"Patient Age\", \"Patient Age\", \"Patient Age\", \"Patient Age\", \"Patient Age\", \"Patient Age\", \"Patient Age\", \"Patient Age\", \"Patient Age\", \"Patient Age\", \"Patient Age\", \"Patient Age\", \"Patient Age\", \"Patient Age\", \"Patient Age\", \"Patient Age\", \"Patient Age\", \"Patient Age\", \"Patient Age\", \"Patient Age\", \"Patient Age\", \"Patient Age\", \"Patient Age\", \"Patient Age\", \"Patient Age\", \"Patient Age\", \"Patient Age\", \"Patient Age\", \"Patient Age\", \"Patient Age\", \"Patient Age\", \"Patient Age\", \"Patient Age\", \"Patient Age\", \"Patient Age\", \"Patient Age\", \"Patient Age\", \"Patient Age\", \"Patient Age\", \"Patient Age\", \"Patient Age\", \"Patient Age\", \"Patient Age\", \"Patient Age\", \"Patient Age\", \"Patient Age\", \"Patient Age\", \"Patient Age\", \"Patient Age\", \"Patient Age\", \"Patient Age\", \"Patient Age\", \"Patient Age\", \"Patient Age\", \"Patient Age\", \"Patient Age\", \"Patient Age\", \"Patient Age\", \"Patient Age\", \"Patient Age\", \"Patient Age\", \"Patient Age\", \"Patient Age\", \"Patient Age\", \"Patient Age\", \"Patient Age\", \"Patient Age\", \"Patient Age\", \"Patient Age\", \"Patient Age\", \"Patient Age\", \"Patient Age\", \"Patient Age\", \"Patient Age\", \"Patient Age\", \"Patient Age\", \"Patient Age\", \"Patient Age\", \"Patient Age\", \"Patient Age\", \"Patient Age\", \"Patient Age\", \"Patient Age\", \"Patient Age\", \"Patient Age\", \"Patient Age\", \"Patient Age\", \"Patient Age\", \"Patient Age\", \"Patient Age\", \"Patient Age\", \"Patient Age\", \"Patient Age\", \"Patient Age\", \"Patient Age\", \"Patient Age\", \"Patient Age\", \"Patient Age\", \"Patient Age\", \"Patient Age\", \"Patient Age\", \"Patient Age\", \"Patient Age\", \"Patient Age\", \"Patient Age\", \"Patient Age\", \"Patient Age\", \"Patient Age\", \"Patient Age\", \"Patient Age\", \"Patient Age\", \"Patient Age\", \"Patient Age\", \"Patient Age\", \"Patient Age\", \"Patient Age\", \"Patient Age\", \"Patient Age\", \"Patient Age\", \"Patient Age\", \"Patient Age\", \"Patient Age\", \"Patient Age\", \"Patient Age\", \"Patient Age\", \"Patient Age\", \"Patient Age\", \"Patient Age\", \"Patient Age\", \"Patient Age\", \"Patient Age\", \"Patient Age\", \"Patient Age\", \"Patient Age\", \"Patient Age\", \"Patient Age\", \"Patient Age\", \"Patient Age\", \"Patient Age\", \"Patient Age\", \"Patient Age\", \"Patient Age\", \"Patient Age\", \"Patient Age\", \"Patient Age\", \"Patient Age\", \"Patient Age\", \"Patient Age\", \"Patient Age\", \"Patient Age\", \"Patient Age\", \"Patient Age\", \"Patient Age\", \"Patient Age\", \"Patient Age\", \"Patient Age\", \"Patient Age\", \"Patient Age\", \"Patient Age\", \"Patient Age\", \"Patient Age\", \"Patient Age\", \"Patient Age\", \"Patient Age\", \"Patient Age\", \"Patient Age\", \"Patient Age\", \"Patient Age\", \"Patient Age\", \"Patient Age\", \"Patient Age\", \"Patient Age\", \"Patient Age\", \"Patient Age\", \"Patient Age\", \"Patient Age\", \"Patient Age\", \"Patient Age\", \"Patient Age\", \"Patient Age\", \"Patient Age\", \"Patient Age\", \"Patient Age\", \"Patient Age\", \"Patient Age\", \"Patient Age\", \"Patient Age\", \"Patient Age\", \"Patient Age\", \"Patient Age\", \"Patient Age\", \"Patient Age\", \"Patient Age\", \"Patient Age\", \"Patient Age\", \"Patient Age\", \"Patient Age\", \"Patient Age\", \"Patient Age\", \"Patient Age\", \"Patient Age\", \"Patient Age\", \"Patient Age\", \"Patient Age\", \"Patient Age\", \"Patient Age\", \"Patient Age\", \"Patient Age\", \"Patient Age\", \"Patient Age\", \"Patient Age\", \"Patient Age\", \"Patient Age\", \"Patient Age\", \"Patient Age\", \"Patient Age\", \"Patient Age\", \"Patient Age\", \"Patient Age\", \"Patient Age\", \"Patient Age\", \"Patient Age\", \"Patient Age\", \"Patient Age\", \"Patient Age\", \"Patient Age\", \"Patient Age\", \"Patient Age\", \"Patient Age\", \"Patient Age\", \"Patient Age\", \"Patient Age\", \"Patient Age\", \"Patient Age\", \"Patient Age\", \"Patient Age\", \"Patient Age\", \"Patient Age\", \"Patient Age\", \"Patient Age\", \"Patient Age\", \"Patient Age\", \"Patient Age\", \"Patient Age\", \"Patient Age\", \"Patient Age\", \"Patient Age\", \"Patient Age\", \"Patient Age\", \"Patient Age\", \"Patient Age\", \"Patient Age\", \"Patient Age\", \"Patient Age\", \"Patient Age\", \"Patient Age\", \"Patient Age\", \"Patient Age\", \"Patient Age\", \"Patient Age\", \"Patient Age\", \"Patient Age\", \"Patient Age\", \"Patient Age\", \"Patient Age\", \"Patient Age\", \"Patient Age\", \"Patient Age\", \"Patient Age\", \"Patient Age\", \"Patient Age\", \"Patient Age\", \"Patient Age\", \"Patient Age\", \"Patient Age\", \"Patient Age\", \"Patient Age\", \"Patient Age\", \"Patient Age\", \"Patient Age\", \"Patient Age\", \"Patient Age\", \"Patient Age\", \"Patient Age\", \"Patient Age\", \"Patient Age\", \"Patient Age\", \"Patient Age\", \"Patient Age\", \"Patient Age\", \"Patient Age\", \"Patient Age\", \"Patient Age\", \"Patient Age\", \"Patient Age\", \"Patient Age\", \"Patient Age\", \"Patient Age\", \"Patient Age\", \"Patient Age\", \"Patient Age\", \"Patient Age\", \"Patient Age\", \"Patient Age\", \"Patient Age\", \"Patient Age\", \"Patient Age\", \"Patient Age\", \"Patient Age\", \"Patient Age\", \"Patient Age\", \"Patient Age\", \"Patient Age\", \"Patient Age\", \"Patient Age\", \"Patient Age\", \"Patient Age\", \"Patient Age\", \"Patient Age\", \"Patient Age\", \"Patient Age\", \"Patient Age\", \"Patient Age\", \"Patient Age\", \"Patient Age\", \"Patient Age\", \"Patient Age\", \"Patient Age\", \"Patient Age\", \"Patient Age\", \"Patient Age\", \"Patient Age\", \"Patient Age\", \"Patient Age\", \"Patient Age\", \"Patient Age\", \"Patient Age\", \"Patient Age\", \"Patient Age\", \"Patient Age\", \"Patient Age\", \"Patient Age\", \"Patient Age\", \"Patient Age\", \"Patient Age\", \"Patient Age\", \"Patient Age\", \"Patient Age\", \"Patient Age\", \"Patient Age\", \"Patient Age\", \"Patient Age\", \"Patient Age\", \"Patient Age\", \"Patient Age\", \"Patient Age\", \"Patient Age\", \"Patient Age\", \"Patient Age\", \"Patient Age\", \"Patient Age\", \"Patient Age\", \"Patient Age\", \"Patient Age\", \"Patient Age\", \"Patient Age\", \"Patient Age\", \"Patient Age\", \"Patient Age\", \"Patient Age\", \"Patient Age\", \"Patient Age\", \"Patient Age\", \"Patient Age\", \"Patient Age\", \"Patient Age\", \"Patient Age\", \"Patient Age\", \"Patient Age\", \"Patient Age\", \"Patient Age\", \"Patient Age\", \"Patient Age\", \"Patient Age\", \"Patient Age\", \"Patient Age\", \"Patient Age\", \"Patient Age\", \"Patient Age\", \"Patient Age\", \"Patient Age\", \"Patient Age\", \"Patient Age\", \"Patient Age\", \"Patient Age\", \"Patient Age\", \"Patient Age\", \"Patient Age\", \"Patient Age\", \"Patient Age\", \"Patient Age\", \"Patient Age\", \"Patient Age\", \"Patient Age\", \"Patient Age\", \"Patient Age\", \"Patient Age\", \"Patient Age\", \"Patient Age\", \"Patient Age\", \"Patient Age\", \"Patient Age\", \"Patient Age\", \"Patient Age\", \"Patient Age\", \"Patient Age\", \"Patient Age\", \"Patient Age\", \"Patient Age\", \"Patient Age\", \"Patient Age\", \"Patient Age\", \"Patient Age\", \"Patient Age\", \"Patient Age\", \"Patient Age\", \"Patient Age\", \"Patient Age\", \"Patient Age\", \"Patient Age\", \"Patient Age\", \"Patient Age\", \"Patient Age\", \"Patient Age\", \"Patient Age\", \"Patient Age\", \"Patient Age\", \"Patient Age\", \"Patient Age\", \"Patient Age\", \"Patient Age\", \"Patient Age\", \"Patient Age\", \"Patient Age\", \"Patient Age\", \"Patient Age\", \"Patient Age\", \"Patient Age\", \"Patient Age\", \"Patient Age\", \"Patient Age\", \"Patient Age\", \"Patient Age\", \"Patient Age\", \"Patient Age\", \"Patient Age\", \"Patient Age\", \"Patient Age\", \"Patient Age\", \"Patient Age\", \"Patient Age\", \"Patient Age\", \"Patient Age\", \"Patient Age\", \"Patient Age\", \"Patient Age\", \"Patient Age\", \"Patient Age\", \"Patient Age\", \"Patient Age\", \"Patient Age\", \"Patient Age\", \"Patient Age\", \"Patient Age\", \"Patient Age\", \"Patient Age\", \"Patient Age\", \"Patient Age\", \"Patient Age\", \"Patient Age\", \"Patient Age\", \"Patient Age\", \"Patient Age\", \"Patient Age\", \"Patient Age\", \"Patient Age\", \"Patient Age\", \"Patient Age\", \"Patient Age\", \"Patient Age\", \"Patient Age\", \"Patient Age\", \"Patient Age\", \"Patient Age\", \"Patient Age\", \"Patient Age\", \"Patient Age\", \"Patient Age\", \"Patient Age\", \"Patient Age\", \"Patient Age\", \"Patient Age\", \"Patient Age\", \"Patient Age\", \"Patient Age\", \"Patient Age\", \"Patient Age\", \"Patient Age\", \"Patient Age\", \"Patient Age\", \"Patient Age\", \"Patient Age\", \"Patient Age\", \"Patient Age\", \"Patient Age\", \"Patient Age\", \"Patient Age\", \"Patient Age\", \"Patient Age\", \"Patient Age\", \"Patient Age\", \"Patient Age\", \"Patient Age\", \"Patient Age\", \"Patient Age\", \"Patient Age\", \"Patient Age\", \"Patient Age\", \"Patient Age\", \"Patient Age\", \"Patient Age\", \"Patient Age\", \"Patient Age\", \"Patient Age\", \"Patient Age\", \"Patient Age\", \"Patient Age\", \"Patient Age\", \"Patient Age\", \"Patient Age\", \"Patient Age\", \"Patient Age\", \"Patient Age\", \"Patient Age\", \"Patient Age\", \"Patient Age\", \"Patient Age\", \"Patient Age\", \"Patient Age\", \"Patient Age\", \"Patient Age\", \"Patient Age\", \"Patient Age\", \"Patient Age\", \"Patient Age\", \"Patient Age\", \"Patient Age\", \"Patient Age\", \"Patient Age\", \"Patient Age\", \"Patient Age\", \"Patient Age\", \"Patient Age\", \"Patient Age\", \"Patient Age\", \"Patient Age\", \"Patient Age\", \"Patient Age\", \"Patient Age\", \"Patient Age\", \"Patient Age\", \"Patient Age\", \"Patient Age\", \"Patient Age\", \"Patient Age\", \"Patient Age\", \"Patient Age\", \"Patient Age\", \"Patient Age\", \"Patient Age\", \"Patient Age\", \"Patient Age\", \"Patient Age\", \"Patient Age\", \"Patient Age\", \"Patient Age\", \"Patient Age\", \"Patient Age\", \"Patient Age\", \"Patient Age\", \"Patient Age\", \"Patient Age\", \"Patient Age\", \"Patient Age\", \"Patient Age\", \"Patient Age\", \"Patient Age\", \"Patient Age\", \"Patient Age\", \"Patient Age\", \"Patient Age\", \"Patient Age\", \"Patient Age\", \"Patient Age\", \"Patient Age\", \"Patient Age\", \"Patient Age\", \"Patient Age\", \"Patient Age\", \"Patient Age\", \"Patient Age\", \"Patient Age\", \"Patient Age\", \"Patient Age\", \"Patient Age\", \"Patient Age\", \"Patient Age\", \"Patient Age\", \"Patient Age\", \"Patient Age\", \"Patient Age\", \"Patient Age\", \"Patient Age\", \"Patient Age\", \"Patient Age\", \"Patient Age\", \"Patient Age\", \"Patient Age\", \"Patient Age\", \"Patient Age\", \"Patient Age\", \"Patient Age\", \"Patient Age\", \"Patient Age\", \"Patient Age\", \"Patient Age\", \"Patient Age\", \"Patient Age\", \"Patient Age\", \"Patient Age\", \"Patient Age\", \"Patient Age\", \"Patient Age\", \"Patient Age\", \"Patient Age\", \"Patient Age\", \"Patient Age\", \"Patient Age\", \"Patient Age\", \"Patient Age\", \"Patient Age\", \"Patient Age\", \"Patient Age\", \"Patient Age\", \"Patient Age\", \"Patient Age\", \"Patient Age\", \"Patient Age\", \"Patient Age\", \"Patient Age\", \"Patient Age\", \"Patient Age\", \"Patient Age\", \"Patient Age\", \"Patient Age\", \"Patient Age\", \"Patient Age\", \"Patient Age\", \"Patient Age\", \"Patient Age\", \"Patient Age\", \"Patient Age\", \"Patient Age\", \"Patient Age\", \"Patient Age\", \"Patient Age\", \"Patient Age\", \"Patient Age\", \"Patient Age\", \"Patient Age\", \"Patient Age\", \"Patient Age\", \"Patient Age\", \"Patient Age\", \"Patient Age\", \"Patient Age\", \"Patient Age\", \"Patient Age\", \"Patient Age\", \"Patient Age\", \"Patient Age\", \"Patient Age\", \"Patient Age\", \"Patient Age\", \"Patient Age\", \"Patient Age\", \"Patient Age\", \"Patient Age\", \"Patient Age\", \"Patient Age\", \"Patient Age\", \"Patient Age\", \"Patient Age\", \"Patient Age\", \"Patient Age\", \"Patient Age\", \"Patient Age\", \"Patient Age\", \"Patient Age\", \"Patient Age\", \"Patient Age\", \"Patient Age\", \"Patient Age\", \"Patient Age\", \"Patient Age\", \"Patient Age\", \"Patient Age\", \"Patient Age\", \"Patient Age\", \"Patient Age\", \"Patient Age\", \"Patient Age\", \"Patient Age\", \"Patient Age\", \"Patient Age\", \"Patient Age\", \"Patient Age\", \"Patient Age\", \"Patient Age\", \"Patient Age\", \"Patient Age\", \"Patient Age\", \"Patient Age\", \"Patient Age\", \"Patient Age\", \"Patient Age\", \"Patient Age\", \"Patient Age\", \"Patient Age\", \"Patient Age\", \"Patient Age\", \"Patient Age\", \"Patient Age\", \"Patient Age\", \"Patient Age\", \"Patient Age\", \"Patient Age\", \"Patient Age\", \"Patient Age\", \"Patient Age\", \"Patient Age\", \"Patient Age\", \"Patient Age\", \"Patient Age\", \"Patient Age\", \"Patient Age\", \"Patient Age\", \"Patient Age\", \"Patient Age\", \"Patient Age\", \"Patient Age\", \"Patient Age\", \"Patient Age\", \"Patient Age\", \"Patient Age\", \"Patient Age\", \"Patient Age\", \"Patient Age\", \"Patient Age\", \"Patient Age\", \"Patient Age\", \"Patient Age\", \"Patient Age\", \"Patient Age\", \"Patient Age\", \"Patient Age\", \"Patient Age\", \"Patient Age\", \"Patient Age\", \"Patient Age\", \"Patient Age\", \"Patient Age\", \"Patient Age\", \"Patient Age\", \"Patient Age\", \"Patient Age\", \"Patient Age\", \"Patient Age\", \"Patient Age\", \"Patient Age\", \"Patient Age\", \"Patient Age\", \"Patient Age\", \"Patient Age\", \"Patient Age\", \"Patient Age\", \"Patient Age\", \"Patient Age\", \"Patient Age\", \"Patient Age\", \"Patient Age\", \"Patient Age\", \"Patient Age\", \"Patient Age\", \"Patient Age\", \"Patient Age\", \"Patient Age\", \"Patient Age\", \"Patient Age\", \"Patient Age\", \"Patient Age\", \"Patient Age\", \"Patient Age\", \"Patient Age\", \"Patient Age\", \"Patient Age\", \"Patient Age\", \"Patient Age\", \"Patient Age\", \"Patient Age\", \"Patient Age\", \"Patient Age\", \"Patient Age\", \"Patient Age\", \"Patient Age\", \"Patient Age\", \"Patient Age\", \"Patient Age\", \"Patient Age\", \"Patient Age\", \"Patient Age\", \"Patient Age\", \"Patient Age\", \"Patient Age\", \"Patient Age\", \"Patient Age\", \"Patient Age\", \"Patient Age\", \"Patient Age\", \"Patient Age\", \"Patient Age\", \"Patient Age\", \"Patient Age\", \"Patient Age\", \"Patient Age\", \"Patient Age\", \"Patient Age\", \"Patient Age\", \"Patient Age\", \"Patient Age\", \"Patient Age\", \"Patient Age\", \"Patient Age\", \"Patient Age\", \"Patient Age\", \"Patient Age\", \"Patient Age\", \"Patient Age\", \"Patient Age\", \"Patient Age\", \"Patient Age\", \"Patient Age\", \"Patient Age\", \"Patient Age\", \"Patient Age\", \"Patient Age\", \"Patient Age\", \"Patient Age\", \"Patient Age\", \"Patient Age\", \"Patient Age\", \"Patient Age\", \"Patient Age\", \"Patient Age\", \"Patient Age\", \"Patient Age\", \"Patient Age\", \"Patient Age\", \"Patient Age\", \"Patient Age\", \"Patient Age\", \"Patient Age\", \"Patient Age\", \"Patient Age\", \"Patient Age\", \"Patient Age\", \"Patient Age\", \"Patient Age\", \"Patient Age\", \"Patient Age\", \"Patient Age\", \"Patient Age\", \"Patient Age\", \"Patient Age\", \"Patient Age\", \"Patient Age\", \"Patient Age\", \"Patient Age\", \"Patient Age\", \"Patient Age\", \"Patient Age\", \"Patient Age\", \"Patient Age\", \"Patient Age\", \"Patient Age\", \"Patient Age\", \"Patient Age\", \"Patient Age\", \"Patient Age\", \"Patient Age\", \"Patient Age\", \"Patient Age\", \"Patient Age\", \"Patient Age\", \"Patient Age\", \"Patient Age\", \"Patient Age\", \"Patient Age\", \"Patient Age\", \"Patient Age\", \"Patient Age\", \"Patient Age\", \"Patient Age\", \"Patient Age\", \"Patient Age\", \"Patient Age\", \"Patient Age\", \"Patient Age\", \"Patient Age\", \"Patient Age\", \"Patient Age\", \"Patient Age\", \"Patient Age\", \"Patient Age\", \"Patient Age\", \"Patient Age\", \"Patient Age\", \"Patient Age\", \"Patient Age\", \"Patient Age\", \"Patient Age\", \"Patient Age\", \"Patient Age\", \"Patient Age\", \"Patient Age\", \"Patient Age\", \"Patient Age\", \"Patient Age\", \"Patient Age\", \"Patient Age\", \"Patient Age\", \"Patient Age\", \"Patient Age\", \"Patient Age\", \"Patient Age\", \"Patient Age\", \"Patient Age\", \"Patient Age\", \"Patient Age\", \"Patient Age\", \"Patient Age\", \"Patient Age\", \"Patient Age\", \"Patient Age\", \"Patient Age\", \"Patient Age\", \"Patient Age\", \"Patient Age\", \"Patient Age\", \"Patient Age\", \"Patient Age\", \"Patient Age\", \"Patient Age\", \"Patient Age\", \"Patient Age\", \"Patient Age\", \"Patient Age\", \"Patient Age\", \"Patient Age\", \"Patient Age\", \"Patient Age\", \"Patient Age\", \"Patient Age\", \"Patient Age\", \"Patient Age\", \"Patient Age\", \"Patient Age\", \"Patient Age\", \"Patient Age\", \"Patient Age\", \"Patient Age\", \"Patient Age\", \"Patient Age\", \"Patient Age\", \"Patient Age\", \"Patient Age\", \"Patient Age\", \"Patient Age\", \"Patient Age\", \"Patient Age\", \"Patient Age\", \"Patient Age\", \"Patient Age\", \"Patient Age\", \"Patient Age\", \"Patient Age\", \"Patient Age\", \"Patient Age\", \"Patient Age\", \"Patient Age\", \"Patient Age\", \"Patient Age\", \"Patient Age\", \"Patient Age\", \"Patient Age\", \"Patient Age\", \"Patient Age\", \"Patient Age\", \"Patient Age\", \"Patient Age\", \"Patient Age\", \"Patient Age\", \"Patient Age\", \"Patient Age\", \"Patient Age\", \"Patient Age\", \"Patient Age\", \"Patient Age\", \"Patient Age\", \"Patient Age\", \"Patient Age\", \"Patient Age\", \"Patient Age\", \"Patient Age\", \"Patient Age\", \"Patient Age\", \"Patient Age\", \"Patient Age\", \"Patient Age\", \"Patient Age\", \"Patient Age\", \"Patient Age\", \"Patient Age\", \"Patient Age\", \"Patient Age\", \"Patient Age\", \"Patient Age\", \"Patient Age\", \"Patient Age\", \"Patient Age\", \"Patient Age\", \"Patient Age\", \"Patient Age\", \"Patient Age\", \"Patient Age\", \"Patient Age\", \"Patient Age\", \"Patient Age\", \"Patient Age\", \"Patient Age\", \"Patient Age\", \"Patient Age\", \"Patient Age\", \"Patient Age\", \"Patient Age\", \"Patient Age\", \"Patient Age\", \"Patient Age\", \"Patient Age\", \"Patient Age\", \"Patient Age\", \"Patient Age\", \"Patient Age\", \"Patient Age\", \"Patient Age\", \"Patient Age\", \"Patient Age\", \"Patient Age\", \"Patient Age\", \"Patient Age\", \"Patient Age\", \"Patient Age\", \"Patient Age\", \"Patient Age\", \"Patient Age\", \"Patient Age\", \"Patient Age\", \"Patient Age\", \"Patient Age\", \"Patient Age\", \"Patient Age\", \"Patient Age\", \"Patient Age\", \"Patient Age\", \"Patient Age\", \"Patient Age\", \"Patient Age\", \"Patient Age\", \"Patient Age\", \"Patient Age\", \"Patient Age\", \"Patient Age\", \"Patient Age\", \"Patient Age\", \"Patient Age\", \"Patient Age\", \"Patient Age\", \"Patient Age\", \"Patient Age\", \"Patient Age\", \"Patient Age\", \"Patient Age\", \"Patient Age\", \"Patient Age\", \"Patient Age\", \"Patient Age\", \"Patient Age\", \"Patient Age\", \"Patient Age\", \"Patient Age\", \"Patient Age\", \"Patient Age\", \"Patient Age\", \"Patient Age\", \"Patient Age\", \"Patient Age\", \"Patient Age\", \"Patient Age\", \"Patient Age\", \"Patient Age\", \"Patient Age\", \"Patient Age\", \"Patient Age\", \"Patient Age\", \"Patient Age\", \"Patient Age\", \"Patient Age\", \"Patient Age\", \"Patient Age\", \"Patient Age\", \"Patient Age\", \"Patient Age\", \"Patient Age\", \"Patient Age\", \"Patient Age\", \"Patient Age\", \"Patient Age\", \"Patient Age\", \"Patient Age\", \"Patient Age\", \"Patient Age\", \"Patient Age\", \"Patient Age\", \"Patient Age\", \"Patient Age\", \"Patient Age\", \"Patient Age\", \"Patient Age\", \"Patient Age\", \"Patient Age\", \"Patient Age\", \"Patient Age\", \"Patient Age\", \"Patient Age\", \"Patient Age\", \"Patient Age\", \"Patient Age\", \"Patient Age\", \"Patient Age\", \"Patient Age\", \"Patient Age\", \"Patient Age\", \"Patient Age\", \"Patient Age\", \"Patient Age\", \"Patient Age\", \"Patient Age\", \"Patient Age\", \"Patient Age\", \"Patient Age\", \"Patient Age\", \"Patient Age\", \"Patient Age\", \"Patient Age\", \"Patient Age\", \"Patient Age\", \"Patient Age\", \"Patient Age\", \"Patient Age\", \"Patient Age\", \"Patient Age\", \"Patient Age\", \"Patient Age\", \"Patient Age\", \"Patient Age\", \"Patient Age\", \"Patient Age\", \"Patient Age\", \"Patient Age\", \"Patient Age\", \"Patient Age\", \"Patient Age\", \"Patient Age\", \"Patient Age\", \"Patient Age\", \"Patient Age\", \"Patient Age\", \"Patient Age\", \"Patient Age\", \"Patient Age\", \"Patient Age\", \"Patient Age\", \"Patient Age\", \"Patient Age\", \"Patient Age\", \"Patient Age\", \"Patient Age\", \"Patient Age\", \"Patient Age\", \"Patient Age\", \"Patient Age\", \"Patient Age\", \"Patient Age\", \"Patient Age\", \"Patient Age\", \"Patient Age\", \"Patient Age\", \"Patient Age\", \"Patient Age\", \"Patient Age\", \"Patient Age\", \"Patient Age\", \"Patient Age\", \"Patient Age\", \"Patient Age\", \"Patient Age\", \"Patient Age\", \"Patient Age\", \"Patient Age\", \"Patient Age\", \"Patient Age\", \"Patient Age\", \"Patient Age\", \"Patient Age\", \"Patient Age\", \"Patient Age\", \"Patient Age\", \"Patient Age\", \"Patient Age\", \"Patient Age\", \"Patient Age\", \"Patient Age\", \"Patient Age\", \"Patient Age\", \"Patient Age\", \"Patient Age\", \"Patient Age\", \"Patient Age\", \"Patient Age\", \"Patient Age\", \"Patient Age\", \"Patient Age\", \"Patient Age\", \"Patient Age\", \"Patient Age\", \"Patient Age\", \"Patient Age\", \"Patient Age\", \"Patient Age\", \"Patient Age\", \"Patient Age\", \"Patient Age\", \"Patient Age\", \"Patient Age\", \"Patient Age\", \"Patient Age\", \"Patient Age\", \"Patient Age\", \"Patient Age\", \"Patient Age\", \"Patient Age\", \"Patient Age\", \"Patient Age\", \"Patient Age\", \"Patient Age\", \"Patient Age\", \"Patient Age\", \"Patient Age\", \"Patient Age\", \"Patient Age\", \"Patient Age\", \"Patient Age\", \"Patient Age\", \"Patient Age\", \"Patient Age\", \"Patient Age\", \"Patient Age\", \"Patient Age\", \"Patient Age\", \"Patient Age\", \"Patient Age\", \"Patient Age\", \"Patient Age\", \"Patient Age\", \"Patient Age\", \"Patient Age\", \"Patient Age\", \"Patient Age\", \"Patient Age\", \"Patient Age\", \"Patient Age\", \"Patient Age\", \"Patient Age\", \"Patient Age\", \"Patient Age\", \"Patient Age\", \"Patient Age\", \"Patient Age\", \"Patient Age\", \"Patient Age\", \"Patient Age\", \"Patient Age\", \"Patient Age\", \"Patient Age\", \"Patient Age\", \"Patient Age\", \"Patient Age\", \"Patient Age\", \"Patient Age\", \"Patient Age\", \"Patient Age\", \"Patient Age\", \"Patient Age\", \"Patient Age\", \"Patient Age\", \"Patient Age\", \"Patient Age\", \"Patient Age\", \"Patient Age\", \"Patient Age\", \"Patient Age\", \"Patient Age\", \"Patient Age\", \"Patient Age\", \"Patient Age\", \"Patient Age\", \"Patient Age\", \"Patient Age\", \"Patient Age\", \"Patient Age\", \"Patient Age\", \"Patient Age\", \"Patient Age\", \"Patient Age\", \"Patient Age\", \"Patient Age\", \"Patient Age\", \"Patient Age\", \"Patient Age\", \"Patient Age\", \"Patient Age\", \"Patient Age\", \"Patient Age\", \"Patient Age\", \"Patient Age\", \"Patient Age\", \"Patient Age\", \"Patient Age\", \"Patient Age\", \"Patient Age\", \"Patient Age\", \"Patient Age\", \"Patient Age\", \"Patient Age\", \"Patient Age\", \"Patient Age\", \"Patient Age\", \"Patient Age\", \"Patient Age\", \"Patient Age\", \"Patient Age\", \"Patient Age\", \"Patient Age\", \"Patient Age\", \"Patient Age\", \"Patient Age\", \"Patient Age\", \"Patient Age\", \"Patient Age\", \"Patient Age\", \"Patient Age\", \"Patient Age\", \"Patient Age\", \"Patient Age\", \"Patient Age\", \"Patient Age\", \"Patient Age\", \"Patient Age\", \"Patient Age\", \"Patient Age\", \"Patient Age\", \"Patient Age\", \"Patient Age\", \"Patient Age\", \"Patient Age\", \"Patient Age\", \"Patient Age\", \"Patient Age\", \"Patient Age\", \"Patient Age\", \"Patient Age\", \"Patient Age\", \"Patient Age\", \"Patient Age\", \"Patient Age\", \"Patient Age\", \"Patient Age\", \"Patient Age\", \"Patient Age\", \"Patient Age\", \"Patient Age\", \"Patient Age\", \"Patient Age\", \"Patient Age\", \"Patient Age\", \"Patient Age\", \"Patient Age\", \"Patient Age\", \"Patient Age\", \"Patient Age\", \"Patient Age\", \"Patient Age\", \"Patient Age\", \"Patient Age\", \"Patient Age\", \"Patient Age\", \"Patient Age\", \"Patient Age\", \"Patient Age\", \"Patient Age\", \"Patient Age\", \"Patient Age\", \"Patient Age\", \"Patient Age\", \"Patient Age\", \"Patient Age\", \"Patient Age\", \"Patient Age\", \"Patient Age\", \"Patient Age\", \"Patient Age\", \"Patient Age\", \"Patient Age\", \"Patient Age\", \"Patient Age\", \"Patient Age\", \"Patient Age\", \"Patient Age\", \"Patient Age\", \"Patient Age\", \"Patient Age\", \"Patient Age\", \"Patient Age\", \"Patient Age\", \"Patient Age\", \"Patient Age\", \"Patient Age\", \"Patient Age\", \"Patient Age\", \"Patient Age\", \"Patient Age\", \"Patient Age\", \"Patient Age\", \"Patient Age\", \"Patient Age\", \"Patient Age\", \"Patient Age\", \"Patient Age\", \"Patient Age\", \"Patient Age\", \"Patient Age\", \"Patient Age\", \"Patient Age\", \"Patient Age\", \"Patient Age\", \"Patient Age\", \"Patient Age\", \"Patient Age\", \"Patient Age\", \"Patient Age\", \"Patient Age\", \"Patient Age\", \"Patient Age\", \"Patient Age\", \"Patient Age\", \"Patient Age\", \"Patient Age\", \"Patient Age\", \"Patient Age\", \"Patient Age\", \"Patient Age\", \"Patient Age\", \"Patient Age\", \"Patient Age\", \"Patient Age\", \"Patient Age\", \"Patient Age\", \"Patient Age\", \"Patient Age\", \"Patient Age\", \"Patient Age\", \"Patient Age\", \"Patient Age\", \"Patient Age\", \"Patient Age\", \"Patient Age\", \"Patient Age\", \"Patient Age\", \"Patient Age\", \"Patient Age\", \"Patient Age\", \"Patient Age\", \"Patient Age\", \"Patient Age\", \"Patient Age\", \"Patient Age\", \"Patient Age\", \"Patient Age\", \"Patient Age\", \"Patient Age\", \"Patient Age\", \"Patient Age\", \"Patient Age\", \"Patient Age\", \"Patient Age\", \"Patient Age\", \"Patient Age\", \"Patient Age\", \"Patient Age\", \"Patient Age\", \"Patient Age\", \"Patient Age\", \"Patient Age\", \"Patient Age\", \"Patient Age\", \"Patient Age\", \"Patient Age\", \"Patient Age\", \"Patient Age\", \"Patient Age\", \"Patient Age\", \"Patient Age\", \"Patient Age\", \"Patient Age\", \"Patient Age\", \"Patient Age\", \"Patient Age\", \"Patient Age\", \"Patient Age\", \"Patient Age\", \"Patient Age\", \"Patient Age\", \"Patient Age\", \"Patient Age\", \"Patient Age\", \"Patient Age\", \"Patient Age\", \"Patient Age\", \"Patient Age\", \"Patient Age\", \"Patient Age\", \"Patient Age\", \"Patient Age\", \"Patient Age\", \"Patient Age\", \"Patient Age\", \"Patient Age\", \"Patient Age\", \"Patient Age\", \"Patient Age\", \"Patient Age\", \"Patient Age\", \"Patient Age\", \"Patient Age\", \"Patient Age\", \"Patient Age\", \"Patient Age\", \"Patient Age\", \"Patient Age\", \"Patient Age\", \"Patient Age\", \"Patient Age\", \"Patient Age\", \"Patient Age\", \"Patient Age\", \"Patient Age\", \"Patient Age\", \"Patient Age\", \"Patient Age\", \"Patient Age\", \"Patient Age\", \"Patient Age\", \"Patient Age\", \"Patient Age\", \"Patient Age\", \"Patient Age\", \"Patient Age\", \"Patient Age\", \"Patient Age\", \"Patient Age\", \"Patient Age\", \"Patient Age\", \"Patient Age\", \"Patient Age\", \"Patient Age\", \"Patient Age\", \"Patient Age\", \"Patient Age\", \"Patient Age\", \"Patient Age\", \"Patient Age\", \"Patient Age\", \"Patient Age\", \"Patient Age\", \"Patient Age\", \"Patient Age\", \"Patient Age\", \"Patient Age\", \"Patient Age\", \"Patient Age\", \"Patient Age\", \"Patient Age\", \"Patient Age\", \"Patient Age\", \"Patient Age\", \"Patient Age\", \"Patient Age\", \"Patient Age\", \"Patient Age\", \"Patient Age\", \"Patient Age\", \"Patient Age\", \"Patient Age\", \"Patient Age\", \"Patient Age\", \"Patient Age\", \"Patient Age\", \"Patient Age\", \"Patient Age\", \"Patient Age\", \"Patient Age\", \"Patient Age\", \"Patient Age\", \"Patient Age\", \"Patient Age\", \"Patient Age\", \"Patient Age\", \"Patient Age\", \"Patient Age\", \"Patient Age\", \"Patient Age\", \"Patient Age\", \"Patient Age\", \"Patient Age\", \"Patient Age\", \"Patient Age\", \"Patient Age\", \"Patient Age\", \"Patient Age\", \"Patient Age\", \"Patient Age\", \"Patient Age\", \"Patient Age\", \"Patient Age\", \"Patient Age\", \"Patient Age\", \"Patient Age\", \"Patient Age\", \"Patient Age\", \"Patient Age\", \"Patient Age\", \"Patient Age\", \"Patient Age\", \"Patient Age\", \"Patient Age\", \"Patient Age\", \"Patient Age\", \"Patient Age\", \"Patient Age\", \"Patient Age\", \"Patient Age\", \"Patient Age\", \"Patient Age\", \"Patient Age\", \"Patient Age\", \"Patient Age\", \"Patient Age\", \"Patient Age\", \"Patient Age\", \"Patient Age\", \"Patient Age\", \"Patient Age\", \"Patient Age\", \"Patient Age\", \"Patient Age\", \"Patient Age\", \"Patient Age\", \"Patient Age\", \"Patient Age\", \"Patient Age\", \"Patient Age\", \"Patient Age\", \"Patient Age\", \"Patient Age\", \"Patient Age\", \"Patient Age\", \"Patient Age\", \"Patient Age\", \"Patient Age\", \"Patient Age\", \"Patient Age\", \"Patient Age\", \"Patient Age\", \"Patient Age\", \"Patient Age\", \"Patient Age\", \"Patient Age\", \"Patient Age\", \"Patient Age\", \"Patient Age\", \"Patient Age\", \"Patient Age\", \"Patient Age\", \"Patient Age\", \"Patient Age\", \"Patient Age\", \"Patient Age\", \"Patient Age\", \"Patient Age\", \"Patient Age\", \"Patient Age\", \"Patient Age\", \"Patient Age\", \"Patient Age\", \"Patient Age\", \"Patient Age\", \"Patient Age\", \"Patient Age\", \"Patient Age\", \"Patient Age\", \"Patient Age\", \"Patient Age\", \"Patient Age\", \"Patient Age\", \"Patient Age\", \"Patient Age\", \"Patient Age\", \"Patient Age\", \"Patient Age\", \"Patient Age\", \"Patient Age\", \"Patient Age\", \"Patient Age\", \"Patient Age\", \"Patient Age\", \"Patient Age\", \"Patient Age\", \"Patient Age\", \"Patient Age\", \"Patient Age\", \"Patient Age\", \"Patient Age\", \"Patient Age\", \"Patient Age\", \"Patient Age\", \"Patient Age\", \"Patient Age\", \"Patient Age\", \"Patient Age\", \"Patient Age\", \"Patient Age\", \"Patient Age\", \"Patient Age\", \"Patient Age\", \"Patient Age\", \"Patient Age\", \"Patient Age\", \"Patient Age\", \"Patient Age\", \"Patient Age\", \"Patient Age\", \"Patient Age\", \"Patient Age\", \"Patient Age\", \"Patient Age\", \"Patient Age\", \"Patient Age\", \"Patient Age\", \"Patient Age\", \"Patient Age\", \"Patient Age\", \"Patient Age\", \"Patient Age\", \"Patient Age\", \"Patient Age\", \"Patient Age\", \"Patient Age\", \"Patient Age\", \"Patient Age\", \"Patient Age\", \"Patient Age\", \"Patient Age\", \"Patient Age\", \"Patient Age\", \"Patient Age\", \"Patient Age\", \"Patient Age\", \"Patient Age\", \"Patient Age\", \"Patient Age\", \"Patient Age\", \"Patient Age\", \"Patient Age\", \"Patient Age\", \"Patient Age\", \"Patient Age\", \"Patient Age\", \"Patient Age\", \"Patient Age\", \"Patient Age\", \"Patient Age\", \"Patient Age\", \"Patient Age\", \"Patient Age\", \"Patient Age\", \"Patient Age\", \"Patient Age\", \"Patient Age\", \"Patient Age\", \"Patient Age\", \"Patient Age\", \"Patient Age\", \"Patient Age\", \"Patient Age\", \"Patient Age\", \"Patient Age\", \"Patient Age\", \"Patient Age\", \"Patient Age\", \"Patient Age\", \"Patient Age\", \"Patient Age\", \"Patient Age\", \"Patient Age\", \"Patient Age\", \"Patient Age\", \"Patient Age\", \"Patient Age\", \"Patient Age\", \"Patient Age\", \"Patient Age\", \"Patient Age\", \"Patient Age\", \"Patient Age\", \"Patient Age\", \"Patient Age\", \"Patient Age\", \"Patient Age\", \"Patient Age\", \"Patient Age\", \"Patient Age\", \"Patient Age\", \"Patient Age\", \"Patient Age\", \"Patient Age\", \"Patient Age\", \"Patient Age\", \"Patient Age\", \"Patient Age\", \"Patient Age\", \"Patient Age\", \"Patient Age\", \"Patient Age\", \"Patient Age\", \"Patient Age\", \"Patient Age\", \"Patient Age\", \"Patient Age\", \"Patient Age\", \"Patient Age\", \"Patient Age\", \"Patient Age\", \"Patient Age\", \"Patient Age\", \"Patient Age\", \"Patient Age\", \"Patient Age\", \"Patient Age\", \"Patient Age\", \"Patient Age\", \"Patient Age\", \"Patient Age\", \"Patient Age\", \"Patient Age\", \"Patient Age\", \"Patient Age\", \"Patient Age\", \"Patient Age\", \"Patient Age\", \"Patient Age\", \"Patient Age\", \"Patient Age\", \"Patient Age\", \"Patient Age\", \"Patient Age\", \"Patient Age\", \"Patient Age\", \"Patient Age\", \"Patient Age\", \"Patient Age\", \"Patient Age\", \"Patient Age\", \"Patient Age\", \"Patient Age\", \"Patient Age\", \"Patient Age\", \"Patient Age\", \"Patient Age\", \"Patient Age\", \"Patient Age\", \"Patient Age\", \"Patient Age\", \"Patient Age\", \"Patient Age\", \"Patient Age\", \"Patient Age\", \"Patient Age\", \"Patient Age\", \"Patient Age\", \"Patient Age\", \"Patient Age\", \"Patient Age\", \"Patient Age\", \"Patient Age\", \"Patient Age\", \"Patient Age\", \"Patient Age\", \"Patient Age\", \"Patient Age\", \"Patient Age\", \"Patient Age\", \"Patient Age\", \"Patient Age\", \"Patient Age\", \"Patient Age\", \"Patient Age\", \"Patient Age\", \"Patient Age\", \"Patient Age\", \"Patient Age\", \"Patient Age\", \"Patient Age\", \"Patient Age\", \"Patient Age\", \"Patient Age\", \"Patient Age\", \"Patient Age\", \"Patient Age\", \"Patient Age\", \"Patient Age\", \"Patient Age\", \"Patient Age\", \"Patient Age\", \"Patient Age\", \"Patient Age\", \"Patient Age\", \"Patient Age\", \"Patient Age\", \"Patient Age\", \"Patient Age\", \"Patient Age\", \"Patient Age\", \"Patient Age\", \"Patient Age\", \"Patient Age\", \"Patient Age\", \"Patient Age\", \"Patient Age\", \"Patient Age\", \"Patient Age\", \"Patient Age\", \"Patient Age\", \"Patient Age\", \"Patient Age\", \"Patient Age\", \"Patient Age\", \"Patient Age\", \"Patient Age\", \"Patient Age\", \"Patient Age\", \"Patient Age\", \"Patient Age\", \"Patient Age\", \"Patient Age\", \"Patient Age\", \"Patient Age\", \"Patient Age\", \"Patient Age\", \"Patient Age\", \"Patient Age\", \"Patient Age\", \"Patient Age\", \"Patient Age\", \"Patient Age\", \"Patient Age\", \"Patient Age\", \"Patient Age\", \"Patient Age\", \"Patient Age\", \"Patient Age\", \"Patient Age\", \"Patient Age\", \"Patient Age\", \"Patient Age\", \"Patient Age\", \"Patient Age\", \"Patient Age\", \"Patient Age\", \"Patient Age\", \"Patient Age\", \"Patient Age\", \"Patient Age\", \"Patient Age\", \"Patient Age\", \"Patient Age\", \"Patient Age\", \"Patient Age\", \"Patient Age\", \"Patient Age\", \"Patient Age\", \"Patient Age\", \"Patient Age\", \"Patient Age\", \"Patient Age\", \"Patient Age\", \"Patient Age\", \"Patient Age\", \"Patient Age\", \"Patient Age\", \"Patient Age\", \"Patient Age\", \"Patient Age\", \"Patient Age\", \"Patient Age\", \"Patient Age\", \"Patient Age\", \"Patient Age\", \"Patient Age\", \"Patient Age\", \"Patient Age\", \"Patient Age\", \"Patient Age\", \"Patient Age\", \"Patient Age\", \"Patient Age\", \"Patient Age\", \"Patient Age\", \"Patient Age\", \"Patient Age\", \"Patient Age\", \"Patient Age\", \"Patient Age\", \"Patient Age\", \"Patient Age\", \"Patient Age\", \"Patient Age\", \"Patient Age\", \"Patient Age\", \"Patient Age\", \"Patient Age\", \"Patient Age\", \"Patient Age\", \"Patient Age\", \"Patient Age\", \"Patient Age\", \"Patient Age\", \"Patient Age\", \"Patient Age\", \"Patient Age\", \"Patient Age\", \"Patient Age\", \"Patient Age\", \"Patient Age\", \"Patient Age\", \"Patient Age\", \"Patient Age\", \"Patient Age\", \"Patient Age\", \"Patient Age\", \"Patient Age\", \"Patient Age\", \"Patient Age\", \"Patient Age\", \"Patient Age\", \"Patient Age\", \"Patient Age\", \"Patient Age\", \"Patient Age\", \"Patient Age\", \"Patient Age\", \"Patient Age\", \"Patient Age\", \"Patient Age\", \"Patient Age\", \"Patient Age\", \"Patient Age\", \"Patient Age\", \"Patient Age\", \"Patient Age\", \"Patient Age\", \"Patient Age\", \"Patient Age\", \"Patient Age\", \"Patient Age\", \"Patient Age\", \"Patient Age\", \"Patient Age\", \"Patient Age\", \"Patient Age\", \"Patient Age\", \"Patient Age\", \"Patient Age\", \"Patient Age\", \"Patient Age\", \"Patient Age\", \"Patient Age\", \"Patient Age\", \"Patient Age\", \"Patient Age\", \"Patient Age\", \"Patient Age\", \"Patient Age\", \"Patient Age\", \"Patient Age\", \"Patient Age\", \"Patient Age\", \"Patient Age\", \"Patient Age\", \"Patient Age\", \"Patient Age\", \"Patient Age\", \"Patient Age\", \"Patient Age\", \"Patient Age\", \"Patient Age\", \"Patient Age\", \"Patient Age\", \"Patient Age\", \"Patient Age\", \"Patient Age\", \"Patient Age\", \"Patient Age\", \"Patient Age\", \"Patient Age\", \"Patient Age\", \"Patient Age\", \"Patient Age\", \"Patient Age\", \"Patient Age\", \"Patient Age\", \"Patient Age\", \"Patient Age\", \"Patient Age\", \"Patient Age\", \"Patient Age\", \"Patient Age\", \"Patient Age\", \"Patient Age\", \"Patient Age\", \"Patient Age\", \"Patient Age\", \"Patient Age\", \"Patient Age\", \"Patient Age\", \"Patient Age\", \"Patient Age\", \"Patient Age\", \"Patient Age\", \"Patient Age\", \"Patient Age\", \"Patient Age\", \"Patient Age\", \"Patient Age\", \"Patient Age\", \"Patient Age\", \"Patient Age\", \"Patient Age\", \"Patient Age\", \"Patient Age\", \"Patient Age\", \"Patient Age\", \"Patient Age\", \"Patient Age\", \"Patient Age\", \"Patient Age\", \"Patient Age\", \"Patient Age\", \"Patient Age\", \"Patient Age\", \"Patient Age\", \"Patient Age\", \"Patient Age\", \"Patient Age\", \"Patient Age\", \"Patient Age\", \"Patient Age\", \"Patient Age\", \"Patient Age\", \"Patient Age\", \"Patient Age\", \"Patient Age\", \"Patient Age\", \"Patient Age\", \"Patient Age\", \"Patient Age\", \"Patient Age\", \"Patient Age\", \"Patient Age\", \"Patient Age\", \"Patient Age\", \"Patient Age\", \"Patient Age\", \"Patient Age\", \"Patient Age\", \"Patient Age\", \"Patient Age\", \"Patient Age\", \"Patient Age\", \"Patient Age\", \"Patient Age\", \"Patient Age\", \"Patient Age\", \"Patient Age\", \"Patient Age\", \"Patient Age\", \"Patient Age\", \"Patient Age\", \"Patient Age\", \"Patient Age\", \"Patient Age\", \"Patient Age\", \"Patient Age\", \"Patient Age\", \"Patient Age\", \"Patient Age\", \"Patient Age\", \"Patient Age\", \"Patient Age\", \"Patient Age\", \"Patient Age\", \"Patient Age\", \"Patient Age\", \"Patient Age\", \"Patient Age\", \"Patient Age\", \"Patient Age\", \"Patient Age\", \"Patient Age\", \"Patient Age\", \"Patient Age\", \"Patient Age\", \"Patient Age\", \"Patient Age\", \"Patient Age\", \"Patient Age\", \"Patient Age\", \"Patient Age\", \"Patient Age\", \"Patient Age\", \"Patient Age\", \"Patient Age\", \"Patient Age\", \"Patient Age\", \"Patient Age\", \"Patient Age\", \"Patient Age\", \"Patient Age\", \"Patient Age\", \"Patient Age\", \"Patient Age\", \"Patient Age\", \"Patient Age\", \"Patient Age\", \"Patient Age\", \"Patient Age\", \"Patient Age\", \"Patient Age\", \"Patient Age\", \"Patient Age\", \"Patient Age\", \"Patient Age\", \"Patient Age\", \"Patient Age\", \"Patient Age\", \"Patient Age\", \"Patient Age\", \"Patient Age\", \"Patient Age\", \"Patient Age\", \"Patient Age\", \"Patient Age\", \"Patient Age\", \"Patient Age\", \"Patient Age\", \"Patient Age\", \"Patient Age\", \"Patient Age\", \"Patient Age\", \"Patient Age\", \"Patient Age\", \"Patient Age\", \"Patient Age\", \"Patient Age\", \"Patient Age\", \"Patient Age\", \"Patient Age\", \"Patient Age\", \"Patient Age\", \"Patient Age\", \"Patient Age\", \"Patient Age\", \"Patient Age\", \"Patient Age\", \"Patient Age\", \"Patient Age\", \"Patient Age\", \"Patient Age\", \"Patient Age\", \"Patient Age\", \"Patient Age\", \"Patient Age\", \"Patient Age\", \"Patient Age\", \"Patient Age\", \"Patient Age\", \"Patient Age\", \"Patient Age\", \"Patient Age\", \"Patient Age\", \"Patient Age\", \"Patient Age\", \"Patient Age\", \"Patient Age\", \"Patient Age\", \"Patient Age\", \"Patient Age\", \"Patient Age\", \"Patient Age\", \"Patient Age\", \"Patient Age\", \"Patient Age\", \"Patient Age\", \"Patient Age\", \"Patient Age\", \"Patient Age\", \"Patient Age\", \"Patient Age\", \"Patient Age\", \"Patient Age\", \"Patient Age\", \"Patient Age\", \"Patient Age\", \"Patient Age\", \"Patient Age\", \"Patient Age\", \"Patient Age\", \"Patient Age\", \"Patient Age\", \"Patient Age\", \"Patient Age\", \"Patient Age\", \"Patient Age\", \"Patient Age\", \"Patient Age\", \"Patient Age\", \"Patient Age\", \"Patient Age\", \"Patient Age\", \"Patient Age\", \"Patient Age\", \"Patient Age\", \"Patient Age\", \"Patient Age\", \"Patient Age\", \"Patient Age\", \"Patient Age\", \"Patient Age\", \"Patient Age\", \"Patient Age\", \"Patient Age\", \"Patient Age\", \"Patient Age\", \"Patient Age\", \"Patient Age\", \"Patient Age\", \"Patient Age\", \"Patient Age\", \"Patient Age\", \"Patient Age\", \"Patient Age\", \"Patient Age\", \"Patient Age\", \"Patient Age\", \"Patient Age\", \"Patient Age\", \"Patient Age\", \"Patient Age\", \"Patient Age\", \"Patient Age\", \"Patient Age\", \"Patient Age\", \"Patient Age\", \"Patient Age\", \"Patient Age\", \"Patient Age\", \"Patient Age\", \"Patient Age\", \"Patient Age\", \"Patient Age\", \"Patient Age\", \"Patient Age\", \"Patient Age\", \"Patient Age\", \"Patient Age\", \"Patient Age\", \"Patient Age\", \"Patient Age\", \"Patient Age\", \"Patient Age\", \"Patient Age\", \"Patient Age\", \"Patient Age\", \"Patient Age\", \"Patient Age\", \"Patient Age\", \"Patient Age\", \"Patient Age\", \"Patient Age\", \"Patient Age\", \"Patient Age\", \"Patient Age\", \"Patient Age\", \"Patient Age\", \"Patient Age\", \"Patient Age\", \"Patient Age\", \"Patient Age\", \"Patient Age\", \"Patient Age\", \"Patient Age\", \"Patient Age\", \"Patient Age\", \"Patient Age\", \"Patient Age\", \"Patient Age\", \"Patient Age\", \"Patient Age\", \"Patient Age\", \"Patient Age\", \"Patient Age\", \"Patient Age\", \"Patient Age\", \"Patient Age\", \"Patient Age\", \"Patient Age\", \"Patient Age\", \"Patient Age\", \"Patient Age\", \"Patient Age\", \"Patient Age\", \"Patient Age\", \"Patient Age\", \"Patient Age\", \"Patient Age\", \"Patient Age\", \"Patient Age\", \"Patient Age\", \"Patient Age\", \"Patient Age\", \"Patient Age\", \"Patient Age\", \"Patient Age\", \"Patient Age\", \"Patient Age\", \"Patient Age\", \"Patient Age\", \"Patient Age\", \"Patient Age\", \"Patient Age\", \"Patient Age\", \"Patient Age\", \"Patient Age\", \"Patient Age\", \"Patient Age\", \"Patient Age\", \"Patient Age\", \"Patient Age\", \"Patient Age\", \"Patient Age\", \"Patient Age\", \"Patient Age\", \"Patient Age\", \"Patient Age\", \"Patient Age\", \"Patient Age\", \"Patient Age\", \"Patient Age\", \"Patient Age\", \"Patient Age\", \"Patient Age\", \"Patient Age\", \"Patient Age\", \"Patient Age\", \"Patient Age\", \"Patient Age\", \"Patient Age\", \"Patient Age\", \"Patient Age\", \"Patient Age\", \"Patient Age\", \"Patient Age\", \"Patient Age\", \"Patient Age\", \"Patient Age\", \"Patient Age\", \"Patient Age\", \"Patient Age\", \"Patient Age\", \"Patient Age\", \"Patient Age\", \"Patient Age\", \"Patient Age\", \"Patient Age\", \"Patient Age\", \"Patient Age\", \"Patient Age\", \"Patient Age\", \"Patient Age\", \"Patient Age\", \"Patient Age\", \"Patient Age\", \"Patient Age\", \"Patient Age\", \"Patient Age\", \"Patient Age\", \"Patient Age\", \"Patient Age\", \"Patient Age\", \"Patient Age\", \"Patient Age\", \"Patient Age\", \"Patient Age\", \"Patient Age\", \"Patient Age\", \"Patient Age\", \"Patient Age\", \"Patient Age\", \"Patient Age\", \"Patient Age\", \"Patient Age\", \"Patient Age\", \"Patient Age\", \"Patient Age\", \"Patient Age\", \"Patient Age\", \"Patient Age\", \"Patient Age\", \"Patient Age\", \"Patient Age\", \"Patient Age\", \"Patient Age\", \"Patient Age\", \"Patient Age\", \"Patient Age\", \"Patient Age\", \"Patient Age\", \"Patient Age\", \"Patient Age\", \"Patient Age\", \"Patient Age\", \"Patient Age\", \"Patient Age\", \"Patient Age\", \"Patient Age\", \"Patient Age\", \"Patient Age\", \"Patient Age\", \"Patient Age\", \"Patient Age\", \"Patient Age\", \"Patient Age\", \"Patient Age\", \"Patient Age\", \"Patient Age\", \"Patient Age\", \"Patient Age\", \"Patient Age\", \"Patient Age\", \"Patient Age\", \"Patient Age\", \"Patient Age\", \"Patient Age\", \"Patient Age\", \"Patient Age\", \"Patient Age\", \"Patient Age\", \"Patient Age\", \"Patient Age\", \"Patient Age\", \"Patient Age\", \"Patient Age\", \"Patient Age\", \"Patient Age\", \"Patient Age\", \"Patient Age\", \"Patient Age\", \"Patient Age\", \"Patient Age\", \"Patient Age\", \"Patient Age\", \"Patient Age\", \"Patient Age\", \"Patient Age\", \"Patient Age\", \"Patient Age\", \"Patient Age\", \"Patient Age\", \"Patient Age\", \"Patient Age\", \"Patient Age\", \"Patient Age\", \"Patient Age\", \"Patient Age\", \"Patient Age\", \"Patient Age\", \"Patient Age\", \"Patient Age\", \"Patient Age\", \"Patient Age\", \"Patient Age\", \"Patient Age\", \"Patient Age\", \"Patient Age\", \"Patient Age\", \"Patient Age\", \"Patient Age\", \"Patient Age\", \"Patient Age\", \"Patient Age\", \"Patient Age\", \"Patient Age\", \"Patient Age\", \"Patient Age\", \"Patient Age\", \"Patient Age\", \"Patient Age\", \"Patient Age\", \"Patient Age\", \"Patient Age\", \"Patient Age\", \"Patient Age\", \"Patient Age\", \"Patient Age\", \"Patient Age\", \"Patient Age\", \"Patient Age\", \"Patient Age\", \"Patient Age\", \"Patient Age\", \"Patient Age\", \"Patient Age\", \"Patient Age\", \"Patient Age\", \"Patient Age\", \"Patient Age\", \"Patient Age\", \"Patient Age\", \"Patient Age\", \"Patient Age\", \"Patient Age\", \"Patient Age\", \"Patient Age\", \"Patient Age\", \"Patient Age\", \"Patient Age\", \"Patient Age\", \"Patient Age\", \"Patient Age\", \"Patient Age\", \"Patient Age\", \"Patient Age\", \"Patient Age\", \"Patient Age\", \"Patient Age\", \"Patient Age\", \"Patient Age\", \"Patient Age\", \"Patient Age\", \"Patient Age\", \"Patient Age\", \"Patient Age\", \"Patient Age\", \"Patient Age\", \"Patient Age\", \"Patient Age\", \"Patient Age\", \"Patient Age\", \"Patient Age\", \"Patient Age\", \"Patient Age\", \"Patient Age\", \"Patient Age\", \"Patient Age\", \"Patient Age\", \"Patient Age\", \"Patient Age\", \"Patient Age\", \"Patient Age\", \"Patient Age\", \"Patient Age\", \"Patient Age\", \"Patient Age\", \"Patient Age\", \"Patient Age\", \"Patient Age\", \"Patient Age\", \"Patient Age\", \"Patient Age\", \"Patient Age\", \"Patient Age\", \"Patient Age\", \"Patient Age\", \"Patient Age\", \"Patient Age\", \"Patient Age\", \"Patient Age\", \"Patient Age\", \"Patient Age\", \"Patient Age\", \"Patient Age\", \"Patient Age\", \"Patient Age\", \"Patient Age\", \"Patient Age\", \"Patient Age\", \"Patient Age\", \"Patient Age\", \"Patient Age\", \"Patient Age\", \"Patient Age\", \"Patient Age\", \"Patient Age\", \"Patient Age\", \"Patient Age\", \"Patient Age\", \"Patient Age\", \"Patient Age\", \"Patient Age\", \"Patient Age\", \"Patient Age\", \"Patient Age\", \"Patient Age\", \"Patient Age\", \"Patient Age\", \"Patient Age\", \"Patient Age\", \"Patient Age\", \"Patient Age\", \"Patient Age\", \"Patient Age\", \"Patient Age\", \"Patient Age\", \"Patient Age\", \"Patient Age\", \"Patient Age\", \"Patient Age\", \"Patient Age\", \"Patient Age\", \"Patient Age\", \"Patient Age\", \"Patient Age\", \"Patient Age\", \"Patient Age\", \"Patient Age\", \"Patient Age\", \"Patient Age\", \"Patient Age\", \"Patient Age\", \"Patient Age\", \"Patient Age\", \"Patient Age\", \"Patient Age\", \"Patient Age\", \"Patient Age\", \"Patient Age\", \"Patient Age\", \"Patient Age\", \"Patient Age\", \"Patient Age\", \"Patient Age\", \"Patient Age\", \"Patient Age\", \"Patient Age\", \"Patient Age\", \"Patient Age\", \"Patient Age\", \"Patient Age\", \"Patient Age\", \"Patient Age\", \"Patient Age\", \"Patient Age\", \"Patient Age\", \"Patient Age\", \"Patient Age\", \"Patient Age\", \"Patient Age\", \"Patient Age\", \"Patient Age\", \"Patient Age\", \"Patient Age\", \"Patient Age\", \"Patient Age\", \"Patient Age\", \"Patient Age\", \"Patient Age\", \"Patient Age\", \"Patient Age\", \"Patient Age\", \"Patient Age\", \"Patient Age\", \"Patient Age\", \"Patient Age\", \"Patient Age\", \"Patient Age\", \"Patient Age\", \"Patient Age\", \"Patient Age\", \"Patient Age\", \"Patient Age\", \"Patient Age\", \"Patient Age\", \"Patient Age\", \"Patient Age\", \"Patient Age\", \"Patient Age\", \"Patient Age\", \"Patient Age\", \"Patient Age\", \"Patient Age\", \"Patient Age\", \"Patient Age\", \"Patient Age\", \"Patient Age\", \"Patient Age\", \"Patient Age\", \"Patient Age\", \"Patient Age\", \"Patient Age\", \"Patient Age\", \"Patient Age\", \"Patient Age\", \"Patient Age\", \"Patient Age\", \"Patient Age\", \"Patient Age\", \"Patient Age\", \"Patient Age\", \"Patient Age\", \"Patient Age\", \"Patient Age\", \"Patient Age\", \"Patient Age\", \"Patient Age\", \"Patient Age\", \"Patient Age\", \"Patient Age\", \"Patient Age\", \"Patient Age\", \"Patient Age\", \"Patient Age\", \"Patient Age\", \"Patient Age\", \"Patient Age\", \"Patient Age\", \"Patient Age\", \"Patient Age\", \"Patient Age\", \"Patient Age\", \"Patient Age\", \"Patient Age\", \"Patient Age\", \"Patient Age\", \"Patient Age\", \"Patient Age\", \"Patient Age\", \"Patient Age\", \"Patient Age\", \"Patient Age\", \"Patient Age\", \"Patient Age\", \"Patient Age\", \"Patient Age\", \"Patient Age\", \"Patient Age\", \"Patient Age\", \"Patient Age\", \"Patient Age\", \"Patient Age\", \"Patient Age\", \"Patient Age\", \"Patient Age\", \"Patient Age\", \"Patient Age\", \"Patient Age\", \"Patient Age\", \"Patient Age\", \"Patient Age\", \"Patient Age\", \"Patient Age\", \"Patient Age\", \"Patient Age\", \"Patient Age\", \"Patient Age\", \"Patient Age\", \"Patient Age\", \"Patient Age\", \"Patient Age\", \"Patient Age\", \"Patient Age\", \"Patient Age\", \"Patient Age\", \"Patient Age\", \"Patient Age\", \"Patient Age\", \"Patient Age\", \"Patient Age\", \"Patient Age\", \"Patient Age\", \"Patient Age\", \"Patient Age\", \"Patient Age\", \"Patient Age\", \"Patient Age\", \"Patient Age\", \"Patient Age\", \"Patient Age\", \"Patient Age\", \"Patient Age\", \"Patient Age\", \"Patient Age\", \"Patient Age\", \"Patient Age\", \"Patient Age\", \"Patient Age\", \"Patient Age\", \"Patient Age\", \"Patient Age\", \"Patient Age\", \"Patient Age\", \"Patient Age\", \"Patient Age\", \"Patient Age\", \"Patient Age\", \"Patient Age\", \"Patient Age\", \"Patient Age\", \"Patient Age\", \"Patient Age\", \"Patient Age\", \"Patient Age\", \"Patient Age\", \"Patient Age\", \"Patient Age\", \"Patient Age\", \"Patient Age\", \"Patient Age\", \"Patient Age\", \"Patient Age\", \"Patient Age\", \"Patient Age\", \"Patient Age\", \"Patient Age\", \"Patient Age\", \"Patient Age\", \"Patient Age\", \"Patient Age\", \"Patient Age\", \"Patient Age\", \"Patient Age\", \"Patient Age\", \"Patient Age\", \"Patient Age\", \"Patient Age\", \"Patient Age\", \"Patient Age\", \"Patient Age\", \"Patient Age\", \"Patient Age\", \"Patient Age\", \"Patient Age\", \"Patient Age\", \"Patient Age\", \"Patient Age\", \"Patient Age\", \"Patient Age\", \"Patient Age\", \"Patient Age\", \"Patient Age\", \"Patient Age\", \"Patient Age\", \"Patient Age\", \"Patient Age\", \"Patient Age\", \"Patient Age\", \"Patient Age\", \"Patient Age\", \"Patient Age\", \"Patient Age\", \"Patient Age\", \"Patient Age\", \"Patient Age\", \"Patient Age\", \"Patient Age\", \"Patient Age\", \"Patient Age\", \"Patient Age\", \"Patient Age\", \"Patient Age\", \"Patient Age\", \"Patient Age\", \"Patient Age\", \"Patient Age\", \"Patient Age\", \"Patient Age\", \"Patient Age\", \"Patient Age\", \"Patient Age\", \"Patient Age\", \"Patient Age\", \"Patient Age\", \"Patient Age\", \"Patient Age\", \"Patient Age\", \"Patient Age\", \"Patient Age\", \"Patient Age\", \"Patient Age\", \"Patient Age\", \"Patient Age\", \"Patient Age\", \"Patient Age\", \"Patient Age\", \"Patient Age\", \"Patient Age\", \"Patient Age\", \"Patient Age\", \"Patient Age\", \"Patient Age\", \"Patient Age\", \"Patient Age\", \"Patient Age\", \"Patient Age\", \"Patient Age\", \"Patient Age\", \"Patient Age\", \"Patient Age\", \"Patient Age\", \"Patient Age\", \"Patient Age\", \"Patient Age\", \"Patient Age\", \"Patient Age\", \"Patient Age\", \"Patient Age\", \"Patient Age\", \"Patient Age\", \"Patient Age\", \"Patient Age\", \"Patient Age\", \"Patient Age\", \"Patient Age\", \"Patient Age\", \"Patient Age\", \"Patient Age\", \"Patient Age\", \"Patient Age\", \"Patient Age\", \"Patient Age\", \"Patient Age\", \"Patient Age\", \"Patient Age\", \"Patient Age\", \"Patient Age\", \"Patient Age\", \"Patient Age\", \"Patient Age\", \"Patient Age\", \"Patient Age\", \"Patient Age\", \"Patient Age\", \"Patient Age\", \"Patient Age\", \"Patient Age\", \"Patient Age\", \"Patient Age\", \"Patient Age\", \"Patient Age\", \"Patient Age\", \"Patient Age\", \"Patient Age\", \"Patient Age\", \"Patient Age\", \"Patient Age\", \"Patient Age\", \"Patient Age\", \"Patient Age\", \"Patient Age\", \"Patient Age\", \"Patient Age\", \"Patient Age\", \"Patient Age\", \"Patient Age\", \"Patient Age\", \"Patient Age\", \"Patient Age\", \"Patient Age\", \"Patient Age\", \"Patient Age\", \"Patient Age\", \"Patient Age\", \"Patient Age\", \"Patient Age\", \"Patient Age\", \"Patient Age\", \"Patient Age\", \"Patient Age\", \"Patient Age\", \"Patient Age\", \"Patient Age\", \"Patient Age\", \"Patient Age\", \"Patient Age\", \"Patient Age\", \"Patient Age\", \"Patient Age\", \"Patient Age\", \"Patient Age\", \"Patient Age\", \"Patient Age\", \"Patient Age\", \"Patient Age\", \"Patient Age\", \"Patient Age\", \"Patient Age\", \"Patient Age\", \"Patient Age\", \"Patient Age\", \"Patient Age\", \"Patient Age\", \"Patient Age\", \"Patient Age\", \"Patient Age\", \"Patient Age\", \"Patient Age\", \"Patient Age\", \"Patient Age\", \"Patient Age\", \"Patient Age\", \"Patient Age\", \"Patient Age\", \"Patient Age\", \"Patient Age\", \"Patient Age\", \"Patient Age\", \"Patient Age\", \"Patient Age\", \"Patient Age\", \"Patient Age\", \"Patient Age\", \"Patient Age\", \"Patient Age\", \"Patient Age\", \"Patient Age\", \"Patient Age\", \"Patient Age\", \"Patient Age\", \"Patient Age\", \"Patient Age\", \"Patient Age\", \"Patient Age\", \"Patient Age\", \"Patient Age\", \"Patient Age\", \"Patient Age\", \"Patient Age\", \"Patient Age\", \"Patient Age\", \"Patient Age\", \"Patient Age\", \"Patient Age\", \"Patient Age\", \"Patient Age\", \"Patient Age\", \"Patient Age\", \"Patient Age\", \"Patient Age\", \"Patient Age\", \"Patient Age\", \"Patient Age\", \"Patient Age\", \"Patient Age\", \"Patient Age\", \"Patient Age\", \"Patient Age\", \"Patient Age\", \"Patient Age\", \"Patient Age\", \"Patient Age\", \"Patient Age\", \"Patient Age\", \"Patient Age\", \"Patient Age\", \"Patient Age\", \"Patient Age\", \"Patient Age\", \"Patient Age\", \"Patient Age\", \"Patient Age\", \"Patient Age\", \"Patient Age\", \"Patient Age\", \"Patient Age\", \"Patient Age\", \"Patient Age\", \"Patient Age\", \"Patient Age\", \"Patient Age\", \"Patient Age\", \"Patient Age\", \"Patient Age\", \"Patient Age\", \"Patient Age\", \"Patient Age\", \"Patient Age\", \"Patient Age\", \"Patient Age\", \"Patient Age\", \"Patient Age\", \"Patient Age\", \"Patient Age\", \"Patient Age\", \"Patient Age\", \"Patient Age\", \"Patient Age\", \"Patient Age\", \"Patient Age\", \"Patient Age\", \"Patient Age\", \"Patient Age\", \"Patient Age\", \"Patient Age\", \"Patient Age\", \"Patient Age\", \"Patient Age\", \"Patient Age\", \"Patient Age\", \"Patient Age\", \"Patient Age\", \"Patient Age\", \"Patient Age\", \"Patient Age\", \"Patient Age\", \"Patient Age\", \"Patient Age\", \"Patient Age\", \"Patient Age\", \"Patient Age\", \"Patient Age\", \"Patient Age\", \"Patient Age\", \"Patient Age\", \"Patient Age\", \"Patient Age\", \"Patient Age\", \"Patient Age\", \"Patient Age\", \"Patient Age\", \"Patient Age\", \"Patient Age\", \"Patient Age\", \"Patient Age\", \"Patient Age\", \"Patient Age\", \"Patient Age\", \"Patient Age\", \"Patient Age\", \"Patient Age\", \"Patient Age\", \"Patient Age\", \"Patient Age\", \"Patient Age\", \"Patient Age\", \"Patient Age\", \"Patient Age\", \"Patient Age\", \"Patient Age\", \"Patient Age\", \"Patient Age\", \"Patient Age\", \"Patient Age\", \"Patient Age\", \"Patient Age\", \"Patient Age\", \"Patient Age\", \"Patient Age\", \"Patient Age\", \"Patient Age\", \"Patient Age\", \"Patient Age\", \"Patient Age\", \"Patient Age\", \"Patient Age\", \"Patient Age\", \"Patient Age\", \"Patient Age\", \"Patient Age\", \"Patient Age\", \"Patient Age\", \"Patient Age\", \"Patient Age\", \"Patient Age\", \"Patient Age\", \"Patient Age\", \"Patient Age\", \"Patient Age\", \"Patient Age\", \"Patient Age\", \"Patient Age\", \"Patient Age\", \"Patient Age\", \"Patient Age\", \"Patient Age\", \"Patient Age\", \"Patient Age\", \"Patient Age\", \"Patient Age\", \"Patient Age\", \"Patient Age\", \"Patient Age\", \"Patient Age\", \"Patient Age\", \"Patient Age\", \"Patient Age\", \"Patient Age\", \"Patient Age\", \"Patient Age\", \"Patient Age\", \"Patient Age\", \"Patient Age\", \"Patient Age\", \"Patient Age\", \"Patient Age\", \"Patient Age\", \"Patient Age\", \"Patient Age\", \"Patient Age\", \"Patient Age\", \"Patient Age\", \"Patient Age\", \"Patient Age\", \"Patient Age\", \"Patient Age\", \"Patient Age\", \"Patient Age\", \"Patient Age\", \"Patient Age\", \"Patient Age\", \"Patient Age\", \"Patient Age\", \"Patient Age\", \"Patient Age\", \"Patient Age\", \"Patient Age\", \"Patient Age\", \"Patient Age\", \"Patient Age\", \"Patient Age\", \"Patient Age\", \"Patient Age\", \"Patient Age\", \"Patient Age\", \"Patient Age\", \"Patient Age\", \"Patient Age\", \"Patient Age\", \"Patient Age\", \"Patient Age\", \"Patient Age\", \"Patient Age\", \"Patient Age\", \"Patient Age\", \"Patient Age\", \"Patient Age\", \"Patient Age\", \"Patient Age\", \"Patient Age\", \"Patient Age\", \"Patient Age\", \"Patient Age\", \"Patient Age\", \"Patient Age\", \"Patient Age\", \"Patient Age\", \"Patient Age\", \"Patient Age\", \"Patient Age\", \"Patient Age\", \"Patient Age\", \"Patient Age\", \"Patient Age\", \"Patient Age\", \"Patient Age\", \"Patient Age\", \"Patient Age\", \"Patient Age\", \"Patient Age\", \"Patient Age\", \"Patient Age\", \"Patient Age\", \"Patient Age\", \"Patient Age\", \"Patient Age\", \"Patient Age\", \"Patient Age\", \"Patient Age\", \"Patient Age\", \"Patient Age\", \"Patient Age\", \"Patient Age\", \"Patient Age\", \"Patient Age\", \"Patient Age\", \"Patient Age\", \"Patient Age\", \"Patient Age\", \"Patient Age\", \"Patient Age\", \"Patient Age\", \"Patient Age\", \"Patient Age\", \"Patient Age\", \"Patient Age\", \"Patient Age\", \"Patient Age\", \"Patient Age\", \"Patient Age\", \"Patient Age\", \"Patient Age\", \"Patient Age\", \"Patient Age\", \"Patient Age\", \"Patient Age\", \"Patient Age\", \"Patient Age\", \"Patient Age\", \"Patient Age\", \"Patient Age\", \"Patient Age\", \"Patient Age\", \"Patient Age\", \"Patient Age\", \"Patient Age\", \"Patient Age\", \"Patient Age\", \"Patient Age\", \"Patient Age\", \"Patient Age\", \"Patient Age\", \"Patient Age\", \"Patient Age\", \"Patient Age\", \"Patient Age\", \"Patient Age\", \"Patient Age\", \"Patient Age\", \"Patient Age\", \"Patient Age\", \"Patient Age\", \"Patient Age\", \"Patient Age\", \"Patient Age\", \"Patient Age\", \"Patient Age\", \"Patient Age\", \"Patient Age\", \"Patient Age\", \"Patient Age\", \"Patient Age\", \"Patient Age\", \"Patient Age\", \"Patient Age\", \"Patient Age\", \"Patient Age\", \"Patient Age\", \"Patient Age\", \"Patient Age\", \"Patient Age\", \"Patient Age\", \"Patient Age\", \"Patient Age\", \"Patient Age\", \"Patient Age\", \"Patient Age\", \"Patient Age\", \"Patient Age\", \"Patient Age\", \"Patient Age\", \"Patient Age\", \"Patient Age\", \"Patient Age\", \"Patient Age\", \"Patient Age\", \"Patient Age\", \"Patient Age\", \"Patient Age\", \"Patient Age\", \"Patient Age\", \"Patient Age\", \"Patient Age\", \"Patient Age\", \"Patient Age\", \"Patient Age\", \"Patient Age\", \"Patient Age\", \"Patient Age\", \"Patient Age\", \"Patient Age\", \"Patient Age\", \"Patient Age\", \"Patient Age\", \"Patient Age\", \"Patient Age\", \"Patient Age\", \"Patient Age\", \"Patient Age\", \"Patient Age\", \"Patient Age\", \"Patient Age\", \"Patient Age\", \"Patient Age\", \"Patient Age\", \"Patient Age\", \"Patient Age\", \"Patient Age\", \"Patient Age\", \"Patient Age\", \"Patient Age\", \"Patient Age\", \"Patient Age\", \"Patient Age\", \"Patient Age\", \"Patient Age\", \"Patient Age\", \"Patient Age\", \"Patient Age\", \"Patient Age\", \"Patient Age\", \"Patient Age\", \"Patient Age\", \"Patient Age\", \"Patient Age\", \"Patient Age\", \"Patient Age\", \"Patient Age\", \"Patient Age\", \"Patient Age\", \"Patient Age\", \"Patient Age\", \"Patient Age\", \"Patient Age\", \"Patient Age\", \"Patient Age\", \"Patient Age\", \"Patient Age\", \"Patient Age\", \"Patient Age\", \"Patient Age\", \"Patient Age\", \"Patient Age\", \"Patient Age\", \"Patient Age\", \"Patient Age\", \"Patient Age\", \"Patient Age\", \"Patient Age\", \"Patient Age\", \"Patient Age\", \"Patient Age\", \"Patient Age\", \"Patient Age\", \"Patient Age\", \"Patient Age\", \"Patient Age\", \"Patient Age\", \"Patient Age\", \"Patient Age\", \"Patient Age\", \"Patient Age\", \"Patient Age\", \"Patient Age\", \"Patient Age\", \"Patient Age\", \"Patient Age\", \"Patient Age\", \"Patient Age\", \"Patient Age\", \"Patient Age\", \"Patient Age\", \"Patient Age\", \"Patient Age\", \"Patient Age\", \"Patient Age\", \"Patient Age\", \"Patient Age\", \"Patient Age\", \"Patient Age\", \"Patient Age\", \"Patient Age\", \"Patient Age\", \"Patient Age\", \"Patient Age\", \"Patient Age\", \"Patient Age\", \"Patient Age\", \"Patient Age\", \"Patient Age\", \"Patient Age\", \"Patient Age\", \"Patient Age\", \"Patient Age\", \"Patient Age\", \"Patient Age\", \"Patient Age\", \"Patient Age\", \"Patient Age\", \"Patient Age\", \"Patient Age\", \"Patient Age\", \"Patient Age\", \"Patient Age\", \"Patient Age\", \"Patient Age\", \"Patient Age\", \"Patient Age\", \"Patient Age\", \"Patient Age\", \"Patient Age\", \"Patient Age\", \"Patient Age\", \"Patient Age\", \"Patient Age\", \"Patient Age\", \"Patient Age\", \"Patient Age\", \"Patient Age\", \"Patient Age\", \"Patient Age\", \"Patient Age\", \"Patient Age\", \"Patient Age\", \"Patient Age\", \"Patient Age\", \"Patient Age\", \"Patient Age\", \"Patient Age\", \"Patient Age\", \"Patient Age\", \"Patient Age\", \"Patient Age\", \"Patient Age\", \"Patient Age\", \"Patient Age\", \"Patient Age\", \"Patient Age\", \"Patient Age\", \"Patient Age\", \"Patient Age\", \"Patient Age\", \"Patient Age\", \"Patient Age\", \"Patient Age\", \"Patient Age\", \"Patient Age\", \"Patient Age\", \"Patient Age\", \"Patient Age\", \"Patient Age\", \"Patient Age\", \"Patient Age\", \"Patient Age\", \"Patient Age\", \"Patient Age\", \"Patient Age\", \"Patient Age\", \"Patient Age\", \"Patient Age\", \"Patient Age\", \"Patient Age\", \"Patient Age\", \"Patient Age\", \"Patient Age\", \"Patient Age\", \"Patient Age\", \"Patient Age\", \"Patient Age\", \"Patient Age\", \"Patient Age\", \"Patient Age\", \"Patient Age\", \"Patient Age\", \"Patient Age\", \"Patient Age\", \"Patient Age\", \"Patient Age\", \"Patient Age\", \"Patient Age\", \"Patient Age\", \"Patient Age\", \"Patient Age\", \"Patient Age\", \"Patient Age\", \"Patient Age\", \"Patient Age\", \"Patient Age\", \"Patient Age\", \"Patient Age\", \"Patient Age\", \"Patient Age\", \"Patient Age\", \"Patient Age\", \"Patient Age\", \"Patient Age\", \"Patient Age\", \"Patient Age\", \"Patient Age\", \"Patient Age\", \"Patient Age\", \"Patient Age\", \"Patient Age\", \"Patient Age\", \"Patient Age\", \"Patient Age\"], \"x0\": \" \", \"xaxis\": \"x\", \"y\": [60, 57, 77, 79, 55, 68, 71, 71, 77, 77, 77, 63, 67, 56, 57, 67, 56, 58, 60, 75, 75, 75, 75, 73, 54, 56, 60, 56, 78, 60, 60, 47, 50, 50, 45, 84, 30, 56, 45, 49, 61, 69, 51, 51, 51, 51, 44, 87, 50, 44, 59, 49, 45, 31, 64, 57, 53, 77, 54, 31, 69, 82, 72, 46, 63, 55, 80, 48, 21, 68, 38, 75, 77, 72, 49, 46, 45, 62, 56, 54, 52, 31, 31, 31, 23, 57, 64, 58, 37, 22, 32, 51, 51, 48, 49, 46, 38, 64, 64, 55, 63, 70, 65, 61, 40, 78, 60, 50, 53, 70, 57, 58, 58, 59, 59, 48, 49, 70, 49, 40, 58, 50, 59, 65, 64, 69, 54, 55, 72, 50, 67, 70, 72, 57, 42, 41, 28, 35, 65, 34, 46, 51, 61, 40, 66, 62, 42, 19, 67, 62, 41, 68, 41, 39, 39, 52, 68, 74, 22, 56, 22, 58, 45, 56, 63, 63, 40, 58, 58, 63, 40, 41, 31, 40, 26, 19, 22, 24, 58, 73, 42, 53, 52, 78, 78, 59, 59, 59, 58, 85, 69, 50, 45, 46, 55, 67, 62, 59, 45, 44, 45, 57, 57, 68, 55, 51, 53, 52, 16, 56, 73, 64, 68, 26, 32, 67, 67, 42, 48, 53, 29, 67, 33, 38, 38, 40, 41, 46, 13, 13, 13, 59, 48, 38, 29, 54, 54, 35, 37, 77, 62, 57, 57, 57, 57, 57, 58, 58, 21, 17, 61, 46, 48, 20, 54, 58, 58, 59, 60, 60, 59, 59, 78, 52, 48, 57, 58, 60, 30, 31, 30, 14, 51, 54, 55, 55, 55, 13, 66, 17, 62, 56, 70, 20, 26, 56, 20, 54, 57, 65, 55, 55, 55, 55, 51, 57, 30, 16, 51, 54, 56, 19, 39, 29, 50, 30, 43, 22, 12, 22, 63, 50, 34, 16, 47, 53, 58, 13, 42, 46, 67, 47, 28, 59, 59, 9, 79, 49, 32, 59, 48, 57, 47, 47, 44, 57, 56, 65, 56, 56, 62, 48, 49, 49, 50, 50, 50, 50, 70, 12, 13, 13, 41, 52, 43, 43, 55, 59, 22, 23, 51, 40, 33, 12, 19, 57, 22, 62, 59, 43, 19, 66, 51, 67, 73, 67, 64, 56, 59, 51, 72, 17, 11, 48, 58, 42, 42, 42, 61, 60, 57, 58, 65, 42, 41, 43, 44, 27, 62, 57, 80, 50, 30, 64, 46, 35, 53, 48, 49, 67, 68, 40, 59, 64, 60, 55, 52, 48, 55, 45, 37, 67, 51, 41, 63, 61, 37, 36, 50, 81, 81, 81, 72, 70, 66, 58, 21, 56, 46, 21, 68, 61, 70, 70, 39, 37, 69, 11, 47, 62, 62, 62, 62, 62, 22, 51, 57, 44, 60, 36, 62, 27, 25, 27, 54, 59, 14, 58, 62, 18, 57, 45, 46, 55, 57, 48, 51, 58, 28, 28, 48, 51, 56, 58, 18, 18, 21, 38, 58, 64, 51, 34, 38, 73, 74, 75, 75, 47, 35, 54, 27, 48, 59, 55, 44, 51, 75, 42, 40, 76, 76, 55, 27, 24, 26, 62, 51, 35, 51, 51, 39, 39, 50, 60, 66, 14, 80, 70, 62, 49, 62, 31, 32, 13, 24, 24, 25, 32, 44, 47, 47, 58, 57, 69, 50, 35, 47, 65, 56, 70, 19, 56, 39, 63, 53, 54, 46, 46, 46, 64, 50, 49, 49, 41, 40, 45, 47, 17, 52, 54, 56, 31, 47, 64, 64, 55, 51, 34, 49, 41, 45, 51, 58, 58, 58, 54, 66, 43, 41, 63, 83, 83, 63, 36, 37, 37, 38, 33, 33, 55, 84, 53, 35, 50, 45, 45, 57, 57, 75, 61, 61, 61, 61, 62, 50, 30, 40, 39, 35, 47, 47, 40, 58, 43, 44, 44, 62, 45, 70, 54, 53, 65, 16, 42, 61, 61, 49, 34, 61, 64, 39, 50, 69, 70, 75, 44, 52, 51, 11, 53, 64, 62, 62, 58, 58, 58, 58, 58, 41, 38, 41, 58, 58, 60, 60, 8, 49, 52, 52, 61, 6, 42, 22, 75, 48, 55, 66, 39, 42, 48, 52, 85, 23, 23, 48, 57, 48, 22, 22, 22, 19, 15, 59, 60, 55, 33, 53, 51, 18, 19, 46, 50, 52, 54, 58, 70, 47, 56, 60, 71, 43, 51, 53, 55, 69, 70, 43, 29, 63, 63, 29, 40, 60, 41, 41, 63, 47, 35, 61, 49, 52, 52, 52, 49, 62, 34, 34, 54, 55, 18, 21, 72, 81, 25, 74, 12, 59, 63, 60, 62, 28, 42, 43, 74, 56, 60, 58, 59, 40, 39, 45, 66, 34, 36, 29, 65, 41, 22, 63, 41, 41, 31, 31, 49, 44, 47, 32, 55, 64, 50, 59, 61, 61, 63, 62, 27, 53, 37, 50, 39, 20, 55, 66, 72, 26, 38, 74, 46, 49, 50, 11, 9, 69, 69, 49, 72, 69, 50, 54, 48, 49, 31, 32, 42, 28, 58, 59, 50, 55, 55, 65, 26, 43, 43, 44, 43, 46, 47, 48, 48, 48, 48, 76, 76, 76, 41, 44, 29, 29, 26, 27, 27, 32, 52, 73, 70, 70, 69, 55, 73, 65, 28, 28, 60, 39, 39, 29, 55, 56, 43, 41, 45, 58, 45, 35, 13, 45, 31, 68, 39, 51, 58, 49, 39, 55, 17, 67, 31, 38, 41, 38, 45, 35, 67, 53, 41, 14, 51, 17, 41, 43, 43, 75, 41, 42, 77, 77, 62, 33, 57, 32, 45, 35, 35, 36, 37, 37, 43, 15, 34, 26, 27, 29, 31, 55, 55, 51, 37, 37, 67, 24, 42, 54, 54, 44, 44, 45, 45, 39, 43, 43, 43, 32, 48, 65, 28, 29, 30, 32, 32, 34, 51, 54, 53, 49, 48, 57, 55, 51, 26, 71, 18, 78, 78, 27, 69, 33, 58, 79, 44, 45, 51, 12, 54, 37, 39, 38, 51, 60, 59, 48, 49, 49, 50, 54, 54, 55, 50, 26, 36, 38, 56, 44, 21, 56, 53, 61, 33, 33, 81, 56, 11, 12, 56, 6, 40, 38, 38, 38, 38, 78, 78, 41, 64, 36, 48, 52, 52, 11, 50, 21, 58, 36, 37, 48, 69, 64, 65, 40, 47, 47, 51, 40, 13, 47, 47, 67, 67, 52, 72, 72, 28, 35, 35, 51, 34, 35, 63, 23, 43, 57, 59, 60, 60, 69, 63, 33, 33, 58, 54, 47, 70, 26, 82, 23, 52, 57, 57, 56, 50, 19, 41, 36, 55, 60, 53, 16, 16, 53, 19, 57, 59, 31, 54, 72, 61, 38, 49, 46, 46, 74, 74, 74, 26, 45, 45, 18, 29, 33, 33, 33, 66, 32, 32, 38, 20, 63, 64, 60, 60, 47, 9, 21, 24, 62, 63, 63, 63, 50, 35, 44, 35, 66, 71, 35, 26, 35, 43, 23, 45, 37, 31, 45, 53, 35, 54, 56, 54, 51, 44, 36, 27, 60, 33, 22, 52, 64, 43, 35, 33, 33, 69, 72, 41, 2, 61, 61, 61, 20, 38, 58, 18, 21, 40, 39, 20, 54, 56, 57, 47, 49, 38, 66, 6, 41, 37, 37, 53, 55, 34, 38, 59, 59, 57, 57, 53, 44, 59, 20, 42, 40, 40, 40, 40, 40, 40, 40, 46, 6, 15, 15, 15, 50, 51, 64, 67, 18, 67, 49, 72, 47, 53, 53, 65, 52, 24, 85, 45, 45, 40, 9, 58, 34, 66, 34, 34, 46, 31, 49, 39, 52, 67, 75, 37, 60, 21, 49, 51, 52, 52, 51, 34, 55, 45, 45, 46, 45, 57, 59, 59, 59, 53, 53, 22, 49, 38, 61, 53, 23, 46, 41, 53, 24, 46, 56, 29, 29, 44, 29, 59, 61, 43, 44, 53, 51, 51, 31, 55, 50, 48, 84, 35, 62, 62, 18, 72, 22, 32, 32, 32, 26, 21, 37, 54, 52, 35, 56, 53, 48, 48, 34, 52, 13, 48, 53, 55, 78, 34, 67, 35, 38, 46, 66, 48, 49, 5, 49, 20, 35, 64, 55, 35, 35, 69, 69, 44, 44, 70, 45, 45, 65, 51, 66, 50, 52, 30, 30, 31, 46, 34, 43, 68, 50, 62, 62, 62, 55, 61, 61, 50, 73, 45, 15, 45, 45, 29, 21, 28, 28, 55, 31, 31, 30, 30, 30, 54, 56, 46, 51, 61, 16, 35, 42, 70, 77, 48, 36, 38, 38, 38, 55, 54, 62, 46, 46, 57, 50, 53, 54, 48, 64, 36, 36, 48, 59, 58, 67, 48, 48, 60, 49, 49, 38, 49, 8, 53, 55, 55, 34, 72, 52, 52, 25, 23, 40, 69, 68, 68, 68, 68, 68, 68, 41, 55, 41, 29, 64, 64, 56, 43, 40, 36, 40, 52, 12, 54, 66, 64, 14, 53, 59, 26, 5, 48, 35, 35, 39, 45, 59, 52, 65, 24, 62, 6, 53, 53, 53, 40, 16, 27, 65, 66, 66, 42, 54, 42, 53, 23, 43, 43, 47, 32, 59, 24, 24, 27, 15, 25, 25, 57, 57, 11, 49, 46, 45, 45, 47, 61, 61, 80, 34, 22, 27, 34, 59, 59, 70, 44, 31, 32, 29, 21, 38, 48, 54, 66, 52, 39, 40, 65, 65, 65, 36, 10, 10, 52, 64, 47, 49, 50, 58, 59, 45, 50, 39, 57, 63, 33, 57, 52, 35, 41, 46, 47, 47, 62, 53, 37, 19, 30, 53, 62, 34, 21, 24, 24, 24, 23, 23, 24, 26, 26, 15, 19, 64, 50, 62, 13, 56, 57, 43, 31, 49, 49, 49, 49, 54, 56, 39, 31, 44, 44, 44, 57, 58, 31, 63, 32, 70, 32, 24, 23, 16, 53, 76, 37, 49, 34, 23, 55, 28, 44, 58, 60, 60, 41, 81, 50, 46, 64, 57, 27, 34, 66, 66, 55, 18, 53, 33, 41, 46, 59, 59, 49, 56, 36, 42, 79, 32, 47, 54, 53, 42, 59, 53, 41, 56, 62, 27, 49, 56, 60, 67, 37, 58, 58, 58, 14, 67, 11, 11, 30, 16, 48, 25, 52, 49, 29, 30, 60, 61, 61, 62, 31, 73, 18, 36, 34, 34, 24, 63, 59, 61, 37, 37, 37, 58, 21, 53, 40, 60, 46, 54, 48, 46, 46, 46, 47, 26, 35, 35, 30, 33, 22, 77, 55, 40, 18, 35, 46, 50, 68, 33, 61, 62, 50, 26, 67, 55, 46, 51, 34, 44, 54, 49, 48, 49, 51, 51, 56, 38, 82, 20, 20, 54, 71, 54, 57, 57, 41, 64, 63, 63, 64, 41, 21, 62, 56, 21, 54, 56, 17, 53, 41, 48, 40, 40, 72, 72, 52, 71, 46, 68, 68, 68, 63, 52, 85, 48, 68, 3, 38, 40, 40, 58, 37, 24, 25, 25, 26, 46, 78, 40, 34, 55, 23, 23, 23, 66, 50, 46, 46, 46, 47, 30, 18, 24, 39, 54, 70, 62, 44, 57, 57, 37, 83, 60, 57, 31, 45, 80, 57, 57, 40, 36, 54, 46, 40, 40, 42, 48, 14, 14, 57, 53, 28, 36, 58, 18, 60, 60, 74, 81, 73, 62, 62, 29, 89, 19, 57, 61, 50, 54, 56, 55, 56, 57, 30, 45, 17, 65, 65, 47, 30, 30, 30, 55, 55, 65, 40, 25, 64, 66, 55, 71, 50, 60, 60, 53, 54, 49, 49, 51, 13, 14, 14, 14, 14, 14, 66, 65, 10, 54, 50, 55, 26, 51, 34, 26, 27, 32, 5, 73, 51, 52, 66, 24, 56, 58, 33, 61, 40, 70, 40, 66, 58, 24, 25, 55, 62, 62, 62, 62, 41, 49, 36, 36, 53, 49, 56, 56, 56, 56, 69, 21, 76, 54, 56, 57, 57, 57, 54, 54, 51, 37, 44, 44, 63, 71, 45, 58, 58, 58, 58, 58, 58, 58, 59, 59, 59, 59, 53, 53, 53, 53, 64, 66, 66, 32, 61, 58, 58, 71, 46, 49, 49, 50, 51, 51, 66, 71, 64, 37, 44, 49, 52, 25, 47, 49, 37, 55, 58, 73, 47, 61, 45, 48, 28, 27, 17, 41, 32, 44, 50, 50, 50, 50, 50, 53, 32, 62, 67, 45, 67, 51, 79, 49, 53, 31, 31, 32, 13, 48, 26, 14, 36, 36, 17, 16, 57, 58, 54, 47, 58, 60, 50, 20, 50, 69, 47, 62, 23, 44, 43, 51, 42, 5, 64, 53, 55, 28, 28, 45, 44, 46, 56, 58, 59, 48, 45, 41, 38, 37, 39, 28, 28, 22, 26, 48, 33, 67, 70, 63, 66, 56, 39, 66, 32, 34, 26, 55, 57, 57, 66, 66, 59, 59, 56, 57, 6, 51, 58, 36, 45, 45, 36, 40, 45, 20, 21, 37, 8, 25, 28, 60, 74, 74, 74, 48, 41, 52, 52, 34, 10, 51, 81, 54, 61, 62, 56, 58, 58, 27, 70, 54, 36, 36, 32, 70, 56, 56, 56, 59, 7, 7, 7, 8, 8, 65, 51, 65, 65, 66, 67, 68, 68, 45, 45, 56, 27, 63, 45, 3, 46, 59, 59, 35, 71, 67, 61, 51, 50, 50, 46, 39, 57, 56, 57, 39, 71, 76, 33, 58, 16, 51, 31, 32, 72, 72, 55, 86, 56, 69, 33, 43, 43, 66, 82, 60, 61, 46, 61, 44, 47, 47, 51, 50, 9, 28, 40, 40, 40, 67, 59, 54, 51, 24, 14, 53, 54, 48, 60, 56, 55, 34, 73, 35, 45, 44, 44, 56, 56, 66, 76, 24, 31, 42, 34, 54, 55, 39, 39, 35, 34, 35, 57, 37, 9, 9, 10, 9, 10, 9, 10, 68, 60, 32, 39, 39, 39, 25, 32, 40, 62, 10, 24, 60, 73, 63, 53, 54, 27, 37, 54, 67, 39, 39, 17, 16, 16, 16, 28, 45, 31, 44, 51, 27, 54, 57, 45, 49, 42, 18, 52, 45, 9, 9, 9, 42, 42, 43, 3, 49, 14, 57, 47, 56, 58, 54, 75, 75, 75, 76, 34, 34, 30, 30, 49, 49, 57, 57, 57, 48, 44, 42, 52, 55, 44, 60, 60, 60, 60, 62, 51, 61, 25, 26, 26, 26, 26, 21, 73, 62, 65, 65, 66, 66, 38, 38, 22, 48, 44, 23, 35, 58, 56, 64, 14, 14, 16, 16, 44, 65, 55, 37, 55, 57, 49, 49, 49, 54, 53, 66, 17, 56, 56, 56, 64, 44, 44, 60, 19, 65, 65, 47, 79, 41, 62, 24, 53, 43, 43, 51, 44, 67, 54, 54, 54, 54, 54, 54, 54, 54, 50, 55, 48, 85, 54, 21, 21, 79, 22, 34, 18, 61, 54, 6, 82, 54, 3, 58, 71, 71, 24, 25, 25, 25, 25, 25, 25, 59, 33, 33, 43, 43, 43, 46, 48, 48, 51, 34, 60, 43, 10, 17, 18, 68, 40, 41, 44, 63, 63, 63, 47, 41, 12, 46, 51, 57, 50, 50, 51, 25, 30, 43, 31, 21, 21, 23, 20, 20, 20, 47, 11, 59, 62, 52, 62, 83, 42, 35, 29, 56, 56, 60, 48, 56, 21, 63, 45, 29, 61, 9, 10, 68, 53, 19, 49, 56, 56, 37, 61, 15, 18, 19, 68, 69, 42, 56, 38, 34, 52, 52, 51, 53, 44, 39, 63, 46, 43, 45, 62, 71, 51, 52, 44, 44, 15, 15, 15, 33, 32, 54, 54, 33, 51, 30, 64, 26, 29, 65, 39, 17, 18, 19, 59, 59, 7, 68, 2, 53, 49, 64, 64, 59, 32, 22, 23, 30, 51, 51, 51, 51, 65, 66, 66, 70, 58, 37, 58, 58, 60, 7, 69, 58, 60, 60, 63, 59, 36, 60, 52, 63, 67, 73, 42, 46, 39, 28, 30, 57, 25, 39, 21, 50, 35, 54, 33, 33, 33, 33, 33, 33, 34, 39, 40, 40, 40, 40, 32, 63, 61, 61, 62, 63, 64, 65, 70, 67, 22, 50, 52, 42, 50, 61, 44, 66, 47, 47, 51, 55, 55, 35, 58, 32, 27, 41, 42, 33, 34, 65, 37, 37, 54, 54, 54, 74, 27, 30, 69, 60, 44, 10, 68, 40, 69, 70, 24, 19, 20, 21, 50, 61, 65, 22, 18, 18, 50, 39, 38, 27, 55, 61, 60, 59, 64, 41, 74, 74, 39, 25, 37, 58, 13, 14, 15, 15, 15, 15, 57, 53, 67, 41, 62, 56, 17, 49, 34, 54, 61, 47, 29, 28, 62, 41, 42, 62, 76, 52, 44, 57, 45, 57, 58, 51, 17, 19, 46, 63, 64, 50, 53, 76, 47, 16, 43, 52, 17, 40, 66, 61, 61, 61, 61, 60, 27, 60, 46, 47, 47, 61, 61, 75, 16, 16, 48, 48, 48, 48, 10, 10, 10, 10, 11, 60, 63, 63, 44, 46, 63, 62, 66, 66, 66, 66, 60, 39, 10, 39, 11, 62, 58, 33, 53, 64, 55, 55, 56, 56, 56, 56, 56, 56, 56, 47, 49, 49, 49, 49, 53, 57, 35, 48, 67, 65, 57, 47, 46, 31, 76, 77, 77, 28, 21, 21, 63, 63, 58, 15, 36, 44, 74, 41, 37, 37, 60, 60, 38, 40, 53, 47, 58, 39, 43, 36, 21, 42, 53, 55, 55, 55, 55, 56, 52, 53, 59, 31, 55, 60, 63, 64, 59, 59, 58, 72, 37, 71, 32, 32, 60, 60, 41, 43, 44, 59, 54, 55, 54, 58, 58, 58, 45, 19, 30, 46, 46, 66, 66, 66, 66, 67, 47, 25, 60, 60, 61, 46, 47, 49, 49, 45, 71, 42, 14, 64, 49, 37, 22, 26, 60, 29, 39, 39, 54, 54, 16, 26, 28, 28, 15, 63, 62, 64, 53, 46, 46, 55, 51, 55, 59, 59, 59, 59, 59, 39, 39, 53, 31, 63, 55, 59, 57, 27, 29, 29, 31, 30, 31, 31, 31, 31, 57, 27, 28, 62, 32, 68, 60, 60, 61, 69, 33, 58, 57, 24, 24, 24, 61, 18, 64, 65, 67, 28, 68, 42, 51, 56, 24, 44, 19, 19, 6, 52, 65, 61, 64, 43, 41, 37, 62, 26, 62, 51, 35, 35, 50, 51, 52, 52, 28, 47, 56, 57, 57, 35, 52, 53, 56, 62, 54, 54, 65, 67, 70, 38, 62, 62, 64, 36, 36, 46, 70, 32, 56, 79, 43, 22, 36, 58, 73, 43, 78, 78, 77, 74, 53, 32, 27, 44, 45, 36, 60, 58, 63, 56, 57, 57, 67, 67, 43, 62, 62, 59, 59, 60, 55, 53, 63, 45, 59, 57, 39, 68, 54, 38, 52, 60, 51, 55, 24, 36, 11, 34, 34, 52, 66, 20, 66, 67, 67, 57, 57, 22, 57, 62, 16, 61, 30, 30, 66, 67, 58, 81, 56, 71, 17, 61, 61, 61, 26, 62, 62, 66, 39, 45, 45, 50, 25, 56, 42, 55, 55, 19, 27, 3, 40, 40, 40, 41, 26, 65, 32, 42, 29, 29, 29, 71, 25, 26, 27, 27, 53, 53, 53, 53, 66, 30, 68, 53, 54, 54, 23, 69, 64, 75, 38, 39, 58, 57, 76, 52, 64, 65, 67, 32, 47, 55, 36, 66, 37, 82, 62, 89, 61, 24, 58, 17, 55, 46, 27, 53, 76, 51, 31, 35, 44, 44, 44, 39, 59, 72, 68, 51, 41, 41, 44, 75, 75, 61, 58, 58, 58, 17, 58, 37, 38, 39, 39, 40, 32, 51, 51, 61, 63, 62, 52, 53, 61, 39, 14, 63, 53, 80, 59, 20, 20, 21, 21, 21, 21, 15, 52, 36, 45, 45, 53, 53, 4, 43, 56, 56, 59, 59, 61, 39, 61, 32, 32, 32, 17, 17, 18, 18, 18, 18, 22, 65, 66, 66, 66, 42, 45, 14, 52, 38, 38, 64, 54, 35, 44, 52, 47, 44, 43, 61, 44, 44, 54, 48, 48, 48, 48, 48, 32, 57, 50, 65, 66, 66, 28, 67, 68, 37, 30, 63, 49, 57, 60, 57, 27, 75, 32, 32, 32, 32, 66, 41, 65, 38, 54, 46, 46, 47, 53, 65, 41, 69, 69, 45, 42, 71, 35, 20, 61, 54, 55, 65, 52, 27, 58, 30, 30, 57, 58, 65, 56, 57, 74, 74, 57, 60, 24, 25, 25, 66, 66, 49, 49, 49, 46, 43, 43, 20, 16, 18, 59, 53, 54, 54, 42, 67, 54, 54, 81, 33, 46, 49, 43, 66, 57, 57, 61, 59, 59, 24, 27, 51, 32, 53, 53, 53, 54, 54, 43, 59, 38, 37, 59, 46, 48, 43, 33, 51, 44, 56, 58, 42, 42, 39, 60, 40, 36, 36, 28, 32, 47, 47, 48, 66, 55, 66, 54, 6, 7, 36, 44, 47, 7, 58, 64, 65, 51, 51, 51, 51, 51, 51, 52, 73, 73, 28, 29, 61, 18, 19, 19, 64, 22, 65, 48, 48, 48, 46, 28, 57, 31, 6, 64, 64, 12, 63, 24, 57, 30, 31, 32, 54, 37, 46, 55, 57, 75, 46, 40, 55, 38, 25, 61, 61, 61, 79, 80, 47, 57, 40, 31, 33, 51, 25, 26, 27, 30, 44, 23, 23, 23, 51, 51, 43, 69, 66, 50, 58, 70, 55, 26, 77, 52, 47, 58, 58, 52, 51, 41, 36, 53, 54, 28, 61, 43, 64, 64, 63, 24, 58, 58, 58, 78, 65, 43, 43, 43, 28, 65, 69, 45, 62, 31, 14, 66, 10, 43, 29, 21, 21, 63, 39, 69, 68, 47, 42, 66, 68, 55, 50, 38, 64, 65, 44, 41, 42, 53, 53, 53, 48, 48, 23, 23, 23, 24, 24, 24, 24, 24, 24, 31, 31, 28, 61, 59, 46, 58, 60, 10, 57, 57, 70, 49, 55, 61, 60, 46, 46, 46, 46, 38, 11, 14, 50, 22, 81, 18, 53, 45, 24, 35, 66, 19, 39, 29, 52, 39, 64, 65, 65, 45, 53, 49, 57, 14, 27, 47, 47, 28, 25, 55, 11, 12, 12, 12, 12, 12, 41, 42, 65, 53, 53, 55, 73, 66, 22, 43, 45, 67, 63, 36, 22, 56, 67, 30, 63, 46, 35, 35, 40, 47, 31, 41, 41, 22, 67, 67, 58, 89, 48, 48, 38, 73, 60, 49, 62, 41, 31, 36, 63, 60, 61, 58, 26, 27, 44, 44, 20, 20, 20, 20, 19, 62, 59, 19, 29, 31, 52, 47, 39, 39, 36, 33, 33, 33, 34, 63, 61, 53, 32, 51, 24, 48, 28, 26, 12, 52, 47, 47, 47, 48, 48, 48, 40, 31, 32, 44, 31, 22, 40, 49, 45, 45, 46, 46, 70, 71, 22, 33, 77, 45, 27, 58, 15, 15, 15, 20, 43, 44, 44, 59, 60, 39, 32, 45, 45, 61, 38, 45, 49, 49, 49, 43, 40, 67, 60, 67, 68, 46, 34, 53, 53, 59, 64, 64, 64, 64, 64, 69, 41, 41, 57, 34, 34, 23, 34, 34, 67, 65, 30, 31, 43, 28, 33, 57, 54, 56, 56, 55, 42, 32, 32, 5, 43, 21, 59, 54, 47, 34, 31, 44, 59, 36, 6, 6, 6, 46, 71, 72, 29, 17, 55, 50, 52, 26, 42, 37, 58, 41, 68, 67, 75, 63, 8, 43, 28, 27, 64, 69, 49, 94, 47, 64, 57, 57, 62, 57, 59, 20, 54, 38, 64, 64, 38, 50, 41, 42, 52, 52, 71, 58, 47, 47, 70, 56, 69, 70, 65, 62, 33, 34, 55, 52, 19, 15, 38, 38, 48, 54, 51, 47, 64, 50, 55, 3, 28, 56, 55, 56, 78, 57, 57, 53, 31, 74, 69, 31, 63, 51, 55, 32, 61, 44, 44, 44, 44, 58, 19, 17, 17, 63, 63, 57, 57, 63, 24, 49, 52, 58, 18, 17, 55, 55, 24, 21, 21, 21, 50, 54, 36, 69, 71, 71, 33, 33, 53, 62, 59, 43, 43, 43, 43, 44, 63, 7, 55, 50, 44, 37, 37, 57, 78, 28, 44, 44, 42, 16, 16, 34, 35, 13, 34, 78, 34, 33, 23, 27, 27, 45, 12, 66, 25, 49, 52, 53, 53, 51, 51, 40, 44, 40, 35, 69, 60, 57, 67, 68, 66, 66, 66, 65, 57, 62, 63, 72, 43, 36, 69, 70, 64, 31, 26, 30, 41, 54, 54, 55, 61, 12, 37, 61, 20, 21, 35, 30, 36, 55, 55, 55, 59, 21, 40, 38, 41, 55, 49, 33, 33, 58, 55, 41, 28, 50, 47, 62, 50, 59, 31, 58, 40, 43, 79, 71, 49, 47, 66, 46, 43, 55, 30, 14, 44, 60, 60, 11, 34, 40, 41, 49, 49, 49, 49, 53, 56, 56, 57, 57, 63, 54, 47, 42, 42, 31, 67, 25, 76, 75, 49, 55, 11, 34, 58, 58, 33, 65, 66, 32, 32, 18, 51, 61, 61, 57, 40, 40, 71, 30, 54, 72, 71, 37, 37, 37, 39, 30, 48, 73, 72, 59, 59, 58, 46, 43, 50, 36, 29, 62, 36, 36, 71, 22, 62, 30, 49, 54, 34, 35, 22, 22, 47, 76, 44, 65, 58, 61, 5, 64, 74, 52, 52, 62, 39, 7, 8, 50, 50, 63, 82, 6, 6, 40, 55, 58, 63, 5, 51, 62, 45, 82, 51, 61, 53, 64, 65, 66, 64, 18, 18, 63, 39, 44, 82, 38, 38, 31, 44, 44, 22, 61, 25, 50, 50, 52, 67, 49, 51, 66, 59, 57, 57, 51, 51, 62, 21, 35, 67, 72, 72, 72, 72, 72, 55, 63, 26, 42, 48, 26, 26, 52, 38, 66, 56, 64, 57, 57, 61, 61, 26, 39, 38, 60, 60, 60, 26, 26, 27, 27, 27, 27, 27, 66, 26, 18, 18, 47, 36, 28, 76, 50, 19, 42, 21, 21, 21, 48, 48, 49, 49, 45, 45, 45, 46, 46, 45, 59, 71, 60, 56, 29, 25, 45, 59, 59, 59, 55, 54, 54, 54, 25, 29, 29, 29, 29, 29, 24, 46, 52, 24, 25, 24, 38, 37, 47, 78, 56, 51, 52, 59, 53, 53, 72, 70, 56, 30, 47, 76, 54, 59, 22, 47, 41, 39, 39, 32, 32, 69, 51, 51, 52, 75, 60, 61, 55, 50, 50, 50, 18, 54, 40, 20, 24, 83, 29, 71, 22, 28, 71, 23, 53, 52, 56, 27, 32, 54, 37, 58, 75, 11, 48, 48, 70, 45, 34, 34, 34, 52, 56, 52, 62, 62, 83, 53, 45, 43, 30, 71, 62, 18, 17, 24, 34, 34, 34, 33, 38, 52, 27, 68, 62, 59, 40, 26, 29, 66, 64, 32, 65, 65, 43, 43, 31, 21, 35, 23, 53, 48, 48, 57, 66, 66, 53, 43, 65, 65, 65, 65, 66, 66, 25, 69, 56, 45, 50, 50, 51, 50, 30, 64, 35, 54, 19, 19, 19, 19, 19, 19, 19, 40, 67, 48, 56, 43, 43, 43, 43, 48, 68, 63, 48, 42, 58, 81, 54, 65, 65, 65, 30, 29, 43, 51, 34, 34, 47, 63, 61, 61, 31, 37, 38, 22, 22, 69, 67, 14, 64, 44, 26, 54, 38, 39, 54, 54, 60, 72, 72, 44, 26, 25, 60, 79, 46, 45, 45, 46, 45, 47, 53, 53, 35, 51, 54, 65, 62, 21, 60, 42, 45, 45, 21, 24, 31, 69, 17, 71, 44, 26, 20, 41, 10, 8, 7, 35, 31, 54, 54, 37, 37, 52, 34, 38, 39, 37, 59, 59, 52, 55, 43, 46, 18, 58, 62, 48, 61, 7, 52, 37, 63, 63, 56, 49, 70, 18, 7, 51, 68, 55, 22, 59, 59, 46, 24, 51, 57, 47, 32, 31, 27, 28, 19, 67, 22, 39, 73, 73, 73, 54, 50, 50, 39, 68, 67, 66, 47, 72, 65, 66, 60, 58, 58, 58, 47, 37, 75, 75, 24, 20, 22, 64, 59, 24, 54, 54, 54, 38, 28, 68, 51, 52, 14, 43, 51, 52, 52, 48, 61, 35, 66, 61, 69, 19, 19, 62, 71, 71, 38, 38, 18, 50, 28, 72, 75, 53, 55, 49, 49, 49, 49, 49, 46, 58, 7, 27, 53, 52, 73, 67, 26, 30, 74, 50, 29, 62, 55, 66, 45, 62, 45, 26, 57, 17, 45, 44, 54, 43, 76, 51, 48, 39, 40, 61, 70, 33, 58, 60, 72, 30, 71, 9, 9, 9, 46, 48, 36, 60, 61, 39, 39, 52, 51, 66, 54, 28, 52, 53, 34, 38, 63, 63, 56, 56, 27, 63, 63, 63, 67, 67, 29, 30, 37, 39, 25, 25, 34, 21, 50, 43, 43, 55, 68, 20, 20, 63, 63, 55, 54, 49, 50, 56, 49, 47, 31, 64, 69, 59, 37, 31, 27, 28, 40, 21, 47, 29, 35, 66, 35, 43, 13, 55, 79, 27, 27, 50, 65, 50, 23, 33, 30, 30, 52, 48, 47, 47, 21, 40, 66, 60, 39, 40, 35, 67, 67, 67, 67, 67, 67, 34, 50, 27, 50, 34, 82, 81, 83, 61, 36, 54, 53, 56, 57, 33, 56, 54, 58, 43, 29, 17, 22, 61, 38, 27, 63, 37, 61, 30, 32, 55, 55, 39, 28, 29, 31, 55, 26, 23, 37, 21, 29, 32, 30, 23, 51, 22, 37, 57, 39, 48, 30, 29, 28, 31, 29, 50, 28, 42, 33, 51, 34, 35, 41, 31, 31, 47, 49, 38, 44, 37, 23, 51, 53, 54, 27, 57, 40, 31, 20, 25, 44, 38, 25, 40, 26, 36, 51, 32, 1, 23, 25, 38, 41, 40, 53, 27, 34, 27, 33, 62, 21, 56, 30, 56, 62, 34, 29, 38, 36, 28, 34, 37, 65, 46, 29, 33, 50, 39, 63, 47, 64, 33, 45, 66, 27, 72, 60, 60, 54, 54, 54, 51, 47, 65, 34, 21, 28, 29, 29, 30, 30, 30, 30, 30, 30, 54, 37, 45, 45, 43, 63, 67, 67, 71, 52, 37, 59, 58, 51, 54, 58, 58, 42, 42, 39, 32, 43, 36, 56, 59, 53, 44, 55, 57, 67, 41, 20, 21, 62, 32, 53, 62, 66, 15, 58, 56, 24, 71, 46, 55, 44, 44, 59, 16, 67, 35, 35, 51, 27, 42, 42, 23, 44, 14, 51, 46, 45, 60, 65, 65, 52, 22, 76, 68, 42, 42, 64, 63, 57, 16, 57, 60, 60, 53, 50, 20, 59, 59, 63, 57, 27, 27, 28, 42, 67, 49, 61, 36, 37, 51, 20, 28, 29, 25, 49, 28, 58, 58, 58, 58, 26, 41, 44, 58, 33, 60, 51, 45, 24, 70, 63, 57, 57, 5, 41, 42, 41, 26, 52, 20, 26, 71, 63, 53, 46, 60, 44, 33, 49, 30, 51, 45, 67, 35, 55, 18, 56, 23, 24, 20, 59, 50, 67, 72, 6, 29, 29, 29, 29, 29, 64, 46, 72, 47, 18, 26, 26, 11, 46, 24, 38, 38, 59, 40, 52, 27, 27, 62, 34, 37, 46, 46, 59, 27, 71, 51, 51, 41, 40, 51, 58, 70, 63, 58, 46, 49, 28, 87, 56, 77, 53, 25, 54, 71, 51, 51, 39, 23, 55, 58, 55, 41, 64, 32, 46, 46, 47, 55, 37, 37, 45, 39, 32, 53, 68, 37, 60, 50, 50, 44, 62, 62, 56, 45, 73, 53, 67, 43, 36, 37, 63, 38, 55, 55, 55, 55, 55, 37, 37, 31, 50, 34, 37, 52, 32, 58, 22, 22, 44, 43, 20, 22, 48, 79, 64, 10, 38, 38, 69, 26, 62, 42, 42, 20, 27, 44, 26, 56, 40, 54, 57, 64, 55, 55, 57, 58, 38, 64, 60, 60, 29, 65, 65, 7, 37, 52, 65, 65, 30, 51, 59, 59, 29, 38, 22, 25, 60, 60, 21, 82, 82, 73, 73, 73, 73, 73, 73, 73, 73, 37, 66, 48, 69, 55, 55, 49, 57, 46, 59, 61, 40, 48, 36, 52, 52, 52, 39, 62, 15, 15, 20, 36, 65, 72, 19, 9, 23, 23, 23, 23, 23, 55, 56, 56, 55, 53, 35, 51, 66, 49, 71, 78, 38, 52, 46, 75, 75, 14, 50, 34, 15, 57, 26, 64, 50, 50, 49, 49, 49, 75, 29, 57, 38, 58, 35, 71, 21, 21, 21, 58, 58, 58, 58, 58, 58, 58, 63, 66, 27, 21, 21, 47, 2, 55, 39, 40, 50, 50, 48, 40, 46, 47, 64, 67, 67, 28, 63, 54, 61, 36, 28, 57, 61, 48, 48, 25, 58, 45, 46, 45, 29, 23, 58, 53, 62, 62, 29, 48, 36, 45, 24, 35, 51, 51, 67, 63, 20, 17, 27, 55, 68, 57, 39, 64, 64, 44, 65, 55, 35, 59, 31, 21, 25, 56, 70, 27, 51, 53, 54, 62, 62, 23, 44, 20, 52, 52, 47, 30, 65, 59, 33, 54, 42, 36, 58, 70, 5, 60, 32, 64, 64, 65, 64, 48, 48, 49, 65, 53, 59, 38, 59, 15, 15, 15, 54, 53, 54, 68, 28, 50, 52, 29, 63, 20, 20, 19, 20, 48, 54, 54, 31, 55, 22, 30, 17, 45, 66, 32, 31, 39, 58, 56, 33, 68, 43, 32, 49, 68, 68, 68, 68, 68, 44, 8, 8, 40, 62, 55, 67, 50, 15, 15, 14, 40, 4, 30, 50, 50, 53, 35, 72, 54, 56, 85, 72, 72, 62, 61, 32, 76, 76, 76, 74, 72, 67, 32, 30, 18, 25, 61, 29, 73, 40, 42, 47, 35, 56, 56, 57, 6, 30, 27, 73, 35, 52, 46, 52, 52, 33, 5, 5, 18, 88, 48, 57, 23, 26, 70, 56, 42, 49, 35, 46, 22, 59, 41, 43, 43, 52, 29, 24, 57, 64, 15, 59, 65, 48, 52, 60, 49, 54, 14, 51, 43, 34, 67, 42, 65, 34, 57, 35, 24, 28, 34, 71, 70, 70, 58, 58, 77, 67, 33, 20, 67, 42, 12, 67, 66, 60, 56, 35, 38, 52, 46, 51, 8, 83, 67, 48, 63, 32, 32, 32, 63, 66, 66, 67, 20, 39, 36, 41, 31, 58, 50, 45, 67, 67, 25, 48, 22, 34, 20, 65, 60, 65, 36, 74, 61, 51, 60, 60, 31, 31, 35, 58, 53, 48, 65, 69, 24, 63, 59, 65, 16, 16, 16, 16, 16, 16, 16, 47, 61, 29, 73, 28, 41, 54, 30, 40, 59, 16, 38, 38, 56, 56, 54, 31, 49, 21, 82, 10, 49, 48, 40, 54, 54, 70, 21, 62, 72, 49, 41, 53, 53, 6, 31, 31, 36, 64, 49, 81, 34, 27, 30, 55, 67, 65, 65, 22, 22, 12, 71, 21, 53, 26, 56, 58, 54, 5, 45, 49, 50, 62, 22, 26, 30, 59, 6, 60, 51, 50, 46, 46, 46, 46, 46, 61, 67, 52, 52, 58, 61, 52, 10, 24], \"y0\": \" \", \"yaxis\": \"y\"}],                        {\"boxmode\": \"group\", \"legend\": {\"tracegroupgap\": 0}, \"margin\": {\"t\": 60}, \"template\": {\"data\": {\"bar\": [{\"error_x\": {\"color\": \"#2a3f5f\"}, \"error_y\": {\"color\": \"#2a3f5f\"}, \"marker\": {\"line\": {\"color\": \"#E5ECF6\", \"width\": 0.5}}, \"type\": \"bar\"}], \"barpolar\": [{\"marker\": {\"line\": {\"color\": \"#E5ECF6\", \"width\": 0.5}}, \"type\": \"barpolar\"}], \"carpet\": [{\"aaxis\": {\"endlinecolor\": \"#2a3f5f\", \"gridcolor\": \"white\", \"linecolor\": \"white\", \"minorgridcolor\": \"white\", \"startlinecolor\": \"#2a3f5f\"}, \"baxis\": {\"endlinecolor\": \"#2a3f5f\", \"gridcolor\": \"white\", \"linecolor\": \"white\", \"minorgridcolor\": \"white\", \"startlinecolor\": \"#2a3f5f\"}, \"type\": \"carpet\"}], \"choropleth\": [{\"colorbar\": {\"outlinewidth\": 0, \"ticks\": \"\"}, \"type\": \"choropleth\"}], \"contour\": [{\"colorbar\": {\"outlinewidth\": 0, \"ticks\": \"\"}, \"colorscale\": [[0.0, \"#0d0887\"], [0.1111111111111111, \"#46039f\"], [0.2222222222222222, \"#7201a8\"], [0.3333333333333333, \"#9c179e\"], [0.4444444444444444, \"#bd3786\"], [0.5555555555555556, \"#d8576b\"], [0.6666666666666666, \"#ed7953\"], [0.7777777777777778, \"#fb9f3a\"], [0.8888888888888888, \"#fdca26\"], [1.0, \"#f0f921\"]], \"type\": \"contour\"}], \"contourcarpet\": [{\"colorbar\": {\"outlinewidth\": 0, \"ticks\": \"\"}, \"type\": \"contourcarpet\"}], \"heatmap\": [{\"colorbar\": {\"outlinewidth\": 0, \"ticks\": \"\"}, \"colorscale\": [[0.0, \"#0d0887\"], [0.1111111111111111, \"#46039f\"], [0.2222222222222222, \"#7201a8\"], [0.3333333333333333, \"#9c179e\"], [0.4444444444444444, \"#bd3786\"], [0.5555555555555556, \"#d8576b\"], [0.6666666666666666, \"#ed7953\"], [0.7777777777777778, \"#fb9f3a\"], [0.8888888888888888, \"#fdca26\"], [1.0, \"#f0f921\"]], \"type\": \"heatmap\"}], \"heatmapgl\": [{\"colorbar\": {\"outlinewidth\": 0, \"ticks\": \"\"}, \"colorscale\": [[0.0, \"#0d0887\"], [0.1111111111111111, \"#46039f\"], [0.2222222222222222, \"#7201a8\"], [0.3333333333333333, \"#9c179e\"], [0.4444444444444444, \"#bd3786\"], [0.5555555555555556, \"#d8576b\"], [0.6666666666666666, \"#ed7953\"], [0.7777777777777778, \"#fb9f3a\"], [0.8888888888888888, \"#fdca26\"], [1.0, \"#f0f921\"]], \"type\": \"heatmapgl\"}], \"histogram\": [{\"marker\": {\"colorbar\": {\"outlinewidth\": 0, \"ticks\": \"\"}}, \"type\": \"histogram\"}], \"histogram2d\": [{\"colorbar\": {\"outlinewidth\": 0, \"ticks\": \"\"}, \"colorscale\": [[0.0, \"#0d0887\"], [0.1111111111111111, \"#46039f\"], [0.2222222222222222, \"#7201a8\"], [0.3333333333333333, \"#9c179e\"], [0.4444444444444444, \"#bd3786\"], [0.5555555555555556, \"#d8576b\"], [0.6666666666666666, \"#ed7953\"], [0.7777777777777778, \"#fb9f3a\"], [0.8888888888888888, \"#fdca26\"], [1.0, \"#f0f921\"]], \"type\": \"histogram2d\"}], \"histogram2dcontour\": [{\"colorbar\": {\"outlinewidth\": 0, \"ticks\": \"\"}, \"colorscale\": [[0.0, \"#0d0887\"], [0.1111111111111111, \"#46039f\"], [0.2222222222222222, \"#7201a8\"], [0.3333333333333333, \"#9c179e\"], [0.4444444444444444, \"#bd3786\"], [0.5555555555555556, \"#d8576b\"], [0.6666666666666666, \"#ed7953\"], [0.7777777777777778, \"#fb9f3a\"], [0.8888888888888888, \"#fdca26\"], [1.0, \"#f0f921\"]], \"type\": \"histogram2dcontour\"}], \"mesh3d\": [{\"colorbar\": {\"outlinewidth\": 0, \"ticks\": \"\"}, \"type\": \"mesh3d\"}], \"parcoords\": [{\"line\": {\"colorbar\": {\"outlinewidth\": 0, \"ticks\": \"\"}}, \"type\": \"parcoords\"}], \"pie\": [{\"automargin\": true, \"type\": \"pie\"}], \"scatter\": [{\"marker\": {\"colorbar\": {\"outlinewidth\": 0, \"ticks\": \"\"}}, \"type\": \"scatter\"}], \"scatter3d\": [{\"line\": {\"colorbar\": {\"outlinewidth\": 0, \"ticks\": \"\"}}, \"marker\": {\"colorbar\": {\"outlinewidth\": 0, \"ticks\": \"\"}}, \"type\": \"scatter3d\"}], \"scattercarpet\": [{\"marker\": {\"colorbar\": {\"outlinewidth\": 0, \"ticks\": \"\"}}, \"type\": \"scattercarpet\"}], \"scattergeo\": [{\"marker\": {\"colorbar\": {\"outlinewidth\": 0, \"ticks\": \"\"}}, \"type\": \"scattergeo\"}], \"scattergl\": [{\"marker\": {\"colorbar\": {\"outlinewidth\": 0, \"ticks\": \"\"}}, \"type\": \"scattergl\"}], \"scattermapbox\": [{\"marker\": {\"colorbar\": {\"outlinewidth\": 0, \"ticks\": \"\"}}, \"type\": \"scattermapbox\"}], \"scatterpolar\": [{\"marker\": {\"colorbar\": {\"outlinewidth\": 0, \"ticks\": \"\"}}, \"type\": \"scatterpolar\"}], \"scatterpolargl\": [{\"marker\": {\"colorbar\": {\"outlinewidth\": 0, \"ticks\": \"\"}}, \"type\": \"scatterpolargl\"}], \"scatterternary\": [{\"marker\": {\"colorbar\": {\"outlinewidth\": 0, \"ticks\": \"\"}}, \"type\": \"scatterternary\"}], \"surface\": [{\"colorbar\": {\"outlinewidth\": 0, \"ticks\": \"\"}, \"colorscale\": [[0.0, \"#0d0887\"], [0.1111111111111111, \"#46039f\"], [0.2222222222222222, \"#7201a8\"], [0.3333333333333333, \"#9c179e\"], [0.4444444444444444, \"#bd3786\"], [0.5555555555555556, \"#d8576b\"], [0.6666666666666666, \"#ed7953\"], [0.7777777777777778, \"#fb9f3a\"], [0.8888888888888888, \"#fdca26\"], [1.0, \"#f0f921\"]], \"type\": \"surface\"}], \"table\": [{\"cells\": {\"fill\": {\"color\": \"#EBF0F8\"}, \"line\": {\"color\": \"white\"}}, \"header\": {\"fill\": {\"color\": \"#C8D4E3\"}, \"line\": {\"color\": \"white\"}}, \"type\": \"table\"}]}, \"layout\": {\"annotationdefaults\": {\"arrowcolor\": \"#2a3f5f\", \"arrowhead\": 0, \"arrowwidth\": 1}, \"autotypenumbers\": \"strict\", \"coloraxis\": {\"colorbar\": {\"outlinewidth\": 0, \"ticks\": \"\"}}, \"colorscale\": {\"diverging\": [[0, \"#8e0152\"], [0.1, \"#c51b7d\"], [0.2, \"#de77ae\"], [0.3, \"#f1b6da\"], [0.4, \"#fde0ef\"], [0.5, \"#f7f7f7\"], [0.6, \"#e6f5d0\"], [0.7, \"#b8e186\"], [0.8, \"#7fbc41\"], [0.9, \"#4d9221\"], [1, \"#276419\"]], \"sequential\": [[0.0, \"#0d0887\"], [0.1111111111111111, \"#46039f\"], [0.2222222222222222, \"#7201a8\"], [0.3333333333333333, \"#9c179e\"], [0.4444444444444444, \"#bd3786\"], [0.5555555555555556, \"#d8576b\"], [0.6666666666666666, \"#ed7953\"], [0.7777777777777778, \"#fb9f3a\"], [0.8888888888888888, \"#fdca26\"], [1.0, \"#f0f921\"]], \"sequentialminus\": [[0.0, \"#0d0887\"], [0.1111111111111111, \"#46039f\"], [0.2222222222222222, \"#7201a8\"], [0.3333333333333333, \"#9c179e\"], [0.4444444444444444, \"#bd3786\"], [0.5555555555555556, \"#d8576b\"], [0.6666666666666666, \"#ed7953\"], [0.7777777777777778, \"#fb9f3a\"], [0.8888888888888888, \"#fdca26\"], [1.0, \"#f0f921\"]]}, \"colorway\": [\"#636efa\", \"#EF553B\", \"#00cc96\", \"#ab63fa\", \"#FFA15A\", \"#19d3f3\", \"#FF6692\", \"#B6E880\", \"#FF97FF\", \"#FECB52\"], \"font\": {\"color\": \"#2a3f5f\"}, \"geo\": {\"bgcolor\": \"white\", \"lakecolor\": \"white\", \"landcolor\": \"#E5ECF6\", \"showlakes\": true, \"showland\": true, \"subunitcolor\": \"white\"}, \"hoverlabel\": {\"align\": \"left\"}, \"hovermode\": \"closest\", \"mapbox\": {\"style\": \"light\"}, \"paper_bgcolor\": \"white\", \"plot_bgcolor\": \"#E5ECF6\", \"polar\": {\"angularaxis\": {\"gridcolor\": \"white\", \"linecolor\": \"white\", \"ticks\": \"\"}, \"bgcolor\": \"#E5ECF6\", \"radialaxis\": {\"gridcolor\": \"white\", \"linecolor\": \"white\", \"ticks\": \"\"}}, \"scene\": {\"xaxis\": {\"backgroundcolor\": \"#E5ECF6\", \"gridcolor\": \"white\", \"gridwidth\": 2, \"linecolor\": \"white\", \"showbackground\": true, \"ticks\": \"\", \"zerolinecolor\": \"white\"}, \"yaxis\": {\"backgroundcolor\": \"#E5ECF6\", \"gridcolor\": \"white\", \"gridwidth\": 2, \"linecolor\": \"white\", \"showbackground\": true, \"ticks\": \"\", \"zerolinecolor\": \"white\"}, \"zaxis\": {\"backgroundcolor\": \"#E5ECF6\", \"gridcolor\": \"white\", \"gridwidth\": 2, \"linecolor\": \"white\", \"showbackground\": true, \"ticks\": \"\", \"zerolinecolor\": \"white\"}}, \"shapedefaults\": {\"line\": {\"color\": \"#2a3f5f\"}}, \"ternary\": {\"aaxis\": {\"gridcolor\": \"white\", \"linecolor\": \"white\", \"ticks\": \"\"}, \"baxis\": {\"gridcolor\": \"white\", \"linecolor\": \"white\", \"ticks\": \"\"}, \"bgcolor\": \"#E5ECF6\", \"caxis\": {\"gridcolor\": \"white\", \"linecolor\": \"white\", \"ticks\": \"\"}}, \"title\": {\"x\": 0.05}, \"xaxis\": {\"automargin\": true, \"gridcolor\": \"white\", \"linecolor\": \"white\", \"ticks\": \"\", \"title\": {\"standoff\": 15}, \"zerolinecolor\": \"white\", \"zerolinewidth\": 2}, \"yaxis\": {\"automargin\": true, \"gridcolor\": \"white\", \"linecolor\": \"white\", \"ticks\": \"\", \"title\": {\"standoff\": 15}, \"zerolinecolor\": \"white\", \"zerolinewidth\": 2}}}, \"xaxis\": {\"anchor\": \"y\", \"domain\": [0.0, 1.0], \"title\": {\"text\": \"variable\"}}, \"yaxis\": {\"anchor\": \"x\", \"domain\": [0.0, 1.0], \"title\": {\"text\": \"value\"}}},                        {\"responsive\": true}                    ).then(function(){\n",
       "                            \n",
       "var gd = document.getElementById('7cc7fa7c-9d53-4ab5-9165-62d2404c8f1c');\n",
       "var x = new MutationObserver(function (mutations, observer) {{\n",
       "        var display = window.getComputedStyle(gd).display;\n",
       "        if (!display || display === 'none') {{\n",
       "            console.log([gd, 'removed!']);\n",
       "            Plotly.purge(gd);\n",
       "            observer.disconnect();\n",
       "        }}\n",
       "}});\n",
       "\n",
       "// Listen for the removal of the full notebook cells\n",
       "var notebookContainer = gd.closest('#notebook-container');\n",
       "if (notebookContainer) {{\n",
       "    x.observe(notebookContainer, {childList: true});\n",
       "}}\n",
       "\n",
       "// Listen for the clearing of the current output cell\n",
       "var outputEl = gd.closest('.output');\n",
       "if (outputEl) {{\n",
       "    x.observe(outputEl, {childList: true});\n",
       "}}\n",
       "\n",
       "                        })                };                });            </script>        </div>"
      ]
     },
     "metadata": {},
     "output_type": "display_data"
    }
   ],
   "source": [
    "data['Patient Age'].apply(lambda x : int(x[1:3])).plot.box()"
   ]
  },
  {
   "cell_type": "code",
   "execution_count": 7,
   "metadata": {
    "_cell_guid": "0ce2fa02-41de-4a0c-b374-0209580fefb7",
    "_uuid": "3a39e286-ee40-421b-bc7e-40e3d1379e2b",
    "collapsed": false,
    "execution": {
     "iopub.execute_input": "2024-08-30T10:59:19.368615Z",
     "iopub.status.busy": "2024-08-30T10:59:19.367596Z",
     "iopub.status.idle": "2024-08-30T10:59:19.432706Z",
     "shell.execute_reply": "2024-08-30T10:59:19.432038Z",
     "shell.execute_reply.started": "2024-08-30T09:28:49.651556Z"
    },
    "jupyter": {
     "outputs_hidden": false
    },
    "papermill": {
     "duration": 0.124633,
     "end_time": "2024-08-30T10:59:19.432824",
     "exception": false,
     "start_time": "2024-08-30T10:59:19.308191",
     "status": "completed"
    },
    "tags": []
   },
   "outputs": [
    {
     "data": {
      "text/html": [
       "<div>                            <div id=\"153862b9-3f9a-4124-bdb7-11f807bd1c70\" class=\"plotly-graph-div\" style=\"height:525px; width:100%;\"></div>            <script type=\"text/javascript\">                require([\"plotly\"], function(Plotly) {                    window.PLOTLYENV=window.PLOTLYENV || {};                                    if (document.getElementById(\"153862b9-3f9a-4124-bdb7-11f807bd1c70\")) {                    Plotly.newPlot(                        \"153862b9-3f9a-4124-bdb7-11f807bd1c70\",                        [{\"alignmentgroup\": \"True\", \"hovertemplate\": \"variable=View Position<br>index=%{x}<br>value=%{y}<extra></extra>\", \"legendgroup\": \"View Position\", \"marker\": {\"color\": \"#636efa\"}, \"name\": \"View Position\", \"offsetgroup\": \"View Position\", \"orientation\": \"v\", \"showlegend\": true, \"textposition\": \"auto\", \"type\": \"bar\", \"x\": [\"PA\", \"AP\"], \"xaxis\": \"x\", \"y\": [3393, 2213], \"yaxis\": \"y\"}],                        {\"barmode\": \"relative\", \"legend\": {\"title\": {\"text\": \"variable\"}, \"tracegroupgap\": 0}, \"margin\": {\"t\": 60}, \"template\": {\"data\": {\"bar\": [{\"error_x\": {\"color\": \"#2a3f5f\"}, \"error_y\": {\"color\": \"#2a3f5f\"}, \"marker\": {\"line\": {\"color\": \"#E5ECF6\", \"width\": 0.5}}, \"type\": \"bar\"}], \"barpolar\": [{\"marker\": {\"line\": {\"color\": \"#E5ECF6\", \"width\": 0.5}}, \"type\": \"barpolar\"}], \"carpet\": [{\"aaxis\": {\"endlinecolor\": \"#2a3f5f\", \"gridcolor\": \"white\", \"linecolor\": \"white\", \"minorgridcolor\": \"white\", \"startlinecolor\": \"#2a3f5f\"}, \"baxis\": {\"endlinecolor\": \"#2a3f5f\", \"gridcolor\": \"white\", \"linecolor\": \"white\", \"minorgridcolor\": \"white\", \"startlinecolor\": \"#2a3f5f\"}, \"type\": \"carpet\"}], \"choropleth\": [{\"colorbar\": {\"outlinewidth\": 0, \"ticks\": \"\"}, \"type\": \"choropleth\"}], \"contour\": [{\"colorbar\": {\"outlinewidth\": 0, \"ticks\": \"\"}, \"colorscale\": [[0.0, \"#0d0887\"], [0.1111111111111111, \"#46039f\"], [0.2222222222222222, \"#7201a8\"], [0.3333333333333333, \"#9c179e\"], [0.4444444444444444, \"#bd3786\"], [0.5555555555555556, \"#d8576b\"], [0.6666666666666666, \"#ed7953\"], [0.7777777777777778, \"#fb9f3a\"], [0.8888888888888888, \"#fdca26\"], [1.0, \"#f0f921\"]], \"type\": \"contour\"}], \"contourcarpet\": [{\"colorbar\": {\"outlinewidth\": 0, \"ticks\": \"\"}, \"type\": \"contourcarpet\"}], \"heatmap\": [{\"colorbar\": {\"outlinewidth\": 0, \"ticks\": \"\"}, \"colorscale\": [[0.0, \"#0d0887\"], [0.1111111111111111, \"#46039f\"], [0.2222222222222222, \"#7201a8\"], [0.3333333333333333, \"#9c179e\"], [0.4444444444444444, \"#bd3786\"], [0.5555555555555556, \"#d8576b\"], [0.6666666666666666, \"#ed7953\"], [0.7777777777777778, \"#fb9f3a\"], [0.8888888888888888, \"#fdca26\"], [1.0, \"#f0f921\"]], \"type\": \"heatmap\"}], \"heatmapgl\": [{\"colorbar\": {\"outlinewidth\": 0, \"ticks\": \"\"}, \"colorscale\": [[0.0, \"#0d0887\"], [0.1111111111111111, \"#46039f\"], [0.2222222222222222, \"#7201a8\"], [0.3333333333333333, \"#9c179e\"], [0.4444444444444444, \"#bd3786\"], [0.5555555555555556, \"#d8576b\"], [0.6666666666666666, \"#ed7953\"], [0.7777777777777778, \"#fb9f3a\"], [0.8888888888888888, \"#fdca26\"], [1.0, \"#f0f921\"]], \"type\": \"heatmapgl\"}], \"histogram\": [{\"marker\": {\"colorbar\": {\"outlinewidth\": 0, \"ticks\": \"\"}}, \"type\": \"histogram\"}], \"histogram2d\": [{\"colorbar\": {\"outlinewidth\": 0, \"ticks\": \"\"}, \"colorscale\": [[0.0, \"#0d0887\"], [0.1111111111111111, \"#46039f\"], [0.2222222222222222, \"#7201a8\"], [0.3333333333333333, \"#9c179e\"], [0.4444444444444444, \"#bd3786\"], [0.5555555555555556, \"#d8576b\"], [0.6666666666666666, \"#ed7953\"], [0.7777777777777778, \"#fb9f3a\"], [0.8888888888888888, \"#fdca26\"], [1.0, \"#f0f921\"]], \"type\": \"histogram2d\"}], \"histogram2dcontour\": [{\"colorbar\": {\"outlinewidth\": 0, \"ticks\": \"\"}, \"colorscale\": [[0.0, \"#0d0887\"], [0.1111111111111111, \"#46039f\"], [0.2222222222222222, \"#7201a8\"], [0.3333333333333333, \"#9c179e\"], [0.4444444444444444, \"#bd3786\"], [0.5555555555555556, \"#d8576b\"], [0.6666666666666666, \"#ed7953\"], [0.7777777777777778, \"#fb9f3a\"], [0.8888888888888888, \"#fdca26\"], [1.0, \"#f0f921\"]], \"type\": \"histogram2dcontour\"}], \"mesh3d\": [{\"colorbar\": {\"outlinewidth\": 0, \"ticks\": \"\"}, \"type\": \"mesh3d\"}], \"parcoords\": [{\"line\": {\"colorbar\": {\"outlinewidth\": 0, \"ticks\": \"\"}}, \"type\": \"parcoords\"}], \"pie\": [{\"automargin\": true, \"type\": \"pie\"}], \"scatter\": [{\"marker\": {\"colorbar\": {\"outlinewidth\": 0, \"ticks\": \"\"}}, \"type\": \"scatter\"}], \"scatter3d\": [{\"line\": {\"colorbar\": {\"outlinewidth\": 0, \"ticks\": \"\"}}, \"marker\": {\"colorbar\": {\"outlinewidth\": 0, \"ticks\": \"\"}}, \"type\": \"scatter3d\"}], \"scattercarpet\": [{\"marker\": {\"colorbar\": {\"outlinewidth\": 0, \"ticks\": \"\"}}, \"type\": \"scattercarpet\"}], \"scattergeo\": [{\"marker\": {\"colorbar\": {\"outlinewidth\": 0, \"ticks\": \"\"}}, \"type\": \"scattergeo\"}], \"scattergl\": [{\"marker\": {\"colorbar\": {\"outlinewidth\": 0, \"ticks\": \"\"}}, \"type\": \"scattergl\"}], \"scattermapbox\": [{\"marker\": {\"colorbar\": {\"outlinewidth\": 0, \"ticks\": \"\"}}, \"type\": \"scattermapbox\"}], \"scatterpolar\": [{\"marker\": {\"colorbar\": {\"outlinewidth\": 0, \"ticks\": \"\"}}, \"type\": \"scatterpolar\"}], \"scatterpolargl\": [{\"marker\": {\"colorbar\": {\"outlinewidth\": 0, \"ticks\": \"\"}}, \"type\": \"scatterpolargl\"}], \"scatterternary\": [{\"marker\": {\"colorbar\": {\"outlinewidth\": 0, \"ticks\": \"\"}}, \"type\": \"scatterternary\"}], \"surface\": [{\"colorbar\": {\"outlinewidth\": 0, \"ticks\": \"\"}, \"colorscale\": [[0.0, \"#0d0887\"], [0.1111111111111111, \"#46039f\"], [0.2222222222222222, \"#7201a8\"], [0.3333333333333333, \"#9c179e\"], [0.4444444444444444, \"#bd3786\"], [0.5555555555555556, \"#d8576b\"], [0.6666666666666666, \"#ed7953\"], [0.7777777777777778, \"#fb9f3a\"], [0.8888888888888888, \"#fdca26\"], [1.0, \"#f0f921\"]], \"type\": \"surface\"}], \"table\": [{\"cells\": {\"fill\": {\"color\": \"#EBF0F8\"}, \"line\": {\"color\": \"white\"}}, \"header\": {\"fill\": {\"color\": \"#C8D4E3\"}, \"line\": {\"color\": \"white\"}}, \"type\": \"table\"}]}, \"layout\": {\"annotationdefaults\": {\"arrowcolor\": \"#2a3f5f\", \"arrowhead\": 0, \"arrowwidth\": 1}, \"autotypenumbers\": \"strict\", \"coloraxis\": {\"colorbar\": {\"outlinewidth\": 0, \"ticks\": \"\"}}, \"colorscale\": {\"diverging\": [[0, \"#8e0152\"], [0.1, \"#c51b7d\"], [0.2, \"#de77ae\"], [0.3, \"#f1b6da\"], [0.4, \"#fde0ef\"], [0.5, \"#f7f7f7\"], [0.6, \"#e6f5d0\"], [0.7, \"#b8e186\"], [0.8, \"#7fbc41\"], [0.9, \"#4d9221\"], [1, \"#276419\"]], \"sequential\": [[0.0, \"#0d0887\"], [0.1111111111111111, \"#46039f\"], [0.2222222222222222, \"#7201a8\"], [0.3333333333333333, \"#9c179e\"], [0.4444444444444444, \"#bd3786\"], [0.5555555555555556, \"#d8576b\"], [0.6666666666666666, \"#ed7953\"], [0.7777777777777778, \"#fb9f3a\"], [0.8888888888888888, \"#fdca26\"], [1.0, \"#f0f921\"]], \"sequentialminus\": [[0.0, \"#0d0887\"], [0.1111111111111111, \"#46039f\"], [0.2222222222222222, \"#7201a8\"], [0.3333333333333333, \"#9c179e\"], [0.4444444444444444, \"#bd3786\"], [0.5555555555555556, \"#d8576b\"], [0.6666666666666666, \"#ed7953\"], [0.7777777777777778, \"#fb9f3a\"], [0.8888888888888888, \"#fdca26\"], [1.0, \"#f0f921\"]]}, \"colorway\": [\"#636efa\", \"#EF553B\", \"#00cc96\", \"#ab63fa\", \"#FFA15A\", \"#19d3f3\", \"#FF6692\", \"#B6E880\", \"#FF97FF\", \"#FECB52\"], \"font\": {\"color\": \"#2a3f5f\"}, \"geo\": {\"bgcolor\": \"white\", \"lakecolor\": \"white\", \"landcolor\": \"#E5ECF6\", \"showlakes\": true, \"showland\": true, \"subunitcolor\": \"white\"}, \"hoverlabel\": {\"align\": \"left\"}, \"hovermode\": \"closest\", \"mapbox\": {\"style\": \"light\"}, \"paper_bgcolor\": \"white\", \"plot_bgcolor\": \"#E5ECF6\", \"polar\": {\"angularaxis\": {\"gridcolor\": \"white\", \"linecolor\": \"white\", \"ticks\": \"\"}, \"bgcolor\": \"#E5ECF6\", \"radialaxis\": {\"gridcolor\": \"white\", \"linecolor\": \"white\", \"ticks\": \"\"}}, \"scene\": {\"xaxis\": {\"backgroundcolor\": \"#E5ECF6\", \"gridcolor\": \"white\", \"gridwidth\": 2, \"linecolor\": \"white\", \"showbackground\": true, \"ticks\": \"\", \"zerolinecolor\": \"white\"}, \"yaxis\": {\"backgroundcolor\": \"#E5ECF6\", \"gridcolor\": \"white\", \"gridwidth\": 2, \"linecolor\": \"white\", \"showbackground\": true, \"ticks\": \"\", \"zerolinecolor\": \"white\"}, \"zaxis\": {\"backgroundcolor\": \"#E5ECF6\", \"gridcolor\": \"white\", \"gridwidth\": 2, \"linecolor\": \"white\", \"showbackground\": true, \"ticks\": \"\", \"zerolinecolor\": \"white\"}}, \"shapedefaults\": {\"line\": {\"color\": \"#2a3f5f\"}}, \"ternary\": {\"aaxis\": {\"gridcolor\": \"white\", \"linecolor\": \"white\", \"ticks\": \"\"}, \"baxis\": {\"gridcolor\": \"white\", \"linecolor\": \"white\", \"ticks\": \"\"}, \"bgcolor\": \"#E5ECF6\", \"caxis\": {\"gridcolor\": \"white\", \"linecolor\": \"white\", \"ticks\": \"\"}}, \"title\": {\"x\": 0.05}, \"xaxis\": {\"automargin\": true, \"gridcolor\": \"white\", \"linecolor\": \"white\", \"ticks\": \"\", \"title\": {\"standoff\": 15}, \"zerolinecolor\": \"white\", \"zerolinewidth\": 2}, \"yaxis\": {\"automargin\": true, \"gridcolor\": \"white\", \"linecolor\": \"white\", \"ticks\": \"\", \"title\": {\"standoff\": 15}, \"zerolinecolor\": \"white\", \"zerolinewidth\": 2}}}, \"xaxis\": {\"anchor\": \"y\", \"domain\": [0.0, 1.0], \"title\": {\"text\": \"index\"}}, \"yaxis\": {\"anchor\": \"x\", \"domain\": [0.0, 1.0], \"title\": {\"text\": \"value\"}}},                        {\"responsive\": true}                    ).then(function(){\n",
       "                            \n",
       "var gd = document.getElementById('153862b9-3f9a-4124-bdb7-11f807bd1c70');\n",
       "var x = new MutationObserver(function (mutations, observer) {{\n",
       "        var display = window.getComputedStyle(gd).display;\n",
       "        if (!display || display === 'none') {{\n",
       "            console.log([gd, 'removed!']);\n",
       "            Plotly.purge(gd);\n",
       "            observer.disconnect();\n",
       "        }}\n",
       "}});\n",
       "\n",
       "// Listen for the removal of the full notebook cells\n",
       "var notebookContainer = gd.closest('#notebook-container');\n",
       "if (notebookContainer) {{\n",
       "    x.observe(notebookContainer, {childList: true});\n",
       "}}\n",
       "\n",
       "// Listen for the clearing of the current output cell\n",
       "var outputEl = gd.closest('.output');\n",
       "if (outputEl) {{\n",
       "    x.observe(outputEl, {childList: true});\n",
       "}}\n",
       "\n",
       "                        })                };                });            </script>        </div>"
      ]
     },
     "metadata": {},
     "output_type": "display_data"
    }
   ],
   "source": [
    "data['View Position'].value_counts().plot.bar()"
   ]
  },
  {
   "cell_type": "code",
   "execution_count": 8,
   "metadata": {
    "_cell_guid": "896dd4db-cbc4-4590-abec-62e934744ae6",
    "_uuid": "1e0b589c-3f26-4068-8563-df4891c6cd2d",
    "collapsed": false,
    "execution": {
     "iopub.execute_input": "2024-08-30T10:59:19.602032Z",
     "iopub.status.busy": "2024-08-30T10:59:19.601014Z",
     "iopub.status.idle": "2024-08-30T10:59:19.604040Z",
     "shell.execute_reply": "2024-08-30T10:59:19.603393Z",
     "shell.execute_reply.started": "2024-08-30T09:28:53.976643Z"
    },
    "jupyter": {
     "outputs_hidden": false
    },
    "papermill": {
     "duration": 0.124225,
     "end_time": "2024-08-30T10:59:19.604166",
     "exception": false,
     "start_time": "2024-08-30T10:59:19.479941",
     "status": "completed"
    },
    "tags": []
   },
   "outputs": [],
   "source": [
    "pathology_list = ['Cardiomegaly','Emphysema','Effusion','Hernia','Nodule','Pneumothorax','Atelectasis','Pleural_Thickening','Mass','Edema','Consolidation','Infiltration','Fibrosis','Pneumonia']\n",
    "\n",
    "for pathology in pathology_list :\n",
    "    data[pathology] = data['Finding Labels'].apply(lambda x: 1 if pathology in x else 0)\n",
    "    \n",
    "data['No Findings'] = data['Finding Labels'].apply(lambda x: 1 if 'No Finding' in x else 0)"
   ]
  },
  {
   "cell_type": "code",
   "execution_count": 9,
   "metadata": {
    "_cell_guid": "d8721d3d-0aec-47d1-943b-1fd28069dba4",
    "_uuid": "2d2abb12-517a-4e65-bf2d-7b6081c0a9c8",
    "collapsed": false,
    "execution": {
     "iopub.execute_input": "2024-08-30T10:59:19.705262Z",
     "iopub.status.busy": "2024-08-30T10:59:19.704635Z",
     "iopub.status.idle": "2024-08-30T10:59:19.776543Z",
     "shell.execute_reply": "2024-08-30T10:59:19.776035Z",
     "shell.execute_reply.started": "2024-08-30T09:29:18.896125Z"
    },
    "jupyter": {
     "outputs_hidden": false
    },
    "papermill": {
     "duration": 0.125201,
     "end_time": "2024-08-30T10:59:19.776661",
     "exception": false,
     "start_time": "2024-08-30T10:59:19.651460",
     "status": "completed"
    },
    "tags": []
   },
   "outputs": [
    {
     "data": {
      "text/html": [
       "<div>                            <div id=\"3e63a61f-de75-48f2-ba33-f6710d33899a\" class=\"plotly-graph-div\" style=\"height:525px; width:100%;\"></div>            <script type=\"text/javascript\">                require([\"plotly\"], function(Plotly) {                    window.PLOTLYENV=window.PLOTLYENV || {};                                    if (document.getElementById(\"3e63a61f-de75-48f2-ba33-f6710d33899a\")) {                    Plotly.newPlot(                        \"3e63a61f-de75-48f2-ba33-f6710d33899a\",                        [{\"alignmentgroup\": \"True\", \"hovertemplate\": \"variable=0<br>value=%{x}<br>index=%{y}<extra></extra>\", \"legendgroup\": \"0\", \"marker\": {\"color\": \"#636efa\"}, \"name\": \"0\", \"offsetgroup\": \"0\", \"orientation\": \"h\", \"showlegend\": true, \"textposition\": \"auto\", \"type\": \"bar\", \"x\": [141, 127, 644, 13, 313, 271, 508, 176, 284, 118, 226, 967, 84, 62, 3044], \"xaxis\": \"x\", \"y\": [\"Cardiomegaly\", \"Emphysema\", \"Effusion\", \"Hernia\", \"Nodule\", \"Pneumothorax\", \"Atelectasis\", \"Pleural_Thickening\", \"Mass\", \"Edema\", \"Consolidation\", \"Infiltration\", \"Fibrosis\", \"Pneumonia\", \"No Findings\"], \"yaxis\": \"y\"}],                        {\"barmode\": \"relative\", \"legend\": {\"title\": {\"text\": \"variable\"}, \"tracegroupgap\": 0}, \"margin\": {\"t\": 60}, \"template\": {\"data\": {\"bar\": [{\"error_x\": {\"color\": \"#2a3f5f\"}, \"error_y\": {\"color\": \"#2a3f5f\"}, \"marker\": {\"line\": {\"color\": \"#E5ECF6\", \"width\": 0.5}}, \"type\": \"bar\"}], \"barpolar\": [{\"marker\": {\"line\": {\"color\": \"#E5ECF6\", \"width\": 0.5}}, \"type\": \"barpolar\"}], \"carpet\": [{\"aaxis\": {\"endlinecolor\": \"#2a3f5f\", \"gridcolor\": \"white\", \"linecolor\": \"white\", \"minorgridcolor\": \"white\", \"startlinecolor\": \"#2a3f5f\"}, \"baxis\": {\"endlinecolor\": \"#2a3f5f\", \"gridcolor\": \"white\", \"linecolor\": \"white\", \"minorgridcolor\": \"white\", \"startlinecolor\": \"#2a3f5f\"}, \"type\": \"carpet\"}], \"choropleth\": [{\"colorbar\": {\"outlinewidth\": 0, \"ticks\": \"\"}, \"type\": \"choropleth\"}], \"contour\": [{\"colorbar\": {\"outlinewidth\": 0, \"ticks\": \"\"}, \"colorscale\": [[0.0, \"#0d0887\"], [0.1111111111111111, \"#46039f\"], [0.2222222222222222, \"#7201a8\"], [0.3333333333333333, \"#9c179e\"], [0.4444444444444444, \"#bd3786\"], [0.5555555555555556, \"#d8576b\"], [0.6666666666666666, \"#ed7953\"], [0.7777777777777778, \"#fb9f3a\"], [0.8888888888888888, \"#fdca26\"], [1.0, \"#f0f921\"]], \"type\": \"contour\"}], \"contourcarpet\": [{\"colorbar\": {\"outlinewidth\": 0, \"ticks\": \"\"}, \"type\": \"contourcarpet\"}], \"heatmap\": [{\"colorbar\": {\"outlinewidth\": 0, \"ticks\": \"\"}, \"colorscale\": [[0.0, \"#0d0887\"], [0.1111111111111111, \"#46039f\"], [0.2222222222222222, \"#7201a8\"], [0.3333333333333333, \"#9c179e\"], [0.4444444444444444, \"#bd3786\"], [0.5555555555555556, \"#d8576b\"], [0.6666666666666666, \"#ed7953\"], [0.7777777777777778, \"#fb9f3a\"], [0.8888888888888888, \"#fdca26\"], [1.0, \"#f0f921\"]], \"type\": \"heatmap\"}], \"heatmapgl\": [{\"colorbar\": {\"outlinewidth\": 0, \"ticks\": \"\"}, \"colorscale\": [[0.0, \"#0d0887\"], [0.1111111111111111, \"#46039f\"], [0.2222222222222222, \"#7201a8\"], [0.3333333333333333, \"#9c179e\"], [0.4444444444444444, \"#bd3786\"], [0.5555555555555556, \"#d8576b\"], [0.6666666666666666, \"#ed7953\"], [0.7777777777777778, \"#fb9f3a\"], [0.8888888888888888, \"#fdca26\"], [1.0, \"#f0f921\"]], \"type\": \"heatmapgl\"}], \"histogram\": [{\"marker\": {\"colorbar\": {\"outlinewidth\": 0, \"ticks\": \"\"}}, \"type\": \"histogram\"}], \"histogram2d\": [{\"colorbar\": {\"outlinewidth\": 0, \"ticks\": \"\"}, \"colorscale\": [[0.0, \"#0d0887\"], [0.1111111111111111, \"#46039f\"], [0.2222222222222222, \"#7201a8\"], [0.3333333333333333, \"#9c179e\"], [0.4444444444444444, \"#bd3786\"], [0.5555555555555556, \"#d8576b\"], [0.6666666666666666, \"#ed7953\"], [0.7777777777777778, \"#fb9f3a\"], [0.8888888888888888, \"#fdca26\"], [1.0, \"#f0f921\"]], \"type\": \"histogram2d\"}], \"histogram2dcontour\": [{\"colorbar\": {\"outlinewidth\": 0, \"ticks\": \"\"}, \"colorscale\": [[0.0, \"#0d0887\"], [0.1111111111111111, \"#46039f\"], [0.2222222222222222, \"#7201a8\"], [0.3333333333333333, \"#9c179e\"], [0.4444444444444444, \"#bd3786\"], [0.5555555555555556, \"#d8576b\"], [0.6666666666666666, \"#ed7953\"], [0.7777777777777778, \"#fb9f3a\"], [0.8888888888888888, \"#fdca26\"], [1.0, \"#f0f921\"]], \"type\": \"histogram2dcontour\"}], \"mesh3d\": [{\"colorbar\": {\"outlinewidth\": 0, \"ticks\": \"\"}, \"type\": \"mesh3d\"}], \"parcoords\": [{\"line\": {\"colorbar\": {\"outlinewidth\": 0, \"ticks\": \"\"}}, \"type\": \"parcoords\"}], \"pie\": [{\"automargin\": true, \"type\": \"pie\"}], \"scatter\": [{\"marker\": {\"colorbar\": {\"outlinewidth\": 0, \"ticks\": \"\"}}, \"type\": \"scatter\"}], \"scatter3d\": [{\"line\": {\"colorbar\": {\"outlinewidth\": 0, \"ticks\": \"\"}}, \"marker\": {\"colorbar\": {\"outlinewidth\": 0, \"ticks\": \"\"}}, \"type\": \"scatter3d\"}], \"scattercarpet\": [{\"marker\": {\"colorbar\": {\"outlinewidth\": 0, \"ticks\": \"\"}}, \"type\": \"scattercarpet\"}], \"scattergeo\": [{\"marker\": {\"colorbar\": {\"outlinewidth\": 0, \"ticks\": \"\"}}, \"type\": \"scattergeo\"}], \"scattergl\": [{\"marker\": {\"colorbar\": {\"outlinewidth\": 0, \"ticks\": \"\"}}, \"type\": \"scattergl\"}], \"scattermapbox\": [{\"marker\": {\"colorbar\": {\"outlinewidth\": 0, \"ticks\": \"\"}}, \"type\": \"scattermapbox\"}], \"scatterpolar\": [{\"marker\": {\"colorbar\": {\"outlinewidth\": 0, \"ticks\": \"\"}}, \"type\": \"scatterpolar\"}], \"scatterpolargl\": [{\"marker\": {\"colorbar\": {\"outlinewidth\": 0, \"ticks\": \"\"}}, \"type\": \"scatterpolargl\"}], \"scatterternary\": [{\"marker\": {\"colorbar\": {\"outlinewidth\": 0, \"ticks\": \"\"}}, \"type\": \"scatterternary\"}], \"surface\": [{\"colorbar\": {\"outlinewidth\": 0, \"ticks\": \"\"}, \"colorscale\": [[0.0, \"#0d0887\"], [0.1111111111111111, \"#46039f\"], [0.2222222222222222, \"#7201a8\"], [0.3333333333333333, \"#9c179e\"], [0.4444444444444444, \"#bd3786\"], [0.5555555555555556, \"#d8576b\"], [0.6666666666666666, \"#ed7953\"], [0.7777777777777778, \"#fb9f3a\"], [0.8888888888888888, \"#fdca26\"], [1.0, \"#f0f921\"]], \"type\": \"surface\"}], \"table\": [{\"cells\": {\"fill\": {\"color\": \"#EBF0F8\"}, \"line\": {\"color\": \"white\"}}, \"header\": {\"fill\": {\"color\": \"#C8D4E3\"}, \"line\": {\"color\": \"white\"}}, \"type\": \"table\"}]}, \"layout\": {\"annotationdefaults\": {\"arrowcolor\": \"#2a3f5f\", \"arrowhead\": 0, \"arrowwidth\": 1}, \"autotypenumbers\": \"strict\", \"coloraxis\": {\"colorbar\": {\"outlinewidth\": 0, \"ticks\": \"\"}}, \"colorscale\": {\"diverging\": [[0, \"#8e0152\"], [0.1, \"#c51b7d\"], [0.2, \"#de77ae\"], [0.3, \"#f1b6da\"], [0.4, \"#fde0ef\"], [0.5, \"#f7f7f7\"], [0.6, \"#e6f5d0\"], [0.7, \"#b8e186\"], [0.8, \"#7fbc41\"], [0.9, \"#4d9221\"], [1, \"#276419\"]], \"sequential\": [[0.0, \"#0d0887\"], [0.1111111111111111, \"#46039f\"], [0.2222222222222222, \"#7201a8\"], [0.3333333333333333, \"#9c179e\"], [0.4444444444444444, \"#bd3786\"], [0.5555555555555556, \"#d8576b\"], [0.6666666666666666, \"#ed7953\"], [0.7777777777777778, \"#fb9f3a\"], [0.8888888888888888, \"#fdca26\"], [1.0, \"#f0f921\"]], \"sequentialminus\": [[0.0, \"#0d0887\"], [0.1111111111111111, \"#46039f\"], [0.2222222222222222, \"#7201a8\"], [0.3333333333333333, \"#9c179e\"], [0.4444444444444444, \"#bd3786\"], [0.5555555555555556, \"#d8576b\"], [0.6666666666666666, \"#ed7953\"], [0.7777777777777778, \"#fb9f3a\"], [0.8888888888888888, \"#fdca26\"], [1.0, \"#f0f921\"]]}, \"colorway\": [\"#636efa\", \"#EF553B\", \"#00cc96\", \"#ab63fa\", \"#FFA15A\", \"#19d3f3\", \"#FF6692\", \"#B6E880\", \"#FF97FF\", \"#FECB52\"], \"font\": {\"color\": \"#2a3f5f\"}, \"geo\": {\"bgcolor\": \"white\", \"lakecolor\": \"white\", \"landcolor\": \"#E5ECF6\", \"showlakes\": true, \"showland\": true, \"subunitcolor\": \"white\"}, \"hoverlabel\": {\"align\": \"left\"}, \"hovermode\": \"closest\", \"mapbox\": {\"style\": \"light\"}, \"paper_bgcolor\": \"white\", \"plot_bgcolor\": \"#E5ECF6\", \"polar\": {\"angularaxis\": {\"gridcolor\": \"white\", \"linecolor\": \"white\", \"ticks\": \"\"}, \"bgcolor\": \"#E5ECF6\", \"radialaxis\": {\"gridcolor\": \"white\", \"linecolor\": \"white\", \"ticks\": \"\"}}, \"scene\": {\"xaxis\": {\"backgroundcolor\": \"#E5ECF6\", \"gridcolor\": \"white\", \"gridwidth\": 2, \"linecolor\": \"white\", \"showbackground\": true, \"ticks\": \"\", \"zerolinecolor\": \"white\"}, \"yaxis\": {\"backgroundcolor\": \"#E5ECF6\", \"gridcolor\": \"white\", \"gridwidth\": 2, \"linecolor\": \"white\", \"showbackground\": true, \"ticks\": \"\", \"zerolinecolor\": \"white\"}, \"zaxis\": {\"backgroundcolor\": \"#E5ECF6\", \"gridcolor\": \"white\", \"gridwidth\": 2, \"linecolor\": \"white\", \"showbackground\": true, \"ticks\": \"\", \"zerolinecolor\": \"white\"}}, \"shapedefaults\": {\"line\": {\"color\": \"#2a3f5f\"}}, \"ternary\": {\"aaxis\": {\"gridcolor\": \"white\", \"linecolor\": \"white\", \"ticks\": \"\"}, \"baxis\": {\"gridcolor\": \"white\", \"linecolor\": \"white\", \"ticks\": \"\"}, \"bgcolor\": \"#E5ECF6\", \"caxis\": {\"gridcolor\": \"white\", \"linecolor\": \"white\", \"ticks\": \"\"}}, \"title\": {\"x\": 0.05}, \"xaxis\": {\"automargin\": true, \"gridcolor\": \"white\", \"linecolor\": \"white\", \"ticks\": \"\", \"title\": {\"standoff\": 15}, \"zerolinecolor\": \"white\", \"zerolinewidth\": 2}, \"yaxis\": {\"automargin\": true, \"gridcolor\": \"white\", \"linecolor\": \"white\", \"ticks\": \"\", \"title\": {\"standoff\": 15}, \"zerolinecolor\": \"white\", \"zerolinewidth\": 2}}}, \"xaxis\": {\"anchor\": \"y\", \"domain\": [0.0, 1.0], \"title\": {\"text\": \"value\"}}, \"yaxis\": {\"anchor\": \"x\", \"domain\": [0.0, 1.0], \"title\": {\"text\": \"index\"}}},                        {\"responsive\": true}                    ).then(function(){\n",
       "                            \n",
       "var gd = document.getElementById('3e63a61f-de75-48f2-ba33-f6710d33899a');\n",
       "var x = new MutationObserver(function (mutations, observer) {{\n",
       "        var display = window.getComputedStyle(gd).display;\n",
       "        if (!display || display === 'none') {{\n",
       "            console.log([gd, 'removed!']);\n",
       "            Plotly.purge(gd);\n",
       "            observer.disconnect();\n",
       "        }}\n",
       "}});\n",
       "\n",
       "// Listen for the removal of the full notebook cells\n",
       "var notebookContainer = gd.closest('#notebook-container');\n",
       "if (notebookContainer) {{\n",
       "    x.observe(notebookContainer, {childList: true});\n",
       "}}\n",
       "\n",
       "// Listen for the clearing of the current output cell\n",
       "var outputEl = gd.closest('.output');\n",
       "if (outputEl) {{\n",
       "    x.observe(outputEl, {childList: true});\n",
       "}}\n",
       "\n",
       "                        })                };                });            </script>        </div>"
      ]
     },
     "metadata": {},
     "output_type": "display_data"
    }
   ],
   "source": [
    "data = data.drop(list(data.iloc[:,1:11].columns.values),axis = 1)\n",
    "data.iloc[:,1:].sum().plot.barh()"
   ]
  },
  {
   "cell_type": "code",
   "execution_count": 10,
   "metadata": {
    "_cell_guid": "3a06314f-af00-4722-9ea5-588c330f1d8f",
    "_uuid": "e921604b-bfe9-4f48-80c1-ace11a32e176",
    "collapsed": false,
    "execution": {
     "iopub.execute_input": "2024-08-30T10:59:19.889644Z",
     "iopub.status.busy": "2024-08-30T10:59:19.878298Z",
     "iopub.status.idle": "2024-08-30T10:59:19.949878Z",
     "shell.execute_reply": "2024-08-30T10:59:19.949230Z",
     "shell.execute_reply.started": "2024-08-30T09:29:22.934059Z"
    },
    "jupyter": {
     "outputs_hidden": false
    },
    "papermill": {
     "duration": 0.125914,
     "end_time": "2024-08-30T10:59:19.949989",
     "exception": false,
     "start_time": "2024-08-30T10:59:19.824075",
     "status": "completed"
    },
    "tags": []
   },
   "outputs": [
    {
     "data": {
      "text/html": [
       "<div>                            <div id=\"6d81ddfd-ec79-4740-8025-97a78c98de9b\" class=\"plotly-graph-div\" style=\"height:525px; width:100%;\"></div>            <script type=\"text/javascript\">                require([\"plotly\"], function(Plotly) {                    window.PLOTLYENV=window.PLOTLYENV || {};                                    if (document.getElementById(\"6d81ddfd-ec79-4740-8025-97a78c98de9b\")) {                    Plotly.newPlot(                        \"6d81ddfd-ec79-4740-8025-97a78c98de9b\",                        [{\"alignmentgroup\": \"True\", \"hovertemplate\": \"variable=0<br>value=%{x}<br>index=%{y}<extra></extra>\", \"legendgroup\": \"0\", \"marker\": {\"color\": \"#636efa\"}, \"name\": \"0\", \"offsetgroup\": \"0\", \"orientation\": \"h\", \"showlegend\": true, \"textposition\": \"auto\", \"type\": \"bar\", \"x\": [141, 127, 644, 13, 313, 271, 508, 176, 284, 118, 226, 967, 84, 62], \"xaxis\": \"x\", \"y\": [\"Cardiomegaly\", \"Emphysema\", \"Effusion\", \"Hernia\", \"Nodule\", \"Pneumothorax\", \"Atelectasis\", \"Pleural_Thickening\", \"Mass\", \"Edema\", \"Consolidation\", \"Infiltration\", \"Fibrosis\", \"Pneumonia\"], \"yaxis\": \"y\"}],                        {\"barmode\": \"relative\", \"legend\": {\"title\": {\"text\": \"variable\"}, \"tracegroupgap\": 0}, \"margin\": {\"t\": 60}, \"template\": {\"data\": {\"bar\": [{\"error_x\": {\"color\": \"#2a3f5f\"}, \"error_y\": {\"color\": \"#2a3f5f\"}, \"marker\": {\"line\": {\"color\": \"#E5ECF6\", \"width\": 0.5}}, \"type\": \"bar\"}], \"barpolar\": [{\"marker\": {\"line\": {\"color\": \"#E5ECF6\", \"width\": 0.5}}, \"type\": \"barpolar\"}], \"carpet\": [{\"aaxis\": {\"endlinecolor\": \"#2a3f5f\", \"gridcolor\": \"white\", \"linecolor\": \"white\", \"minorgridcolor\": \"white\", \"startlinecolor\": \"#2a3f5f\"}, \"baxis\": {\"endlinecolor\": \"#2a3f5f\", \"gridcolor\": \"white\", \"linecolor\": \"white\", \"minorgridcolor\": \"white\", \"startlinecolor\": \"#2a3f5f\"}, \"type\": \"carpet\"}], \"choropleth\": [{\"colorbar\": {\"outlinewidth\": 0, \"ticks\": \"\"}, \"type\": \"choropleth\"}], \"contour\": [{\"colorbar\": {\"outlinewidth\": 0, \"ticks\": \"\"}, \"colorscale\": [[0.0, \"#0d0887\"], [0.1111111111111111, \"#46039f\"], [0.2222222222222222, \"#7201a8\"], [0.3333333333333333, \"#9c179e\"], [0.4444444444444444, \"#bd3786\"], [0.5555555555555556, \"#d8576b\"], [0.6666666666666666, \"#ed7953\"], [0.7777777777777778, \"#fb9f3a\"], [0.8888888888888888, \"#fdca26\"], [1.0, \"#f0f921\"]], \"type\": \"contour\"}], \"contourcarpet\": [{\"colorbar\": {\"outlinewidth\": 0, \"ticks\": \"\"}, \"type\": \"contourcarpet\"}], \"heatmap\": [{\"colorbar\": {\"outlinewidth\": 0, \"ticks\": \"\"}, \"colorscale\": [[0.0, \"#0d0887\"], [0.1111111111111111, \"#46039f\"], [0.2222222222222222, \"#7201a8\"], [0.3333333333333333, \"#9c179e\"], [0.4444444444444444, \"#bd3786\"], [0.5555555555555556, \"#d8576b\"], [0.6666666666666666, \"#ed7953\"], [0.7777777777777778, \"#fb9f3a\"], [0.8888888888888888, \"#fdca26\"], [1.0, \"#f0f921\"]], \"type\": \"heatmap\"}], \"heatmapgl\": [{\"colorbar\": {\"outlinewidth\": 0, \"ticks\": \"\"}, \"colorscale\": [[0.0, \"#0d0887\"], [0.1111111111111111, \"#46039f\"], [0.2222222222222222, \"#7201a8\"], [0.3333333333333333, \"#9c179e\"], [0.4444444444444444, \"#bd3786\"], [0.5555555555555556, \"#d8576b\"], [0.6666666666666666, \"#ed7953\"], [0.7777777777777778, \"#fb9f3a\"], [0.8888888888888888, \"#fdca26\"], [1.0, \"#f0f921\"]], \"type\": \"heatmapgl\"}], \"histogram\": [{\"marker\": {\"colorbar\": {\"outlinewidth\": 0, \"ticks\": \"\"}}, \"type\": \"histogram\"}], \"histogram2d\": [{\"colorbar\": {\"outlinewidth\": 0, \"ticks\": \"\"}, \"colorscale\": [[0.0, \"#0d0887\"], [0.1111111111111111, \"#46039f\"], [0.2222222222222222, \"#7201a8\"], [0.3333333333333333, \"#9c179e\"], [0.4444444444444444, \"#bd3786\"], [0.5555555555555556, \"#d8576b\"], [0.6666666666666666, \"#ed7953\"], [0.7777777777777778, \"#fb9f3a\"], [0.8888888888888888, \"#fdca26\"], [1.0, \"#f0f921\"]], \"type\": \"histogram2d\"}], \"histogram2dcontour\": [{\"colorbar\": {\"outlinewidth\": 0, \"ticks\": \"\"}, \"colorscale\": [[0.0, \"#0d0887\"], [0.1111111111111111, \"#46039f\"], [0.2222222222222222, \"#7201a8\"], [0.3333333333333333, \"#9c179e\"], [0.4444444444444444, \"#bd3786\"], [0.5555555555555556, \"#d8576b\"], [0.6666666666666666, \"#ed7953\"], [0.7777777777777778, \"#fb9f3a\"], [0.8888888888888888, \"#fdca26\"], [1.0, \"#f0f921\"]], \"type\": \"histogram2dcontour\"}], \"mesh3d\": [{\"colorbar\": {\"outlinewidth\": 0, \"ticks\": \"\"}, \"type\": \"mesh3d\"}], \"parcoords\": [{\"line\": {\"colorbar\": {\"outlinewidth\": 0, \"ticks\": \"\"}}, \"type\": \"parcoords\"}], \"pie\": [{\"automargin\": true, \"type\": \"pie\"}], \"scatter\": [{\"marker\": {\"colorbar\": {\"outlinewidth\": 0, \"ticks\": \"\"}}, \"type\": \"scatter\"}], \"scatter3d\": [{\"line\": {\"colorbar\": {\"outlinewidth\": 0, \"ticks\": \"\"}}, \"marker\": {\"colorbar\": {\"outlinewidth\": 0, \"ticks\": \"\"}}, \"type\": \"scatter3d\"}], \"scattercarpet\": [{\"marker\": {\"colorbar\": {\"outlinewidth\": 0, \"ticks\": \"\"}}, \"type\": \"scattercarpet\"}], \"scattergeo\": [{\"marker\": {\"colorbar\": {\"outlinewidth\": 0, \"ticks\": \"\"}}, \"type\": \"scattergeo\"}], \"scattergl\": [{\"marker\": {\"colorbar\": {\"outlinewidth\": 0, \"ticks\": \"\"}}, \"type\": \"scattergl\"}], \"scattermapbox\": [{\"marker\": {\"colorbar\": {\"outlinewidth\": 0, \"ticks\": \"\"}}, \"type\": \"scattermapbox\"}], \"scatterpolar\": [{\"marker\": {\"colorbar\": {\"outlinewidth\": 0, \"ticks\": \"\"}}, \"type\": \"scatterpolar\"}], \"scatterpolargl\": [{\"marker\": {\"colorbar\": {\"outlinewidth\": 0, \"ticks\": \"\"}}, \"type\": \"scatterpolargl\"}], \"scatterternary\": [{\"marker\": {\"colorbar\": {\"outlinewidth\": 0, \"ticks\": \"\"}}, \"type\": \"scatterternary\"}], \"surface\": [{\"colorbar\": {\"outlinewidth\": 0, \"ticks\": \"\"}, \"colorscale\": [[0.0, \"#0d0887\"], [0.1111111111111111, \"#46039f\"], [0.2222222222222222, \"#7201a8\"], [0.3333333333333333, \"#9c179e\"], [0.4444444444444444, \"#bd3786\"], [0.5555555555555556, \"#d8576b\"], [0.6666666666666666, \"#ed7953\"], [0.7777777777777778, \"#fb9f3a\"], [0.8888888888888888, \"#fdca26\"], [1.0, \"#f0f921\"]], \"type\": \"surface\"}], \"table\": [{\"cells\": {\"fill\": {\"color\": \"#EBF0F8\"}, \"line\": {\"color\": \"white\"}}, \"header\": {\"fill\": {\"color\": \"#C8D4E3\"}, \"line\": {\"color\": \"white\"}}, \"type\": \"table\"}]}, \"layout\": {\"annotationdefaults\": {\"arrowcolor\": \"#2a3f5f\", \"arrowhead\": 0, \"arrowwidth\": 1}, \"autotypenumbers\": \"strict\", \"coloraxis\": {\"colorbar\": {\"outlinewidth\": 0, \"ticks\": \"\"}}, \"colorscale\": {\"diverging\": [[0, \"#8e0152\"], [0.1, \"#c51b7d\"], [0.2, \"#de77ae\"], [0.3, \"#f1b6da\"], [0.4, \"#fde0ef\"], [0.5, \"#f7f7f7\"], [0.6, \"#e6f5d0\"], [0.7, \"#b8e186\"], [0.8, \"#7fbc41\"], [0.9, \"#4d9221\"], [1, \"#276419\"]], \"sequential\": [[0.0, \"#0d0887\"], [0.1111111111111111, \"#46039f\"], [0.2222222222222222, \"#7201a8\"], [0.3333333333333333, \"#9c179e\"], [0.4444444444444444, \"#bd3786\"], [0.5555555555555556, \"#d8576b\"], [0.6666666666666666, \"#ed7953\"], [0.7777777777777778, \"#fb9f3a\"], [0.8888888888888888, \"#fdca26\"], [1.0, \"#f0f921\"]], \"sequentialminus\": [[0.0, \"#0d0887\"], [0.1111111111111111, \"#46039f\"], [0.2222222222222222, \"#7201a8\"], [0.3333333333333333, \"#9c179e\"], [0.4444444444444444, \"#bd3786\"], [0.5555555555555556, \"#d8576b\"], [0.6666666666666666, \"#ed7953\"], [0.7777777777777778, \"#fb9f3a\"], [0.8888888888888888, \"#fdca26\"], [1.0, \"#f0f921\"]]}, \"colorway\": [\"#636efa\", \"#EF553B\", \"#00cc96\", \"#ab63fa\", \"#FFA15A\", \"#19d3f3\", \"#FF6692\", \"#B6E880\", \"#FF97FF\", \"#FECB52\"], \"font\": {\"color\": \"#2a3f5f\"}, \"geo\": {\"bgcolor\": \"white\", \"lakecolor\": \"white\", \"landcolor\": \"#E5ECF6\", \"showlakes\": true, \"showland\": true, \"subunitcolor\": \"white\"}, \"hoverlabel\": {\"align\": \"left\"}, \"hovermode\": \"closest\", \"mapbox\": {\"style\": \"light\"}, \"paper_bgcolor\": \"white\", \"plot_bgcolor\": \"#E5ECF6\", \"polar\": {\"angularaxis\": {\"gridcolor\": \"white\", \"linecolor\": \"white\", \"ticks\": \"\"}, \"bgcolor\": \"#E5ECF6\", \"radialaxis\": {\"gridcolor\": \"white\", \"linecolor\": \"white\", \"ticks\": \"\"}}, \"scene\": {\"xaxis\": {\"backgroundcolor\": \"#E5ECF6\", \"gridcolor\": \"white\", \"gridwidth\": 2, \"linecolor\": \"white\", \"showbackground\": true, \"ticks\": \"\", \"zerolinecolor\": \"white\"}, \"yaxis\": {\"backgroundcolor\": \"#E5ECF6\", \"gridcolor\": \"white\", \"gridwidth\": 2, \"linecolor\": \"white\", \"showbackground\": true, \"ticks\": \"\", \"zerolinecolor\": \"white\"}, \"zaxis\": {\"backgroundcolor\": \"#E5ECF6\", \"gridcolor\": \"white\", \"gridwidth\": 2, \"linecolor\": \"white\", \"showbackground\": true, \"ticks\": \"\", \"zerolinecolor\": \"white\"}}, \"shapedefaults\": {\"line\": {\"color\": \"#2a3f5f\"}}, \"ternary\": {\"aaxis\": {\"gridcolor\": \"white\", \"linecolor\": \"white\", \"ticks\": \"\"}, \"baxis\": {\"gridcolor\": \"white\", \"linecolor\": \"white\", \"ticks\": \"\"}, \"bgcolor\": \"#E5ECF6\", \"caxis\": {\"gridcolor\": \"white\", \"linecolor\": \"white\", \"ticks\": \"\"}}, \"title\": {\"x\": 0.05}, \"xaxis\": {\"automargin\": true, \"gridcolor\": \"white\", \"linecolor\": \"white\", \"ticks\": \"\", \"title\": {\"standoff\": 15}, \"zerolinecolor\": \"white\", \"zerolinewidth\": 2}, \"yaxis\": {\"automargin\": true, \"gridcolor\": \"white\", \"linecolor\": \"white\", \"ticks\": \"\", \"title\": {\"standoff\": 15}, \"zerolinecolor\": \"white\", \"zerolinewidth\": 2}}}, \"xaxis\": {\"anchor\": \"y\", \"domain\": [0.0, 1.0], \"title\": {\"text\": \"value\"}}, \"yaxis\": {\"anchor\": \"x\", \"domain\": [0.0, 1.0], \"title\": {\"text\": \"index\"}}},                        {\"responsive\": true}                    ).then(function(){\n",
       "                            \n",
       "var gd = document.getElementById('6d81ddfd-ec79-4740-8025-97a78c98de9b');\n",
       "var x = new MutationObserver(function (mutations, observer) {{\n",
       "        var display = window.getComputedStyle(gd).display;\n",
       "        if (!display || display === 'none') {{\n",
       "            console.log([gd, 'removed!']);\n",
       "            Plotly.purge(gd);\n",
       "            observer.disconnect();\n",
       "        }}\n",
       "}});\n",
       "\n",
       "// Listen for the removal of the full notebook cells\n",
       "var notebookContainer = gd.closest('#notebook-container');\n",
       "if (notebookContainer) {{\n",
       "    x.observe(notebookContainer, {childList: true});\n",
       "}}\n",
       "\n",
       "// Listen for the clearing of the current output cell\n",
       "var outputEl = gd.closest('.output');\n",
       "if (outputEl) {{\n",
       "    x.observe(outputEl, {childList: true});\n",
       "}}\n",
       "\n",
       "                        })                };                });            </script>        </div>"
      ]
     },
     "metadata": {},
     "output_type": "display_data"
    }
   ],
   "source": [
    "data = data.drop(['No Findings'],axis = 1)\n",
    "data.iloc[:,1:].sum().plot.barh()"
   ]
  },
  {
   "cell_type": "code",
   "execution_count": 11,
   "metadata": {
    "_cell_guid": "acba3e05-8cea-4d4d-9cab-07c9870b6914",
    "_uuid": "6ee7ca66-0181-48fc-8bb0-f411a981542d",
    "collapsed": false,
    "execution": {
     "iopub.execute_input": "2024-08-30T10:59:20.067484Z",
     "iopub.status.busy": "2024-08-30T10:59:20.064799Z",
     "iopub.status.idle": "2024-08-30T10:59:20.123968Z",
     "shell.execute_reply": "2024-08-30T10:59:20.123390Z",
     "shell.execute_reply.started": "2024-08-30T09:29:26.288167Z"
    },
    "jupyter": {
     "outputs_hidden": false
    },
    "papermill": {
     "duration": 0.12551,
     "end_time": "2024-08-30T10:59:20.124088",
     "exception": false,
     "start_time": "2024-08-30T10:59:19.998578",
     "status": "completed"
    },
    "tags": []
   },
   "outputs": [
    {
     "data": {
      "text/html": [
       "<div>                            <div id=\"a74b94ae-3173-4ff9-a8e0-b67b49b90bfa\" class=\"plotly-graph-div\" style=\"height:525px; width:100%;\"></div>            <script type=\"text/javascript\">                require([\"plotly\"], function(Plotly) {                    window.PLOTLYENV=window.PLOTLYENV || {};                                    if (document.getElementById(\"a74b94ae-3173-4ff9-a8e0-b67b49b90bfa\")) {                    Plotly.newPlot(                        \"a74b94ae-3173-4ff9-a8e0-b67b49b90bfa\",                        [{\"alignmentgroup\": \"True\", \"hovertemplate\": \"variable=0<br>value=%{x}<br>index=%{y}<extra></extra>\", \"legendgroup\": \"0\", \"marker\": {\"color\": \"#636efa\"}, \"name\": \"0\", \"offsetgroup\": \"0\", \"orientation\": \"h\", \"showlegend\": true, \"textposition\": \"auto\", \"type\": \"bar\", \"x\": [0.025151623260792007, 0.02265429896539422, 0.11487691758829825, 0.00231894398858366, 0.05583303603282198, 0.048341063146628616, 0.09061719586157688, 0.03139493399928648, 0.05066000713521227, 0.02104887620406707, 0.04031394933999286, 0.1724937566892615, 0.014983945772386728, 0.011059579022475919], \"xaxis\": \"x\", \"y\": [\"Cardiomegaly\", \"Emphysema\", \"Effusion\", \"Hernia\", \"Nodule\", \"Pneumothorax\", \"Atelectasis\", \"Pleural_Thickening\", \"Mass\", \"Edema\", \"Consolidation\", \"Infiltration\", \"Fibrosis\", \"Pneumonia\"], \"yaxis\": \"y\"}],                        {\"barmode\": \"relative\", \"legend\": {\"title\": {\"text\": \"variable\"}, \"tracegroupgap\": 0}, \"margin\": {\"t\": 60}, \"template\": {\"data\": {\"bar\": [{\"error_x\": {\"color\": \"#2a3f5f\"}, \"error_y\": {\"color\": \"#2a3f5f\"}, \"marker\": {\"line\": {\"color\": \"#E5ECF6\", \"width\": 0.5}}, \"type\": \"bar\"}], \"barpolar\": [{\"marker\": {\"line\": {\"color\": \"#E5ECF6\", \"width\": 0.5}}, \"type\": \"barpolar\"}], \"carpet\": [{\"aaxis\": {\"endlinecolor\": \"#2a3f5f\", \"gridcolor\": \"white\", \"linecolor\": \"white\", \"minorgridcolor\": \"white\", \"startlinecolor\": \"#2a3f5f\"}, \"baxis\": {\"endlinecolor\": \"#2a3f5f\", \"gridcolor\": \"white\", \"linecolor\": \"white\", \"minorgridcolor\": \"white\", \"startlinecolor\": \"#2a3f5f\"}, \"type\": \"carpet\"}], \"choropleth\": [{\"colorbar\": {\"outlinewidth\": 0, \"ticks\": \"\"}, \"type\": \"choropleth\"}], \"contour\": [{\"colorbar\": {\"outlinewidth\": 0, \"ticks\": \"\"}, \"colorscale\": [[0.0, \"#0d0887\"], [0.1111111111111111, \"#46039f\"], [0.2222222222222222, \"#7201a8\"], [0.3333333333333333, \"#9c179e\"], [0.4444444444444444, \"#bd3786\"], [0.5555555555555556, \"#d8576b\"], [0.6666666666666666, \"#ed7953\"], [0.7777777777777778, \"#fb9f3a\"], [0.8888888888888888, \"#fdca26\"], [1.0, \"#f0f921\"]], \"type\": \"contour\"}], \"contourcarpet\": [{\"colorbar\": {\"outlinewidth\": 0, \"ticks\": \"\"}, \"type\": \"contourcarpet\"}], \"heatmap\": [{\"colorbar\": {\"outlinewidth\": 0, \"ticks\": \"\"}, \"colorscale\": [[0.0, \"#0d0887\"], [0.1111111111111111, \"#46039f\"], [0.2222222222222222, \"#7201a8\"], [0.3333333333333333, \"#9c179e\"], [0.4444444444444444, \"#bd3786\"], [0.5555555555555556, \"#d8576b\"], [0.6666666666666666, \"#ed7953\"], [0.7777777777777778, \"#fb9f3a\"], [0.8888888888888888, \"#fdca26\"], [1.0, \"#f0f921\"]], \"type\": \"heatmap\"}], \"heatmapgl\": [{\"colorbar\": {\"outlinewidth\": 0, \"ticks\": \"\"}, \"colorscale\": [[0.0, \"#0d0887\"], [0.1111111111111111, \"#46039f\"], [0.2222222222222222, \"#7201a8\"], [0.3333333333333333, \"#9c179e\"], [0.4444444444444444, \"#bd3786\"], [0.5555555555555556, \"#d8576b\"], [0.6666666666666666, \"#ed7953\"], [0.7777777777777778, \"#fb9f3a\"], [0.8888888888888888, \"#fdca26\"], [1.0, \"#f0f921\"]], \"type\": \"heatmapgl\"}], \"histogram\": [{\"marker\": {\"colorbar\": {\"outlinewidth\": 0, \"ticks\": \"\"}}, \"type\": \"histogram\"}], \"histogram2d\": [{\"colorbar\": {\"outlinewidth\": 0, \"ticks\": \"\"}, \"colorscale\": [[0.0, \"#0d0887\"], [0.1111111111111111, \"#46039f\"], [0.2222222222222222, \"#7201a8\"], [0.3333333333333333, \"#9c179e\"], [0.4444444444444444, \"#bd3786\"], [0.5555555555555556, \"#d8576b\"], [0.6666666666666666, \"#ed7953\"], [0.7777777777777778, \"#fb9f3a\"], [0.8888888888888888, \"#fdca26\"], [1.0, \"#f0f921\"]], \"type\": \"histogram2d\"}], \"histogram2dcontour\": [{\"colorbar\": {\"outlinewidth\": 0, \"ticks\": \"\"}, \"colorscale\": [[0.0, \"#0d0887\"], [0.1111111111111111, \"#46039f\"], [0.2222222222222222, \"#7201a8\"], [0.3333333333333333, \"#9c179e\"], [0.4444444444444444, \"#bd3786\"], [0.5555555555555556, \"#d8576b\"], [0.6666666666666666, \"#ed7953\"], [0.7777777777777778, \"#fb9f3a\"], [0.8888888888888888, \"#fdca26\"], [1.0, \"#f0f921\"]], \"type\": \"histogram2dcontour\"}], \"mesh3d\": [{\"colorbar\": {\"outlinewidth\": 0, \"ticks\": \"\"}, \"type\": \"mesh3d\"}], \"parcoords\": [{\"line\": {\"colorbar\": {\"outlinewidth\": 0, \"ticks\": \"\"}}, \"type\": \"parcoords\"}], \"pie\": [{\"automargin\": true, \"type\": \"pie\"}], \"scatter\": [{\"marker\": {\"colorbar\": {\"outlinewidth\": 0, \"ticks\": \"\"}}, \"type\": \"scatter\"}], \"scatter3d\": [{\"line\": {\"colorbar\": {\"outlinewidth\": 0, \"ticks\": \"\"}}, \"marker\": {\"colorbar\": {\"outlinewidth\": 0, \"ticks\": \"\"}}, \"type\": \"scatter3d\"}], \"scattercarpet\": [{\"marker\": {\"colorbar\": {\"outlinewidth\": 0, \"ticks\": \"\"}}, \"type\": \"scattercarpet\"}], \"scattergeo\": [{\"marker\": {\"colorbar\": {\"outlinewidth\": 0, \"ticks\": \"\"}}, \"type\": \"scattergeo\"}], \"scattergl\": [{\"marker\": {\"colorbar\": {\"outlinewidth\": 0, \"ticks\": \"\"}}, \"type\": \"scattergl\"}], \"scattermapbox\": [{\"marker\": {\"colorbar\": {\"outlinewidth\": 0, \"ticks\": \"\"}}, \"type\": \"scattermapbox\"}], \"scatterpolar\": [{\"marker\": {\"colorbar\": {\"outlinewidth\": 0, \"ticks\": \"\"}}, \"type\": \"scatterpolar\"}], \"scatterpolargl\": [{\"marker\": {\"colorbar\": {\"outlinewidth\": 0, \"ticks\": \"\"}}, \"type\": \"scatterpolargl\"}], \"scatterternary\": [{\"marker\": {\"colorbar\": {\"outlinewidth\": 0, \"ticks\": \"\"}}, \"type\": \"scatterternary\"}], \"surface\": [{\"colorbar\": {\"outlinewidth\": 0, \"ticks\": \"\"}, \"colorscale\": [[0.0, \"#0d0887\"], [0.1111111111111111, \"#46039f\"], [0.2222222222222222, \"#7201a8\"], [0.3333333333333333, \"#9c179e\"], [0.4444444444444444, \"#bd3786\"], [0.5555555555555556, \"#d8576b\"], [0.6666666666666666, \"#ed7953\"], [0.7777777777777778, \"#fb9f3a\"], [0.8888888888888888, \"#fdca26\"], [1.0, \"#f0f921\"]], \"type\": \"surface\"}], \"table\": [{\"cells\": {\"fill\": {\"color\": \"#EBF0F8\"}, \"line\": {\"color\": \"white\"}}, \"header\": {\"fill\": {\"color\": \"#C8D4E3\"}, \"line\": {\"color\": \"white\"}}, \"type\": \"table\"}]}, \"layout\": {\"annotationdefaults\": {\"arrowcolor\": \"#2a3f5f\", \"arrowhead\": 0, \"arrowwidth\": 1}, \"autotypenumbers\": \"strict\", \"coloraxis\": {\"colorbar\": {\"outlinewidth\": 0, \"ticks\": \"\"}}, \"colorscale\": {\"diverging\": [[0, \"#8e0152\"], [0.1, \"#c51b7d\"], [0.2, \"#de77ae\"], [0.3, \"#f1b6da\"], [0.4, \"#fde0ef\"], [0.5, \"#f7f7f7\"], [0.6, \"#e6f5d0\"], [0.7, \"#b8e186\"], [0.8, \"#7fbc41\"], [0.9, \"#4d9221\"], [1, \"#276419\"]], \"sequential\": [[0.0, \"#0d0887\"], [0.1111111111111111, \"#46039f\"], [0.2222222222222222, \"#7201a8\"], [0.3333333333333333, \"#9c179e\"], [0.4444444444444444, \"#bd3786\"], [0.5555555555555556, \"#d8576b\"], [0.6666666666666666, \"#ed7953\"], [0.7777777777777778, \"#fb9f3a\"], [0.8888888888888888, \"#fdca26\"], [1.0, \"#f0f921\"]], \"sequentialminus\": [[0.0, \"#0d0887\"], [0.1111111111111111, \"#46039f\"], [0.2222222222222222, \"#7201a8\"], [0.3333333333333333, \"#9c179e\"], [0.4444444444444444, \"#bd3786\"], [0.5555555555555556, \"#d8576b\"], [0.6666666666666666, \"#ed7953\"], [0.7777777777777778, \"#fb9f3a\"], [0.8888888888888888, \"#fdca26\"], [1.0, \"#f0f921\"]]}, \"colorway\": [\"#636efa\", \"#EF553B\", \"#00cc96\", \"#ab63fa\", \"#FFA15A\", \"#19d3f3\", \"#FF6692\", \"#B6E880\", \"#FF97FF\", \"#FECB52\"], \"font\": {\"color\": \"#2a3f5f\"}, \"geo\": {\"bgcolor\": \"white\", \"lakecolor\": \"white\", \"landcolor\": \"#E5ECF6\", \"showlakes\": true, \"showland\": true, \"subunitcolor\": \"white\"}, \"hoverlabel\": {\"align\": \"left\"}, \"hovermode\": \"closest\", \"mapbox\": {\"style\": \"light\"}, \"paper_bgcolor\": \"white\", \"plot_bgcolor\": \"#E5ECF6\", \"polar\": {\"angularaxis\": {\"gridcolor\": \"white\", \"linecolor\": \"white\", \"ticks\": \"\"}, \"bgcolor\": \"#E5ECF6\", \"radialaxis\": {\"gridcolor\": \"white\", \"linecolor\": \"white\", \"ticks\": \"\"}}, \"scene\": {\"xaxis\": {\"backgroundcolor\": \"#E5ECF6\", \"gridcolor\": \"white\", \"gridwidth\": 2, \"linecolor\": \"white\", \"showbackground\": true, \"ticks\": \"\", \"zerolinecolor\": \"white\"}, \"yaxis\": {\"backgroundcolor\": \"#E5ECF6\", \"gridcolor\": \"white\", \"gridwidth\": 2, \"linecolor\": \"white\", \"showbackground\": true, \"ticks\": \"\", \"zerolinecolor\": \"white\"}, \"zaxis\": {\"backgroundcolor\": \"#E5ECF6\", \"gridcolor\": \"white\", \"gridwidth\": 2, \"linecolor\": \"white\", \"showbackground\": true, \"ticks\": \"\", \"zerolinecolor\": \"white\"}}, \"shapedefaults\": {\"line\": {\"color\": \"#2a3f5f\"}}, \"ternary\": {\"aaxis\": {\"gridcolor\": \"white\", \"linecolor\": \"white\", \"ticks\": \"\"}, \"baxis\": {\"gridcolor\": \"white\", \"linecolor\": \"white\", \"ticks\": \"\"}, \"bgcolor\": \"#E5ECF6\", \"caxis\": {\"gridcolor\": \"white\", \"linecolor\": \"white\", \"ticks\": \"\"}}, \"title\": {\"x\": 0.05}, \"xaxis\": {\"automargin\": true, \"gridcolor\": \"white\", \"linecolor\": \"white\", \"ticks\": \"\", \"title\": {\"standoff\": 15}, \"zerolinecolor\": \"white\", \"zerolinewidth\": 2}, \"yaxis\": {\"automargin\": true, \"gridcolor\": \"white\", \"linecolor\": \"white\", \"ticks\": \"\", \"title\": {\"standoff\": 15}, \"zerolinecolor\": \"white\", \"zerolinewidth\": 2}}}, \"xaxis\": {\"anchor\": \"y\", \"domain\": [0.0, 1.0], \"title\": {\"text\": \"value\"}}, \"yaxis\": {\"anchor\": \"x\", \"domain\": [0.0, 1.0], \"title\": {\"text\": \"index\"}}},                        {\"responsive\": true}                    ).then(function(){\n",
       "                            \n",
       "var gd = document.getElementById('a74b94ae-3173-4ff9-a8e0-b67b49b90bfa');\n",
       "var x = new MutationObserver(function (mutations, observer) {{\n",
       "        var display = window.getComputedStyle(gd).display;\n",
       "        if (!display || display === 'none') {{\n",
       "            console.log([gd, 'removed!']);\n",
       "            Plotly.purge(gd);\n",
       "            observer.disconnect();\n",
       "        }}\n",
       "}});\n",
       "\n",
       "// Listen for the removal of the full notebook cells\n",
       "var notebookContainer = gd.closest('#notebook-container');\n",
       "if (notebookContainer) {{\n",
       "    x.observe(notebookContainer, {childList: true});\n",
       "}}\n",
       "\n",
       "// Listen for the clearing of the current output cell\n",
       "var outputEl = gd.closest('.output');\n",
       "if (outputEl) {{\n",
       "    x.observe(outputEl, {childList: true});\n",
       "}}\n",
       "\n",
       "                        })                };                });            </script>        </div>"
      ]
     },
     "metadata": {},
     "output_type": "display_data"
    }
   ],
   "source": [
    "data.iloc[:,1:].mean().plot.barh()"
   ]
  },
  {
   "cell_type": "markdown",
   "metadata": {
    "_cell_guid": "39f4617e-cb40-4ea7-9df9-317ec0feb9df",
    "_uuid": "34d20636-aba5-4e95-aa64-d8e6c086d53e",
    "papermill": {
     "duration": 0.051635,
     "end_time": "2024-08-30T10:59:21.628123",
     "exception": false,
     "start_time": "2024-08-30T10:59:21.576488",
     "status": "completed"
    },
    "tags": []
   },
   "source": [
    "# Loading Dataset and Applying Transforms"
   ]
  },
  {
   "cell_type": "code",
   "execution_count": 18,
   "metadata": {
    "_cell_guid": "8456d538-31b7-4120-b58c-8ae88489c8c4",
    "_uuid": "39519e32-bdac-4ded-80cf-7e6a0b0be51f",
    "collapsed": false,
    "execution": {
     "iopub.execute_input": "2024-08-30T10:59:21.738942Z",
     "iopub.status.busy": "2024-08-30T10:59:21.737924Z",
     "iopub.status.idle": "2024-08-30T10:59:21.741069Z",
     "shell.execute_reply": "2024-08-30T10:59:21.740309Z",
     "shell.execute_reply.started": "2024-08-30T09:34:42.712039Z"
    },
    "jupyter": {
     "outputs_hidden": false
    },
    "papermill": {
     "duration": 0.062516,
     "end_time": "2024-08-30T10:59:21.741188",
     "exception": false,
     "start_time": "2024-08-30T10:59:21.678672",
     "status": "completed"
    },
    "tags": []
   },
   "outputs": [],
   "source": [
    "class NIH_Dataset(Dataset):\n",
    "\n",
    "    def __init__(self, data, img_dir, transform=None):\n",
    "        self.data = data\n",
    "        self.img_dir = img_dir \n",
    "        self.transform = transform \n",
    "\n",
    "    def __len__(self):\n",
    "        return len(self.data)\n",
    "\n",
    "    def __getitem__(self, idx):\n",
    "        img_file = self.img_dir + self.data.iloc[:,0][idx]\n",
    "        img = Image.open(img_file).convert('RGB')\n",
    "        label = np.array(self.data.iloc[:,1:].iloc[idx])\n",
    "\n",
    "        if self.transform:\n",
    "            img = self.transform(img)\n",
    "\n",
    "        return img,label"
   ]
  },
  {
   "cell_type": "code",
   "execution_count": 19,
   "metadata": {
    "_cell_guid": "36581d25-1acf-4767-85a3-4725c78d189e",
    "_uuid": "07853abd-3f33-44d4-9008-b2ac4b251115",
    "collapsed": false,
    "execution": {
     "iopub.execute_input": "2024-08-30T10:59:21.850363Z",
     "iopub.status.busy": "2024-08-30T10:59:21.849531Z",
     "iopub.status.idle": "2024-08-30T10:59:21.852218Z",
     "shell.execute_reply": "2024-08-30T10:59:21.851624Z",
     "shell.execute_reply.started": "2024-08-30T09:34:46.209871Z"
    },
    "jupyter": {
     "outputs_hidden": false
    },
    "papermill": {
     "duration": 0.059729,
     "end_time": "2024-08-30T10:59:21.852347",
     "exception": false,
     "start_time": "2024-08-30T10:59:21.792618",
     "status": "completed"
    },
    "tags": []
   },
   "outputs": [],
   "source": [
    "data_transform = T.Compose([\n",
    "    T.RandomRotation((-20,+20)),\n",
    "    T.Resize((224,224)),\n",
    "    T.ToTensor(),\n",
    "    T.Normalize(mean=[0.485, 0.456, 0.406],\n",
    "                std=[0.229, 0.224, 0.225])\n",
    "])"
   ]
  },
  {
   "cell_type": "code",
   "execution_count": 20,
   "metadata": {
    "_cell_guid": "b2bb787c-ff62-451d-9471-15630049cae6",
    "_uuid": "62e8b34c-4f3c-4b08-ba11-3bd042a61319",
    "collapsed": false,
    "execution": {
     "iopub.execute_input": "2024-08-30T10:59:21.958842Z",
     "iopub.status.busy": "2024-08-30T10:59:21.958140Z",
     "iopub.status.idle": "2024-08-30T10:59:21.961019Z",
     "shell.execute_reply": "2024-08-30T10:59:21.960245Z",
     "shell.execute_reply.started": "2024-08-30T09:34:49.061328Z"
    },
    "jupyter": {
     "outputs_hidden": false
    },
    "papermill": {
     "duration": 0.058096,
     "end_time": "2024-08-30T10:59:21.961152",
     "exception": false,
     "start_time": "2024-08-30T10:59:21.903056",
     "status": "completed"
    },
    "tags": []
   },
   "outputs": [],
   "source": [
    "trainds = NIH_Dataset(data,\n",
    "                      img_dir = '../input/sample/sample/sample/images/',\n",
    "                      transform = data_transform)"
   ]
  },
  {
   "cell_type": "code",
   "execution_count": 21,
   "metadata": {
    "_cell_guid": "c7d4b9cc-db88-4985-ae95-a15cea70ed5e",
    "_uuid": "3ae30f5b-edbc-4ecc-923a-594615fa9ecd",
    "collapsed": false,
    "execution": {
     "iopub.execute_input": "2024-08-30T10:59:22.068724Z",
     "iopub.status.busy": "2024-08-30T10:59:22.068054Z",
     "iopub.status.idle": "2024-08-30T10:59:22.070963Z",
     "shell.execute_reply": "2024-08-30T10:59:22.070418Z",
     "shell.execute_reply.started": "2024-08-30T09:34:52.409751Z"
    },
    "jupyter": {
     "outputs_hidden": false
    },
    "papermill": {
     "duration": 0.058921,
     "end_time": "2024-08-30T10:59:22.071083",
     "exception": false,
     "start_time": "2024-08-30T10:59:22.012162",
     "status": "completed"
    },
    "tags": []
   },
   "outputs": [],
   "source": [
    "def deprocess(img):\n",
    "    img = img.permute(1,2,0)\n",
    "    img = img * torch.Tensor([0.229, 0.224, 0.225]) + torch.Tensor([0.485, 0.456, 0.406])\n",
    "    return img"
   ]
  },
  {
   "cell_type": "code",
   "execution_count": 22,
   "metadata": {
    "_cell_guid": "9c56177b-2e5a-42be-9fa3-83ccc8fe40fa",
    "_uuid": "ad987996-1646-40a5-b8d3-f1a7fa45f87f",
    "collapsed": false,
    "execution": {
     "iopub.execute_input": "2024-08-30T10:59:22.178155Z",
     "iopub.status.busy": "2024-08-30T10:59:22.177568Z",
     "iopub.status.idle": "2024-08-30T10:59:22.500824Z",
     "shell.execute_reply": "2024-08-30T10:59:22.501469Z",
     "shell.execute_reply.started": "2024-08-30T09:34:55.355696Z"
    },
    "jupyter": {
     "outputs_hidden": false
    },
    "papermill": {
     "duration": 0.379809,
     "end_time": "2024-08-30T10:59:22.501647",
     "exception": false,
     "start_time": "2024-08-30T10:59:22.121838",
     "status": "completed"
    },
    "tags": []
   },
   "outputs": [
    {
     "data": {
      "image/png": "[encoded data removed]",
      "text/plain": [
       "<Figure size 432x288 with 1 Axes>"
      ]
     },
     "metadata": {
      "needs_background": "light"
     },
     "output_type": "display_data"
    }
   ],
   "source": [
    "image, label = trainds[0]\n",
    "class_labels = list(np.where(label==1)[0])\n",
    "plt.imshow(deprocess(image))\n",
    "plt.title(itemgetter(*class_labels)(pathology_list));"
   ]
  },
  {
   "cell_type": "markdown",
   "metadata": {
    "_cell_guid": "9e8bbd67-5a6c-41f8-ac3f-366f7a7b6585",
    "_uuid": "bf23d43c-d4bd-4313-ad79-00ece07f201f",
    "papermill": {
     "duration": 0.054333,
     "end_time": "2024-08-30T10:59:22.609597",
     "exception": false,
     "start_time": "2024-08-30T10:59:22.555264",
     "status": "completed"
    },
    "tags": []
   },
   "source": [
    "# Split Dataset and create dataloaders"
   ]
  },
  {
   "cell_type": "code",
   "execution_count": 23,
   "metadata": {
    "_cell_guid": "d7b12788-5cb6-4fb1-b580-67a4da9b9609",
    "_uuid": "35622a49-84cd-4fc2-9ab6-2053091733c7",
    "collapsed": false,
    "execution": {
     "iopub.execute_input": "2024-08-30T10:59:22.722941Z",
     "iopub.status.busy": "2024-08-30T10:59:22.722193Z",
     "iopub.status.idle": "2024-08-30T10:59:22.728866Z",
     "shell.execute_reply": "2024-08-30T10:59:22.728241Z",
     "shell.execute_reply.started": "2024-08-30T09:35:00.011304Z"
    },
    "jupyter": {
     "outputs_hidden": false
    },
    "papermill": {
     "duration": 0.066603,
     "end_time": "2024-08-30T10:59:22.728974",
     "exception": false,
     "start_time": "2024-08-30T10:59:22.662371",
     "status": "completed"
    },
    "tags": []
   },
   "outputs": [
    {
     "name": "stdout",
     "output_type": "stream",
     "text": [
      "Length of trainset : 5000\n",
      "Length of testset : 303\n",
      "Length of validset : 303\n"
     ]
    }
   ],
   "source": [
    "trainset, validset, testset = random_split(trainds, [5000,303,303])\n",
    "\n",
    "print(\"Length of trainset : {}\".format(len(trainset)))\n",
    "print(\"Length of testset : {}\".format(len(testset)))\n",
    "print(\"Length of validset : {}\".format(len(validset)))"
   ]
  },
  {
   "cell_type": "code",
   "execution_count": 24,
   "metadata": {
    "_cell_guid": "9138b512-4e5d-48dc-bc59-86f55539a3f3",
    "_uuid": "da55f841-2c72-41da-bf7a-f037ffbbdccf",
    "collapsed": false,
    "execution": {
     "iopub.execute_input": "2024-08-30T10:59:22.842089Z",
     "iopub.status.busy": "2024-08-30T10:59:22.841416Z",
     "iopub.status.idle": "2024-08-30T10:59:22.844289Z",
     "shell.execute_reply": "2024-08-30T10:59:22.843691Z",
     "shell.execute_reply.started": "2024-08-30T09:35:03.465118Z"
    },
    "jupyter": {
     "outputs_hidden": false
    },
    "papermill": {
     "duration": 0.061952,
     "end_time": "2024-08-30T10:59:22.844408",
     "exception": false,
     "start_time": "2024-08-30T10:59:22.782456",
     "status": "completed"
    },
    "tags": []
   },
   "outputs": [],
   "source": [
    "trainloader = DataLoader(trainset,\n",
    "                         batch_size = 32,\n",
    "                         shuffle = True)\n",
    "\n",
    "validloader = DataLoader(validset,\n",
    "                         batch_size = 32,\n",
    "                         shuffle = False)\n",
    "\n",
    "testloader = DataLoader(testset,\n",
    "                        batch_size = 32,\n",
    "                        shuffle = True)"
   ]
  },
  {
   "cell_type": "markdown",
   "metadata": {
    "_cell_guid": "94f5f5b5-8ceb-496d-962b-70ca37fb8d30",
    "_uuid": "fc465386-890c-410a-8b9f-4c07ccfdaaca",
    "papermill": {
     "duration": 0.052382,
     "end_time": "2024-08-30T10:59:22.950217",
     "exception": false,
     "start_time": "2024-08-30T10:59:22.897835",
     "status": "completed"
    },
    "tags": []
   },
   "source": [
    "# Define Pre-trained Model"
   ]
  },
  {
   "cell_type": "code",
   "execution_count": 25,
   "metadata": {
    "_cell_guid": "ea041337-6335-47ea-8245-6e695f2df301",
    "_uuid": "6b697f55-9320-415d-b1ec-3e57103d8e07",
    "collapsed": false,
    "execution": {
     "iopub.execute_input": "2024-08-30T10:59:23.066185Z",
     "iopub.status.busy": "2024-08-30T10:59:23.065564Z",
     "iopub.status.idle": "2024-08-30T10:59:23.793538Z",
     "shell.execute_reply": "2024-08-30T10:59:23.792690Z",
     "shell.execute_reply.started": "2024-08-30T09:35:06.626385Z"
    },
    "jupyter": {
     "outputs_hidden": false
    },
    "papermill": {
     "duration": 0.789705,
     "end_time": "2024-08-30T10:59:23.793661",
     "exception": false,
     "start_time": "2024-08-30T10:59:23.003956",
     "status": "completed"
    },
    "tags": []
   },
   "outputs": [
    {
     "data": {
      "text/plain": [
       "<All keys matched successfully>"
      ]
     },
     "execution_count": 25,
     "metadata": {},
     "output_type": "execute_result"
    }
   ],
   "source": [
    "model = models.resnet18()\n",
    "model.load_state_dict(torch.load('../input/pretrained-model-weights-pytorch/resnet18-5c106cde.pth'))"
   ]
  },
  {
   "cell_type": "code",
   "execution_count": 26,
   "metadata": {
    "_cell_guid": "77e81ae6-6ef4-4259-80eb-b85c444d0a8a",
    "_kg_hide-output": true,
    "_uuid": "293e3a47-dd3c-4e79-8463-b145e5bed012",
    "collapsed": false,
    "execution": {
     "iopub.execute_input": "2024-08-30T10:59:23.911034Z",
     "iopub.status.busy": "2024-08-30T10:59:23.910309Z",
     "iopub.status.idle": "2024-08-30T10:59:28.206166Z",
     "shell.execute_reply": "2024-08-30T10:59:28.205541Z",
     "shell.execute_reply.started": "2024-08-30T09:35:09.271859Z"
    },
    "jupyter": {
     "outputs_hidden": false
    },
    "papermill": {
     "duration": 4.358373,
     "end_time": "2024-08-30T10:59:28.206278",
     "exception": false,
     "start_time": "2024-08-30T10:59:23.847905",
     "status": "completed"
    },
    "tags": []
   },
   "outputs": [
    {
     "data": {
      "text/plain": [
       "ResNet(\n",
       "  (conv1): Conv2d(3, 64, kernel_size=(7, 7), stride=(2, 2), padding=(3, 3), bias=False)\n",
       "  (bn1): BatchNorm2d(64, eps=1e-05, momentum=0.1, affine=True, track_running_stats=True)\n",
       "  (relu): ReLU(inplace=True)\n",
       "  (maxpool): MaxPool2d(kernel_size=3, stride=2, padding=1, dilation=1, ceil_mode=False)\n",
       "  (layer1): Sequential(\n",
       "    (0): BasicBlock(\n",
       "      (conv1): Conv2d(64, 64, kernel_size=(3, 3), stride=(1, 1), padding=(1, 1), bias=False)\n",
       "      (bn1): BatchNorm2d(64, eps=1e-05, momentum=0.1, affine=True, track_running_stats=True)\n",
       "      (relu): ReLU(inplace=True)\n",
       "      (conv2): Conv2d(64, 64, kernel_size=(3, 3), stride=(1, 1), padding=(1, 1), bias=False)\n",
       "      (bn2): BatchNorm2d(64, eps=1e-05, momentum=0.1, affine=True, track_running_stats=True)\n",
       "    )\n",
       "    (1): BasicBlock(\n",
       "      (conv1): Conv2d(64, 64, kernel_size=(3, 3), stride=(1, 1), padding=(1, 1), bias=False)\n",
       "      (bn1): BatchNorm2d(64, eps=1e-05, momentum=0.1, affine=True, track_running_stats=True)\n",
       "      (relu): ReLU(inplace=True)\n",
       "      (conv2): Conv2d(64, 64, kernel_size=(3, 3), stride=(1, 1), padding=(1, 1), bias=False)\n",
       "      (bn2): BatchNorm2d(64, eps=1e-05, momentum=0.1, affine=True, track_running_stats=True)\n",
       "    )\n",
       "  )\n",
       "  (layer2): Sequential(\n",
       "    (0): BasicBlock(\n",
       "      (conv1): Conv2d(64, 128, kernel_size=(3, 3), stride=(2, 2), padding=(1, 1), bias=False)\n",
       "      (bn1): BatchNorm2d(128, eps=1e-05, momentum=0.1, affine=True, track_running_stats=True)\n",
       "      (relu): ReLU(inplace=True)\n",
       "      (conv2): Conv2d(128, 128, kernel_size=(3, 3), stride=(1, 1), padding=(1, 1), bias=False)\n",
       "      (bn2): BatchNorm2d(128, eps=1e-05, momentum=0.1, affine=True, track_running_stats=True)\n",
       "      (downsample): Sequential(\n",
       "        (0): Conv2d(64, 128, kernel_size=(1, 1), stride=(2, 2), bias=False)\n",
       "        (1): BatchNorm2d(128, eps=1e-05, momentum=0.1, affine=True, track_running_stats=True)\n",
       "      )\n",
       "    )\n",
       "    (1): BasicBlock(\n",
       "      (conv1): Conv2d(128, 128, kernel_size=(3, 3), stride=(1, 1), padding=(1, 1), bias=False)\n",
       "      (bn1): BatchNorm2d(128, eps=1e-05, momentum=0.1, affine=True, track_running_stats=True)\n",
       "      (relu): ReLU(inplace=True)\n",
       "      (conv2): Conv2d(128, 128, kernel_size=(3, 3), stride=(1, 1), padding=(1, 1), bias=False)\n",
       "      (bn2): BatchNorm2d(128, eps=1e-05, momentum=0.1, affine=True, track_running_stats=True)\n",
       "    )\n",
       "  )\n",
       "  (layer3): Sequential(\n",
       "    (0): BasicBlock(\n",
       "      (conv1): Conv2d(128, 256, kernel_size=(3, 3), stride=(2, 2), padding=(1, 1), bias=False)\n",
       "      (bn1): BatchNorm2d(256, eps=1e-05, momentum=0.1, affine=True, track_running_stats=True)\n",
       "      (relu): ReLU(inplace=True)\n",
       "      (conv2): Conv2d(256, 256, kernel_size=(3, 3), stride=(1, 1), padding=(1, 1), bias=False)\n",
       "      (bn2): BatchNorm2d(256, eps=1e-05, momentum=0.1, affine=True, track_running_stats=True)\n",
       "      (downsample): Sequential(\n",
       "        (0): Conv2d(128, 256, kernel_size=(1, 1), stride=(2, 2), bias=False)\n",
       "        (1): BatchNorm2d(256, eps=1e-05, momentum=0.1, affine=True, track_running_stats=True)\n",
       "      )\n",
       "    )\n",
       "    (1): BasicBlock(\n",
       "      (conv1): Conv2d(256, 256, kernel_size=(3, 3), stride=(1, 1), padding=(1, 1), bias=False)\n",
       "      (bn1): BatchNorm2d(256, eps=1e-05, momentum=0.1, affine=True, track_running_stats=True)\n",
       "      (relu): ReLU(inplace=True)\n",
       "      (conv2): Conv2d(256, 256, kernel_size=(3, 3), stride=(1, 1), padding=(1, 1), bias=False)\n",
       "      (bn2): BatchNorm2d(256, eps=1e-05, momentum=0.1, affine=True, track_running_stats=True)\n",
       "    )\n",
       "  )\n",
       "  (layer4): Sequential(\n",
       "    (0): BasicBlock(\n",
       "      (conv1): Conv2d(256, 512, kernel_size=(3, 3), stride=(2, 2), padding=(1, 1), bias=False)\n",
       "      (bn1): BatchNorm2d(512, eps=1e-05, momentum=0.1, affine=True, track_running_stats=True)\n",
       "      (relu): ReLU(inplace=True)\n",
       "      (conv2): Conv2d(512, 512, kernel_size=(3, 3), stride=(1, 1), padding=(1, 1), bias=False)\n",
       "      (bn2): BatchNorm2d(512, eps=1e-05, momentum=0.1, affine=True, track_running_stats=True)\n",
       "      (downsample): Sequential(\n",
       "        (0): Conv2d(256, 512, kernel_size=(1, 1), stride=(2, 2), bias=False)\n",
       "        (1): BatchNorm2d(512, eps=1e-05, momentum=0.1, affine=True, track_running_stats=True)\n",
       "      )\n",
       "    )\n",
       "    (1): BasicBlock(\n",
       "      (conv1): Conv2d(512, 512, kernel_size=(3, 3), stride=(1, 1), padding=(1, 1), bias=False)\n",
       "      (bn1): BatchNorm2d(512, eps=1e-05, momentum=0.1, affine=True, track_running_stats=True)\n",
       "      (relu): ReLU(inplace=True)\n",
       "      (conv2): Conv2d(512, 512, kernel_size=(3, 3), stride=(1, 1), padding=(1, 1), bias=False)\n",
       "      (bn2): BatchNorm2d(512, eps=1e-05, momentum=0.1, affine=True, track_running_stats=True)\n",
       "    )\n",
       "  )\n",
       "  (avgpool): AdaptiveAvgPool2d(output_size=(1, 1))\n",
       "  (fc): Sequential(\n",
       "    (0): Linear(in_features=512, out_features=14, bias=True)\n",
       "    (1): Sigmoid()\n",
       "  )\n",
       ")"
      ]
     },
     "execution_count": 26,
     "metadata": {},
     "output_type": "execute_result"
    }
   ],
   "source": [
    "for param in model.parameters():\n",
    "    param.requires_grad = False\n",
    "\n",
    "model.fc = nn.Sequential(\n",
    "    nn.Linear(512, 14),\n",
    "    nn.Sigmoid()\n",
    ")\n",
    "\n",
    "model.to(device)"
   ]
  },
  {
   "cell_type": "markdown",
   "metadata": {
    "_cell_guid": "ce84e8c6-ca32-4f80-b3dd-c64810283cdc",
    "_uuid": "30955ab5-7f44-4bfc-bf10-64ac7ddef4eb",
    "papermill": {
     "duration": 0.053879,
     "end_time": "2024-08-30T10:59:28.313918",
     "exception": false,
     "start_time": "2024-08-30T10:59:28.260039",
     "status": "completed"
    },
    "tags": []
   },
   "source": [
    "# Train Model"
   ]
  },
  {
   "cell_type": "code",
   "execution_count": 27,
   "metadata": {
    "_cell_guid": "fd25016c-1116-4e56-9caa-8b6282995217",
    "_uuid": "71673944-1e9f-402b-ab9b-e302ff4b7c5f",
    "collapsed": false,
    "execution": {
     "iopub.execute_input": "2024-08-30T10:59:28.430003Z",
     "iopub.status.busy": "2024-08-30T10:59:28.429313Z",
     "iopub.status.idle": "2024-08-30T10:59:28.432864Z",
     "shell.execute_reply": "2024-08-30T10:59:28.432257Z",
     "shell.execute_reply.started": "2024-08-30T10:05:17.191888Z"
    },
    "jupyter": {
     "outputs_hidden": false
    },
    "papermill": {
     "duration": 0.06518,
     "end_time": "2024-08-30T10:59:28.432977",
     "exception": false,
     "start_time": "2024-08-30T10:59:28.367797",
     "status": "completed"
    },
    "tags": []
   },
   "outputs": [],
   "source": [
    "optimizer = optim.Adam(model.parameters(),\n",
    "                       lr = 0.0001)\n",
    "schedular = optim.lr_scheduler.ReduceLROnPlateau(optimizer,\n",
    "                                                 factor = 0.1,\n",
    "                                                 patience = 4)\n",
    "epochs = 10\n",
    "valid_loss_min = np.Inf"
   ]
  },
  {
   "cell_type": "code",
   "execution_count": 28,
   "metadata": {
    "_cell_guid": "816b4059-9183-4dc7-867f-312d1a994e6c",
    "_uuid": "6524beec-68ad-4425-b394-6ce88d019d04",
    "collapsed": false,
    "execution": {
     "iopub.execute_input": "2024-08-30T10:59:28.559419Z",
     "iopub.status.busy": "2024-08-30T10:59:28.558612Z",
     "iopub.status.idle": "2024-08-30T11:27:27.553253Z",
     "shell.execute_reply": "2024-08-30T11:27:27.553903Z",
     "shell.execute_reply.started": "2024-08-30T10:05:36.808673Z"
    },
    "jupyter": {
     "outputs_hidden": false
    },
    "papermill": {
     "duration": 1679.065671,
     "end_time": "2024-08-30T11:27:27.554094",
     "exception": false,
     "start_time": "2024-08-30T10:59:28.488423",
     "status": "completed"
    },
    "tags": []
   },
   "outputs": [
    {
     "name": "stderr",
     "output_type": "stream",
     "text": [
      "100%|██████████| 157/157 [03:27<00:00,  1.32s/it]\n",
      "100%|██████████| 10/10 [00:12<00:00,  1.25s/it]\n",
      "  0%|          | 0/157 [00:00<?, ?it/s]"
     ]
    },
    {
     "name": "stdout",
     "output_type": "stream",
     "text": [
      "Validation loss decreased (inf --> 0.873471).   Saving model ...\n",
      "Epoch : 1 Train Loss : 0.901650 \n",
      "Epoch : 1 Valid Loss : 0.873471 \n"
     ]
    },
    {
     "name": "stderr",
     "output_type": "stream",
     "text": [
      "100%|██████████| 157/157 [02:32<00:00,  1.03it/s]\n",
      "100%|██████████| 10/10 [00:09<00:00,  1.10it/s]\n",
      "  0%|          | 0/157 [00:00<?, ?it/s]"
     ]
    },
    {
     "name": "stdout",
     "output_type": "stream",
     "text": [
      "Validation loss decreased (0.873471 --> 0.858780).   Saving model ...\n",
      "Epoch : 2 Train Loss : 0.881359 \n",
      "Epoch : 2 Valid Loss : 0.858780 \n"
     ]
    },
    {
     "name": "stderr",
     "output_type": "stream",
     "text": [
      "100%|██████████| 157/157 [02:32<00:00,  1.03it/s]\n",
      "100%|██████████| 10/10 [00:09<00:00,  1.10it/s]\n",
      "  0%|          | 0/157 [00:00<?, ?it/s]"
     ]
    },
    {
     "name": "stdout",
     "output_type": "stream",
     "text": [
      "Validation loss decreased (0.858780 --> 0.850199).   Saving model ...\n",
      "Epoch : 3 Train Loss : 0.871642 \n",
      "Epoch : 3 Valid Loss : 0.850199 \n"
     ]
    },
    {
     "name": "stderr",
     "output_type": "stream",
     "text": [
      "100%|██████████| 157/157 [02:32<00:00,  1.03it/s]\n",
      "100%|██████████| 10/10 [00:09<00:00,  1.05it/s]\n",
      "  0%|          | 0/157 [00:00<?, ?it/s]"
     ]
    },
    {
     "name": "stdout",
     "output_type": "stream",
     "text": [
      "Validation loss decreased (0.850199 --> 0.841187).   Saving model ...\n",
      "Epoch : 4 Train Loss : 0.861811 \n",
      "Epoch : 4 Valid Loss : 0.841187 \n"
     ]
    },
    {
     "name": "stderr",
     "output_type": "stream",
     "text": [
      "100%|██████████| 157/157 [02:33<00:00,  1.03it/s]\n",
      "100%|██████████| 10/10 [00:09<00:00,  1.09it/s]\n",
      "  0%|          | 0/157 [00:00<?, ?it/s]"
     ]
    },
    {
     "name": "stdout",
     "output_type": "stream",
     "text": [
      "Validation loss decreased (0.841187 --> 0.837200).   Saving model ...\n",
      "Epoch : 5 Train Loss : 0.853823 \n",
      "Epoch : 5 Valid Loss : 0.837200 \n"
     ]
    },
    {
     "name": "stderr",
     "output_type": "stream",
     "text": [
      "100%|██████████| 157/157 [02:31<00:00,  1.04it/s]\n",
      "100%|██████████| 10/10 [00:09<00:00,  1.04it/s]\n",
      "  0%|          | 0/157 [00:00<?, ?it/s]"
     ]
    },
    {
     "name": "stdout",
     "output_type": "stream",
     "text": [
      "Validation loss decreased (0.837200 --> 0.817542).   Saving model ...\n",
      "Epoch : 6 Train Loss : 0.848217 \n",
      "Epoch : 6 Valid Loss : 0.817542 \n"
     ]
    },
    {
     "name": "stderr",
     "output_type": "stream",
     "text": [
      "100%|██████████| 157/157 [02:34<00:00,  1.02it/s]\n",
      "100%|██████████| 10/10 [00:09<00:00,  1.08it/s]\n",
      "  0%|          | 0/157 [00:00<?, ?it/s]"
     ]
    },
    {
     "name": "stdout",
     "output_type": "stream",
     "text": [
      "Epoch : 7 Train Loss : 0.841346 \n",
      "Epoch : 7 Valid Loss : 0.826982 \n"
     ]
    },
    {
     "name": "stderr",
     "output_type": "stream",
     "text": [
      "100%|██████████| 157/157 [02:33<00:00,  1.03it/s]\n",
      "100%|██████████| 10/10 [00:09<00:00,  1.10it/s]\n",
      "  0%|          | 0/157 [00:00<?, ?it/s]"
     ]
    },
    {
     "name": "stdout",
     "output_type": "stream",
     "text": [
      "Validation loss decreased (0.817542 --> 0.817463).   Saving model ...\n",
      "Epoch : 8 Train Loss : 0.839505 \n",
      "Epoch : 8 Valid Loss : 0.817463 \n"
     ]
    },
    {
     "name": "stderr",
     "output_type": "stream",
     "text": [
      "100%|██████████| 157/157 [02:33<00:00,  1.02it/s]\n",
      "100%|██████████| 10/10 [00:09<00:00,  1.07it/s]\n",
      "  0%|          | 0/157 [00:00<?, ?it/s]"
     ]
    },
    {
     "name": "stdout",
     "output_type": "stream",
     "text": [
      "Epoch : 9 Train Loss : 0.832230 \n",
      "Epoch : 9 Valid Loss : 0.821918 \n"
     ]
    },
    {
     "name": "stderr",
     "output_type": "stream",
     "text": [
      "100%|██████████| 157/157 [02:31<00:00,  1.03it/s]\n",
      "100%|██████████| 10/10 [00:09<00:00,  1.07it/s]"
     ]
    },
    {
     "name": "stdout",
     "output_type": "stream",
     "text": [
      "Validation loss decreased (0.817463 --> 0.813502).   Saving model ...\n",
      "Epoch : 10 Train Loss : 0.825570 \n",
      "Epoch : 10 Valid Loss : 0.813502 \n"
     ]
    },
    {
     "name": "stderr",
     "output_type": "stream",
     "text": [
      "\n"
     ]
    }
   ],
   "source": [
    "for i in range(epochs):\n",
    "\n",
    "    train_loss = 0.0\n",
    "    valid_loss = 0.0\n",
    "    train_acc = 0.0\n",
    "    valid_acc = 0.0 \n",
    "\n",
    "    model.train()\n",
    "    for images,labels in tqdm(trainloader):\n",
    "        images = images.to(device)\n",
    "        labels = labels.to(device)\n",
    "\n",
    "        ps = model(images)\n",
    "        loss = weighted_loss(pos_weights,neg_weights,ps,labels)\n",
    "\n",
    "        optimizer.zero_grad()\n",
    "        loss.backward()\n",
    "        optimizer.step()\n",
    "\n",
    "        train_loss += loss.item()\n",
    "    avg_train_loss = train_loss / len(trainloader)\n",
    "\n",
    "    model.eval()\n",
    "    with torch.no_grad():\n",
    "        for images,labels in tqdm(validloader):\n",
    "            images = images.to(device)\n",
    "            labels = labels.to(device)\n",
    "\n",
    "            ps = model(images)\n",
    "            loss = weighted_loss(pos_weights,neg_weights,ps,labels)\n",
    "            valid_loss += loss.item()\n",
    "        avg_valid_loss = valid_loss / len(validloader)\n",
    "\n",
    "    schedular.step(avg_valid_loss)\n",
    "\n",
    "    if avg_valid_loss <= valid_loss_min:\n",
    "        print('Validation loss decreased ({:.6f} --> {:.6f}).   Saving model ...'.format(valid_loss_min,avg_valid_loss))\n",
    "        torch.save({\n",
    "            'epoch' : i,\n",
    "            'model_state_dict' : model.state_dict(),\n",
    "            'optimizer_state_dict' : optimizer.state_dict(),\n",
    "            'valid_loss_min' : avg_valid_loss\n",
    "        },'Pneumonia_model.pt')\n",
    "\n",
    "        valid_loss_min = avg_valid_loss\n",
    "\n",
    "    print(\"Epoch : {} Train Loss : {:.6f} \".format(i+1,avg_train_loss))\n",
    "    print(\"Epoch : {} Valid Loss : {:.6f} \".format(i+1,avg_valid_loss))"
   ]
  },
  {
   "cell_type": "markdown",
   "metadata": {
    "_cell_guid": "d955b17b-fdc6-40e8-a979-eebc95ccc81d",
    "_uuid": "b23bc1cf-f482-4b2b-a96a-63be6d001d9e",
    "papermill": {
     "duration": 0.648277,
     "end_time": "2024-08-30T11:27:30.225188",
     "exception": false,
     "start_time": "2024-08-30T11:27:29.576911",
     "status": "completed"
    },
    "tags": []
   },
   "source": [
    "# Each Class Accuracy"
   ]
  },
  {
   "cell_type": "code",
   "execution_count": 29,
   "metadata": {
    "_cell_guid": "f9d6c75e-c287-4f56-b72c-4127d5bd1388",
    "_uuid": "70b4aaa3-1d9f-47d1-a446-81b82ce2944d",
    "collapsed": false,
    "execution": {
     "iopub.execute_input": "2024-08-30T11:27:31.597291Z",
     "iopub.status.busy": "2024-08-30T11:27:31.596662Z",
     "iopub.status.idle": "2024-08-30T11:30:05.123067Z",
     "shell.execute_reply": "2024-08-30T11:30:05.123628Z",
     "shell.execute_reply.started": "2024-08-30T10:37:59.512997Z"
    },
    "jupyter": {
     "outputs_hidden": false
    },
    "papermill": {
     "duration": 154.18344,
     "end_time": "2024-08-30T11:30:05.123815",
     "exception": false,
     "start_time": "2024-08-30T11:27:30.940375",
     "status": "completed"
    },
    "tags": []
   },
   "outputs": [
    {
     "name": "stdout",
     "output_type": "stream",
     "text": [
      "Train Dataset Accuracy Report\n",
      "                Labels    Acc\n",
      "0         Cardiomegaly  65.20\n",
      "1            Emphysema  58.74\n",
      "2             Effusion  63.82\n",
      "3               Hernia  71.98\n",
      "4               Nodule  57.04\n",
      "5         Pneumothorax  57.00\n",
      "6          Atelectasis  65.14\n",
      "7   Pleural_Thickening  53.12\n",
      "8                 Mass  49.78\n",
      "9                Edema  72.68\n",
      "10       Consolidation  66.48\n",
      "11        Infiltration  60.04\n",
      "12            Fibrosis  60.84\n",
      "13           Pneumonia  67.64\n"
     ]
    }
   ],
   "source": [
    "import torch\n",
    "import pandas as pd\n",
    "\n",
    "def class_accuracy(dataloader, model, device):\n",
    "    # Determine the number of classes from the model's output\n",
    "    num_classes = model(next(iter(dataloader))[0].to(device)).shape[1]\n",
    "\n",
    "    per_class_accuracy = [0] * num_classes\n",
    "    total = 0.0\n",
    "\n",
    "    with torch.no_grad():\n",
    "        for images, labels in dataloader:\n",
    "            images = images.to(device)\n",
    "            labels = labels.to(device)\n",
    "            outputs = model(images)\n",
    "            ps = (outputs >= 0.5).float()  # Assuming binary classification\n",
    "\n",
    "            for i in range(num_classes):\n",
    "                x1 = ps[:, i:i+1]\n",
    "                x2 = labels[:, i:i+1]\n",
    "                per_class_accuracy[i] += int((x1 == x2).sum())\n",
    "\n",
    "    per_class_accuracy = [(i / len(dataloader.dataset)) * 100.0 for i in per_class_accuracy]\n",
    "\n",
    "    return per_class_accuracy\n",
    "\n",
    "def get_acc_data(class_names, acc_list):\n",
    "    df = pd.DataFrame(list(zip(class_names, acc_list)), columns=['Labels', 'Acc'])\n",
    "    return df\n",
    "\n",
    "# Print Accuracy Report\n",
    "print(\"Train Dataset Accuracy Report\")\n",
    "acc_list = class_accuracy(trainloader, model, device)\n",
    "df = get_acc_data(pathology_list, acc_list)\n",
    "print(df)\n"
   ]
  },
  {
   "cell_type": "code",
   "execution_count": 30,
   "metadata": {
    "_cell_guid": "a66be7ff-fbcf-484e-8b54-787b26a9640b",
    "_uuid": "5b6efadf-714a-4c4e-b449-a1fef9645f36",
    "collapsed": false,
    "execution": {
     "iopub.execute_input": "2024-08-30T11:30:06.433624Z",
     "iopub.status.busy": "2024-08-30T11:30:06.432885Z",
     "iopub.status.idle": "2024-08-30T11:30:16.360854Z",
     "shell.execute_reply": "2024-08-30T11:30:16.359989Z",
     "shell.execute_reply.started": "2024-08-30T10:42:53.432339Z"
    },
    "jupyter": {
     "outputs_hidden": false
    },
    "papermill": {
     "duration": 10.590907,
     "end_time": "2024-08-30T11:30:16.360979",
     "exception": false,
     "start_time": "2024-08-30T11:30:05.770072",
     "status": "completed"
    },
    "tags": []
   },
   "outputs": [
    {
     "name": "stdout",
     "output_type": "stream",
     "text": [
      "Valid Dataset Accuracy Report\n",
      "                Labels        Acc\n",
      "0         Cardiomegaly  61.716172\n",
      "1            Emphysema  56.765677\n",
      "2             Effusion  62.706271\n",
      "3               Hernia  73.927393\n",
      "4               Nodule  57.755776\n",
      "5         Pneumothorax  57.095710\n",
      "6          Atelectasis  60.066007\n",
      "7   Pleural_Thickening  55.775578\n",
      "8                 Mass  48.844884\n",
      "9                Edema  71.617162\n",
      "10       Consolidation  65.016502\n",
      "11        Infiltration  58.085809\n",
      "12            Fibrosis  60.396040\n",
      "13           Pneumonia  69.966997\n"
     ]
    }
   ],
   "source": [
    "import torch\n",
    "import pandas as pd\n",
    "\n",
    "def class_accuracy(dataloader, model, device):\n",
    "    # Determine the number of classes from the model's output\n",
    "    num_classes = model(next(iter(dataloader))[0].to(device)).shape[1]\n",
    "\n",
    "    per_class_accuracy = [0] * num_classes\n",
    "\n",
    "    with torch.no_grad():\n",
    "        for images, labels in dataloader:\n",
    "            images = images.to(device)\n",
    "            labels = labels.to(device)\n",
    "            outputs = model(images)\n",
    "            ps = (outputs >= 0.5).float()  # Assuming binary classification\n",
    "\n",
    "            for i in range(num_classes):\n",
    "                x1 = ps[:, i:i+1]\n",
    "                x2 = labels[:, i:i+1]\n",
    "                per_class_accuracy[i] += int((x1 == x2).sum())\n",
    "\n",
    "    per_class_accuracy = [(i / len(dataloader.dataset)) * 100.0 for i in per_class_accuracy]\n",
    "\n",
    "    return per_class_accuracy\n",
    "\n",
    "def get_acc_data(class_names, acc_list):\n",
    "    df = pd.DataFrame(list(zip(class_names, acc_list)), columns=['Labels', 'Acc'])\n",
    "    return df\n",
    "\n",
    "# Define your device (for example, 'cuda' or 'cpu')\n",
    "device = 'cuda' if torch.cuda.is_available() else 'cpu'\n",
    "\n",
    "# Print Accuracy Report\n",
    "print(\"Valid Dataset Accuracy Report\")\n",
    "acc_list = class_accuracy(validloader, model, device)\n",
    "df = get_acc_data(pathology_list, acc_list)\n",
    "print(df)\n"
   ]
  }
 ],
 "metadata": {
  "kaggle": {
   "accelerator": "gpu",
   "dataSources": [
    {
     "datasetId": 4667,
     "sourceId": 7773,
     "sourceType": "datasetVersion"
    },
    {
     "datasetId": 413408,
     "sourceId": 791155,
     "sourceType": "datasetVersion"
    }
   ],
   "dockerImageVersionId": 30043,
   "isGpuEnabled": true,
   "isInternetEnabled": true,
   "language": "python",
   "sourceType": "notebook"
  },
  "kernelspec": {
   "display_name": "Python 3",
   "language": "python",
   "name": "python3"
  },
  "language_info": {
   "codemirror_mode": {
    "name": "ipython",
    "version": 3
   },
   "file_extension": ".py",
   "mimetype": "text/x-python",
   "name": "python",
   "nbconvert_exporter": "python",
   "pygments_lexer": "ipython3",
   "version": "3.7.6"
  },
  "papermill": {
   "duration": 1873.172373,
   "end_time": "2024-08-30T11:30:21.901161",
   "environment_variables": {},
   "exception": true,
   "input_path": "__notebook__.ipynb",
   "output_path": "__notebook__.ipynb",
   "parameters": {},
   "start_time": "2024-08-30T10:59:08.728788",
   "version": "2.1.0"
  }
 },
 "nbformat": 4,
 "nbformat_minor": 4
}
