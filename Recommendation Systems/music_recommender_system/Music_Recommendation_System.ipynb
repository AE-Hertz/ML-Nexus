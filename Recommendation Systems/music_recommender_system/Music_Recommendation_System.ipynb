{
  "nbformat": 4,
  "nbformat_minor": 0,
  "metadata": {
    "colab": {
      "provenance": []
    },
    "kernelspec": {
      "name": "python3",
      "display_name": "Python 3"
    },
    "language_info": {
      "name": "python"
    }
  },
  "cells": [
    {
      "cell_type": "code",
      "execution_count": 1,
      "metadata": {
        "id": "HKJJ2DxJjXDT"
      },
      "outputs": [],
      "source": [
        "import numpy as np\n",
        "import pandas as pd"
      ]
    },
    {
      "cell_type": "code",
      "source": [
        "from typing import List, Dict"
      ],
      "metadata": {
        "id": "JaaQ-OsnjdyS"
      },
      "execution_count": 2,
      "outputs": []
    },
    {
      "cell_type": "code",
      "source": [
        "from sklearn.feature_extraction.text import TfidfVectorizer\n",
        "from sklearn.metrics.pairwise import cosine_similarity"
      ],
      "metadata": {
        "id": "PpXBxRbijgeW"
      },
      "execution_count": 3,
      "outputs": []
    },
    {
      "cell_type": "code",
      "source": [
        "songs = pd.read_csv('songdata.csv')"
      ],
      "metadata": {
        "id": "wRrxYOh1jiVs"
      },
      "execution_count": 4,
      "outputs": []
    },
    {
      "cell_type": "code",
      "source": [
        "songs.head()"
      ],
      "metadata": {
        "colab": {
          "base_uri": "https://localhost:8080/",
          "height": 206
        },
        "id": "IfwA6O8cjrir",
        "outputId": "f228116d-7d66-4214-c876-17f7d82e422c"
      },
      "execution_count": 12,
      "outputs": [
        {
          "output_type": "execute_result",
          "data": {
            "text/plain": [
              "          artist                   song  \\\n",
              "0    Gipsy Kings              A Tu Vera   \n",
              "1        Roxette  Staring At The Ground   \n",
              "2    Dean Martin            Deep Purple   \n",
              "3        Roxette       Beautiful Things   \n",
              "4  Lionel Richie        Through My Eyes   \n",
              "\n",
              "                                                text  \n",
              "0  To your side To your side always the verita yo...  \n",
              "1  I'm staring at the gorund,  \\nI'm bloodless, t...  \n",
              "2  When the deep purple falls  \\nOver sleepy gard...  \n",
              "3  Beautiful things  \\nAre comin' my way  \\nBeaut...  \n",
              "4  Oh yeah  \\nOh  \\nWow  \\n  \\nBaby we were so in...  "
            ],
            "text/html": [
              "\n",
              "  <div id=\"df-5e6dd897-13e8-4e58-ae58-e69736596ff0\" class=\"colab-df-container\">\n",
              "    <div>\n",
              "<style scoped>\n",
              "    .dataframe tbody tr th:only-of-type {\n",
              "        vertical-align: middle;\n",
              "    }\n",
              "\n",
              "    .dataframe tbody tr th {\n",
              "        vertical-align: top;\n",
              "    }\n",
              "\n",
              "    .dataframe thead th {\n",
              "        text-align: right;\n",
              "    }\n",
              "</style>\n",
              "<table border=\"1\" class=\"dataframe\">\n",
              "  <thead>\n",
              "    <tr style=\"text-align: right;\">\n",
              "      <th></th>\n",
              "      <th>artist</th>\n",
              "      <th>song</th>\n",
              "      <th>text</th>\n",
              "    </tr>\n",
              "  </thead>\n",
              "  <tbody>\n",
              "    <tr>\n",
              "      <th>0</th>\n",
              "      <td>Gipsy Kings</td>\n",
              "      <td>A Tu Vera</td>\n",
              "      <td>To your side To your side always the verita yo...</td>\n",
              "    </tr>\n",
              "    <tr>\n",
              "      <th>1</th>\n",
              "      <td>Roxette</td>\n",
              "      <td>Staring At The Ground</td>\n",
              "      <td>I'm staring at the gorund,  \\nI'm bloodless, t...</td>\n",
              "    </tr>\n",
              "    <tr>\n",
              "      <th>2</th>\n",
              "      <td>Dean Martin</td>\n",
              "      <td>Deep Purple</td>\n",
              "      <td>When the deep purple falls  \\nOver sleepy gard...</td>\n",
              "    </tr>\n",
              "    <tr>\n",
              "      <th>3</th>\n",
              "      <td>Roxette</td>\n",
              "      <td>Beautiful Things</td>\n",
              "      <td>Beautiful things  \\nAre comin' my way  \\nBeaut...</td>\n",
              "    </tr>\n",
              "    <tr>\n",
              "      <th>4</th>\n",
              "      <td>Lionel Richie</td>\n",
              "      <td>Through My Eyes</td>\n",
              "      <td>Oh yeah  \\nOh  \\nWow  \\n  \\nBaby we were so in...</td>\n",
              "    </tr>\n",
              "  </tbody>\n",
              "</table>\n",
              "</div>\n",
              "    <div class=\"colab-df-buttons\">\n",
              "\n",
              "  <div class=\"colab-df-container\">\n",
              "    <button class=\"colab-df-convert\" onclick=\"convertToInteractive('df-5e6dd897-13e8-4e58-ae58-e69736596ff0')\"\n",
              "            title=\"Convert this dataframe to an interactive table.\"\n",
              "            style=\"display:none;\">\n",
              "\n",
              "  <svg xmlns=\"http://www.w3.org/2000/svg\" height=\"24px\" viewBox=\"0 -960 960 960\">\n",
              "    <path d=\"M120-120v-720h720v720H120Zm60-500h600v-160H180v160Zm220 220h160v-160H400v160Zm0 220h160v-160H400v160ZM180-400h160v-160H180v160Zm440 0h160v-160H620v160ZM180-180h160v-160H180v160Zm440 0h160v-160H620v160Z\"/>\n",
              "  </svg>\n",
              "    </button>\n",
              "\n",
              "  <style>\n",
              "    .colab-df-container {\n",
              "      display:flex;\n",
              "      gap: 12px;\n",
              "    }\n",
              "\n",
              "    .colab-df-convert {\n",
              "      background-color: #E8F0FE;\n",
              "      border: none;\n",
              "      border-radius: 50%;\n",
              "      cursor: pointer;\n",
              "      display: none;\n",
              "      fill: #1967D2;\n",
              "      height: 32px;\n",
              "      padding: 0 0 0 0;\n",
              "      width: 32px;\n",
              "    }\n",
              "\n",
              "    .colab-df-convert:hover {\n",
              "      background-color: #E2EBFA;\n",
              "      box-shadow: 0px 1px 2px rgba(60, 64, 67, 0.3), 0px 1px 3px 1px rgba(60, 64, 67, 0.15);\n",
              "      fill: #174EA6;\n",
              "    }\n",
              "\n",
              "    .colab-df-buttons div {\n",
              "      margin-bottom: 4px;\n",
              "    }\n",
              "\n",
              "    [theme=dark] .colab-df-convert {\n",
              "      background-color: #3B4455;\n",
              "      fill: #D2E3FC;\n",
              "    }\n",
              "\n",
              "    [theme=dark] .colab-df-convert:hover {\n",
              "      background-color: #434B5C;\n",
              "      box-shadow: 0px 1px 3px 1px rgba(0, 0, 0, 0.15);\n",
              "      filter: drop-shadow(0px 1px 2px rgba(0, 0, 0, 0.3));\n",
              "      fill: #FFFFFF;\n",
              "    }\n",
              "  </style>\n",
              "\n",
              "    <script>\n",
              "      const buttonEl =\n",
              "        document.querySelector('#df-5e6dd897-13e8-4e58-ae58-e69736596ff0 button.colab-df-convert');\n",
              "      buttonEl.style.display =\n",
              "        google.colab.kernel.accessAllowed ? 'block' : 'none';\n",
              "\n",
              "      async function convertToInteractive(key) {\n",
              "        const element = document.querySelector('#df-5e6dd897-13e8-4e58-ae58-e69736596ff0');\n",
              "        const dataTable =\n",
              "          await google.colab.kernel.invokeFunction('convertToInteractive',\n",
              "                                                    [key], {});\n",
              "        if (!dataTable) return;\n",
              "\n",
              "        const docLinkHtml = 'Like what you see? Visit the ' +\n",
              "          '<a target=\"_blank\" href=https://colab.research.google.com/notebooks/data_table.ipynb>data table notebook</a>'\n",
              "          + ' to learn more about interactive tables.';\n",
              "        element.innerHTML = '';\n",
              "        dataTable['output_type'] = 'display_data';\n",
              "        await google.colab.output.renderOutput(dataTable, element);\n",
              "        const docLink = document.createElement('div');\n",
              "        docLink.innerHTML = docLinkHtml;\n",
              "        element.appendChild(docLink);\n",
              "      }\n",
              "    </script>\n",
              "  </div>\n",
              "\n",
              "\n",
              "<div id=\"df-becf9eae-fa72-4e54-ab4c-141524c88540\">\n",
              "  <button class=\"colab-df-quickchart\" onclick=\"quickchart('df-becf9eae-fa72-4e54-ab4c-141524c88540')\"\n",
              "            title=\"Suggest charts\"\n",
              "            style=\"display:none;\">\n",
              "\n",
              "<svg xmlns=\"http://www.w3.org/2000/svg\" height=\"24px\"viewBox=\"0 0 24 24\"\n",
              "     width=\"24px\">\n",
              "    <g>\n",
              "        <path d=\"M19 3H5c-1.1 0-2 .9-2 2v14c0 1.1.9 2 2 2h14c1.1 0 2-.9 2-2V5c0-1.1-.9-2-2-2zM9 17H7v-7h2v7zm4 0h-2V7h2v10zm4 0h-2v-4h2v4z\"/>\n",
              "    </g>\n",
              "</svg>\n",
              "  </button>\n",
              "\n",
              "<style>\n",
              "  .colab-df-quickchart {\n",
              "      --bg-color: #E8F0FE;\n",
              "      --fill-color: #1967D2;\n",
              "      --hover-bg-color: #E2EBFA;\n",
              "      --hover-fill-color: #174EA6;\n",
              "      --disabled-fill-color: #AAA;\n",
              "      --disabled-bg-color: #DDD;\n",
              "  }\n",
              "\n",
              "  [theme=dark] .colab-df-quickchart {\n",
              "      --bg-color: #3B4455;\n",
              "      --fill-color: #D2E3FC;\n",
              "      --hover-bg-color: #434B5C;\n",
              "      --hover-fill-color: #FFFFFF;\n",
              "      --disabled-bg-color: #3B4455;\n",
              "      --disabled-fill-color: #666;\n",
              "  }\n",
              "\n",
              "  .colab-df-quickchart {\n",
              "    background-color: var(--bg-color);\n",
              "    border: none;\n",
              "    border-radius: 50%;\n",
              "    cursor: pointer;\n",
              "    display: none;\n",
              "    fill: var(--fill-color);\n",
              "    height: 32px;\n",
              "    padding: 0;\n",
              "    width: 32px;\n",
              "  }\n",
              "\n",
              "  .colab-df-quickchart:hover {\n",
              "    background-color: var(--hover-bg-color);\n",
              "    box-shadow: 0 1px 2px rgba(60, 64, 67, 0.3), 0 1px 3px 1px rgba(60, 64, 67, 0.15);\n",
              "    fill: var(--button-hover-fill-color);\n",
              "  }\n",
              "\n",
              "  .colab-df-quickchart-complete:disabled,\n",
              "  .colab-df-quickchart-complete:disabled:hover {\n",
              "    background-color: var(--disabled-bg-color);\n",
              "    fill: var(--disabled-fill-color);\n",
              "    box-shadow: none;\n",
              "  }\n",
              "\n",
              "  .colab-df-spinner {\n",
              "    border: 2px solid var(--fill-color);\n",
              "    border-color: transparent;\n",
              "    border-bottom-color: var(--fill-color);\n",
              "    animation:\n",
              "      spin 1s steps(1) infinite;\n",
              "  }\n",
              "\n",
              "  @keyframes spin {\n",
              "    0% {\n",
              "      border-color: transparent;\n",
              "      border-bottom-color: var(--fill-color);\n",
              "      border-left-color: var(--fill-color);\n",
              "    }\n",
              "    20% {\n",
              "      border-color: transparent;\n",
              "      border-left-color: var(--fill-color);\n",
              "      border-top-color: var(--fill-color);\n",
              "    }\n",
              "    30% {\n",
              "      border-color: transparent;\n",
              "      border-left-color: var(--fill-color);\n",
              "      border-top-color: var(--fill-color);\n",
              "      border-right-color: var(--fill-color);\n",
              "    }\n",
              "    40% {\n",
              "      border-color: transparent;\n",
              "      border-right-color: var(--fill-color);\n",
              "      border-top-color: var(--fill-color);\n",
              "    }\n",
              "    60% {\n",
              "      border-color: transparent;\n",
              "      border-right-color: var(--fill-color);\n",
              "    }\n",
              "    80% {\n",
              "      border-color: transparent;\n",
              "      border-right-color: var(--fill-color);\n",
              "      border-bottom-color: var(--fill-color);\n",
              "    }\n",
              "    90% {\n",
              "      border-color: transparent;\n",
              "      border-bottom-color: var(--fill-color);\n",
              "    }\n",
              "  }\n",
              "</style>\n",
              "\n",
              "  <script>\n",
              "    async function quickchart(key) {\n",
              "      const quickchartButtonEl =\n",
              "        document.querySelector('#' + key + ' button');\n",
              "      quickchartButtonEl.disabled = true;  // To prevent multiple clicks.\n",
              "      quickchartButtonEl.classList.add('colab-df-spinner');\n",
              "      try {\n",
              "        const charts = await google.colab.kernel.invokeFunction(\n",
              "            'suggestCharts', [key], {});\n",
              "      } catch (error) {\n",
              "        console.error('Error during call to suggestCharts:', error);\n",
              "      }\n",
              "      quickchartButtonEl.classList.remove('colab-df-spinner');\n",
              "      quickchartButtonEl.classList.add('colab-df-quickchart-complete');\n",
              "    }\n",
              "    (() => {\n",
              "      let quickchartButtonEl =\n",
              "        document.querySelector('#df-becf9eae-fa72-4e54-ab4c-141524c88540 button');\n",
              "      quickchartButtonEl.style.display =\n",
              "        google.colab.kernel.accessAllowed ? 'block' : 'none';\n",
              "    })();\n",
              "  </script>\n",
              "</div>\n",
              "\n",
              "    </div>\n",
              "  </div>\n"
            ],
            "application/vnd.google.colaboratory.intrinsic+json": {
              "type": "dataframe",
              "variable_name": "songs",
              "summary": "{\n  \"name\": \"songs\",\n  \"rows\": 5000,\n  \"fields\": [\n    {\n      \"column\": \"artist\",\n      \"properties\": {\n        \"dtype\": \"category\",\n        \"num_unique_values\": 612,\n        \"samples\": [\n          \"Ten Years After\",\n          \"James Taylor\",\n          \"Dolly Parton\"\n        ],\n        \"semantic_type\": \"\",\n        \"description\": \"\"\n      }\n    },\n    {\n      \"column\": \"song\",\n      \"properties\": {\n        \"dtype\": \"string\",\n        \"num_unique_values\": 4785,\n        \"samples\": [\n          \"I Want You Back\",\n          \"In This Twilight\",\n          \"He Dropped The World In My Hands\"\n        ],\n        \"semantic_type\": \"\",\n        \"description\": \"\"\n      }\n    },\n    {\n      \"column\": \"text\",\n      \"properties\": {\n        \"dtype\": \"string\",\n        \"num_unique_values\": 4997,\n        \"samples\": [\n          \"Someone else is in your arms tonight  \\nWhile I'm all alone and blue  \\nSomeone else would kiss and hold you tight  \\nJust the way I used to do  \\n  \\nI used to be your love  \\nAnd now I'm your used to be  \\nOutsider, that's me  \\nYou'll be dancing cheek to cheek with him  \\n  \\nTo our favorite melody  \\nAnd the tender words you speak to him  \\nWill be words you spoke to me  \\nOnce I was in your heart  \\n  \\nNow someone else holds the key  \\nOutsider that's me  \\nI want you so much, so much  \\nI can look you can look, but musn't touch  \\n  \\nI keep waiting for the phone to ring  \\nBut I know it's all in vain  \\nWhen you left me you took everything  \\nBut the memories and the pain  \\n  \\nI used to be your love\\n\\n\",\n          \"It might seem crazy what I'm about to say  \\nSunshine she's here, you can take a break  \\nI'm a hot air balloon, I could go to space  \\nWith the air, like I don't care baby by the way  \\n  \\nBecause I'm happy  \\nClap along if you feel like a room without a roof  \\nBecause I'm happy  \\nClap along if you feel like happiness is the truth  \\nBecause I'm happy  \\nClap along if you know what happiness is to you  \\nBecause I'm happy  \\nClap along if you feel like that's what you wanna do  \\n  \\nHere come bad news talking this and that  \\nYeah, give me all you got, don't hold back  \\nYeah, well I should probably warn you I'll be just fine  \\nYeah, no offense to you don't waste your time  \\nHere's why  \\n  \\nBecause I'm happy  \\nClap along if you feel like a room without a roof  \\nBecause I'm happy  \\nClap along if you feel like happiness is the truth  \\nBecause I'm happy  \\nClap along if you know what happiness is to you  \\nBecause I'm happy  \\nClap along if you feel like that's what you wanna do  \\n  \\nHappy, bring me down  \\nCan't nothing, bring me down  \\nMy level is too high, bring me down  \\nCan't nothing, bring me down  \\nI said bring me down  \\nCan't nothing, bring me down  \\nMy level is too high, bring me down  \\nCan't nothing, bring me down  \\nI said  \\n  \\nBecause I'm happy  \\nClap along if you feel like a room without a roof  \\nBecause I'm happy  \\nClap along if you feel like happiness is the truth  \\nBecause I'm happy  \\nClap along if you know what happiness is to you  \\nBecause I'm happy  \\nClap along if you feel like that's what you wanna do  \\n  \\nBecause I'm happy  \\nClap along if you feel like a room without a roof  \\nBecause I'm happy  \\nClap along if you feel like happiness is the truth  \\nBecause I'm happy  \\nClap along if you know what happiness is to you  \\nBecause I'm happy  \\nClap along if you feel like that's what you wanna do  \\n  \\nHappy, bring me down  \\nCan't nothing, bring me down  \\nMy level is too high bring me down  \\nCan't nothing, bring me down  \\nI said  \\n  \\nBecause I'm happy  \\nClap along if you feel like a room without a roof  \\nBecause I'm happy  \\nClap along if you feel like happiness is the truth  \\nBecause I'm happy  \\nClap along if you know what happiness is to you  \\nBecause I'm happy  \\nClap along if you feel like that's what you wanna do  \\n  \\nBecause I'm happy  \\nClap along if you feel like a room without a roof  \\nBecause I'm happy  \\nClap along if you feel like happiness is the truth  \\nBecause I'm happy  \\nClap along if you know what happiness is to you  \\nBecause I'm happy  \\nClap along if you feel like that's what you wanna do\\n\\n\",\n          \"Gonna lay down my burdens, down by the riverside  \\nDown by the riverside, down by the riverside  \\nGonna lay down my burdens, down by the riverside  \\nAin't a-gonna study war no more  \\n  \\nAin't a-gonna study war no more  \\nAin't a-gonna study war no more  \\nAin't a-gonna study war no more  \\n  \\nGonna meet my dear mother, down by the riverside  \\nDown by the riverside, down by the riverside  \\nGonna meet my dear mother, down by the riverside  \\nAin't a-gonna study war no more  \\n  \\nGonna meet my dear father, down by the riverside  \\nDown by the riverside, down by the riverside  \\nGonna meet my dear father, down by the riverside  \\nAin't a-gonna study war no more  \\n  \\nAin't a-gonna study war no more  \\nAin't a-gonna study war no more  \\nAin't a-gonna study war no more  \\nGonna meet my dear Jesus, down by the riverside  \\n  \\nDown by the riverside, down by the riverside  \\nGonna meet my dear Jesus, down by the riverside  \\nAin't a-gonna study war no more  \\n  \\nAin't a-gonna study war no more  \\nAin't a-gonna study war no more  \\nAin't a-gonna study war no more  \\n  \\nGonna lay down my burdens, down by the riverside  \\nDown by the riverside, down by the riverside  \\nGonna lay down my burdens, down by the riverside  \\nAin't a-gonna study war no more  \\n  \\nAin't a-gonna study war no more  \\nAin't a-gonna study war no more  \\nAin't a-gonna study war no more  \\nAin't a-gonna study war no more  \\n  \\nAin't a-gonna study war no more  \\nAin't a-gonna study war no more\\n\\n\"\n        ],\n        \"semantic_type\": \"\",\n        \"description\": \"\"\n      }\n    }\n  ]\n}"
            }
          },
          "metadata": {},
          "execution_count": 12
        }
      ]
    },
    {
      "cell_type": "code",
      "source": [
        "songs = songs.sample(n=5000).drop('link', axis=1).reset_index(drop=True)"
      ],
      "metadata": {
        "id": "KbM0n0X7jtbs"
      },
      "execution_count": 6,
      "outputs": []
    },
    {
      "cell_type": "code",
      "source": [
        "songs['text'] = songs['text'].str.replace(r'\\n', '')"
      ],
      "metadata": {
        "id": "KUEv2muljxT3"
      },
      "execution_count": 7,
      "outputs": []
    },
    {
      "cell_type": "code",
      "source": [
        "tfidf = TfidfVectorizer(analyzer='word', stop_words='english')"
      ],
      "metadata": {
        "id": "CkMQ-NbOj1Zm"
      },
      "execution_count": 8,
      "outputs": []
    },
    {
      "cell_type": "code",
      "source": [
        "lyrics_matrix = tfidf.fit_transform(songs['text'])"
      ],
      "metadata": {
        "id": "0GvqYPGDj5PK"
      },
      "execution_count": 9,
      "outputs": []
    },
    {
      "cell_type": "code",
      "source": [
        "cosine_similarities = cosine_similarity(lyrics_matrix)"
      ],
      "metadata": {
        "id": "mIdTfEmvj7Si"
      },
      "execution_count": 10,
      "outputs": []
    },
    {
      "cell_type": "code",
      "source": [
        "similarities = {}"
      ],
      "metadata": {
        "id": "f5eYrKCOj904"
      },
      "execution_count": 11,
      "outputs": []
    },
    {
      "cell_type": "code",
      "source": [
        "for i in range(len(cosine_similarities)):\n",
        "    similar_indices = cosine_similarities[i].argsort()[:-50:-1]\n",
        "    similarities[songs['song'].iloc[i]] = [(cosine_similarities[i][x], songs['song'][x], songs['artist'][x]) for x in similar_indices][1:]"
      ],
      "metadata": {
        "id": "QtX1Z-GTkAYe"
      },
      "execution_count": 13,
      "outputs": []
    },
    {
      "cell_type": "code",
      "source": [
        "class ContentBasedRecommender:\n",
        "    def __init__(self, matrix):\n",
        "        self.matrix_similar = matrix\n",
        "\n",
        "    def _print_message(self, song, recom_song):\n",
        "        rec_items = len(recom_song)\n",
        "\n",
        "        print(f'The {rec_items} recommended songs for {song} are:')\n",
        "        for i in range(rec_items):\n",
        "            print(f\"Number {i+1}:\")\n",
        "            print(f\"{recom_song[i][1]} by {recom_song[i][2]} with {round(recom_song[i][0], 3)} similarity score\")\n",
        "            print(\"--------------------\")\n",
        "\n",
        "    def recommend(self, recommendation):\n",
        "        # Get song to find recommendations for\n",
        "        song = recommendation['song']\n",
        "        # Get number of songs to recommend\n",
        "        number_songs = recommendation['number_songs']\n",
        "        recom_song = self.matrix_similar[song][:number_songs]\n",
        "        self._print_message(song=song, recom_song=recom_song)"
      ],
      "metadata": {
        "id": "lL49ej6CkKJp"
      },
      "execution_count": 14,
      "outputs": []
    },
    {
      "cell_type": "code",
      "source": [
        "recommedations = ContentBasedRecommender(similarities)"
      ],
      "metadata": {
        "id": "lJEpJah6kdos"
      },
      "execution_count": 15,
      "outputs": []
    },
    {
      "cell_type": "code",
      "source": [
        "recommendation = {\n",
        "    \"song\": songs['song'].iloc[10],\n",
        "    \"number_songs\": 4\n",
        "}"
      ],
      "metadata": {
        "id": "v4WWx5GNkeLP"
      },
      "execution_count": 16,
      "outputs": []
    },
    {
      "cell_type": "code",
      "source": [
        "recommedations.recommend(recommendation)"
      ],
      "metadata": {
        "colab": {
          "base_uri": "https://localhost:8080/"
        },
        "id": "ptbK63KFkgQ8",
        "outputId": "f88ac5cb-24e9-49df-e6ab-2759808e3d38"
      },
      "execution_count": 17,
      "outputs": [
        {
          "output_type": "stream",
          "name": "stdout",
          "text": [
            "The 4 recommended songs for The Dance are:\n",
            "Number 1:\n",
            "Fancy Dancer by Bread with 0.421 similarity score\n",
            "--------------------\n",
            "Number 2:\n",
            "Shadow Dancer by Ufo with 0.313 similarity score\n",
            "--------------------\n",
            "Number 3:\n",
            "Mining Town by Whiskeytown with 0.21 similarity score\n",
            "--------------------\n",
            "Number 4:\n",
            "What's Wrong With This Picture? by Squeeze with 0.193 similarity score\n",
            "--------------------\n"
          ]
        }
      ]
    },
    {
      "cell_type": "code",
      "source": [
        "recommendation2 = {\n",
        "    \"song\": songs['song'].iloc[120],\n",
        "    \"number_songs\": 4\n",
        "}"
      ],
      "metadata": {
        "id": "6owMgHxukig0"
      },
      "execution_count": 18,
      "outputs": []
    },
    {
      "cell_type": "code",
      "source": [
        "recommedations.recommend(recommendation2)"
      ],
      "metadata": {
        "colab": {
          "base_uri": "https://localhost:8080/"
        },
        "id": "O1ImqFDwklNA",
        "outputId": "09f40b4c-4393-4c27-9b5a-51d6b473c2aa"
      },
      "execution_count": 19,
      "outputs": [
        {
          "output_type": "stream",
          "name": "stdout",
          "text": [
            "The 4 recommended songs for Possibility Days are:\n",
            "Number 1:\n",
            "Looking For Something by Vonda Shepard with 0.297 similarity score\n",
            "--------------------\n",
            "Number 2:\n",
            "What's The Good In Goodbye? by Natalie Imbruglia with 0.275 similarity score\n",
            "--------------------\n",
            "Number 3:\n",
            "Never Say Goodbye by Yoko Ono with 0.256 similarity score\n",
            "--------------------\n",
            "Number 4:\n",
            "Not A Day Goes By by Carly Simon with 0.246 similarity score\n",
            "--------------------\n"
          ]
        }
      ]
    }
  ]
}